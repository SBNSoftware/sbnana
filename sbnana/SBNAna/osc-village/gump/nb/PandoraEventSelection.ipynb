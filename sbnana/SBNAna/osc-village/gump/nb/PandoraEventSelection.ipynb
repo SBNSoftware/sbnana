{
 "cells": [
  {
   "cell_type": "code",
   "execution_count": null,
   "metadata": {},
   "outputs": [],
   "source": [
    "%load_ext autoreload\n",
    "%autoreload 2\n",
    "\n",
    "from IPython.core.interactiveshell import InteractiveShell\n",
    "InteractiveShell.ast_node_interactivity = \"all\""
   ]
  },
  {
   "cell_type": "code",
   "execution_count": null,
   "metadata": {},
   "outputs": [],
   "source": [
    "import pandas as pd\n",
    "import numpy as np\n",
    "import matplotlib.pyplot as plt \n",
    "import matplotlib as mpl\n",
    "import util\n",
    "import warnings\n",
    "\n",
    "import kinematics\n",
    "warnings.simplefilter(action='ignore', category=pd.errors.PerformanceWarning)"
   ]
  },
  {
   "cell_type": "code",
   "execution_count": null,
   "metadata": {},
   "outputs": [],
   "source": [
    "mpl.rc('font', size=14)\n",
    "\n",
    "dosave = True\n",
    "savedir = \"./figures/\""
   ]
  },
  {
   "cell_type": "code",
   "execution_count": null,
   "metadata": {},
   "outputs": [],
   "source": [
    "FILE = \"/exp/sbnd/data/users/gputnam/GUMP/intro/sbnd.gump.df\"\n",
    "# FILE = \"/exp/sbnd/data/users/gputnam/GUMP/intro/icarus.gump.df\"\n",
    "\n",
    "\n",
    "DETECTOR = \"SBND\"\n",
    "# DETECTOR = \"ICARUS\""
   ]
  },
  {
   "cell_type": "markdown",
   "metadata": {},
   "source": [
    "# Utils"
   ]
  },
  {
   "cell_type": "code",
   "execution_count": null,
   "metadata": {},
   "outputs": [],
   "source": [
    "def InFV(df):\n",
    "    return util.InFV(df, 50, det=DETECTOR)\n",
    "\n",
    "def InBeam(t):\n",
    "    return (t > 0.) & (t < 1.800)"
   ]
  },
  {
   "cell_type": "code",
   "execution_count": null,
   "metadata": {},
   "outputs": [],
   "source": [
    "def is_cosmic(df):\n",
    "    return (df.slc.truth.pdg == -1)\n",
    "\n",
    "def is_FV(df): \n",
    "    return (InFV(df.position))\n",
    "\n",
    "def is_numu(df):\n",
    "    return (np.abs(df.pdg) == 14)\n",
    "\n",
    "def is_CC(df):\n",
    "    return (df.iscc == 1)\n",
    "\n",
    "def is_NC(df):\n",
    "    return (df.iscc == 0)\n",
    "\n",
    "def is_1p0pi(df):\n",
    "     return (df.nmu == 1) & (df.np_50MeV == 1) & (df.npi == 0) & (df.npi0 == 0)\n",
    "\n",
    "#     return (df.nmu_20MeV == 1) & (df.np_50MeV == 1) & (df.npi_40MeV == 0) & (df.npi0 == 0)\n",
    "\n",
    "def is_signal(df):\n",
    "    return is_numu(df) & is_CC(df) & is_1p0pi(df) & is_FV(df)\n",
    "\n",
    "def is_outFV(df):\n",
    "    return is_numu(df) & is_CC(df) & is_1p0pi(df) & np.invert(is_FV(df))\n",
    "\n",
    "def is_othernumuCC(df):\n",
    "    return is_numu(df) & is_CC(df) & np.invert(is_1p0pi(df)) & is_FV(df)"
   ]
  },
  {
   "cell_type": "code",
   "execution_count": null,
   "metadata": {},
   "outputs": [],
   "source": [
    "def cut_all(cuts):\n",
    "    ret = cuts[0]\n",
    "    for c in cuts[1:]:\n",
    "        ret = ret & c\n",
    "    return ret"
   ]
  },
  {
   "cell_type": "markdown",
   "metadata": {},
   "source": [
    "# Plotters"
   ]
  },
  {
   "cell_type": "code",
   "execution_count": null,
   "metadata": {},
   "outputs": [],
   "source": [
    "mode_list = [0, 10, 1, 2, 3]\n",
    "mode_labels = ['QE', 'MEC', 'RES', 'SIS/DIS', 'COH', \"other\"]\n",
    "mode_colors = [\"darkorchid\", \"royalblue\", \"forestgreen\", \"darkorange\", \"firebrick\"]\n",
    "\n",
    "def breakdown_mode(var, w, df, cuts):\n",
    "    c = cut_all(cuts)\n",
    "\n",
    "    ret = [var[(df.genie_mode == i) & c] for i in mode_list] \n",
    "    wret = [w[(df.genie_mode == i) & c] for i in mode_list] \n",
    "    return ret, wret\n"
   ]
  },
  {
   "cell_type": "code",
   "execution_count": null,
   "metadata": {},
   "outputs": [],
   "source": [
    "top_labels = [\"Signal\",\n",
    "              \"Other $\\\\nu_\\\\mu$ CC\",\n",
    "              \"$\\\\nu$ NC\",\n",
    "              \"Out of FV\",\n",
    "              \"Cosmic\",\n",
    "              \"Other\"]\n",
    "\n",
    "top_colors = []\n",
    "def breakdown_top(var, w, df, cuts):\n",
    "    c = cut_all(cuts)\n",
    "    ret = [var[is_signal(df) & c],\n",
    "           var[is_othernumuCC(df) & c],\n",
    "           var[is_NC(df) & c],\n",
    "           var[is_outFV(df) & c],\n",
    "           var[is_cosmic(df) & c],\n",
    "           var[np.invert(is_signal(df) | is_othernumuCC(df) | is_NC(df) | is_outFV(df) | is_cosmic(df)) & c]\n",
    "           ]\n",
    "    wret = [w[is_signal(df) & c],\n",
    "           w[is_othernumuCC(df) & c],\n",
    "           w[is_NC(df) & c],\n",
    "           w[is_outFV(df) & c],\n",
    "           w[is_cosmic(df) & c],\n",
    "           w[np.invert(is_signal(df) | is_othernumuCC(df) | is_NC(df) | is_outFV(df) | is_cosmic(df)) & c]\n",
    "           ]\n",
    "    return ret, wret"
   ]
  },
  {
   "cell_type": "markdown",
   "metadata": {},
   "source": [
    "# Selection"
   ]
  },
  {
   "cell_type": "code",
   "execution_count": null,
   "metadata": {},
   "outputs": [],
   "source": [
    "df = pd.read_hdf(FILE, \"evt\")\n",
    "mcdf = pd.read_hdf(FILE, \"mcnu\")\n",
    "hdr = pd.read_hdf(FILE, \"hdr\")"
   ]
  },
  {
   "cell_type": "code",
   "execution_count": null,
   "metadata": {},
   "outputs": [],
   "source": [
    "if DETECTOR == \"ICARUS\":\n",
    "    GOAL_POT = 3.41e20\n",
    "    POTSTR = \"$3.41\\\\times 10^{20}$ POT\"\n",
    "elif DETECTOR == \"SBND\":\n",
    "    GOAL_POT = 6.6e20 / 3\n",
    "    POTSTR = \"$2.2\\\\times 10^{20}$ POT\""
   ]
  },
  {
   "cell_type": "code",
   "execution_count": null,
   "metadata": {},
   "outputs": [],
   "source": [
    "POT = hdr.pot.sum()\n",
    "\n",
    "df[\"weight\"] = GOAL_POT / POT\n",
    "mcdf[\"weight\"] = GOAL_POT / POT\n",
    "GOAL_POT / POT"
   ]
  },
  {
   "cell_type": "markdown",
   "metadata": {},
   "source": [
    "## FV cut"
   ]
  },
  {
   "cell_type": "code",
   "execution_count": null,
   "metadata": {},
   "outputs": [],
   "source": [
    "cuts = [InFV(df.slc.vertex)]"
   ]
  },
  {
   "cell_type": "markdown",
   "metadata": {},
   "source": [
    "## Cosmic Rejection"
   ]
  },
  {
   "cell_type": "code",
   "execution_count": null,
   "metadata": {},
   "outputs": [],
   "source": [
    "var = df.slc.nuid.crlongtrkdiry\n",
    "bins = np.linspace(-1,1,21)\n",
    "\n",
    "pvar, pw = breakdown_top(var, df.weight, df, cuts)\n",
    "n, bins, _ = plt.hist(pvar, bins=bins, stacked=True, \n",
    "                      label=top_labels, weights=pw)\n",
    "plt.ylabel(\"Candidates / %s\" % POTSTR)\n",
    "plt.title(\"%s Pandora Selection\" % DETECTOR)\n",
    "plt.tight_layout()\n",
    "plt.legend()\n",
    "plt.xlabel(\"CRLongTrkDirY\")\n",
    "\n",
    "if dosave:\n",
    "    plt.savefig(savedir + \"%s_fiducial_crlongtrkdiry.pdf\" % DETECTOR)\n",
    "    plt.savefig(savedir + \"%s_fiducial_crlongtrkdiry.png\" % DETECTOR)"
   ]
  },
  {
   "cell_type": "code",
   "execution_count": null,
   "metadata": {},
   "outputs": [],
   "source": [
    "var = df.slc.nu_score\n",
    "bins=np.linspace(0,1,21)\n",
    "\n",
    "pvar, pw = breakdown_top(var, df.weight, df, cuts)\n",
    "n, bins, _ = plt.hist(pvar, bins=bins, stacked=True, \n",
    "                      label=top_labels, weights=pw)\n",
    "plt.xlabel(\"Pandora $\\\\nu$ Score\")\n",
    "plt.ylabel(\"Candidates / %s\" % POTSTR)\n",
    "plt.title(\"%s Pandora Selection\" % DETECTOR)\n",
    "plt.tight_layout()\n",
    "plt.legend()\n",
    "\n",
    "if dosave:\n",
    "    plt.savefig(savedir + \"%s_fiducial_nuscore.pdf\" % DETECTOR)\n",
    "    plt.savefig(savedir + \"%s_fiducial_nuscore.png\" % DETECTOR)\n"
   ]
  },
  {
   "cell_type": "code",
   "execution_count": null,
   "metadata": {},
   "outputs": [],
   "source": []
  },
  {
   "cell_type": "code",
   "execution_count": null,
   "metadata": {},
   "outputs": [],
   "source": [
    "# Traditional \n",
    "nu_score = (df.slc.nu_score > 0.5)\n",
    "# f_match = (df.slc.fmatch.score < 7.0) & (InBeam(df.slc.fmatch.time))\n",
    "cosmic_rejection = nu_score #& f_match\n",
    "\n",
    "# CRUMBS\n",
    "# crumbs = (df.slc_crumbs_result.score > 0)\n",
    "# cosmic_rejection = (crumbs)\n",
    "\n",
    "# df = df[cosmic_rejection]"
   ]
  },
  {
   "cell_type": "code",
   "execution_count": null,
   "metadata": {
    "tags": []
   },
   "outputs": [],
   "source": [
    "var = df.mu.pfp.trk.P.p_muon\n",
    "bins=np.linspace(0,2,21)\n",
    "\n",
    "pvar, pw = breakdown_top(var, df.weight, df, cuts)\n",
    "n, bins, _ = plt.hist(pvar, bins=bins, stacked=True, \n",
    "                      label=top_labels, weights=pw)\n",
    "plt.ylabel(\"Candidates / %s\" % POTSTR)\n",
    "plt.title(\"%s Pandora Selection\" % DETECTOR)\n",
    "plt.tight_layout()\n",
    "plt.legend()\n",
    "plt.xlabel(\"Muon Momentum [GeV/c]\")\n",
    "print(\"signal purity {:.2f} %\".format(100*n[0].sum()/n[-1].sum()))\n",
    "\n",
    "\n",
    "if dosave:\n",
    "    plt.savefig(savedir + \"%s_cosrej_muon_momentum.pdf\" % DETECTOR)\n",
    "    plt.savefig(savedir + \"%s_cosrej_muon_momentum.png\" % DETECTOR)\n",
    "\n"
   ]
  },
  {
   "cell_type": "markdown",
   "metadata": {},
   "source": [
    "## Select 1mu1p topology"
   ]
  },
  {
   "cell_type": "code",
   "execution_count": null,
   "metadata": {
    "tags": []
   },
   "outputs": [],
   "source": [
    "# reject slices with any showers or 3rd tracks\n",
    "twoprong_cut = (np.isnan(df.other_shw_length) & np.isnan(df.other_trk_length))\n",
    "\n",
    "cuts += [twoprong_cut]"
   ]
  },
  {
   "cell_type": "code",
   "execution_count": null,
   "metadata": {},
   "outputs": [],
   "source": [
    "var = df.mu.pfp.trk.P.p_muon\n",
    "bins=np.linspace(0,2,21)\n",
    "\n",
    "pvar, pw = breakdown_top(var, df.weight, df, cuts)\n",
    "n, bins, _ = plt.hist(pvar, bins=bins, stacked=True, \n",
    "                      label=top_labels, weights=pw)\n",
    "\n",
    "print(\"signal purity {:.2f} %\".format(100*n[0].sum()/n[-1].sum()))\n",
    "\n",
    "plt.ylabel(\"Candidates / %s\" % POTSTR)\n",
    "plt.title(\"%s Pandora Selection\" % DETECTOR)\n",
    "plt.tight_layout()\n",
    "plt.legend()\n",
    "plt.xlabel(\"Muon Momentum [GeV/c]\")\n",
    "\n",
    "\n",
    "if dosave:\n",
    "    plt.savefig(savedir + \"%s_otherobj_muon_momentum.pdf\" % DETECTOR)\n",
    "    plt.savefig(savedir + \"%s_otherobj_muon_momentum.png\" % DETECTOR)"
   ]
  },
  {
   "cell_type": "code",
   "execution_count": null,
   "metadata": {},
   "outputs": [],
   "source": [
    "var = df.mu.pfp.trk.chi2pid.I2.chi2_muon\n",
    "bins=np.linspace(0,100,21)\n",
    "\n",
    "pvar, pw = breakdown_top(var, df.weight, df, cuts)\n",
    "n, bins, _ = plt.hist(pvar, bins=bins, stacked=True, \n",
    "                      label=top_labels, weights=pw)\n",
    "\n",
    "print(\"signal purity {:.2f} %\".format(100*n[0].sum()/n[-1].sum()))\n",
    "\n",
    "plt.ylabel(\"Candidates / %s\" % POTSTR);\n",
    "plt.title(\"%s Pandora Selection\" % DETECTOR);\n",
    "plt.tight_layout();\n",
    "plt.legend();\n",
    "plt.xlabel(\"Muon Candidate $\\\\chi^2_\\\\mu$\");\n",
    "\n",
    "if dosave:\n",
    "    plt.savefig(savedir + \"%s_otherobj_muon_chi2u.pdf\" % DETECTOR);\n",
    "    plt.savefig(savedir + \"%s_otherobj_muon_chi2u.png\" % DETECTOR);"
   ]
  },
  {
   "cell_type": "code",
   "execution_count": null,
   "metadata": {},
   "outputs": [],
   "source": [
    "var = df.mu.pfp.trk.chi2pid.I2.chi2_proton\n",
    "bins=np.linspace(0,300,21)\n",
    "\n",
    "pvar, pw = breakdown_top(var, df.weight, df, cuts)\n",
    "n, bins, _ = plt.hist(pvar, bins=bins, stacked=True, \n",
    "                      label=top_labels, weights=pw)\n",
    "\n",
    "print(\"signal purity {:.2f} %\".format(100*n[0].sum()/n[-1].sum()))\n",
    "\n",
    "plt.ylabel(\"Candidates / %s\" % POTSTR);\n",
    "plt.title(\"%s Pandora Selection\" % DETECTOR);\n",
    "plt.tight_layout();\n",
    "plt.legend();\n",
    "plt.xlabel(\"Muon Candidate $\\\\chi^2_p$\");\n",
    "\n",
    "if dosave:\n",
    "    plt.savefig(savedir + \"%s_otherobj_muon_chi2p.pdf\" % DETECTOR);\n",
    "    plt.savefig(savedir + \"%s_otherobj_muon_chi2p.png\" % DETECTOR);"
   ]
  },
  {
   "cell_type": "code",
   "execution_count": null,
   "metadata": {},
   "outputs": [],
   "source": [
    "var = df.p.pfp.trk.chi2pid.I2.chi2_muon\n",
    "bins=np.linspace(0,100,21)\n",
    "\n",
    "pvar, pw = breakdown_top(var, df.weight, df, cuts)\n",
    "n, bins, _ = plt.hist(pvar, bins=bins, stacked=True, \n",
    "                      label=top_labels, weights=pw)\n",
    "\n",
    "print(\"signal purity {:.2f} %\".format(100*n[0].sum()/n[-1].sum()))\n",
    "\n",
    "plt.ylabel(\"Candidates / %s\" % POTSTR);\n",
    "plt.title(\"%s Pandora Selection\" % DETECTOR);\n",
    "plt.tight_layout();\n",
    "plt.legend();\n",
    "plt.xlabel(\"Proton Candidate $\\\\chi^2_\\\\mu$\");\n",
    "\n",
    "if dosave:\n",
    "    plt.savefig(savedir + \"%s_otherobj_proton_chi2u.pdf\" % DETECTOR);\n",
    "    plt.savefig(savedir + \"%s_otherobj_proton_chi2u.png\" % DETECTOR);"
   ]
  },
  {
   "cell_type": "code",
   "execution_count": null,
   "metadata": {},
   "outputs": [],
   "source": [
    "var = df.p.pfp.trk.chi2pid.I2.chi2_proton\n",
    "bins=np.linspace(0,300,21)\n",
    "\n",
    "pvar, pw = breakdown_top(var, df.weight, df, cuts)\n",
    "n, bins, _ = plt.hist(pvar, bins=bins, stacked=True, \n",
    "                      label=top_labels, weights=pw)\n",
    "\n",
    "print(\"signal purity {:.2f} %\".format(100*n[0].sum()/n[-1].sum()))\n",
    "\n",
    "plt.ylabel(\"Candidates / %s\" % POTSTR);\n",
    "plt.title(\"%s Pandora Selection\" % DETECTOR);\n",
    "plt.tight_layout();\n",
    "plt.legend();\n",
    "plt.xlabel(\"Proton Candidate $\\\\chi^2_p$\");\n",
    "\n",
    "if dosave:\n",
    "    plt.savefig(savedir + \"%s_otherobj_proton_chi2p.pdf\" % DETECTOR);\n",
    "    plt.savefig(savedir + \"%s_otherobj_proton_chi2p.png\" % DETECTOR);\n"
   ]
  },
  {
   "cell_type": "code",
   "execution_count": null,
   "metadata": {
    "tags": []
   },
   "outputs": [],
   "source": [
    "# muon cut on muon candidates\n",
    "MUSEL_MUSCORE_TH = 25\n",
    "MUSEL_PSCORE_TH = 100\n",
    "MUSEL_LEN_TH = 50\n",
    "\n",
    "# TODO: use scores of all 3 planes\n",
    "# muon_chi2 = (Avg(df, \"muon\", drop_0=True) < MUSEL_MUSCORE_TH) & (Avg(df, \"proton\", drop_0=True) > MUSEL_PSCORE_TH)\n",
    "\n",
    "# TODO: used BDT scores\n",
    "# len_cut = (masterdf.len.squeeze() > MUSEL_LEN_TH)\n",
    "# dazzle_muon = (masterdf.dazzle.muonScore > 0.6)\n",
    "# muon_cut = (muon_chi2) & (len_cut | dazzle_muon)\n",
    "\n",
    "mu_score_cut = (df.mu.pfp.trk.chi2pid.I2.chi2_muon < MUSEL_MUSCORE_TH) & (df.mu.pfp.trk.chi2pid.I2.chi2_proton > MUSEL_PSCORE_TH)\n",
    "mu_len_cut = (df.mu.pfp.trk.len > MUSEL_LEN_TH)\n",
    "mu_cut = (mu_score_cut) & (mu_len_cut)\n",
    "\n",
    "# proton cut on proton candidates\n",
    "PSEL_MUSCORE_TH = 0\n",
    "PSEL_PSCORE_TH = 90\n",
    "\n",
    "p_score_cut = (df.p.pfp.trk.chi2pid.I2.chi2_muon > PSEL_MUSCORE_TH) & (df.p.pfp.trk.chi2pid.I2.chi2_proton < PSEL_PSCORE_TH) \n",
    "p_cut = p_score_cut\n",
    "\n",
    "# select slices with mu+p\n",
    "slc_mu_cut = mu_cut.groupby(level=[0,1,2]).any()\n",
    "slc_p_cut = p_cut.groupby(level=[0,1,2]).any()\n",
    "\n",
    "cuts += [slc_mu_cut & slc_p_cut]"
   ]
  },
  {
   "cell_type": "code",
   "execution_count": null,
   "metadata": {},
   "outputs": [],
   "source": [
    "var = df.mu.pfp.trk.P.p_muon\n",
    "bins = np.linspace(0,2,21)\n",
    "\n",
    "pvar, pw = breakdown_top(var, df.weight, df, cuts)\n",
    "n, bins, _ = plt.hist(pvar, bins=bins, stacked=True, \n",
    "                      label=top_labels, weights=pw)\n",
    "\n",
    "print(\"signal purity {:.2f} %\".format(100*n[0].sum()/n[-1].sum()))\n",
    "\n",
    "plt.ylabel(\"Candidates / %s\" % POTSTR);\n",
    "plt.title(\"%s Pandora Selection\" % DETECTOR);\n",
    "plt.tight_layout();\n",
    "plt.legend();\n",
    "plt.xlabel(\"Muon Momentum [GeV/c]\");\n",
    "\n",
    "if dosave:\n",
    "    plt.savefig(savedir + \"%s_pid_muon_momentum.pdf\" % DETECTOR);\n",
    "    plt.savefig(savedir + \"%s_pid_muon_momentum.png\" % DETECTOR);\n"
   ]
  },
  {
   "cell_type": "markdown",
   "metadata": {},
   "source": [
    "## Stubs cut"
   ]
  },
  {
   "cell_type": "code",
   "execution_count": null,
   "metadata": {
    "tags": []
   },
   "outputs": [],
   "source": [
    "l_cuts = [5.5e5, 4e5, 3e5, 0]\n",
    "cut_list = []\n",
    "for i,l in enumerate([\"0_5\", \"1\", \"2\", \"3\"]):\n",
    "    this_cut = np.invert((df.stub[\"l\"+l+\"cm\"].Q/df.stub[\"l\"+l+\"cm\"].length) > l_cuts[i])\n",
    "    cut_list.append(this_cut)\n",
    "    \n",
    "cuts += [cut_all(cut_list)]"
   ]
  },
  {
   "cell_type": "code",
   "execution_count": null,
   "metadata": {},
   "outputs": [],
   "source": [
    "var = df.mu.pfp.trk.P.p_muon\n",
    "bins=np.linspace(0,2,21)\n",
    "\n",
    "pvar, pw = breakdown_top(var, df.weight, df, cuts)\n",
    "n, bins, _ = plt.hist(pvar, bins=bins, stacked=True, \n",
    "                      label=top_labels, weights=pw)\n",
    "\n",
    "print(\"signal purity {:.2f} %\".format(100*n[0].sum()/n[-1].sum()))\n",
    "\n",
    "plt.ylabel(\"Candidates / %s\" % POTSTR);\n",
    "plt.title(\"%s Pandora Selection\" % DETECTOR);\n",
    "plt.tight_layout();\n",
    "plt.legend();\n",
    "plt.xlabel(\"Muon Momentum [GeV/c]\");\n",
    "\n",
    "if dosave:\n",
    "    plt.savefig(savedir + \"%s_stub_muon_momentum.pdf\" % DETECTOR);\n",
    "    plt.savefig(savedir + \"%s_stub_muon_momentum.png\" % DETECTOR);\n"
   ]
  },
  {
   "cell_type": "markdown",
   "metadata": {},
   "source": [
    "## Transverse momentum imbalance cut"
   ]
  },
  {
   "cell_type": "code",
   "execution_count": null,
   "metadata": {},
   "outputs": [],
   "source": [
    "DELP_TH = 0.25"
   ]
  },
  {
   "cell_type": "code",
   "execution_count": null,
   "metadata": {},
   "outputs": [],
   "source": [
    "var = df.del_p\n",
    "bins=np.linspace(0,1,21)\n",
    "\n",
    "pvar, pw = breakdown_mode(var, df.weight, df, cuts)\n",
    "n, bins, _ = plt.hist(pvar, bins=bins, stacked=True, \n",
    "                      label=mode_labels, color=mode_colors, weights=pw)\n",
    "\n",
    "print(\"signal purity {:.2f} %\".format(100*n[0].sum()/n[-1].sum()))\n",
    "\n",
    "plt.ylabel(\"Candidates / %s\" % POTSTR);\n",
    "plt.title(\"%s Pandora Selection\" % DETECTOR);\n",
    "plt.tight_layout();\n",
    "plt.legend();\n",
    "plt.xlabel(\"$\\\\delta p_T$ [GeV/c]\");\n",
    "plt.axvline(DELP_TH, color=\"k\", linestyle=\"--\")\n",
    "\n",
    "if dosave:\n",
    "    plt.savefig(savedir + \"%s_stub_transverse_momentum_permode.pdf\" % DETECTOR);\n",
    "    plt.savefig(savedir + \"%s_stub_transverse_momentum_permode.png\" % DETECTOR);\n"
   ]
  },
  {
   "cell_type": "code",
   "execution_count": null,
   "metadata": {},
   "outputs": [],
   "source": [
    "var = df.del_p\n",
    "bins=np.linspace(0,1,21)\n",
    "\n",
    "pvar, pw = breakdown_top(var, df.weight, df, cuts)\n",
    "n, bins, _ = plt.hist(pvar, bins=bins, stacked=True, \n",
    "                      label=top_labels, weights=pw)\n",
    "\n",
    "print(\"signal purity {:.2f} %\".format(100*n[0].sum()/n[-1].sum()))\n",
    "\n",
    "plt.ylabel(\"Candidates / %s\" % POTSTR);\n",
    "plt.title(\"%s Pandora Selection\" % DETECTOR);\n",
    "plt.tight_layout();\n",
    "plt.legend();\n",
    "plt.xlabel(\"$\\\\delta p_T$ [GeV/c]\");\n",
    "plt.axvline(DELP_TH, color=\"k\", linestyle=\"--\")\n",
    "\n",
    "if dosave:\n",
    "    plt.savefig(savedir + \"%s_stub_transverse_momentum.pdf\" % DETECTOR);\n",
    "    plt.savefig(savedir + \"%s_stub_transverse_momentum.png\" % DETECTOR);\n"
   ]
  },
  {
   "cell_type": "code",
   "execution_count": null,
   "metadata": {
    "tags": []
   },
   "outputs": [],
   "source": [
    "# transverse momentum cut\n",
    "delp_cut = (df.del_p < DELP_TH)\n",
    "\n",
    "cuts += [delp_cut]"
   ]
  },
  {
   "cell_type": "code",
   "execution_count": null,
   "metadata": {},
   "outputs": [],
   "source": [
    "var = df.mu.pfp.trk.P.p_muon\n",
    "bins=np.linspace(0,2,21)\n",
    "\n",
    "pvar, pw = breakdown_top(var, df.weight, df, cuts)\n",
    "n, bins, _ = plt.hist(pvar, bins=bins, stacked=True, \n",
    "                      label=top_labels, weights=pw)\n",
    "\n",
    "print(\"signal purity {:.2f} %\".format(100*n[0].sum()/n[-1].sum()))\n",
    "\n",
    "plt.ylabel(\"Candidates / %s\" % POTSTR);\n",
    "plt.title(\"%s Pandora Selection\" % DETECTOR);\n",
    "plt.tight_layout();\n",
    "plt.legend();\n",
    "plt.xlabel(\"Muon Momentum [GeV/c]\");\n",
    "\n",
    "if dosave:\n",
    "    plt.savefig(savedir + \"%s_dpT_muon_momentum.pdf\" % DETECTOR);\n",
    "    plt.savefig(savedir + \"%s_dpT_muon_momentum.png\" % DETECTOR);\n"
   ]
  },
  {
   "cell_type": "code",
   "execution_count": null,
   "metadata": {},
   "outputs": [],
   "source": [
    "import importlib\n",
    "importlib.reload(kinematics)"
   ]
  },
  {
   "cell_type": "code",
   "execution_count": null,
   "metadata": {},
   "outputs": [],
   "source": [
    "var = kinematics.neutrino_energy(df.mu.pfp.trk.P.p_muon, df.mu.pfp.trk.dir, df.p.pfp.trk.P.p_proton, df.p.pfp.trk.dir)\n",
    "bins=np.linspace(0,3,21)\n",
    "\n",
    "pvar, pw = breakdown_top(var, df.weight, df, cuts)\n",
    "n, bins, _ = plt.hist(pvar, bins=bins, stacked=True, \n",
    "                      label=top_labels, weights=pw)\n",
    "\n",
    "print(\"signal purity {:.2f} %\".format(100*n[0].sum()/n[-1].sum()))\n",
    "\n",
    "plt.ylabel(\"Candidates / %s\" % POTSTR);\n",
    "plt.title(\"%s Pandora Selection\" % DETECTOR);\n",
    "plt.tight_layout();\n",
    "plt.legend();\n",
    "plt.xlabel(\"Neutrino Energy [GeV]\");\n",
    "\n",
    "if dosave:\n",
    "    plt.savefig(savedir + \"%s_dpT_neutrino_energy.pdf\" % DETECTOR);\n",
    "    plt.savefig(savedir + \"%s_dpT_neutrino_energy.png\" % DETECTOR);\n"
   ]
  },
  {
   "cell_type": "code",
   "execution_count": null,
   "metadata": {},
   "outputs": [],
   "source": [
    "# Efficiency"
   ]
  },
  {
   "cell_type": "code",
   "execution_count": null,
   "metadata": {},
   "outputs": [],
   "source": [
    "cutnames = [\n",
    "    \"Pre-Selection\",\n",
    "    \"Othr Obj. Cut\",\n",
    "    \"PID\",\n",
    "    \"Stub\",\n",
    "    \"$\\\\delta p_T$\"\n",
    "]\n",
    "\n",
    "assert(len(cuts) == len(cutnames))"
   ]
  },
  {
   "cell_type": "code",
   "execution_count": null,
   "metadata": {},
   "outputs": [],
   "source": [
    "bins = np.array([0.2, 0.4, 0.6, 0.8, 1, 1.2, 1.5, 2, 2.5, 3])\n",
    "centers = (bins[:-1] + bins[1:]) /2\n",
    "\n",
    "varmc = mcdf.E\n",
    "vardf = df.slc.truth.E\n",
    "\n",
    "whenmc = is_signal(mcdf)\n",
    "\n",
    "Ns = []\n",
    "for i in range(len(cuts)):\n",
    "    whendf = is_signal(df.slc.truth) & cut_all(cuts[:i+1])\n",
    "    N,_ = np.histogram(vardf[whendf], weights=df.weight[whendf], bins=bins)\n",
    "    Ns.append(N)\n",
    "    \n",
    "D,_ = np.histogram(varmc[whenmc], weights=mcdf.weight[whenmc], bins=bins)"
   ]
  },
  {
   "cell_type": "code",
   "execution_count": null,
   "metadata": {},
   "outputs": [],
   "source": [
    "for l, N in zip(cutnames, Ns):\n",
    "    plt.plot(centers, N/D, label=l);\n",
    "    \n",
    "\n",
    "plt.legend(loc='upper center', bbox_to_anchor=(0.5, 1.225), ncol=3);\n",
    "plt.xlabel(\"Neutrino Energy [GeV]\");\n",
    "plt.ylabel(\"Selection Efficiency\");\n",
    "plt.text(0.025, 0.875, DETECTOR + \"\\nPandora Selection\", transform=plt.gca().transAxes, size=16)\n",
    "plt.ylim([0, 1])\n",
    "\n",
    "if dosave:\n",
    "    plt.savefig(savedir + \"%s_efficiency_nuE.pdf\" % DETECTOR, bbox_inches=\"tight\");\n",
    "    plt.savefig(savedir + \"%s_efficiency_nuE.png\" % DETECTOR, bbox_inches=\"tight\");"
   ]
  },
  {
   "cell_type": "code",
   "execution_count": null,
   "metadata": {},
   "outputs": [],
   "source": [
    "bins = np.array([0.2, 0.4, 0.6, 0.8, 1, 1.2, 1.5, 2, 2.5, 3])\n",
    "centers = (bins[:-1] + bins[1:]) /2\n",
    "\n",
    "varmc = mcdf.E\n",
    "vardf = df.slc.truth.E\n",
    "\n",
    "whenmc = is_signal(mcdf)\n",
    "\n",
    "Ns = []\n",
    "for i in range(1, len(cuts)+1):\n",
    "    whendf = is_signal(df) & cut_all(cuts[:i] + cuts[i+1:])\n",
    "    N,_ = np.histogram(vardf[whendf], weights=df.weight[whendf], bins=bins)\n",
    "    Ns.append(N)\n",
    "    \n",
    "D,_ = np.histogram(varmc[whenmc], weights=mcdf.weight[whenmc], bins=bins)"
   ]
  },
  {
   "cell_type": "code",
   "execution_count": null,
   "metadata": {},
   "outputs": [],
   "source": [
    "for l, N in zip(cutnames[1:] + [\"All Cuts\"], Ns):\n",
    "    plt.plot(centers, N/D, label=l);\n",
    "    \n",
    "\n",
    "plt.legend(loc='upper center', bbox_to_anchor=(0.5, 1.225), ncol=3);\n",
    "plt.xlabel(\"Neutrino Energy [GeV]\");\n",
    "plt.ylabel(\"N-1 Efficiency\");\n",
    "plt.text(0.025, 0.875, DETECTOR + \"\\nPandora Selection\", transform=plt.gca().transAxes, size=16)\n",
    "plt.ylim([0, 1])\n",
    "\n",
    "if dosave:\n",
    "    plt.savefig(savedir + \"%s_N-1eff_nuE.pdf\" % DETECTOR, bbox_inches=\"tight\");\n",
    "    plt.savefig(savedir + \"%s_N-1eff_nuE.png\" % DETECTOR, bbox_inches=\"tight\");"
   ]
  },
  {
   "cell_type": "code",
   "execution_count": null,
   "metadata": {},
   "outputs": [],
   "source": []
  },
  {
   "cell_type": "code",
   "execution_count": null,
   "metadata": {},
   "outputs": [],
   "source": []
  },
  {
   "cell_type": "code",
   "execution_count": null,
   "metadata": {},
   "outputs": [],
   "source": []
  },
  {
   "cell_type": "code",
   "execution_count": null,
   "metadata": {},
   "outputs": [],
   "source": []
  }
 ],
 "metadata": {
  "kernelspec": {
   "display_name": "Python 3 (ipykernel)",
   "language": "python",
   "name": "python3"
  },
  "language_info": {
   "codemirror_mode": {
    "name": "ipython",
    "version": 3
   },
   "file_extension": ".py",
   "mimetype": "text/x-python",
   "name": "python",
   "nbconvert_exporter": "python",
   "pygments_lexer": "ipython3",
   "version": "3.9.2"
  }
 },
 "nbformat": 4,
 "nbformat_minor": 4
}

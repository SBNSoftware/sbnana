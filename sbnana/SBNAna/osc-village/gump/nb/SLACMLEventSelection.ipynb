{
 "cells": [
  {
   "cell_type": "code",
   "execution_count": null,
   "id": "789c9ede",
   "metadata": {},
   "outputs": [],
   "source": [
    "import pandas as pd\n",
    "import numpy as np\n",
    "import matplotlib.pyplot as plt \n",
    "import matplotlib as mpl\n",
    "import kinematics\n",
    "import util"
   ]
  },
  {
   "cell_type": "code",
   "execution_count": null,
   "id": "c56707d4",
   "metadata": {},
   "outputs": [],
   "source": [
    "mpl.rc('font', size=14)\n",
    "\n",
    "dosave = True\n",
    "savedir = \"./figures/\""
   ]
  },
  {
   "cell_type": "code",
   "execution_count": null,
   "id": "7f08aef0",
   "metadata": {},
   "outputs": [],
   "source": [
    "# FILE = \"/exp/sbnd/data/users/gputnam/GUMP/intro/sbnd.gump.df\"\n",
    "FILE = \"/exp/sbnd/data/users/gputnam/GUMP/intro/icarus.gump.df\"\n",
    "\n",
    "\n",
    "DETECTOR = \"ICARUS\""
   ]
  },
  {
   "cell_type": "code",
   "execution_count": null,
   "id": "46cdc9c6",
   "metadata": {},
   "outputs": [],
   "source": [
    "evtdf = pd.read_hdf(FILE, \"eevt\")\n",
    "mcdf = pd.read_hdf(FILE, \"mcnu\")\n",
    "hdr = pd.read_hdf(FILE, \"hdr\")"
   ]
  },
  {
   "cell_type": "code",
   "execution_count": null,
   "id": "8df504d9",
   "metadata": {},
   "outputs": [],
   "source": [
    "if DETECTOR == \"ICARUS\":\n",
    "    GOAL_POT = 3.41e20\n",
    "    POTSTR = \"$3.41\\\\times 10^{20}$ POT\"\n",
    "elif DETECTOR == \"SBND\":\n",
    "    GOAL_POT = 6.6e20 / 3\n",
    "    POTSTR = \"$2.2\\\\times 10^{20}$ POT\""
   ]
  },
  {
   "cell_type": "code",
   "execution_count": null,
   "id": "0bfe0771",
   "metadata": {},
   "outputs": [],
   "source": [
    "POT = hdr.pot.sum()\n",
    "\n",
    "evtdf[\"weight\"] = GOAL_POT / POT\n",
    "mcdf[\"weight\"] = GOAL_POT / POT\n",
    "GOAL_POT / POT"
   ]
  },
  {
   "cell_type": "code",
   "execution_count": null,
   "id": "6826722b",
   "metadata": {},
   "outputs": [],
   "source": [
    "def InFV(df):\n",
    "    return util.InFV(df, 50, det=DETECTOR)\n",
    "\n",
    "def InBeam(t):\n",
    "    return (t > 0.) & (t < 1.800)"
   ]
  },
  {
   "cell_type": "code",
   "execution_count": null,
   "id": "dd598d4c",
   "metadata": {},
   "outputs": [],
   "source": [
    "def is_cosmic(df):\n",
    "    return np.isnan(df.iscc)\n",
    "\n",
    "def is_FV(df): \n",
    "    return (InFV(df.position))\n",
    "\n",
    "def is_numu(df):\n",
    "    return (np.abs(df.pdg) == 14)\n",
    "\n",
    "def is_CC(df):\n",
    "    return (df.iscc == 1)\n",
    "\n",
    "def is_NC(df):\n",
    "    return (df.iscc == 0)\n",
    "\n",
    "def is_1p0pi(df):\n",
    "     return (df.nmu == 1) & (df.np_50MeV == 1) & (df.npi == 0) & (df.npi0 == 0)\n",
    "\n",
    "def is_signal(df):\n",
    "    return is_numu(df) & is_CC(df) & is_1p0pi(df) & is_FV(df)\n",
    "\n",
    "def is_outFV(df):\n",
    "    return is_numu(df) & is_CC(df) & is_1p0pi(df) & np.invert(is_FV(df))\n",
    "\n",
    "def is_othernumuCC(df):\n",
    "    return is_numu(df) & is_CC(df) & np.invert(is_1p0pi(df)) & is_FV(df)"
   ]
  },
  {
   "cell_type": "code",
   "execution_count": null,
   "id": "86a3f107",
   "metadata": {},
   "outputs": [],
   "source": [
    "v = mcdf.E\n",
    "when = is_signal(mcdf)\n",
    "\n",
    "_ = plt.hist(v[when])"
   ]
  },
  {
   "cell_type": "code",
   "execution_count": null,
   "id": "e74acb63",
   "metadata": {},
   "outputs": [],
   "source": [
    "bins = np.linspace(0, 5, 21)\n",
    "\n",
    "D, bins = np.histogram(mcdf.E[is_signal(mcdf)], bins=bins)\n",
    "N, _ = np.histogram(evtdf.truth.E[is_signal(evtdf.truth)], bins=bins)\n",
    "\n",
    "centers = (bins[:-1] + bins[1:]) / 2"
   ]
  },
  {
   "cell_type": "code",
   "execution_count": null,
   "id": "32decbd9",
   "metadata": {},
   "outputs": [],
   "source": [
    "plt.plot(centers, N/D)"
   ]
  },
  {
   "cell_type": "code",
   "execution_count": null,
   "id": "10bcd0b7",
   "metadata": {},
   "outputs": [],
   "source": [
    "def cut_all(cuts):\n",
    "    ret = cuts[0]\n",
    "    for c in cuts[1:]:\n",
    "        ret = ret & c\n",
    "    return ret"
   ]
  },
  {
   "cell_type": "code",
   "execution_count": null,
   "id": "dd20f902",
   "metadata": {},
   "outputs": [],
   "source": [
    "def no_oddballs(df):\n",
    "    return (df.nk == 0) & (df.nk0 == 0) & (df.nsm == 0) & (df.nsp == 0)\n",
    "    \n",
    "def no_pions(df):\n",
    "    return (df.npi == 0) & (df.npi0 == 0)\n",
    "\n",
    "\n",
    "def categories(df):\n",
    "    return [\n",
    "        (df.iscc == 1.) & (df.nmu == 1) & (df.np_20MeV == 1) & no_pions(df) & no_oddballs(df),\n",
    "        (df.iscc == 1.) & (df.nmu == 1) & (df.np_20MeV == 0),\n",
    "        (df.iscc == 1.) & (df.nmu == 1) & (df.np_20MeV > 1) & no_pions(df) & no_oddballs(df),\n",
    "        (df.iscc == 1.) & (df.nmu == 1) & ~no_pions(df) & no_oddballs(df),\n",
    "        (df.iscc == 0.),\n",
    "        (df.iscc == 1.) & ((df.nmu != 1) | ~no_oddballs(df)),\n",
    "        np.isnan(df.iscc),\n",
    "    ]\n",
    "\n",
    "labels = [\n",
    "    r\"$\\nu_\\mu$ CC $1p0\\pi$\",\n",
    "    r\"$\\nu_\\mu$ CC $0p0\\pi$\",\n",
    "    r\"$\\nu_\\mu$ CC $>1p0\\pi$\",\n",
    "    r\"$\\nu_\\mu$ CC $n\\pi$\",\n",
    "    r\"$\\nu$ NC\",\n",
    "    r\"$\\nu$ Other\",\n",
    "    \"Cosmic\"\n",
    "\n",
    "]"
   ]
  },
  {
   "cell_type": "code",
   "execution_count": null,
   "id": "f36fcec6",
   "metadata": {},
   "outputs": [],
   "source": [
    "mode_list = [0, 10, 1, 2, 3]\n",
    "mode_labels = ['QE', 'MEC', 'RES', 'SIS/DIS', 'COH', \"other\"]\n",
    "mode_colors = [\"darkorchid\", \"royalblue\", \"forestgreen\", \"darkorange\", \"firebrick\"]\n",
    "\n",
    "def breakdown_mode(var, w, df, cuts):\n",
    "    c = cut_all(cuts)\n",
    "\n",
    "    ret = [var[(df.genie_mode == i) & c] for i in mode_list] \n",
    "    wret = [w[(df.genie_mode == i) & c] for i in mode_list] \n",
    "    return ret, wret\n"
   ]
  },
  {
   "cell_type": "code",
   "execution_count": null,
   "id": "c1d2a577",
   "metadata": {},
   "outputs": [],
   "source": [
    "top_labels = [\"Signal\",\n",
    "              \"Other $\\\\nu_\\\\mu$ CC\",\n",
    "              \"$\\\\nu$ NC\",\n",
    "              \"Out of FV\",\n",
    "              \"Cosmic\",\n",
    "              \"Other\"]\n",
    "\n",
    "top_colors = []\n",
    "def breakdown_top(var, w, df, cuts):\n",
    "    c = cut_all(cuts)\n",
    "    ret = [var[is_signal(df) & c],\n",
    "           var[is_othernumuCC(df) & c],\n",
    "           var[is_NC(df) & c],\n",
    "           var[is_outFV(df) & c],\n",
    "           var[is_cosmic(df) & c],\n",
    "           var[np.invert(is_signal(df) | is_othernumuCC(df) | is_NC(df) | is_outFV(df) | is_cosmic(df)) & c]\n",
    "           ]\n",
    "    wret = [w[is_signal(df) & c],\n",
    "           w[is_othernumuCC(df) & c],\n",
    "           w[is_NC(df) & c],\n",
    "           w[is_outFV(df) & c],\n",
    "           w[is_cosmic(df) & c],\n",
    "           w[np.invert(is_signal(df) | is_othernumuCC(df) | is_NC(df) | is_outFV(df) | is_cosmic(df)) & c]\n",
    "           ]\n",
    "    return ret, wret"
   ]
  },
  {
   "cell_type": "code",
   "execution_count": null,
   "id": "461e1355",
   "metadata": {},
   "outputs": [],
   "source": [
    "evtdf[\"presel\"] = True\n",
    "cuts = [evtdf.presel]"
   ]
  },
  {
   "cell_type": "code",
   "execution_count": null,
   "id": "9e3b2f1d",
   "metadata": {},
   "outputs": [],
   "source": [
    "var = evtdf.mu.length\n",
    "bins = np.linspace(0, 400, 21)\n",
    "\n",
    "var = evtdf.mu.length\n",
    "bins = np.linspace(0, 400, 21)\n",
    "\n",
    "pvar, pw = breakdown_top(var, evtdf.weight, evtdf.truth, cuts)\n",
    "n, bins, _ = plt.hist(pvar, bins=bins, stacked=True, \n",
    "                      label=top_labels, weights=pw)\n",
    "\n",
    "print(\"signal purity {:.2f} %\".format(100*n[0].sum()/n[-1].sum()))\n",
    "\n",
    "plt.ylabel(\"Candidates / %s\" % POTSTR);\n",
    "plt.title(\"%s ML Selection\" % DETECTOR);\n",
    "plt.tight_layout();\n",
    "plt.legend();\n",
    "plt.xlabel(\"Muon Length [cm]\");\n",
    "\n",
    "if dosave:\n",
    "    plt.savefig(savedir + \"%s_esel_muon_length.pdf\" % DETECTOR);\n",
    "    plt.savefig(savedir + \"%s_esel_muon_length.png\" % DETECTOR);"
   ]
  },
  {
   "cell_type": "code",
   "execution_count": null,
   "id": "1b5c8967",
   "metadata": {},
   "outputs": [],
   "source": [
    "tight_selection = np.isnan(evtdf.lead_gamma_energy) &\\\n",
    "                np.isnan(evtdf.lead_elec_energy) &\\\n",
    "                np.isnan(evtdf.lead_pion_length) &\\\n",
    "                np.isnan(evtdf.subl_muon_length) &\\\n",
    "                np.isnan(evtdf.subl_proton_length)"
   ]
  },
  {
   "cell_type": "code",
   "execution_count": null,
   "id": "49d2bbd3",
   "metadata": {},
   "outputs": [],
   "source": [
    "cuts += [tight_selection]"
   ]
  },
  {
   "cell_type": "code",
   "execution_count": null,
   "id": "b866b6f1",
   "metadata": {},
   "outputs": [],
   "source": [
    "var = evtdf.mu.length\n",
    "bins = np.linspace(0, 400, 21)\n",
    "\n",
    "pvar, pw = breakdown_top(var, evtdf.weight, evtdf.truth, cuts)\n",
    "n, bins, _ = plt.hist(pvar, bins=bins, stacked=True, \n",
    "                      label=top_labels, weights=pw)\n",
    "\n",
    "print(\"signal purity {:.2f} %\".format(100*n[0].sum()/n[-1].sum()))\n",
    "\n",
    "plt.ylabel(\"Candidates / %s\" % POTSTR);\n",
    "plt.title(\"%s ML Selection\" % DETECTOR);\n",
    "plt.tight_layout();\n",
    "plt.legend();\n",
    "plt.xlabel(\"Muon Length [cm]\");\n",
    "\n",
    "if dosave:\n",
    "    plt.savefig(savedir + \"%s_etightsel_muon_length.pdf\" % DETECTOR);\n",
    "    plt.savefig(savedir + \"%s_etightsel_muon_length.png\" % DETECTOR);"
   ]
  },
  {
   "cell_type": "code",
   "execution_count": null,
   "id": "20f3a554",
   "metadata": {},
   "outputs": [],
   "source": [
    "def emagdf(df):\n",
    "    return np.sqrt(df.I0**2 + df.I1**2 + df.I2**2)"
   ]
  },
  {
   "cell_type": "code",
   "execution_count": null,
   "id": "7985412a",
   "metadata": {},
   "outputs": [],
   "source": [
    "mu_p = emagdf(evtdf.mu.momentum)/1e3\n",
    "mu_dir = evtdf.mu.momentum.divide(mu_p*1e3, axis=0)\n",
    "mu_dir.columns = [\"x\", \"y\", \"z\"]\n",
    "\n",
    "p_p = emagdf(evtdf.p.momentum)/1e3\n",
    "p_dir = evtdf.p.momentum.divide(p_p*1e3, axis=0)\n",
    "p_dir.columns = [\"x\", \"y\", \"z\"]\n"
   ]
  },
  {
   "cell_type": "code",
   "execution_count": null,
   "id": "d58cf267",
   "metadata": {},
   "outputs": [],
   "source": [
    "DELP_TH = 0.25"
   ]
  },
  {
   "cell_type": "code",
   "execution_count": null,
   "id": "5799701b",
   "metadata": {},
   "outputs": [],
   "source": [
    "del_p = kinematics.transverse_kinematics(mu_p, mu_dir, p_p, p_dir)[0]"
   ]
  },
  {
   "cell_type": "code",
   "execution_count": null,
   "id": "57a86c5c",
   "metadata": {},
   "outputs": [],
   "source": [
    "var = del_p\n",
    "bins = np.linspace(0, 1, 21)\n",
    "\n",
    "pvar, pw = breakdown_top(var, evtdf.weight, evtdf.truth, cuts)\n",
    "n, bins, _ = plt.hist(pvar, bins=bins, stacked=True, \n",
    "                      label=top_labels, weights=pw)\n",
    "\n",
    "print(\"signal purity {:.2f} %\".format(100*n[0].sum()/n[-1].sum()))\n",
    "\n",
    "plt.ylabel(\"Candidates / %s\" % POTSTR);\n",
    "plt.title(\"%s ML Selection\" % DETECTOR);\n",
    "plt.tight_layout();\n",
    "plt.legend();\n",
    "plt.xlabel(\"Transverse Momentum [GeV/c]\");\n",
    "plt.axvline(DELP_TH, color=\"k\", linestyle=\"--\")\n",
    "\n",
    "if dosave:\n",
    "    plt.savefig(savedir + \"%s_etightsel_transverse_momentum.pdf\" % DETECTOR);\n",
    "    plt.savefig(savedir + \"%s_etightsel_transverse_momentum.png\" % DETECTOR);"
   ]
  },
  {
   "cell_type": "code",
   "execution_count": null,
   "id": "d1680fee",
   "metadata": {},
   "outputs": [],
   "source": [
    "# transverse momentum cut\n",
    "delp_cut = (del_p < DELP_TH)\n",
    "\n",
    "cuts += [delp_cut]"
   ]
  },
  {
   "cell_type": "code",
   "execution_count": null,
   "id": "cdfc383b",
   "metadata": {},
   "outputs": [],
   "source": [
    "var = kinematics.neutrino_energy(mu_p, mu_dir, p_p, p_dir)\n",
    "bins=np.linspace(0,3,21)\n",
    "\n",
    "pvar, pw = breakdown_top(var, evtdf.weight, evtdf.truth, cuts)\n",
    "n, bins, _ = plt.hist(pvar, bins=bins, stacked=True, \n",
    "                      label=top_labels, weights=pw)\n",
    "\n",
    "print(\"signal purity {:.2f} %\".format(100*n[0].sum()/n[-1].sum()))\n",
    "\n",
    "plt.ylabel(\"Candidates / %s\" % POTSTR);\n",
    "plt.title(\"%s ML Selection\" % DETECTOR);\n",
    "plt.tight_layout();\n",
    "plt.legend();\n",
    "plt.xlabel(\"Neutrino Energy [GeV]\");\n",
    "\n",
    "if dosave:\n",
    "    plt.savefig(savedir + \"%s_eseldpT_neutrino_energy.pdf\" % DETECTOR);\n",
    "    plt.savefig(savedir + \"%s_eseldpT_neutrino_energy.png\" % DETECTOR);\n"
   ]
  },
  {
   "cell_type": "code",
   "execution_count": null,
   "id": "6ed6f43a",
   "metadata": {},
   "outputs": [],
   "source": [
    "cutnames = [\n",
    "    \"Pre-Selection\",\n",
    "    \"Othr Obj. Cut\",\n",
    "    \"$\\\\delta p_T$\"\n",
    "]\n",
    "\n",
    "assert(len(cuts) == len(cutnames))"
   ]
  },
  {
   "cell_type": "code",
   "execution_count": null,
   "id": "cacace89",
   "metadata": {},
   "outputs": [],
   "source": [
    "bins = np.array([0.2, 0.4, 0.6, 0.8, 1, 1.2, 1.5, 2, 2.5, 3])\n",
    "centers = (bins[:-1] + bins[1:]) /2\n",
    "\n",
    "varmc = mcdf.E\n",
    "vardf = evtdf.truth.E\n",
    "\n",
    "whenmc = is_signal(mcdf)\n",
    "\n",
    "Ns = []\n",
    "for i in range(len(cuts)):\n",
    "    whendf = is_signal(evtdf.truth) & cut_all(cuts[:i+1])\n",
    "    N,_ = np.histogram(vardf[whendf], weights=evtdf.weight[whendf], bins=bins)\n",
    "    Ns.append(N)\n",
    "    \n",
    "D,_ = np.histogram(varmc[whenmc], weights=mcdf.weight[whenmc], bins=bins)"
   ]
  },
  {
   "cell_type": "code",
   "execution_count": null,
   "id": "aac55087",
   "metadata": {},
   "outputs": [],
   "source": [
    "for l, N in zip(cutnames, Ns):\n",
    "    plt.plot(centers, N/D, label=l);\n",
    "    \n",
    "\n",
    "plt.legend(loc='upper center', bbox_to_anchor=(0.5, 1.15), ncol=3);\n",
    "plt.xlabel(\"Neutrino Energy [GeV]\");\n",
    "plt.ylabel(\"Selection Efficiency\");\n",
    "plt.text(0.025, 0.875, DETECTOR + \"\\nML Selection\", transform=plt.gca().transAxes, size=16)\n",
    "plt.ylim([0, 1])\n",
    "\n",
    "if dosave:\n",
    "    plt.savefig(savedir + \"%s_e_efficiency_nuE.pdf\" % DETECTOR, bbox_inches=\"tight\");\n",
    "    plt.savefig(savedir + \"%s_e_efficiency_nuE.png\" % DETECTOR, bbox_inches=\"tight\");"
   ]
  },
  {
   "cell_type": "code",
   "execution_count": null,
   "id": "0a520887",
   "metadata": {},
   "outputs": [],
   "source": [
    "bins = np.array([0.2, 0.4, 0.6, 0.8, 1, 1.2, 1.5, 2, 2.5, 3])\n",
    "centers = (bins[:-1] + bins[1:]) /2\n",
    "\n",
    "varmc = mcdf.E\n",
    "vardf = evtdf.truth.E\n",
    "\n",
    "whenmc = is_signal(mcdf)\n",
    "\n",
    "Ns = []\n",
    "for i in range(1, len(cuts)+1):\n",
    "    whendf = is_signal(evtdf.truth) & cut_all(cuts[:i] + cuts[i+1:])\n",
    "    N,_ = np.histogram(vardf[whendf], weights=evtdf.weight[whendf], bins=bins)\n",
    "    Ns.append(N)\n",
    "    \n",
    "D,_ = np.histogram(varmc[whenmc], weights=mcdf.weight[whenmc], bins=bins)"
   ]
  },
  {
   "cell_type": "code",
   "execution_count": null,
   "id": "8cf1da91",
   "metadata": {},
   "outputs": [],
   "source": [
    "for l, N in zip(cutnames[1:] + [\"All Cuts\"], Ns):\n",
    "    plt.plot(centers, N/D, label=l);\n",
    "    \n",
    "\n",
    "plt.legend(loc='upper center', bbox_to_anchor=(0.5, 1.15), ncol=3);\n",
    "plt.xlabel(\"Neutrino Energy [GeV]\");\n",
    "plt.ylabel(\"N-1 Efficiency\");\n",
    "plt.text(0.025, 0.875, DETECTOR + \"\\nML Selection\", transform=plt.gca().transAxes, size=16)\n",
    "plt.ylim([0, 1])\n",
    "\n",
    "if dosave:\n",
    "    plt.savefig(savedir + \"%s_eN-1eff_nuE.pdf\" % DETECTOR, bbox_inches=\"tight\");\n",
    "    plt.savefig(savedir + \"%s_eN-1eff_nuE.png\" % DETECTOR, bbox_inches=\"tight\");"
   ]
  },
  {
   "cell_type": "code",
   "execution_count": null,
   "id": "27a5692e",
   "metadata": {},
   "outputs": [],
   "source": []
  },
  {
   "cell_type": "code",
   "execution_count": null,
   "id": "2671b187",
   "metadata": {},
   "outputs": [],
   "source": []
  },
  {
   "cell_type": "code",
   "execution_count": null,
   "id": "88d80b7c",
   "metadata": {},
   "outputs": [],
   "source": []
  },
  {
   "cell_type": "code",
   "execution_count": null,
   "id": "677ba421",
   "metadata": {},
   "outputs": [],
   "source": []
  },
  {
   "cell_type": "code",
   "execution_count": null,
   "id": "d6f55e72",
   "metadata": {},
   "outputs": [],
   "source": []
  }
 ],
 "metadata": {
  "kernelspec": {
   "display_name": "Python 3 (ipykernel)",
   "language": "python",
   "name": "python3"
  },
  "language_info": {
   "codemirror_mode": {
    "name": "ipython",
    "version": 3
   },
   "file_extension": ".py",
   "mimetype": "text/x-python",
   "name": "python",
   "nbconvert_exporter": "python",
   "pygments_lexer": "ipython3",
   "version": "3.9.2"
  }
 },
 "nbformat": 4,
 "nbformat_minor": 5
}

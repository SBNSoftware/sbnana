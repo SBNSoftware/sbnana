{
 "cells": [
  {
   "cell_type": "code",
   "execution_count": null,
   "id": "1b84348e",
   "metadata": {},
   "outputs": [],
   "source": [
    "import uproot\n",
    "import matplotlib.pyplot as plt \n",
    "import pandas as pd \n",
    "import numpy as np \n",
    "import matplotlib as mpl\n",
    "\n",
    "from util import *\n",
    "import var\n",
    "import cut\n",
    "import data\n",
    "import hist\n",
    "\n",
    "import importlib\n",
    "\n",
    "from pyanalib import panda_helpers\n",
    "\n",
    "from scipy import optimize"
   ]
  },
  {
   "cell_type": "code",
   "execution_count": null,
   "id": "685a7ccc",
   "metadata": {},
   "outputs": [],
   "source": [
    "plt.rcParams.update({'font.size': 16})\n",
    "# mpl.rcParams['lines.linewidth'] = 4.\n",
    "\n",
    "dosave = True\n",
    "savedir = \"plots_2_25_24/\"\n",
    "\n",
    "prop_cycle = plt.rcParams['axes.prop_cycle']\n",
    "colors = prop_cycle.by_key()['color']"
   ]
  },
  {
   "cell_type": "code",
   "execution_count": null,
   "id": "7625d39e",
   "metadata": {},
   "outputs": [],
   "source": [
    "importlib.reload(var)\n",
    "importlib.reload(cut)\n",
    "importlib.reload(data)\n",
    "importlib.reload(hist)\n",
    "importlib.reload(panda_helpers)"
   ]
  },
  {
   "cell_type": "code",
   "execution_count": null,
   "id": "f9d9a279",
   "metadata": {},
   "outputs": [],
   "source": [
    "filedir = \"/icarus/data/users/gputnam/DMCP2023G/mc-F-spectra/\"\n",
    "filetype = \"F-CohLike_%s_evt_spectrum.df\"\n",
    "# filetype = \"F2-Higgs_M260_%s_evt_spectrum.df\"\n",
    "\n",
    "\n",
    "masses = [220, 240, 260, 280, 300, 320, 340]\n",
    "\n",
    "filetypes = [\"F2-Higgs_M%i_%s_evt_spectrum.df\" % (M, \"%s\") for M in masses] +\\\n",
    "    [\"F-CohLike_%s_evt_spectrum.df\", \"F-CohLike_%s_loose_evt_spectrum.df\"]\n",
    "\n",
    "ftype_names = [\"$M_S: $ %i MeV\" % M for M in masses] + [\"Coh-like\", \"Coh-like Loose\"]"
   ]
  },
  {
   "cell_type": "code",
   "execution_count": null,
   "id": "f48678e4",
   "metadata": {},
   "outputs": [],
   "source": [
    "nominal = \"nom\"\n",
    "nominal_coh = \"nom-all\"\n",
    "\n",
    "variations = [\n",
    "    \"ind0nom\",\n",
    "    \"noiselhi\",\n",
    "    \"ind1bin0\",\n",
    "    \"ind1bin14\",\n",
    "    \"sce2x\",\n",
    "    \"ind0glo\",\n",
    "    \"ind0ghi\",\n",
    "    \n",
    "    \"nom_gainlo\",\n",
    "    \"nom_gainhi\",\n",
    "    \"nom_callo\",\n",
    "    \"nom_calhi\",\n",
    "    \"nom_mcslo\",\n",
    "    \"nom_mcshi\"\n",
    "]\n",
    "\n",
    "vnames = [\n",
    "    \"Front Ind. W.C.\",\n",
    "    \"Noise 1.1x\",\n",
    "    \"Middle Ind. Opaque\",\n",
    "    \"Middle Ind. Transparent\",\n",
    "    \"SCE 2x\",\n",
    "    \"Ind. Gain 0.85x\",\n",
    "    \"Ind. Gain 1.15x\",\n",
    "    \n",
    "    \"Cal. Gain 1.01x\",\n",
    "    \"Cal. Gain 0.99x\",\n",
    "    \"Cal. dE/dx Low\",\n",
    "    \"Cal. dE/dx High\",\n",
    "    \"MCS Low\",\n",
    "    \"MCS High\"\n",
    "]"
   ]
  },
  {
   "cell_type": "code",
   "execution_count": null,
   "id": "b7d1cb8a",
   "metadata": {},
   "outputs": [],
   "source": [
    "cvdfs = [pd.read_hdf(filedir + ft % (nominal if i < len(masses) else nominal_coh)) for i,ft in enumerate(filetypes)]\n",
    "cv_escale_dfs = [pd.read_hdf(filedir + ft % nominal) for i,ft in enumerate(filetypes)]\n",
    "\n",
    "vardfs = [[pd.read_hdf(filedir + ft % v) for v in variations] for ft in filetypes]"
   ]
  },
  {
   "cell_type": "code",
   "execution_count": null,
   "id": "180b5c80",
   "metadata": {},
   "outputs": [],
   "source": [
    "# Divide out the cv-weights\n",
    "for i in range(len(cvdfs)):\n",
    "    cvdfs[i].weight /= cvdfs[i].cvweight\n",
    "\n",
    "for i in range(len(cv_escale_dfs)):\n",
    "    cv_escale_dfs[i].weight /= cv_escale_dfs[i].cvweight\n",
    "    \n",
    "for i in range(len(vardfs)):\n",
    "    for j in range(len(vardfs[i])):\n",
    "        vardfs[i][j].weight /= vardfs[i][j].cvweight"
   ]
  },
  {
   "cell_type": "code",
   "execution_count": null,
   "id": "a9f85c8d",
   "metadata": {},
   "outputs": [],
   "source": [
    "allratios = []\n",
    "allratio_errs = []\n",
    "\n",
    "means = []\n",
    "mean_errs = []\n",
    "\n",
    "for iv, v in enumerate(variations):\n",
    "    plt.figure(iv)\n",
    "            \n",
    "    ratios = []\n",
    "    ratio_errs = []\n",
    "    \n",
    "    this_cvdfs = cvdfs if iv < 7 else cv_escale_dfs\n",
    "    \n",
    "    for ift, ft in enumerate(filetypes):\n",
    "        cv_evt = this_cvdfs[ift].weight.sum()\n",
    "        cv_evt_var = (this_cvdfs[ift].weight**2).sum()\n",
    "        \n",
    "        var_evt = vardfs[ift][iv].weight.sum()\n",
    "        var_evt_var = (vardfs[ift][iv].weight**2).sum()\n",
    "\n",
    "        ratio =  var_evt/cv_evt\n",
    "\n",
    "        ratio_err = np.sqrt(var_evt_var/cv_evt**2 + cv_evt_var*var_evt**2/cv_evt**4)\n",
    "\n",
    "        ratios.append(ratio)\n",
    "        ratio_errs.append(ratio_err)\n",
    "        \n",
    "    ratios = np.array(ratios)\n",
    "    ratio_errs = np.array(ratio_errs)\n",
    "    \n",
    "    allratios.append(ratios)\n",
    "    allratio_errs.append(ratio_errs)\n",
    "    \n",
    "    mean = np.sum((ratios / ratio_errs**2)[:len(masses)]) / np.sum(1/ratio_errs[:len(masses)]**2)\n",
    "    mean_err = 1/np.sqrt(np.sum(1/ratio_errs[:len(masses)]**2))\n",
    "        \n",
    "    plt.errorbar(ftype_names, ratios, ratio_errs, linestyle=\"none\", marker=\".\", markersize=10)\n",
    "    plt.axhline(mean, color=\"red\", linestyle=\"--\")\n",
    "    xlim = plt.xlim()\n",
    "    plt.fill_between([-0.5, len(variations)+1.5], [mean - mean_err, mean - mean_err], [mean + mean_err, mean + mean_err],\n",
    "                    color=\"red\", alpha=0.2)\n",
    "    plt.xlim(xlim)\n",
    "    plt.title(vnames[iv])\n",
    "    \n",
    "    plt.xlabel(\"Monte Carlo Type\")\n",
    "    plt.ylabel(\"# Events, Variation / Nominal\")\n",
    "    plt.xticks(rotation=30, ha=\"right\")\n",
    "    plt.text(0.02, 0.05, \"Mean of Scalar Samples\", transform=plt.gca().transAxes, color=\"red\")\n",
    "    plt.tight_layout()\n",
    "    \n",
    "    means.append(mean)\n",
    "    mean_errs.append(mean_err)\n",
    "    \n",
    "    if dosave:\n",
    "        plt.savefig(savedir + \"signalbox_detvar_%s.pdf\" % v)\n",
    "        plt.savefig(savedir + \"signalbox_detvar_%s.svg\" % v)"
   ]
  },
  {
   "cell_type": "code",
   "execution_count": null,
   "id": "88268910",
   "metadata": {},
   "outputs": [],
   "source": [
    "for iv, v in enumerate(variations):\n",
    "    plt.figure(iv)\n",
    "            \n",
    "    ratios = []\n",
    "    ratio_errs = []\n",
    "    \n",
    "    this_cvdfs = cvdfs if iv < 7 else cv_escale_dfs\n",
    "    \n",
    "    for ift, ft in enumerate(filetypes):\n",
    "        cv_evt = this_cvdfs[ift].weight.sum()\n",
    "        cv_evt_var = (this_cvdfs[ift].weight**2).sum()\n",
    "        \n",
    "        var_evt = vardfs[ift][iv].weight.sum()\n",
    "        var_evt_var = (vardfs[ift][iv].weight**2).sum()\n",
    "\n",
    "        ratio =  var_evt/cv_evt\n",
    "\n",
    "        ratio_err = np.sqrt(var_evt_var/cv_evt**2 + cv_evt_var*var_evt**2/cv_evt**4)\n",
    "\n",
    "        ratios.append(ratio)\n",
    "        ratio_errs.append(ratio_err)\n",
    "        \n",
    "    ratios = np.array(ratios)\n",
    "    ratio_errs = np.array(ratio_errs)\n",
    "    \n",
    "    mean = np.sum((ratios / ratio_errs**2)[:len(masses)]) / np.sum(1/ratio_errs[:len(masses)]**2)\n",
    "    mean_err = 1/np.sqrt(np.sum(1/ratio_errs[:len(masses)]**2))\n",
    "        \n",
    "    plt.errorbar(ftype_names, 100*(ratios - 1), 100*ratio_errs, linestyle=\"none\", marker=\".\", markersize=10)\n",
    "    plt.axhline(100*(mean - 1), color=\"red\", linestyle=\"--\")\n",
    "    xlim = plt.xlim()\n",
    "    plt.fill_between([-0.5, len(variations)+1.5], \n",
    "                     100*np.array([mean - mean_err - 1, mean - mean_err - 1]), \n",
    "                     100*np.array([mean + mean_err - 1, mean + mean_err - 1]),\n",
    "                    color=\"red\", alpha=0.2)\n",
    "    plt.xlim(xlim)\n",
    "    plt.title(vnames[iv])\n",
    "    \n",
    "    plt.xlabel(\"Monte Carlo Type\")\n",
    "    plt.ylabel(\"Variation Impact [%]\")\n",
    "    plt.xticks(rotation=30, ha=\"right\")\n",
    "    plt.text(0.02, 0.05, \"Mean of Scalar Samples\", transform=plt.gca().transAxes, color=\"red\")\n",
    "    plt.tight_layout()\n",
    "    \n",
    "    if dosave:\n",
    "        plt.savefig(savedir + \"signalbox_detvar_variation_%s.pdf\" % v)\n",
    "        plt.savefig(savedir + \"signalbox_detvar_variation_%s.svg\" % v)"
   ]
  },
  {
   "cell_type": "code",
   "execution_count": null,
   "id": "5ad9f4c1",
   "metadata": {},
   "outputs": [],
   "source": [
    "# Signal Shape Variation\n",
    "y = np.sqrt((1 - allratios[0])**2 + (1 - allratios[2])**2/2 + (1 - allratios[3])**2/2)\n",
    "yerr = np.sqrt(((1 - allratios[0])*allratio_errs[0]/y)**2 +\\\n",
    "    ((1 - allratios[2])*allratio_errs[2]/y/2)**2 +\\\n",
    "    ((1 - allratios[3])*allratio_errs[3]/y/2)**2)\n",
    "\n",
    "mean = np.sqrt((1 - means[0])**2 + (1 - means[2])**2/2 + (1 - means[3])**2/2)\n",
    "mean_err = np.sqrt(((1 - means[0])*mean_errs[0]/mean)**2 +\\\n",
    "    ((1 - means[2])*mean_errs[2]/mean/2)**2 +\\\n",
    "    ((1 - means[3])*mean_errs[3]/mean/2)**2)\n",
    "\n",
    "plt.errorbar(ftype_names, 100*y, 100*yerr, linestyle=\"none\", marker=\".\", markersize=10)\n",
    "plt.axhline(100*mean, color=\"red\", linestyle=\"--\")\n",
    "xlim = plt.xlim()\n",
    "plt.fill_between([-0.5, len(variations)+1.5], \n",
    "                 100*np.array([mean - mean_err, mean - mean_err]), \n",
    "                 100*np.array([mean + mean_err, mean + mean_err]),\n",
    "                color=\"red\", alpha=0.2)\n",
    "plt.xlim(xlim)\n",
    "plt.title(\"Signal Shape Variation\")\n",
    "\n",
    "plt.xlabel(\"Monte Carlo Type\")\n",
    "plt.ylabel(\"|Variation Impact| [%]\")\n",
    "plt.xticks(rotation=30, ha=\"right\")\n",
    "plt.text(0.02, 0.05, \"Mean of Scalar Samples\", transform=plt.gca().transAxes, color=\"red\")\n",
    "plt.tight_layout()\n",
    "\n",
    "if dosave:\n",
    "    plt.savefig(savedir + \"signalbox_detvar_signalshape.pdf\")\n",
    "    plt.savefig(savedir + \"signalbox_detvar_signalshape.svg\")"
   ]
  },
  {
   "cell_type": "code",
   "execution_count": null,
   "id": "5b025c57",
   "metadata": {},
   "outputs": [],
   "source": [
    "# Signal Shape Variation\n",
    "y = np.sqrt((1 - allratios[1])**2 + (1 - allratios[5])**2/2 + (1 - allratios[6])**2/2)\n",
    "\n",
    "yerr = np.sqrt(((1 - allratios[1])*allratio_errs[1]/y)**2 +\\\n",
    "    ((1 - allratios[5])*allratio_errs[5]/y/2)**2 +\\\n",
    "    ((1 - allratios[6])*allratio_errs[6]/y/2)**2)\n",
    "\n",
    "mean = np.sqrt((1 - means[1])**2 + (1 - means[5])**2/2 + (1 - means[6])**2/2)\n",
    "mean_err = np.sqrt(((1 - means[1])*mean_errs[1]/mean)**2 +\\\n",
    "    ((1 - means[5])*mean_errs[5]/mean/2)**2 +\\\n",
    "    ((1 - means[6])*mean_errs[6]/mean/2)**2)\n",
    "\n",
    "plt.errorbar(ftype_names, 100*y, 100*yerr, linestyle=\"none\", marker=\".\", markersize=10)\n",
    "plt.axhline(100*mean, color=\"red\", linestyle=\"--\")\n",
    "xlim = plt.xlim()\n",
    "plt.fill_between([-0.5, len(variations)+1.5], \n",
    "                 100*np.array([mean - mean_err, mean - mean_err]), \n",
    "                 100*np.array([mean + mean_err, mean + mean_err]),\n",
    "                color=\"red\", alpha=0.2)\n",
    "plt.xlim(xlim)\n",
    "plt.title(\"Signal To Noise Variation\")\n",
    "\n",
    "plt.xlabel(\"Monte Carlo Type\")\n",
    "plt.ylabel(\"|Variation Impact| [%]\")\n",
    "plt.xticks(rotation=30, ha=\"right\")\n",
    "plt.text(0.02, 0.05, \"Mean of Scalar Samples\", transform=plt.gca().transAxes, color=\"red\")\n",
    "plt.tight_layout()\n",
    "\n",
    "if dosave:\n",
    "    plt.savefig(savedir + \"signalbox_detvar_s2n.pdf\")\n",
    "    plt.savefig(savedir + \"signalbox_detvar_s2n.svg\")"
   ]
  },
  {
   "cell_type": "code",
   "execution_count": null,
   "id": "65c90077",
   "metadata": {},
   "outputs": [],
   "source": [
    "v2mean = {}\n",
    "\n",
    "for m, v in zip(means, variations):\n",
    "    print(v, m)\n",
    "    \n",
    "    v2mean[v] = m"
   ]
  },
  {
   "cell_type": "code",
   "execution_count": null,
   "id": "b3712afa",
   "metadata": {},
   "outputs": [],
   "source": [
    "# Cal dEdx\n",
    "err_cal = 100*np.abs(v2mean[\"nom_calhi\"] - v2mean[\"nom_callo\"]) / 2\n",
    "err_cal"
   ]
  },
  {
   "cell_type": "code",
   "execution_count": null,
   "id": "29721b02",
   "metadata": {},
   "outputs": [],
   "source": [
    "# Cal Gain\n",
    "err_gain = 100*np.sqrt(np.mean([(v2mean[\"nom_gainhi\"]-1)**2, (v2mean[\"nom_gainlo\"] -1)**2]))\n",
    "err_gain"
   ]
  },
  {
   "cell_type": "code",
   "execution_count": null,
   "id": "7ea6b6c1",
   "metadata": {},
   "outputs": [],
   "source": [
    "# Cal MCS\n",
    "err_mcs = 100*np.sqrt(np.mean([(v2mean[\"nom_mcslo\"]-1)**2, (v2mean[\"nom_mcshi\"] -1)**2]))\n",
    "err_mcs"
   ]
  },
  {
   "cell_type": "code",
   "execution_count": null,
   "id": "f19e836a",
   "metadata": {},
   "outputs": [],
   "source": [
    "# Total energy scale uncertainty\n",
    "np.sqrt(err_cal**2 + err_gain**2 + err_mcs**2)"
   ]
  },
  {
   "cell_type": "code",
   "execution_count": null,
   "id": "2a480ddc",
   "metadata": {},
   "outputs": [],
   "source": [
    "# Front Ind WC\n",
    "err_ind0shape = 100*np.sqrt(np.mean([(v2mean[\"ind0nom\"]-1)**2,]))\n",
    "err_ind0shape"
   ]
  },
  {
   "cell_type": "code",
   "execution_count": null,
   "id": "02cdb118",
   "metadata": {},
   "outputs": [],
   "source": [
    "# Middle Ind Shape\n",
    "err_ind1shape = 100*np.sqrt(np.mean([(v2mean[\"ind1bin0\"]-1)**2, (v2mean[\"ind1bin14\"] -1)**2]))\n",
    "err_ind1shape"
   ]
  },
  {
   "cell_type": "code",
   "execution_count": null,
   "id": "b9bdfaa2",
   "metadata": {},
   "outputs": [],
   "source": [
    "err_ind0gain = 100*np.sqrt(np.mean([(v2mean[\"ind0glo\"]-1)**2, (v2mean[\"ind0ghi\"] -1)**2]))\n",
    "err_ind0gain"
   ]
  },
  {
   "cell_type": "code",
   "execution_count": null,
   "id": "766b0b05",
   "metadata": {},
   "outputs": [],
   "source": [
    "# Total Signal Shape\n",
    "np.sqrt(err_ind0shape**2 + err_ind1shape**2)"
   ]
  },
  {
   "cell_type": "code",
   "execution_count": null,
   "id": "af82c98e",
   "metadata": {},
   "outputs": [],
   "source": [
    "# Noise\n",
    "err_noise = 100*np.sqrt(np.mean([(v2mean[\"noiselhi\"]-1)**2,]))\n",
    "err_noise"
   ]
  },
  {
   "cell_type": "code",
   "execution_count": null,
   "id": "0caa6328",
   "metadata": {},
   "outputs": [],
   "source": [
    "# Total Detector Model\n",
    "np.sqrt(err_ind0shape**2 + err_ind1shape**2 + err_ind0gain**2 + err_noise**2 )"
   ]
  },
  {
   "cell_type": "code",
   "execution_count": null,
   "id": "6cfaa7f4",
   "metadata": {},
   "outputs": [],
   "source": [
    "# Total Total\n",
    "np.sqrt(err_ind0shape**2 + err_ind1shape**2 + err_ind0gain**2 + err_noise**2 + err_cal**2 + err_gain**2 + err_mcs**2)"
   ]
  },
  {
   "cell_type": "code",
   "execution_count": null,
   "id": "6b23c258",
   "metadata": {},
   "outputs": [],
   "source": [
    "# Use the loose-cohlike to get the variation on the neutrinos"
   ]
  },
  {
   "cell_type": "code",
   "execution_count": null,
   "id": "bba36bd6",
   "metadata": {},
   "outputs": [],
   "source": [
    "v2mean_bkg = {}\n",
    "\n",
    "for iv, v in enumerate(variations):\n",
    "    this_cvdfs = cvdfs if iv < 7 else cv_escale_dfs\n",
    "\n",
    "    cv_evt = this_cvdfs[-1].weight.sum()\n",
    "    var_evt = vardfs[-1][iv].weight.sum()\n",
    "    \n",
    "    v2mean_bkg[v] = var_evt / cv_evt\n",
    "    print(v, var_evt / cv_evt)"
   ]
  },
  {
   "cell_type": "code",
   "execution_count": null,
   "id": "36430a02",
   "metadata": {},
   "outputs": [],
   "source": [
    "# Cal dEdx\n",
    "err_cal_bkg = 100*np.abs(v2mean_bkg[\"nom_calhi\"] - v2mean_bkg[\"nom_callo\"]) / 2\n",
    "err_cal_bkg"
   ]
  },
  {
   "cell_type": "code",
   "execution_count": null,
   "id": "488e58a8",
   "metadata": {},
   "outputs": [],
   "source": [
    "err_gain_bkg = 100*np.sqrt(np.mean([(v2mean_bkg[\"nom_gainhi\"]-1)**2, (v2mean_bkg[\"nom_gainlo\"] -1)**2]))\n",
    "err_gain_bkg"
   ]
  },
  {
   "cell_type": "code",
   "execution_count": null,
   "id": "951619b3",
   "metadata": {},
   "outputs": [],
   "source": [
    "err_mcs_bkg = 100*np.sqrt(np.mean([(v2mean_bkg[\"nom_mcslo\"]-1)**2, (v2mean_bkg[\"nom_mcshi\"] -1)**2]))\n",
    "err_mcs_bkg"
   ]
  },
  {
   "cell_type": "code",
   "execution_count": null,
   "id": "474c12a9",
   "metadata": {},
   "outputs": [],
   "source": [
    "np.sqrt(err_cal_bkg**2 + err_gain_bkg**2 + err_mcs_bkg**2)"
   ]
  },
  {
   "cell_type": "code",
   "execution_count": null,
   "id": "123484fa",
   "metadata": {},
   "outputs": [],
   "source": [
    "err_ind0shape_bkg = 100*np.sqrt(np.mean([(v2mean_bkg[\"ind0nom\"]-1)**2,]))\n",
    "err_ind0shape_bkg"
   ]
  },
  {
   "cell_type": "code",
   "execution_count": null,
   "id": "96c2bed7",
   "metadata": {},
   "outputs": [],
   "source": [
    "err_noise_bkg = 100*np.sqrt(np.mean([(v2mean_bkg[\"noiselhi\"]-1)**2,]))\n",
    "err_noise_bkg"
   ]
  },
  {
   "cell_type": "code",
   "execution_count": null,
   "id": "1880d6a6",
   "metadata": {},
   "outputs": [],
   "source": [
    "err_ind1shape_bkg = 100*np.sqrt(np.mean([(v2mean_bkg[\"ind1bin0\"]-1)**2, (v2mean_bkg[\"ind1bin14\"] -1)**2]))\n",
    "err_ind1shape_bkg"
   ]
  },
  {
   "cell_type": "code",
   "execution_count": null,
   "id": "78a2a376",
   "metadata": {},
   "outputs": [],
   "source": [
    "err_ind0gain_bkg = 100*np.sqrt(np.mean([(v2mean_bkg[\"ind0glo\"]-1)**2, (v2mean_bkg[\"ind0ghi\"] -1)**2]))\n",
    "err_ind0gain_bkg"
   ]
  },
  {
   "cell_type": "code",
   "execution_count": null,
   "id": "5b121c20",
   "metadata": {},
   "outputs": [],
   "source": [
    "# Total Detector Model\n",
    "np.sqrt(err_ind0shape_bkg**2 + err_noise_bkg**2 + err_ind1shape_bkg**2 + err_ind0gain_bkg**2)"
   ]
  },
  {
   "cell_type": "code",
   "execution_count": null,
   "id": "98e34d04",
   "metadata": {},
   "outputs": [],
   "source": [
    "# Total Total\n",
    "np.sqrt(err_ind0shape_bkg**2 + err_noise_bkg**2 + err_ind1shape_bkg**2 + err_ind0gain_bkg**2 + err_cal_bkg**2  + err_gain_bkg**2 + err_mcs_bkg**2)"
   ]
  },
  {
   "cell_type": "code",
   "execution_count": null,
   "id": "20372e79",
   "metadata": {},
   "outputs": [],
   "source": [
    "# Print the table -- Energy Scale\n",
    "print(f\"\"\"\n",
    "Calorimetric Gain $\\\\pm$ 1\\\\% & {err_gain:.1f} & {err_gain_bkg:.1f} \\\\\\\\\n",
    "Calorimetric $dE/dx$ & {err_cal:.1f} & {err_cal_bkg:.1f} \\\\\\\\\n",
    "Multiple Colomb Scattering & {err_mcs:.1f} & {err_mcs_bkg:.1f} \\\\\\\\\n",
    "\\\\rowcolor{{gray!10}}\n",
    "Total Energy Scale & {np.sqrt(err_cal**2 + err_gain**2 + err_mcs**2):.1f} & {np.sqrt(err_cal_bkg**2 + err_gain_bkg**2 + err_mcs_bkg**2):.1f}\\\\\\\\\n",
    "\"\"\")"
   ]
  },
  {
   "cell_type": "code",
   "execution_count": null,
   "id": "bf6bb38c",
   "metadata": {},
   "outputs": [],
   "source": [
    "# Print the table -- Model Variations\n",
    "print(f\"\"\"\n",
    "Front Induction Signal Shape & {err_ind0shape:.1f} & {err_ind0shape_bkg:.1f}\\\\\\\\\n",
    "Middle Induction Signal Shape & {err_ind1shape:.1f} & {err_ind1shape_bkg:.1f}\\\\\\\\\n",
    "Noise Variations $+10$\\\\% & {err_noise:.1f} & {err_noise_bkg:.1f}\\\\\\\\\n",
    "Indcution Gain Variation $\\\\pm 15$\\\\% & {err_ind0gain:.1f} & {err_ind0gain_bkg:.1f}\\\\\\\\\n",
    "\\\\rowcolor{{gray!10}}\n",
    "Total Detector Model & {np.sqrt(err_ind0shape**2 + err_ind1shape**2 + err_ind0gain**2 + err_noise**2 ):.1f} & {np.sqrt(err_ind0shape_bkg**2 + err_noise_bkg**2 + err_ind1shape_bkg**2 + err_ind0gain_bkg**2):.1f}\\\\\\\\\n",
    "\"\"\")"
   ]
  },
  {
   "cell_type": "code",
   "execution_count": null,
   "id": "3e29e6a1",
   "metadata": {},
   "outputs": [],
   "source": []
  },
  {
   "cell_type": "code",
   "execution_count": null,
   "id": "acbc2f71",
   "metadata": {},
   "outputs": [],
   "source": []
  },
  {
   "cell_type": "code",
   "execution_count": null,
   "id": "119f77e5",
   "metadata": {},
   "outputs": [],
   "source": [
    "cvdfs[-2].pot.unique().sum()"
   ]
  },
  {
   "cell_type": "code",
   "execution_count": null,
   "id": "68e3f646",
   "metadata": {},
   "outputs": [],
   "source": [
    "cvdfs[-2].shape[0]"
   ]
  },
  {
   "cell_type": "code",
   "execution_count": null,
   "id": "cd7ce2e1",
   "metadata": {},
   "outputs": [],
   "source": [
    "vardfs[-2][0].shape[0]"
   ]
  },
  {
   "cell_type": "code",
   "execution_count": null,
   "id": "6f7bb019",
   "metadata": {},
   "outputs": [],
   "source": [
    "vardfs[-2][0].pot.unique().sum()"
   ]
  },
  {
   "cell_type": "code",
   "execution_count": null,
   "id": "522bf9ad",
   "metadata": {},
   "outputs": [],
   "source": []
  }
 ],
 "metadata": {
  "kernelspec": {
   "display_name": "Python 3 (ipykernel)",
   "language": "python",
   "name": "python3"
  },
  "language_info": {
   "codemirror_mode": {
    "name": "ipython",
    "version": 3
   },
   "file_extension": ".py",
   "mimetype": "text/x-python",
   "name": "python",
   "nbconvert_exporter": "python",
   "pygments_lexer": "ipython3",
   "version": "3.9.2"
  }
 },
 "nbformat": 4,
 "nbformat_minor": 5
}

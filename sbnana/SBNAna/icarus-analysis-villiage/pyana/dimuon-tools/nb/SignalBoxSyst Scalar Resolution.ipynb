{
 "cells": [
  {
   "cell_type": "code",
   "execution_count": null,
   "id": "b96af790",
   "metadata": {},
   "outputs": [],
   "source": [
    "1+1"
   ]
  },
  {
   "cell_type": "code",
   "execution_count": null,
   "id": "84c42f76",
   "metadata": {},
   "outputs": [],
   "source": [
    "import uproot\n",
    "import matplotlib.pyplot as plt \n",
    "import pandas as pd \n",
    "import numpy as np \n",
    "import matplotlib as mpl\n",
    "\n",
    "from util import *\n",
    "import var\n",
    "import cut\n",
    "import data\n",
    "import hist\n",
    "\n",
    "import importlib\n",
    "\n",
    "from pyanalib import panda_helpers\n",
    "\n",
    "from scipy import optimize, stats"
   ]
  },
  {
   "cell_type": "code",
   "execution_count": null,
   "id": "b6e69795",
   "metadata": {},
   "outputs": [],
   "source": [
    "plt.rcParams.update({'font.size': 16})\n",
    "# mpl.rcParams['lines.linewidth'] = 4.\n",
    "\n",
    "dosave = True\n",
    "savedir = \"plots_1_29_24/signalbox/\"\n",
    "\n",
    "prop_cycle = plt.rcParams['axes.prop_cycle']\n",
    "colors = prop_cycle.by_key()['color']"
   ]
  },
  {
   "cell_type": "code",
   "execution_count": null,
   "id": "3a8af8c5",
   "metadata": {},
   "outputs": [],
   "source": [
    "importlib.reload(var)\n",
    "importlib.reload(cut)\n",
    "importlib.reload(data)\n",
    "importlib.reload(hist)\n",
    "importlib.reload(panda_helpers)"
   ]
  },
  {
   "cell_type": "code",
   "execution_count": null,
   "id": "3b7bac76",
   "metadata": {},
   "outputs": [],
   "source": [
    "filedir = \"/icarus/data/users/gputnam/DMCP2023G/mc-F/\"\n",
    "filetype = \"F-CohLike_%s_evt_spectrum.df\"\n",
    "# filetype = \"F2-Higgs_M260_%s_evt_spectrum.df\"\n",
    "\n",
    "\n",
    "masses = [220, 240, 260, 280, 300, 320, 340]\n",
    "\n",
    "filetypes = [\"F2-Higgs_M%i_%s_evt_blah_spectrum.df\" % (M, \"%s\") for M in masses]\n",
    "ftype_names = [\"$M_S: $ %i MeV\" % M for M in masses]"
   ]
  },
  {
   "cell_type": "code",
   "execution_count": null,
   "id": "7e7ded26",
   "metadata": {},
   "outputs": [],
   "source": [
    "nominal = \"nom\"\n",
    "\n",
    "variations = [\n",
    "    \"ind0nom\",\n",
    "    \"noiselhi\",\n",
    "    \"ind1bin0\",\n",
    "    \"ind1bin14\",\n",
    "    \"sce2x\",\n",
    "    \"ind0glo\",\n",
    "    \"ind0glo\",\n",
    "    \"nom_gainlo\",\n",
    "    \"nom_gainhi\",\n",
    "    \"nom_callo\",\n",
    "    \"nom_calhi\",\n",
    "    \"nom_mcslo\",\n",
    "    \"nom_mcshi\"\n",
    "]\n",
    "\n",
    "vnames = [\n",
    "    \"Front Ind. W.C.\",\n",
    "    \"Noise 1.1x\",\n",
    "    \"Middle Ind. Opaque\",\n",
    "    \"Middle Ind. Transparent\",\n",
    "    \"SCE 2x\",\n",
    "    \"Ind. Gain 0.85x\",\n",
    "    \"Ind. Gain 1.15x\",\n",
    "    \n",
    "    \"Cal. Gain 1.01x\",\n",
    "    \"Cal. Gain 0.99x\",\n",
    "    \"Cal. dE/dx Low\",\n",
    "    \"Cal. dE/dx High\",\n",
    "    \"MCS Low\",\n",
    "    \"MCS High\"\n",
    "]"
   ]
  },
  {
   "cell_type": "code",
   "execution_count": null,
   "id": "8b9efe9a",
   "metadata": {},
   "outputs": [],
   "source": [
    "cvdfs = [pd.read_hdf(filedir + ft % nominal) for ft in filetypes]\n",
    "\n",
    "vardfs = [[pd.read_hdf(filedir + ft % v) for v in variations] for ft in filetypes]"
   ]
  },
  {
   "cell_type": "code",
   "execution_count": null,
   "id": "d2ecda09",
   "metadata": {},
   "outputs": [],
   "source": [
    "def fit_peak(X, A, mu, sigma, m, B):\n",
    "    Xp = -(X-mu)/sigma\n",
    "    return A*stats.crystalball.pdf(Xp, m, B)"
   ]
  },
  {
   "cell_type": "code",
   "execution_count": null,
   "id": "fc25836e",
   "metadata": {},
   "outputs": [],
   "source": [
    "bins = np.linspace(0.2, 0.4, 31)\n",
    "centers = (bins[:-1] + bins[1:]) / 2\n",
    "\n",
    "cv_sigmas = []\n",
    "\n",
    "cv_sigma_errs = []\n",
    "for cvdf in cvdfs:\n",
    "    N,_= np.histogram(cvdf.mass, bins=bins)\n",
    "\n",
    "    popt,perr = optimize.curve_fit(fit_peak, centers, N, \n",
    "                                sigma=np.maximum(np.sqrt(N),1), p0=[np.sum(N), 0.22, 0.01, 1, 5],\n",
    "                               maxfev=int(1e6))\n",
    "    sigma = popt[2]\n",
    "    \n",
    "    err = np.sqrt(np.diag(perr))[2]\n",
    "    \n",
    "    cv_sigmas.append(sigma*1e3)\n",
    "    cv_sigma_errs.append(err*1e3)\n",
    "    \n",
    "cv_sigmas = np.array(cv_sigmas)\n",
    "cv_sigma_errs = np.array(cv_sigma_errs)"
   ]
  },
  {
   "cell_type": "code",
   "execution_count": null,
   "id": "e5419355",
   "metadata": {},
   "outputs": [],
   "source": [
    "bins = np.linspace(0.2, 0.4, 31)\n",
    "centers = (bins[:-1] + bins[1:]) / 2\n",
    "\n",
    "var_sigmas = []\n",
    "for ift, vdfs in enumerate(vardfs):\n",
    "    var_sigmas.append([])\n",
    "    for ivar, vdf in enumerate(vdfs):\n",
    "        N,_= np.histogram(vdf.mass, bins=bins)\n",
    "\n",
    "        popt,_ = optimize.curve_fit(fit_peak, centers, N, \n",
    "                                    sigma=np.maximum(np.sqrt(N),1), p0=[np.sum(N), 0.22, 0.01, 1, 5],\n",
    "                                   maxfev=int(1e6))\n",
    "        sigma = popt[2]\n",
    "\n",
    "        var_sigmas[-1].append(sigma*1e3)\n",
    "var_sigmas = np.array(var_sigmas)"
   ]
  },
  {
   "cell_type": "code",
   "execution_count": null,
   "id": "2022bade",
   "metadata": {},
   "outputs": [],
   "source": [
    "var_sigmas.shape"
   ]
  },
  {
   "cell_type": "code",
   "execution_count": null,
   "id": "34cfce90",
   "metadata": {},
   "outputs": [],
   "source": [
    "for iv in range(var_sigmas.shape[1]):\n",
    "    plt.plot(masses, 100*var_sigmas[:, iv] / masses, linestyle=\"none\", marker=\".\", markersize=10, \n",
    "             label=vnames[iv])\n",
    "    \n",
    "plt.errorbar(masses, 100*cv_sigmas / masses, yerr=cv_sigma_errs*100/masses, \n",
    "             linestyle=\"none\", marker=\".\", markersize=10, color=\"black\", label=\"Nominal\")\n",
    "\n",
    "plt.ylim([0.75, 5.5])\n",
    "\n",
    "plt.legend(ncol=2, loc='upper center', bbox_to_anchor=(0.5, 1.7))\n",
    "plt.xlabel(\"Scalar Mass [MeV]\")\n",
    "plt.ylabel(\"Mass Peak Resolution [%]\")\n",
    "\n",
    "if dosave:\n",
    "    plt.savefig(savedir + \"mass_peak_resolution_systvar.pdf\", bbox_inches=\"tight\")\n",
    "    plt.savefig(savedir + \"mass_peak_resolution_systvar.svg\", bbox_inches=\"tight\")"
   ]
  },
  {
   "cell_type": "code",
   "execution_count": null,
   "id": "76ea1477",
   "metadata": {},
   "outputs": [],
   "source": []
  },
  {
   "cell_type": "code",
   "execution_count": null,
   "id": "8502a892",
   "metadata": {},
   "outputs": [],
   "source": []
  }
 ],
 "metadata": {
  "kernelspec": {
   "display_name": "Python 3 (ipykernel)",
   "language": "python",
   "name": "python3"
  },
  "language_info": {
   "codemirror_mode": {
    "name": "ipython",
    "version": 3
   },
   "file_extension": ".py",
   "mimetype": "text/x-python",
   "name": "python",
   "nbconvert_exporter": "python",
   "pygments_lexer": "ipython3",
   "version": "3.9.2"
  }
 },
 "nbformat": 4,
 "nbformat_minor": 5
}

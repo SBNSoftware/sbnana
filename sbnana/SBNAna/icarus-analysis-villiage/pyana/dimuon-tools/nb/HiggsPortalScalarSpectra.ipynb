{
 "cells": [
  {
   "cell_type": "code",
   "execution_count": null,
   "id": "faa6bfba",
   "metadata": {},
   "outputs": [],
   "source": [
    "import uproot\n",
    "import matplotlib.pyplot as plt \n",
    "import pandas as pd \n",
    "import numpy as np \n",
    "import matplotlib as mpl\n",
    "\n",
    "from util import *\n",
    "import var\n",
    "import cut\n",
    "import data\n",
    "import hist\n",
    "\n",
    "import importlib\n",
    "\n",
    "from pyanalib import panda_helpers\n",
    "\n",
    "import numiweight"
   ]
  },
  {
   "cell_type": "code",
   "execution_count": null,
   "id": "01a8f6e5",
   "metadata": {},
   "outputs": [],
   "source": [
    "importlib.reload(var)\n",
    "importlib.reload(cut)\n",
    "importlib.reload(data)\n",
    "importlib.reload(hist)\n",
    "importlib.reload(panda_helpers)"
   ]
  },
  {
   "cell_type": "code",
   "execution_count": null,
   "id": "15d0d783",
   "metadata": {},
   "outputs": [],
   "source": [
    "plt.rcParams.update({'font.size': 16})\n",
    "mpl.rcParams['lines.linewidth'] = 4.\n",
    "\n",
    "dosave = True\n",
    "savedir = \"./plots_2_28_24/scalar-spectra/\"\n",
    "\n",
    "Masses = [220, 240, 280, 340]"
   ]
  },
  {
   "cell_type": "code",
   "execution_count": null,
   "id": "4189eebe",
   "metadata": {},
   "outputs": [],
   "source": [
    "fhs = [\"/icarus/data/users/gputnam/DMCP2023G/mc-F-iter2/F2-Higgs_M%i_nom_evt.df\" % M for M in Masses]"
   ]
  },
  {
   "cell_type": "code",
   "execution_count": null,
   "id": "104b907c",
   "metadata": {},
   "outputs": [],
   "source": [
    "h_mchdfs = [pd.read_hdf(fh, key=\"mch\") for fh in fhs]"
   ]
  },
  {
   "cell_type": "code",
   "execution_count": null,
   "id": "3b8ce838",
   "metadata": {},
   "outputs": [],
   "source": [
    "h_mcdfs = [pd.read_hdf(fh, key=\"mcnu\") for fh in fhs]"
   ]
  },
  {
   "cell_type": "code",
   "execution_count": null,
   "id": "2ed49b23",
   "metadata": {},
   "outputs": [],
   "source": [
    "for i in range(len(h_mcdfs)):\n",
    "    h_mcdfs[i][\"when\"] = SlcInFV(h_mcdfs[i].position)\n",
    "    h_mcdfs[i][\"M\"] = h_mchdfs[i].M.iloc[0]\n",
    "    \n",
    "    h_mcdfs[i][\"leadMuE\"] = np.maximum(h_mcdfs[i].p0.genE, h_mcdfs[i].p1.genE)\n",
    "    h_mcdfs[i][\"sublMuE\"] = np.minimum(h_mcdfs[i].p0.genE, h_mcdfs[i].p1.genE)\n",
    "\n",
    "    h_mcdfs[i][\"openangle\"] = np.arccos(dotdf(h_mcdfs[i].p0.genp, h_mcdfs[i].p1.genp) / magdf(h_mcdfs[i].p0.genp) / magdf(h_mcdfs[i].p1.genp))*180/np.pi\n"
   ]
  },
  {
   "cell_type": "code",
   "execution_count": null,
   "id": "b112a5fe",
   "metadata": {},
   "outputs": [],
   "source": [
    "# get weights\n",
    "\n",
    "for i in range(len(h_mcdfs)):\n",
    "    nupdg = h_mcdfs[i].pdg.groupby(level=[0,1]).first()\n",
    "    nuparent_pdg = h_mcdfs[i].parent_pdg.groupby(level=[0,1]).first()\n",
    "    nuE = h_mcdfs[i].E.groupby(level=[0,1]).first()\n",
    "    \n",
    "    ppfx_cv = numiweight.cv(nupdg, nuE)\n",
    "    concrete_cv = numiweight.concrete_cv(nuparent_pdg, nuE)\n",
    "    \n",
    "    h_mcdfs[i][\"weight\"] = ppfx_cv * concrete_cv\n",
    "    h_mchdfs[i][\"weight\"] = ppfx_cv * concrete_cv"
   ]
  },
  {
   "cell_type": "code",
   "execution_count": null,
   "id": "97e9814b",
   "metadata": {},
   "outputs": [],
   "source": [
    "\n",
    "thetaS = h_mchdfs[0].C1.iloc[0]\n",
    "thetaS_STR = \"1 \\\\times 10^{-5}\" \n",
    "thetaS, thetaS_STR"
   ]
  },
  {
   "cell_type": "code",
   "execution_count": null,
   "id": "486936b9",
   "metadata": {},
   "outputs": [],
   "source": [
    "bins = np.linspace(0, 5, 21)\n",
    "\n",
    "for df in h_mcdfs:\n",
    "    plt.hist(df.E[df.when], bins=bins, density=True, weights=df.weight[df.when],\n",
    "             histtype=\"step\", label=\"$M_S = %i$ MeV\" % (df.M.iloc[0]*1e3), linewidth=2)\n",
    "\n",
    "plt.ylabel(\"Fiducial Events, Area Normalized\")\n",
    "plt.legend(title=\"Scalar Decays\\n$\\\\theta_S = %s$\" % thetaS_STR)\n",
    "\n",
    "plt.xlabel(\"Scalar Energy [GeV]\")\n",
    "\n",
    "plt.tight_layout()\n",
    "if dosave:\n",
    "    plt.savefig(savedir + \"scalar_energy.pdf\")"
   ]
  },
  {
   "cell_type": "code",
   "execution_count": null,
   "id": "01017570",
   "metadata": {},
   "outputs": [],
   "source": [
    "bins = np.linspace(0, 5, 21)\n",
    "\n",
    "for df in h_mcdfs:\n",
    "    plt.hist(df.leadMuE[df.when], bins=bins, density=True, weights=df.weight[df.when],\n",
    "             histtype=\"step\", label=\"$M_S = %i$ MeV\" % (df.M.iloc[0]*1e3), linewidth=2)\n",
    "\n",
    "plt.ylabel(\"Fiducial Events, Area Normalized\")\n",
    "plt.legend(title=\"Scalar Decays\\n$\\\\theta_S = %s$\" % thetaS_STR)\n",
    "\n",
    "plt.xlabel(\"Leading Muon Energy [GeV]\")\n",
    "\n",
    "plt.tight_layout()\n",
    "if dosave:\n",
    "    plt.savefig(savedir + \"leading_muon_energy.pdf\")"
   ]
  },
  {
   "cell_type": "code",
   "execution_count": null,
   "id": "23b0a037",
   "metadata": {},
   "outputs": [],
   "source": [
    "bins = np.linspace(0, 3, 13)\n",
    "\n",
    "for df in h_mcdfs:\n",
    "    plt.hist(df.sublMuE[df.when], bins=bins, density=True, weights=df.weight[df.when],\n",
    "             histtype=\"step\", label=\"$M_S = %i$ MeV\" % (df.M.iloc[0]*1e3), linewidth=2)\n",
    "\n",
    "plt.ylabel(\"Fiducial Events, Area Normalized\")\n",
    "plt.legend(title=\"Scalar Decays\\n$\\\\theta_S = %s$\" % thetaS_STR)\n",
    "\n",
    "plt.xlabel(\"Sub-Leading Muon Energy [GeV]\")\n",
    "\n",
    "plt.tight_layout()\n",
    "if dosave:\n",
    "    plt.savefig(savedir + \"subleading_muon_energy.pdf\")"
   ]
  },
  {
   "cell_type": "code",
   "execution_count": null,
   "id": "e47ab87e",
   "metadata": {},
   "outputs": [],
   "source": [
    "bins = np.linspace(0, 140, 15)\n",
    "\n",
    "for df in h_mcdfs:\n",
    "    plt.hist(df.openangle[df.when], bins=bins, density=True, weights=df.weight[df.when],\n",
    "             histtype=\"step\", label=\"$M_S = %i$ MeV\" % (df.M.iloc[0]*1e3), linewidth=2)\n",
    "\n",
    "plt.ylabel(\"Fiducial Events, Area Normalized\")\n",
    "plt.legend(title=\"Scalar Decays\\n$\\\\theta_S = %s$\" % thetaS_STR)\n",
    "\n",
    "plt.xlabel(\"Muon Opening Angle [$^\\\\circ$]\")\n",
    "\n",
    "plt.tight_layout()\n",
    "if dosave:\n",
    "    plt.savefig(savedir + \"openangle.pdf\")"
   ]
  },
  {
   "cell_type": "code",
   "execution_count": null,
   "id": "e43623f4",
   "metadata": {},
   "outputs": [],
   "source": [
    "bins = np.linspace(0.5, 1, 21)\n",
    "\n",
    "for df in h_mcdfs:\n",
    "    plt.hist(df.leadMuE[df.when] / (df.leadMuE[df.when] + df.sublMuE[df.when]), bins=bins, density=True, \n",
    "             weights=df.weight[df.when],\n",
    "             histtype=\"step\", label=\"$M_S = %i$ MeV\" % (df.M.iloc[0]*1e3), linewidth=2)\n",
    "\n",
    "plt.ylabel(\"Fiducial Events, Area Normalized\")\n",
    "plt.legend(title=\"Scalar Decays\\n$\\\\theta_S = %s$\" % thetaS_STR)\n",
    "\n",
    "plt.xlabel(\"Leading Muon Energy Fraction\")\n",
    "\n",
    "plt.tight_layout()\n",
    "if dosave:\n",
    "    plt.savefig(savedir + \"leading_muon_energy_frac.pdf\")"
   ]
  },
  {
   "cell_type": "code",
   "execution_count": null,
   "id": "a38880a2",
   "metadata": {},
   "outputs": [],
   "source": []
  },
  {
   "cell_type": "code",
   "execution_count": null,
   "id": "e39d1e7a",
   "metadata": {},
   "outputs": [],
   "source": []
  }
 ],
 "metadata": {
  "kernelspec": {
   "display_name": "Python 3 (ipykernel)",
   "language": "python",
   "name": "python3"
  },
  "language_info": {
   "codemirror_mode": {
    "name": "ipython",
    "version": 3
   },
   "file_extension": ".py",
   "mimetype": "text/x-python",
   "name": "python",
   "nbconvert_exporter": "python",
   "pygments_lexer": "ipython3",
   "version": "3.9.2"
  }
 },
 "nbformat": 4,
 "nbformat_minor": 5
}

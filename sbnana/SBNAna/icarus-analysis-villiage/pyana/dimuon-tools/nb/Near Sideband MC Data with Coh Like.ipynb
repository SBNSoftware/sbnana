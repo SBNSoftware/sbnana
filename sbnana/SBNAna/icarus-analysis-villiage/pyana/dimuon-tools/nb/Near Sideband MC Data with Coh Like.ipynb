{
 "cells": [
  {
   "cell_type": "code",
   "execution_count": null,
   "id": "89e600c5",
   "metadata": {},
   "outputs": [],
   "source": [
    "1+1"
   ]
  },
  {
   "cell_type": "code",
   "execution_count": null,
   "id": "2b367816",
   "metadata": {},
   "outputs": [],
   "source": [
    "import uproot\n",
    "import matplotlib.pyplot as plt \n",
    "import pandas as pd \n",
    "import numpy as np \n",
    "import matplotlib as mpl\n",
    "\n",
    "from util import *\n",
    "import var\n",
    "import cut\n",
    "import data\n",
    "import hist\n",
    "\n",
    "import importlib\n",
    "\n",
    "import pid\n",
    "from pyanalib import panda_helpers\n",
    "import os\n",
    "import multiprocessing"
   ]
  },
  {
   "cell_type": "code",
   "execution_count": null,
   "id": "b899ffbf",
   "metadata": {},
   "outputs": [],
   "source": [
    "from pyanalib import variable, histogram"
   ]
  },
  {
   "cell_type": "code",
   "execution_count": null,
   "id": "2363b823",
   "metadata": {},
   "outputs": [],
   "source": [
    "from pyanalib.dataset import Dataset"
   ]
  },
  {
   "cell_type": "code",
   "execution_count": null,
   "id": "9807534a",
   "metadata": {},
   "outputs": [],
   "source": [
    "importlib.reload(var)\n",
    "importlib.reload(cut)\n",
    "importlib.reload(data)\n",
    "importlib.reload(hist)\n",
    "importlib.reload(panda_helpers)\n",
    "importlib.reload(variable)"
   ]
  },
  {
   "cell_type": "code",
   "execution_count": null,
   "id": "2a45433d",
   "metadata": {},
   "outputs": [],
   "source": [
    "mpl.rc('font', size=14)\n",
    "\n",
    "dosave = False\n",
    "savedir = \"./plots_11_20_23/\"\n",
    "\n",
    "import warnings\n",
    "\n",
    "warnings.simplefilter(action='ignore', category=pd.errors.PerformanceWarning)"
   ]
  },
  {
   "cell_type": "code",
   "execution_count": null,
   "id": "775f8340",
   "metadata": {},
   "outputs": [],
   "source": [
    "datadir = \"/icarus/data/users/gputnam/calib-data/outputs/\""
   ]
  },
  {
   "cell_type": "code",
   "execution_count": null,
   "id": "203ac089",
   "metadata": {},
   "outputs": [],
   "source": [
    "filedir = \"/icarus/data/users/gputnam/DMCP2023G/\"\n",
    "\n",
    "onbeamfile_Run1 = filedir + \"data-reprod-D/dfs-wstubs/Run1OnBeamReprodD_evt.df\"\n",
    "onbeamfile_Run2 = filedir + \"data-reprod-D/dfs-wstubs/Run2OnBeamReprodD_evt.df\"\n",
    "\n",
    "offbeamfile_Run1 = filedir + \"data-reprod-D/dfs-wstubs/Run1OffBeamReprodD_evt.df\"\n",
    "offbeamfile_Run2 = filedir + \"data-reprod-D/dfs-wstubs/Run2OffBeamReprodD_evt.df\"\n",
    "\n",
    "mcfile = \"/icarus/data/users/gputnam/DMCP2023G/mc/dfs-wstubs/mcnuphase2_evt_reprodD.df\"\n",
    "\n",
    "mccohfile = \"/icarus/data/users/gputnam/DMCP2023G/mc/dfs-wstubs/coh-like-evt-CV.df\""
   ]
  },
  {
   "cell_type": "code",
   "execution_count": null,
   "id": "adebf70a",
   "metadata": {},
   "outputs": [],
   "source": [
    "mccoh_syst_files = [\n",
    "    \"/icarus/data/users/gputnam/DMCP2023G/mc/dfs-wstubs/coh-like-evt-ind1bin0.df\",\n",
    "    \"/icarus/data/users/gputnam/DMCP2023G/mc/dfs-wstubs/coh-like-evt-ind1bin14.df\",\n",
    "    \"/icarus/data/users/gputnam/DMCP2023G/mc/dfs-wstubs/coh-like-evt-ind0gainlo.df\",\n",
    "    \"/icarus/data/users/gputnam/DMCP2023G/mc/dfs-wstubs/coh-like-evt-ind0gainhi.df\",\n",
    "    \"/icarus/data/users/gputnam/DMCP2023G/mc/dfs-wstubs/coh-like-evt-noisehi.df\",\n",
    "]\n",
    "\n",
    "syst_labels = [\n",
    "    \"Middle Ind. Opaque\",\n",
    "    \"Middle Ind. Transparent\",\n",
    "    \"Front Ind. Gain Low\",\n",
    "    \"Front Ind. Gain High\",\n",
    "    \"Noise 1.2x\",\n",
    "]"
   ]
  },
  {
   "cell_type": "code",
   "execution_count": null,
   "id": "34e50620",
   "metadata": {},
   "outputs": [],
   "source": [
    "@var.VAR\n",
    "def cohlike(df):\n",
    "    nmu = df.iscc & (np.abs(df.pdg) == 14)\n",
    "    npi = df.npi\n",
    "    ns = df.nsm + df.nsp\n",
    "\n",
    "    is_coh_like = (nmu + npi + ns >= 2) & (df.max_proton_ke < 0.05)\n",
    "\n",
    "    is_coh_like = is_coh_like & InFV(df.position, 50)\n",
    "\n",
    "    return is_coh_like"
   ]
  },
  {
   "cell_type": "code",
   "execution_count": null,
   "id": "6f81ccff",
   "metadata": {},
   "outputs": [],
   "source": [
    "cohlike"
   ]
  },
  {
   "cell_type": "code",
   "execution_count": null,
   "id": "683da41b",
   "metadata": {},
   "outputs": [],
   "source": [
    "import gc"
   ]
  },
  {
   "cell_type": "code",
   "execution_count": null,
   "id": "c00cb189",
   "metadata": {},
   "outputs": [],
   "source": [
    "gc.collect()"
   ]
  },
  {
   "cell_type": "code",
   "execution_count": null,
   "id": "bd44607d",
   "metadata": {},
   "outputs": [],
   "source": [
    "mc_incoh = data.mc_dataset(mcfile, \"evt\", mccut=~cohlike, mccut_any=False)\n",
    "mc_incoh.df"
   ]
  },
  {
   "cell_type": "code",
   "execution_count": null,
   "id": "afb1d330",
   "metadata": {},
   "outputs": [],
   "source": [
    "mc_incoh.df[\"Run1\"] = True\n",
    "mc_incoh.df[\"Run2\"] = True\n",
    "mc_incoh.df[\"cohlike\"] = False"
   ]
  },
  {
   "cell_type": "code",
   "execution_count": null,
   "id": "915bc85f",
   "metadata": {},
   "outputs": [],
   "source": [
    "mccoh = data.mc_dataset(mccohfile, \"evt\")\n",
    "mccoh.df"
   ]
  },
  {
   "cell_type": "code",
   "execution_count": null,
   "id": "7489d07a",
   "metadata": {},
   "outputs": [],
   "source": [
    "mccoh.df[\"Run1\"] = True\n",
    "mccoh.df[\"Run2\"] = True\n",
    "mccoh.df[\"cohlike\"] = True"
   ]
  },
  {
   "cell_type": "code",
   "execution_count": null,
   "id": "78547599",
   "metadata": {},
   "outputs": [],
   "source": [
    "def concat(self, *othrs, offset=0, sum_pot=True):\n",
    "    if sum_pot:\n",
    "        POT = sum([o.POT for o in othrs]) + self.POT # POT is total\n",
    "    else:\n",
    "        POT = min([o.POT for o in othrs] + [self.POT])\n",
    "\n",
    "    livetime = sum([o.livetime for o in othrs]) + self.livetime\n",
    "\n",
    "    for i in range(len(othrs)):\n",
    "        othrs[i].df.index = othrs[i].df.index.set_levels(othrs[i].df.index.levels[0] + offset*(i+1), level=0)\n",
    "        if self.hdrdf is not None:\n",
    "            othrs[i].hdrdf.index = othrs[i].hdrdf.index.set_levels(othrs[i].hdrdf.index.levels[0] + offset*(i+1), level=0)\n",
    "\n",
    "    df = pd.concat([self.df] + [o.df for o in othrs])\n",
    "    \n",
    "    # redo weights if not summing the pot\n",
    "    if not sum_pot:\n",
    "        df.loc[self.df.index, (\"wgt\", \"cv\", )] = self.df.wgt.cv*(POT/self.POT)\n",
    "        for i in range(len(othrs)):\n",
    "            df.loc[othrs[i].df.index, (\"wgt\", \"cv\", )] = othrs[i].df.wgt.cv*(POT/othrs[i].POT)\n",
    "    \n",
    "    hdrdf = None\n",
    "    if self.hdrdf is not None:\n",
    "        hdrdf = pd.concat([self.hdrdf] + [o.hdrdf for o in othrs])\n",
    "\n",
    "    return Dataset(df, livetime, POT, hdrdf)\n"
   ]
  },
  {
   "cell_type": "code",
   "execution_count": null,
   "id": "83c4477b",
   "metadata": {},
   "outputs": [],
   "source": [
    "mc = concat(mc_incoh, mccoh, sum_pot=False)"
   ]
  },
  {
   "cell_type": "code",
   "execution_count": null,
   "id": "822dabf4",
   "metadata": {},
   "outputs": [],
   "source": [
    "# Systematic variations\n",
    "mc_systs_all = []\n",
    "for i, f in enumerate(mccoh_syst_files):\n",
    "    mccoh_syst = data.mc_dataset(f, \"evt\", syst_weights=False)\n",
    "    mccoh_syst.df[\"cohlike\"] = True\n",
    "    mc_syst = concat(mc_incoh, mccoh_syst, sum_pot=False)\n",
    "    mc_systs_all.append(mc_syst)"
   ]
  },
  {
   "cell_type": "code",
   "execution_count": null,
   "id": "658c4375",
   "metadata": {},
   "outputs": [],
   "source": [
    "mc_systs = [\n",
    "    [mc_systs_all[0], mc_systs_all[1]], # vary middle ind\n",
    "    [mc_systs_all[2], mc_systs_all[3]], # vary front ind\n",
    "    [mc_systs_all[4]] # vary noise\n",
    "    \n",
    "]"
   ]
  },
  {
   "cell_type": "code",
   "execution_count": null,
   "id": "9747b1f7",
   "metadata": {},
   "outputs": [],
   "source": [
    "mccoh_syst_files"
   ]
  },
  {
   "cell_type": "code",
   "execution_count": null,
   "id": "ffacfcf9",
   "metadata": {},
   "outputs": [],
   "source": [
    "onbeamR1 = data.onbeam_dataset(onbeamfile_Run1, \"evt\")\n",
    "onbeamR2 = data.onbeam_dataset(onbeamfile_Run2, \"evt\")"
   ]
  },
  {
   "cell_type": "code",
   "execution_count": null,
   "id": "1382ea3c",
   "metadata": {},
   "outputs": [],
   "source": [
    "onbeamR1.df[\"Run1\"] = True\n",
    "onbeamR1.df[\"Run2\"] = False\n",
    "\n",
    "onbeamR2.df[\"Run1\"] = False\n",
    "onbeamR2.df[\"Run2\"] = True\n",
    "\n",
    "onbeam = onbeamR1.concat(onbeamR2)"
   ]
  },
  {
   "cell_type": "code",
   "execution_count": null,
   "id": "93a737e2",
   "metadata": {},
   "outputs": [],
   "source": [
    "onbeamR1_half = data.onbeam_dataset(onbeamfile_Run1, \"evt\")\n",
    "onbeamR2_half = data.onbeam_dataset(onbeamfile_Run2, \"evt\")"
   ]
  },
  {
   "cell_type": "code",
   "execution_count": null,
   "id": "de34d117",
   "metadata": {},
   "outputs": [],
   "source": [
    "onbeamR1_half.df = onbeamR1_half.df.iloc[::2]\n",
    "onbeamR1_half.POT = onbeamR1_half.POT / 2\n",
    "onbeamR1_half.livetime = onbeamR1_half.livetime / 2\n",
    "\n",
    "onbeamR2_half.df = onbeamR2_half.df.iloc[::2]\n",
    "onbeamR2_half.POT = onbeamR2_half.POT / 2\n",
    "onbeamR2_half.livetime = onbeamR2_half.livetime / 2\n",
    "\n",
    "onbeamR1_half.df[\"Run1\"] = True\n",
    "onbeamR1_half.df[\"Run2\"] = False\n",
    "\n",
    "onbeamR2_half.df[\"Run1\"] = False\n",
    "onbeamR2_half.df[\"Run2\"] = True\n",
    "\n",
    "onbeam_half = onbeamR1_half.concat(onbeamR2_half)"
   ]
  },
  {
   "cell_type": "code",
   "execution_count": null,
   "id": "5c86698e",
   "metadata": {},
   "outputs": [],
   "source": [
    "offbeamR1 = data.offbeam_dataset(offbeamfile_Run1, \"evt\")\n",
    "offbeamR2 = data.offbeam_dataset(offbeamfile_Run2, \"evt\")"
   ]
  },
  {
   "cell_type": "code",
   "execution_count": null,
   "id": "1c65def6",
   "metadata": {},
   "outputs": [],
   "source": [
    "offbeamR1.df[\"Run1\"] = True\n",
    "offbeamR1.df[\"Run2\"] = False\n",
    "\n",
    "offbeamR2.df[\"Run1\"] = False\n",
    "offbeamR2.df[\"Run2\"] = True\n",
    "\n",
    "offbeam = offbeamR1.concat(offbeamR2)"
   ]
  },
  {
   "cell_type": "code",
   "execution_count": null,
   "id": "c3357635",
   "metadata": {},
   "outputs": [],
   "source": [
    "onbeam.df[\"cohlike\"] = True\n",
    "onbeam_half.df[\"cohlike\"] = True\n",
    "offbeam.df[\"cohlike\"] = True"
   ]
  },
  {
   "cell_type": "code",
   "execution_count": null,
   "id": "48539c91",
   "metadata": {},
   "outputs": [],
   "source": [
    "POTSTR = \"$%.2f \\\\times 10^{20}$ POT\" % (onbeam.POT/1e20)\n",
    "POTSTR"
   ]
  },
  {
   "cell_type": "code",
   "execution_count": null,
   "id": "d2dcc45c",
   "metadata": {},
   "outputs": [],
   "source": [
    "POTSTR_half = \"$%.2f \\\\times 10^{20}$ POT\" % (onbeam_half.POT/1e20)\n",
    "POTSTR_half"
   ]
  },
  {
   "cell_type": "code",
   "execution_count": null,
   "id": "0ddd086f",
   "metadata": {},
   "outputs": [],
   "source": [
    "cohlike = var.DF.cohlike"
   ]
  },
  {
   "cell_type": "code",
   "execution_count": null,
   "id": "4b82c1f2",
   "metadata": {},
   "outputs": [],
   "source": [
    "nucategories = [\n",
    "    ((var.slc.truth.iscc == 0) & (var.slc.tmatch.idx >= 0)), # NC\n",
    "    ((var.slc.truth.pdg == 14) | (var.slc.truth.pdg == -14)) & (var.slc.truth.iscc==1) & ((var.slc.truth.genie_mode == 0) | (var.slc.truth.genie_mode == 10)), # CC QE+MEC\n",
    "    ((var.slc.truth.pdg == 14) | (var.slc.truth.pdg == -14)) & (var.slc.truth.iscc==1) & (var.slc.truth.genie_mode == 1), # CC RES\n",
    "    ((var.slc.truth.pdg == 14) | (var.slc.truth.pdg == -14)) & (var.slc.truth.iscc==1) & (var.slc.truth.genie_mode == 2), # CC DIS\n",
    "    ((var.slc.truth.pdg == 14) | (var.slc.truth.pdg == -14)) & (var.slc.truth.iscc==1) & (var.slc.truth.genie_mode == 3), # CC COH\n",
    "]\n",
    "nucategories.insert(0, var.slc.tmatch.idx >= 0)\n",
    "for c in nucategories[1:]:\n",
    "    nucategories[0] = nucategories[0] & ~c\n",
    "    \n",
    "nucategories.insert(0, var.slc.tmatch.idx < 0)\n",
    "    \n",
    "nucategories[0].name = \"Cosmic\"\n",
    "nucategories[1].name = \"$\\\\nu$ Other\"\n",
    "nucategories[2].name = \"$\\\\nu$ NC\"\n",
    "nucategories[3].name = \"$\\\\nu_\\\\mu$ CC QE+MEC\"\n",
    "nucategories[4].name = \"$\\\\nu_\\\\mu$ CC RES\"\n",
    "nucategories[5].name = \"$\\\\nu_\\\\mu$ CC DIS\"\n",
    "nucategories[6].name = \"$\\\\nu_\\\\mu$ CC COH\"\n",
    "\n",
    "nucategory_colors = [\n",
    "    \"lightgray\",\n",
    "    \"#A57647\",\n",
    "    \"#EAC387\",\n",
    "    \"#97B9BB\",\n",
    "    \"#C6C2D9\",\n",
    "    \"#F0CBD2\",\n",
    "    \"#983E49\", \n",
    "]\n"
   ]
  },
  {
   "cell_type": "code",
   "execution_count": null,
   "id": "2ef60963",
   "metadata": {},
   "outputs": [],
   "source": [
    "trunkIDcategories = [\n",
    "    (var.DF.trunk.trk.truth.p.pdg == 13) | (var.DF.trunk.trk.truth.p.pdg == -13),\n",
    "    (var.DF.trunk.trk.truth.p.pdg == 211) | (var.DF.trunk.trk.truth.p.pdg == -211),\n",
    "    (var.DF.trunk.trk.truth.p.pdg == 2212),\n",
    "    (var.DF.trunk.trk.truth.p.pdg == 22),\n",
    "]\n",
    "trunkIDcategories.append(~trunkIDcategories[0])\n",
    "for c in trunkIDcategories[1:-1]:\n",
    "    trunkIDcategories[-1] = trunkIDcategories[-1] & ~c\n",
    "    \n",
    "trunkIDcategories[0].name = \"$\\\\mu$\"\n",
    "trunkIDcategories[1].name = \"$\\\\pi$\"\n",
    "trunkIDcategories[2].name = \"$p$\"\n",
    "trunkIDcategories[3].name = \"$\\\\gamma$\"\n",
    "trunkIDcategories[4].name = \"Other\"\n",
    "\n",
    "trunkIDcategory_colors = [\n",
    "    \"#07AC96\",\n",
    "    \"#B076A8\",\n",
    "    \"#DBAF2B\",\n",
    "    \"#C61627\",\n",
    "    \"#C3AA8F\",\n",
    "]"
   ]
  },
  {
   "cell_type": "code",
   "execution_count": null,
   "id": "cff3b8e5",
   "metadata": {},
   "outputs": [],
   "source": [
    "branchIDcategories = [\n",
    "    (var.DF.branch.trk.truth.p.pdg == 13) | (var.DF.branch.trk.truth.p.pdg == -13),\n",
    "    (var.DF.branch.trk.truth.p.pdg == 211) | (var.DF.branch.trk.truth.p.pdg == -211),\n",
    "    (var.DF.branch.trk.truth.p.pdg == 2212),\n",
    "    (var.DF.branch.trk.truth.p.pdg == 22),\n",
    "]\n",
    "branchIDcategories.append(~branchIDcategories[0])\n",
    "for c in branchIDcategories[1:-1]:\n",
    "    branchIDcategories[-1] = branchIDcategories[-1] & ~c\n",
    "    \n",
    "branchIDcategories[0].name = \"$\\\\mu$\"\n",
    "branchIDcategories[1].name = \"$\\\\pi$\"\n",
    "branchIDcategories[2].name = \"$p$\"\n",
    "branchIDcategories[3].name = \"$\\\\gamma$\"\n",
    "branchIDcategories[4].name = \"Other\"\n",
    "\n",
    "branchIDcategory_colors = trunkIDcategory_colors"
   ]
  },
  {
   "cell_type": "code",
   "execution_count": null,
   "id": "2ca15594",
   "metadata": {},
   "outputs": [],
   "source": [
    "vtxIDcategories = [\n",
    "    (trunkIDcategories[0] | trunkIDcategories[1]) & (branchIDcategories[0] | branchIDcategories[1]),\n",
    "    ((trunkIDcategories[0] | trunkIDcategories[1]) & branchIDcategories[2]) |\\\n",
    "    (trunkIDcategories[2] & (branchIDcategories[0] | branchIDcategories[1])),\n",
    "]\n",
    "\n",
    "vtxIDcategories.append(~vtxIDcategories[0])\n",
    "for c in branchIDcategories[1:-1]:\n",
    "    vtxIDcategories[-1] = vtxIDcategories[-1] & ~c\n",
    "\n",
    "vtxIDcategories[0].name = \"$\\\\mu\\\\pi$, $\\\\pi\\\\pi$\"\n",
    "vtxIDcategories[1].name = \"$\\\\mu p$, $\\\\pi p$\"\n",
    "vtxIDcategories[2].name = \"Other\"\n",
    "\n",
    "vtxIDcategory_colors = [\n",
    "    \"#20634C\",\n",
    "    \"#B13E29\",\n",
    "    \"#67665B\"\n",
    "]\n"
   ]
  },
  {
   "cell_type": "code",
   "execution_count": null,
   "id": "ce2e8c23",
   "metadata": {},
   "outputs": [],
   "source": [
    "def chi2(mc, onbeam, offbeam, scov):\n",
    "    Ndata = onbeam.N - offbeam.N\n",
    "    Nmc = mc.N\n",
    "    stat_err = mc.N + offbeam.Nerr**2\n",
    "    \n",
    "    cov_select = np.ix_(np.where(mc.N != 0)[0], np.where(mc.N != 0)[0])\n",
    "    cov = (scov + np.diag(stat_err))[cov_select]\n",
    "    delta = (Nmc-Ndata)[Nmc != 0]\n",
    "    \n",
    "    return np.matmul(np.matmul(delta, np.linalg.inv(cov)), delta), int(np.sum(mc.N != 0))"
   ]
  },
  {
   "cell_type": "code",
   "execution_count": null,
   "id": "f55507a8",
   "metadata": {},
   "outputs": [],
   "source": [
    "def mcdata_plot(v, bins, c, categories=None, xlabel=None, ylabel=None, \n",
    "                dosyst=True, systweights=\"all\", varydataset=True, databinselect=None, color=None, fullpot=True, \n",
    "                ratio_lim=[0.5, 1.5], lgnd_ncol=3):\n",
    "    if varydataset:\n",
    "        syst_datasets = mc_systs\n",
    "        syst_dataset_cut = cohlike\n",
    "    else:\n",
    "        syst_datasets = None\n",
    "        syst_dataset_cut = None\n",
    "        \n",
    "    if databinselect is None:\n",
    "        databinselect = np.zeros(bins.shape).astype(bool)\n",
    "        databinselect[:] = True\n",
    "                    \n",
    "    hnom, hsyst = hist.makehist(v, mc, cut=c, bins=bins, POT=onbeam.POT if fullpot else onbeam_half.POT, categories=categories,\n",
    "                systematics=dosyst, syst_weightname=systweights, \n",
    "                syst_datasets=syst_datasets, syst_dataset_cut=syst_dataset_cut)\n",
    "    hcov = hist.makecovariance(sum(hnom), hsyst) if dosyst else np.diag(np.zeros((len(bins)-1,)))\n",
    "    \n",
    "    hcoh, _ = hist.makehist(v, mc, cut=c&cohlike, bins=bins, POT=onbeam.POT if fullpot else onbeam_half.POT)\n",
    "    \n",
    "    hon, _ = hist.makehist(v, onbeam if fullpot else onbeam_half, cut=c, bins=bins[databinselect], cvweight=False, systematics=False)\n",
    "    hoff, _ = hist.makehist(v, offbeam, cut=c, bins=bins[databinselect], cvweight=False, \n",
    "                            livetime=onbeam.livetime if fullpot else onbeam_half.livetime, systematics=False)\n",
    "\n",
    "    fig, (p0, p1) = plt.subplots(2, 1, gridspec_kw={'height_ratios': [3,1]}, sharex=True, figsize=(7, 6.4))\n",
    "    fig.subplots_adjust(hspace=0.03)\n",
    "\n",
    "    hmc, hfill = hist.plotmc(p0, hnom, hcov, color=color)\n",
    "    _, _, fh = hmc\n",
    "    _,_, fcoh = p0.hist(hcoh.centers, bins=hcoh.bins, weights=hcoh.N, histtype=\"step\", color=\"salmon\", linewidth=4)\n",
    "  \n",
    "    hd = hist.plotdata(p0, hon-hoff)\n",
    "    p0.set_ylim([p0.get_ylim()[0], p0.get_ylim()[1]*1.25])\n",
    "\n",
    "    legend1 = p0.legend(handles=[hd, hfill] + fcoh, labels=[\"Data\", \"Syst. Err\", \"Coh-like MC\"], \n",
    "                        loc=\"upper left\", frameon=False) \n",
    "    \n",
    "    # figure out how high to set legend\n",
    "    if np.ceil(len(categories) / lgnd_ncol) == 1:\n",
    "        ylgnd = 1.15\n",
    "    elif np.ceil(len(categories) / lgnd_ncol) == 2:\n",
    "        ylgnd = 1.25\n",
    "    else:\n",
    "        ylgnd = 1.3\n",
    "    \n",
    "    p0.legend(handles=fh, labels=[c.name for c in categories], \n",
    "                        loc=\"upper center\", ncol=lgnd_ncol, bbox_to_anchor=(0.5, ylgnd))\n",
    "    p0.add_artist(legend1)\n",
    "    \n",
    "    hcov_select = np.ix_(databinselect[:-1], databinselect[:-1])\n",
    "    hmc_sum = sum(hnom)\n",
    "    hmc_sum.N = hmc_sum.N[databinselect[:-1]]\n",
    "    hmc_sum.Nerr = hmc_sum.Nerr[databinselect[:-1]]\n",
    "\n",
    "    tchi2, ndof = chi2(hmc_sum, hon, hoff, hcov[hcov_select])\n",
    "\n",
    "    p0.text(0.6, 0.9, \"$\\\\chi^2/n$ = %.1f / %i\" % (tchi2, ndof), fontsize=14,\n",
    "            transform=p0.transAxes)\n",
    "    \n",
    "    hist.plotratio(plt, hon-hoff, hmc_sum, hcov[hcov_select])\n",
    "    p1.axhline([1], color=\"r\", linestyle=\":\")\n",
    "    p1.set_ylim(ratio_lim)\n",
    "\n",
    "    if xlabel:\n",
    "        p1.set_xlabel(xlabel)\n",
    "    if ylabel:\n",
    "        p0.set_ylabel(\"%s / %s\" % (ylabel, POTSTR if fullpot else POTSTR_half))\n",
    "    p1.set_ylabel(\"Data / MC\")\n",
    "        \n",
    "    return fig, (p0, p1)"
   ]
  },
  {
   "cell_type": "code",
   "execution_count": null,
   "id": "2b9ec949",
   "metadata": {},
   "outputs": [],
   "source": [
    "def recop(trk):\n",
    "    p = trk.rangeP.p_muon\n",
    "    p[~TrkInFV(trk.end)] = trk.mcsP.fwdP_muon\n",
    "    return p\n",
    "\n",
    "beam2det = np.array([ [0.921035925, 0.022715103, 0.388814672], [0, 0.998297825, -0.058321970], [-0.389477631, 0.053716629, 0.919468161]])\n",
    "\n",
    "beamorigin = np.array([4.503730e2, 80.153901e2, 795.112945e2])\n",
    "\n",
    "MUON_MASS = 0.1057 \n",
    "PION_MASS = 0.13457\n",
    "\n",
    "BEAMDIR = beam2det.dot(beamorigin) / np.linalg.norm(beam2det.dot(beamorigin)) \n",
    "BEAMDIR"
   ]
  },
  {
   "cell_type": "code",
   "execution_count": null,
   "id": "8e6cd34d",
   "metadata": {},
   "outputs": [],
   "source": [
    "np.arccos(BEAMDIR[0]), np.arccos(BEAMDIR[0])*180/np.pi"
   ]
  },
  {
   "cell_type": "code",
   "execution_count": null,
   "id": "ec99b2e8",
   "metadata": {},
   "outputs": [],
   "source": [
    "np.arccos(0)*180/np.pi"
   ]
  },
  {
   "cell_type": "code",
   "execution_count": null,
   "id": "742d296b",
   "metadata": {},
   "outputs": [],
   "source": [
    "cccoh = (np.abs(mccoh.df.slc.truth.pdg) == 14) & (mccoh.df.slc.truth.iscc == 1) & (mccoh.df.slc.truth.genie_mode == 3)"
   ]
  },
  {
   "cell_type": "code",
   "execution_count": null,
   "id": "55012484",
   "metadata": {},
   "outputs": [],
   "source": [
    "mccoh.df.slc.truth[cccoh].p1"
   ]
  },
  {
   "cell_type": "code",
   "execution_count": null,
   "id": "361a3f87",
   "metadata": {},
   "outputs": [],
   "source": [
    "offbeam.df[\"trunk_mcs_range\"] = np.abs(1 - offbeam.df.trunk.trk.mcsP.fwdP_muon / offbeam.df.trunk.trk.rangeP.p_muon)\n",
    "onbeam.df[\"trunk_mcs_range\"] = np.abs(1 - onbeam.df.trunk.trk.mcsP.fwdP_muon / onbeam.df.trunk.trk.rangeP.p_muon)\n",
    "onbeam_half.df[\"trunk_mcs_range\"] = np.abs(1 - onbeam_half.df.trunk.trk.mcsP.fwdP_muon / onbeam_half.df.trunk.trk.rangeP.p_muon)\n",
    "mc.df[\"trunk_mcs_range\"] = np.abs(1 - mc.df.trunk.trk.mcsP.fwdP_muon / mc.df.trunk.trk.rangeP.p_muon)\n",
    "for i in range(len(mc_systs_all)):\n",
    "    mc_systs_all[i].df[\"trunk_mcs_range\"] = np.abs(1 - mc_systs_all[i].df.trunk.trk.mcsP.fwdP_muon / mc_systs_all[i].df.trunk.trk.rangeP.p_muon)\n",
    "\n",
    "\n",
    "offbeam.df[\"branch_mcs_range\"] = np.abs(1 - offbeam.df.branch.trk.mcsP.fwdP_muon / offbeam.df.branch.trk.rangeP.p_muon)\n",
    "onbeam.df[\"branch_mcs_range\"] = np.abs(1 - onbeam.df.branch.trk.mcsP.fwdP_muon / onbeam.df.branch.trk.rangeP.p_muon)\n",
    "onbeam_half.df[\"branch_mcs_range\"] = np.abs(1 - onbeam_half.df.branch.trk.mcsP.fwdP_muon / onbeam_half.df.branch.trk.rangeP.p_muon)\n",
    "mc.df[\"branch_mcs_range\"] = np.abs(1 - mc.df.branch.trk.mcsP.fwdP_muon / mc.df.branch.trk.rangeP.p_muon)\n",
    "for i in range(len(mc_systs_all)):\n",
    "    mc_systs_all[i].df[\"branch_mcs_range\"] = np.abs(1 - mc_systs_all[i].df.branch.trk.mcsP.fwdP_muon / mc_systs_all[i].df.branch.trk.rangeP.p_muon)\n",
    "                                                                                                     "
   ]
  },
  {
   "cell_type": "code",
   "execution_count": null,
   "id": "b4ac7ef6",
   "metadata": {},
   "outputs": [],
   "source": [
    "offbeam.df[\"openangle\"] = np.arccos(dotdf(offbeam.df.trunk.trk.dir, offbeam.df.branch.trk.dir))*180/np.pi\n",
    "onbeam.df[\"openangle\"] = np.arccos(dotdf(onbeam.df.trunk.trk.dir, onbeam.df.branch.trk.dir))*180/np.pi\n",
    "onbeam_half.df[\"openangle\"] = np.arccos(dotdf(onbeam_half.df.trunk.trk.dir, onbeam_half.df.branch.trk.dir))*180/np.pi\n",
    "mc.df[\"openangle\"] = np.arccos(dotdf(mc.df.trunk.trk.dir, mc.df.branch.trk.dir))*180/np.pi\n",
    "for i in range(len(mc_systs_all)):\n",
    "    mc_systs_all[i].df[\"openangle\"] = np.arccos(dotdf(mc_systs_all[i].df.trunk.trk.dir, mc_systs_all[i].df.branch.trk.dir))*180/np.pi\n",
    "               "
   ]
  },
  {
   "cell_type": "code",
   "execution_count": null,
   "id": "b3e3a546",
   "metadata": {},
   "outputs": [],
   "source": [
    "off_scalar_mom = offbeam.df.trunk.trk.dir.multiply(recop(offbeam.df.trunk.trk), axis=0) + \\\n",
    "           offbeam.df.branch.trk.dir.multiply(recop(offbeam.df.branch.trk), axis=0)\n",
    "off_scalar_dir = off_scalar_mom.divide(magdf(off_scalar_mom), axis=0)\n",
    "off_costhbeam =off_scalar_dir.x*BEAMDIR[0] + off_scalar_dir.y*BEAMDIR[1] + off_scalar_dir.z*BEAMDIR[2]\n",
    "offbeam.df[\"beamangle\"] = (180/np.pi)*np.arccos(off_costhbeam)\n",
    "offbeam.df[\"pT\"] = magdf(off_scalar_mom)*np.sqrt(1-off_costhbeam**2)\n",
    "\n",
    "on_scalar_mom = onbeam.df.trunk.trk.dir.multiply(recop(onbeam.df.trunk.trk), axis=0) + \\\n",
    "           onbeam.df.branch.trk.dir.multiply(recop(onbeam.df.branch.trk), axis=0)\n",
    "on_scalar_dir = on_scalar_mom.divide(magdf(on_scalar_mom), axis=0)\n",
    "on_costhbeam = on_scalar_dir.x*BEAMDIR[0] + on_scalar_dir.y*BEAMDIR[1] + on_scalar_dir.z*BEAMDIR[2]\n",
    "onbeam.df[\"beamangle\"] = (180/np.pi)*np.arccos(on_costhbeam)\n",
    "onbeam.df[\"pT\"] = magdf(on_scalar_mom)*np.sqrt(1-on_costhbeam**2)\n",
    "\n",
    "on_scalar_mom = onbeam_half.df.trunk.trk.dir.multiply(recop(onbeam_half.df.trunk.trk), axis=0) + \\\n",
    "           onbeam_half.df.branch.trk.dir.multiply(recop(onbeam_half.df.branch.trk), axis=0)\n",
    "on_scalar_dir = on_scalar_mom.divide(magdf(on_scalar_mom), axis=0)\n",
    "on_costhbeam = on_scalar_dir.x*BEAMDIR[0] + on_scalar_dir.y*BEAMDIR[1] + on_scalar_dir.z*BEAMDIR[2]\n",
    "onbeam_half.df[\"beamangle\"] = (180/np.pi)*np.arccos(on_costhbeam)\n",
    "onbeam_half.df[\"pT\"] = magdf(on_scalar_mom)*np.sqrt(1-on_costhbeam**2)\n",
    "\n",
    "mc_scalar_mom = mc.df.trunk.trk.dir.multiply(recop(mc.df.trunk.trk), axis=0) + \\\n",
    "           mc.df.branch.trk.dir.multiply(recop(mc.df.branch.trk), axis=0)\n",
    "mc_scalar_dir = mc_scalar_mom.divide(magdf(mc_scalar_mom), axis=0)\n",
    "mc_costhbeam = mc_scalar_dir.x*BEAMDIR[0] + mc_scalar_dir.y*BEAMDIR[1] + mc_scalar_dir.z*BEAMDIR[2]\n",
    "mc.df[\"beamangle\"] = (180/np.pi)*np.arccos(mc_costhbeam)\n",
    "mc.df[\"pT\"] = magdf(mc_scalar_mom)*np.sqrt(1-mc_costhbeam**2)\n",
    "\n",
    "\n",
    "for i in range(len(mc_systs_all)):\n",
    "    mc_scalar_mom = mc_systs_all[i].df.trunk.trk.dir.multiply(recop(mc_systs_all[i].df.trunk.trk), axis=0) + \\\n",
    "               mc_systs_all[i].df.branch.trk.dir.multiply(recop(mc_systs_all[i].df.branch.trk), axis=0)\n",
    "    mc_scalar_dir = mc_scalar_mom.divide(magdf(mc_scalar_mom), axis=0)\n",
    "    mc_costhbeam = mc_scalar_dir.x*BEAMDIR[0] + mc_scalar_dir.y*BEAMDIR[1] + mc_scalar_dir.z*BEAMDIR[2]\n",
    "    mc_systs_all[i].df[\"beamangle\"] = (180/np.pi)*np.arccos(mc_costhbeam)\n",
    "    mc_systs_all[i].df[\"pT\"] = magdf(mc_scalar_mom)*np.sqrt(1-mc_costhbeam**2)"
   ]
  },
  {
   "cell_type": "code",
   "execution_count": null,
   "id": "23d8970a",
   "metadata": {},
   "outputs": [],
   "source": [
    "def coht(df):\n",
    "    trunkp = df.trunk.trk.dir.multiply(recop(df.trunk.trk), axis=0)\n",
    "    branchp = df.branch.trk.dir.multiply(recop(df.branch.trk), axis=0)\\\n",
    "    \n",
    "    branchp_larger = recop(df.trunk.trk) < recop(df.branch.trk)\n",
    "    \n",
    "    largerp = trunkp.copy()\n",
    "    largerp[branchp_larger] = branchp[branchp_larger]\n",
    "    \n",
    "    smallerp = trunkp.copy()\n",
    "    smallerp[~branchp_larger] = branchp[~branchp_larger]\n",
    "    \n",
    "    # assume muon is more energetic\n",
    "    mu_p = largerp\n",
    "    pi_p = smallerp*PION_MASS / MUON_MASS # scale to pion momentum\n",
    "    \n",
    "    mu_pL = mu_p.x*BEAMDIR[0] + mu_p.y*BEAMDIR[1] + mu_p.z*BEAMDIR[2]\n",
    "    pi_pL = pi_p.x*BEAMDIR[0] + pi_p.y*BEAMDIR[1] + pi_p.z*BEAMDIR[2]\n",
    "    \n",
    "    mu_pT2 = magdf(mu_p)**2 - mu_pL**2\n",
    "    pi_pT2 = magdf(pi_p)**2 - pi_pL**2\n",
    "    \n",
    "    mu_E = np.sqrt(magdf(mu_p)**2 + MUON_MASS**2)\n",
    "    pi_E = np.sqrt(magdf(pi_p)**2 + PION_MASS**2)\n",
    "                                             \n",
    "    return mu_pT2 + pi_pT2 + (mu_E - mu_pL + pi_E - pi_pL)**2"
   ]
  },
  {
   "cell_type": "code",
   "execution_count": null,
   "id": "44ec59bb",
   "metadata": {},
   "outputs": [],
   "source": [
    "offbeam.df[\"coht\"] = coht(offbeam.df)\n",
    "onbeam.df[\"coht\"] = coht(onbeam.df)\n",
    "onbeam_half.df[\"coht\"] = coht(onbeam_half.df)\n",
    "mc.df[\"coht\"] = coht(mc.df)\n",
    "for i in range(len(mc_systs_all)):\n",
    "    mc_systs_all[i].df[\"coht\"] = coht(mc_systs_all[i].df)\n"
   ]
  },
  {
   "cell_type": "code",
   "execution_count": null,
   "id": "a1a0992d",
   "metadata": {},
   "outputs": [],
   "source": [
    "off_Etrunk = np.sqrt(MUON_MASS**2 + recop(offbeam.df.trunk.trk)**2)\n",
    "off_Ebranch = np.sqrt(MUON_MASS**2 + recop(offbeam.df.branch.trk)**2)\n",
    "offbeam.df[\"s_mass\"] = np.sqrt(2)*np.sqrt(MUON_MASS**2 + off_Etrunk*off_Ebranch - recop(offbeam.df.trunk.trk)*recop(offbeam.df.branch.trk)*dotdf(offbeam.df.branch.trk.dir, offbeam.df.trunk.trk.dir))\n",
    "\n",
    "on_Etrunk = np.sqrt(MUON_MASS**2 + recop(onbeam.df.trunk.trk)**2)\n",
    "on_Ebranch = np.sqrt(MUON_MASS**2 + recop(onbeam.df.branch.trk)**2)\n",
    "onbeam.df[\"s_mass\"] = np.sqrt(2)*np.sqrt(MUON_MASS**2 + on_Etrunk*on_Ebranch - recop(onbeam.df.trunk.trk)*recop(onbeam.df.branch.trk)*dotdf(onbeam.df.branch.trk.dir, onbeam.df.trunk.trk.dir))\n",
    "\n",
    "on_Etrunk = np.sqrt(MUON_MASS**2 + recop(onbeam_half.df.trunk.trk)**2)\n",
    "on_Ebranch = np.sqrt(MUON_MASS**2 + recop(onbeam_half.df.branch.trk)**2)\n",
    "onbeam_half.df[\"s_mass\"] = np.sqrt(2)*np.sqrt(MUON_MASS**2 + on_Etrunk*on_Ebranch - recop(onbeam_half.df.trunk.trk)*recop(onbeam_half.df.branch.trk)*dotdf(onbeam_half.df.branch.trk.dir, onbeam_half.df.trunk.trk.dir))\n",
    "\n",
    "mc_Etrunk = np.sqrt(MUON_MASS**2 + recop(mc.df.trunk.trk)**2)\n",
    "mc_Ebranch = np.sqrt(MUON_MASS**2 + recop(mc.df.branch.trk)**2)\n",
    "mc.df[\"s_mass\"] = np.sqrt(2)*np.sqrt(MUON_MASS**2 + mc_Etrunk*mc_Ebranch - recop(mc.df.trunk.trk)*recop(mc.df.branch.trk)*dotdf(mc.df.branch.trk.dir, mc.df.trunk.trk.dir))\n",
    "\n",
    "for i in range(len(mc_systs_all)):\n",
    "    mc_Etrunk = np.sqrt(MUON_MASS**2 + recop(mc_systs_all[i].df.trunk.trk)**2)\n",
    "    mc_Ebranch = np.sqrt(MUON_MASS**2 + recop(mc_systs_all[i].df.branch.trk)**2)\n",
    "    mc_systs_all[i].df[\"s_mass\"] = np.sqrt(2)*np.sqrt(MUON_MASS**2 + mc_Etrunk*mc_Ebranch - recop(mc_systs_all[i].df.trunk.trk)*recop(mc_systs_all[i].df.branch.trk)*dotdf(mc_systs_all[i].df.branch.trk.dir, mc_systs_all[i].df.trunk.trk.dir))\n"
   ]
  },
  {
   "cell_type": "code",
   "execution_count": null,
   "id": "fa4ea8eb",
   "metadata": {},
   "outputs": [],
   "source": [
    "onbeam.df[(\"trunk\", \"trk\", \"chi2pid\", \"I2\", \"chi2u\", \"\")] = onbeam.df.trunk.trk.chi2pid.I2.chi2_muon\n",
    "onbeam.df[(\"trunk\", \"trk\", \"chi2pid\", \"I2\", \"chi2p\", \"\")] = onbeam.df.trunk.trk.chi2pid.I2.chi2_proton\n",
    "\n",
    "onbeam.df[(\"branch\", \"trk\", \"chi2pid\", \"I2\", \"chi2u\", \"\")] = onbeam.df.branch.trk.chi2pid.I2.chi2_muon\n",
    "onbeam.df[(\"branch\", \"trk\", \"chi2pid\", \"I2\", \"chi2p\", \"\")] = onbeam.df.branch.trk.chi2pid.I2.chi2_proton\n",
    "\n",
    "onbeam_half.df[(\"trunk\", \"trk\", \"chi2pid\", \"I2\", \"chi2u\", \"\")] = onbeam_half.df.trunk.trk.chi2pid.I2.chi2_muon\n",
    "onbeam_half.df[(\"trunk\", \"trk\", \"chi2pid\", \"I2\", \"chi2p\", \"\")] = onbeam_half.df.trunk.trk.chi2pid.I2.chi2_proton\n",
    "\n",
    "onbeam_half.df[(\"branch\", \"trk\", \"chi2pid\", \"I2\", \"chi2u\", \"\")] = onbeam_half.df.branch.trk.chi2pid.I2.chi2_muon\n",
    "onbeam_half.df[(\"branch\", \"trk\", \"chi2pid\", \"I2\", \"chi2p\", \"\")] = onbeam_half.df.branch.trk.chi2pid.I2.chi2_proton\n",
    "\n",
    "offbeam.df[(\"trunk\", \"trk\", \"chi2pid\", \"I2\", \"chi2u\", \"\")] = offbeam.df.trunk.trk.chi2pid.I2.chi2_muon\n",
    "offbeam.df[(\"trunk\", \"trk\", \"chi2pid\", \"I2\", \"chi2p\", \"\")] = offbeam.df.trunk.trk.chi2pid.I2.chi2_proton\n",
    "\n",
    "offbeam.df[(\"branch\", \"trk\", \"chi2pid\", \"I2\", \"chi2u\", \"\")] = offbeam.df.branch.trk.chi2pid.I2.chi2_muon\n",
    "offbeam.df[(\"branch\", \"trk\", \"chi2pid\", \"I2\", \"chi2p\", \"\")] = offbeam.df.branch.trk.chi2pid.I2.chi2_proton"
   ]
  },
  {
   "cell_type": "code",
   "execution_count": null,
   "id": "5f0b7cf8",
   "metadata": {},
   "outputs": [],
   "source": [
    "chi2u_trunk = variable.SystVariable(\n",
    "    var.DF.trunk.trk.chi2pid.I2.chi2u, # CV\n",
    "    variable.MultiVariable(\n",
    "        var.DF.trunk.trk.chi2pid.I2_ghi.chi2u, # gain hi\n",
    "        var.DF.trunk.trk.chi2pid.I2_glo.chi2u, # gain lo\n",
    "    ),\n",
    "    variable.MultiVariable(\n",
    "        var.DF.trunk.trk.chi2pid.I2_calhi.chi2u, # dE/dx hi\n",
    "        var.DF.trunk.trk.chi2pid.I2_callo.chi2u, # dE/dx lo\n",
    "\n",
    "    ),\n",
    ")\n",
    "\n",
    "chi2u_branch = variable.SystVariable(\n",
    "    var.DF.branch.trk.chi2pid.I2.chi2u, # CV\n",
    "    variable.MultiVariable(\n",
    "        var.DF.branch.trk.chi2pid.I2_ghi.chi2u, # gain hi\n",
    "        var.DF.branch.trk.chi2pid.I2_glo.chi2u, # gain lo\n",
    "    ),\n",
    "    variable.MultiVariable(\n",
    "        var.DF.branch.trk.chi2pid.I2_calhi.chi2u, # dE/dx hi\n",
    "        var.DF.branch.trk.chi2pid.I2_callo.chi2u, # dE/dx lo\n",
    "    ),\n",
    ")\n",
    "\n",
    "chi2p_trunk = variable.SystVariable(\n",
    "    var.DF.trunk.trk.chi2pid.I2.chi2p, # CV\n",
    "    variable.MultiVariable(\n",
    "        var.DF.trunk.trk.chi2pid.I2_ghi.chi2p, # gain hi\n",
    "        var.DF.trunk.trk.chi2pid.I2_glo.chi2p, # gain lo\n",
    "    ),\n",
    "    variable.MultiVariable(\n",
    "        var.DF.trunk.trk.chi2pid.I2_calhi.chi2p, # dE/dx hi\n",
    "        var.DF.trunk.trk.chi2pid.I2_callo.chi2p, # dE/dx lo\n",
    "\n",
    "    ),\n",
    ")\n",
    "\n",
    "chi2p_branch = variable.SystVariable(\n",
    "    var.DF.branch.trk.chi2pid.I2.chi2p, # CV\n",
    "    variable.MultiVariable(\n",
    "        var.DF.branch.trk.chi2pid.I2_ghi.chi2p, # gain hi\n",
    "        var.DF.branch.trk.chi2pid.I2_glo.chi2p, # gain lo\n",
    "    ),\n",
    "    variable.MultiVariable(\n",
    "        var.DF.branch.trk.chi2pid.I2_calhi.chi2p, # dE/dx hi\n",
    "        var.DF.branch.trk.chi2pid.I2_callo.chi2p, # dE/dx lo\n",
    "    ),\n",
    ")"
   ]
  },
  {
   "cell_type": "code",
   "execution_count": null,
   "id": "339a1317",
   "metadata": {},
   "outputs": [],
   "source": [
    "def ratio_to_diff(r):\n",
    "    return np.abs(1 - r)\n",
    "\n",
    "trunk_mcs_range = variable.SystVariable(\n",
    "        ratio_to_diff@(var.DF.trunk.trk.mcsP.fwdP_muon / var.DF.trunk.trk.rangeP.p_muon), # CV,\n",
    "        variable.MultiVariable(\n",
    "            ratio_to_diff@(var.DF.trunk.trk.mcsP_hi.fwdP_muon / var.DF.trunk.trk.rangeP.p_muon + 0.03), # MCS-hi\n",
    "            ratio_to_diff@(var.DF.trunk.trk.mcsP_lo.fwdP_muon / var.DF.trunk.trk.rangeP.p_muon - 0.03), # MCS-lo\n",
    "        ),\n",
    ")\n",
    "\n",
    "branch_mcs_range = variable.SystVariable(\n",
    "        ratio_to_diff@(var.DF.branch.trk.mcsP.fwdP_muon / var.DF.branch.trk.rangeP.p_muon), # CV,\n",
    "        variable.MultiVariable(\n",
    "            ratio_to_diff@(var.DF.branch.trk.mcsP_hi.fwdP_muon / var.DF.branch.trk.rangeP.p_muon + 0.03), # MCS-hi\n",
    "            ratio_to_diff@(var.DF.branch.trk.mcsP_lo.fwdP_muon / var.DF.branch.trk.rangeP.p_muon - 0.03), # MCS-lo\n",
    "        ),\n",
    ")\n",
    "\n",
    "# for now, ignore systematic\n",
    "trunk_mcs_range = trunk_mcs_range.cv()\n",
    "branch_mcs_range = branch_mcs_range.cv()"
   ]
  },
  {
   "cell_type": "code",
   "execution_count": null,
   "id": "405c44ba",
   "metadata": {},
   "outputs": [],
   "source": [
    "stubke_5mm = variable.SystVariable(\n",
    "    var.DF.stub.l0_5cm.dedx*var.DF.stub.l0_5cm.length,\n",
    "    variable.MultiVariable(\n",
    "        var.DF.stub.l0_5cm.dedx_calhi*var.DF.stub.l0_5cm.length,\n",
    "        var.DF.stub.l0_5cm.dedx_callo*var.DF.stub.l0_5cm.length,\n",
    "    )\n",
    ")\n",
    "\n",
    "stubke_10mm = variable.SystVariable(\n",
    "    var.DF.stub.l1cm.dedx*var.DF.stub.l1cm.length,\n",
    "    variable.MultiVariable(\n",
    "        var.DF.stub.l1cm.dedx_calhi*var.DF.stub.l1cm.length,\n",
    "        var.DF.stub.l1cm.dedx_callo*var.DF.stub.l1cm.length,\n",
    "    )\n",
    ")\n",
    "\n",
    "stubke_20mm = variable.SystVariable(\n",
    "    var.DF.stub.l2cm.dedx*var.DF.stub.l2cm.length,\n",
    "    variable.MultiVariable(\n",
    "        var.DF.stub.l2cm.dedx_calhi*var.DF.stub.l2cm.length,\n",
    "        var.DF.stub.l2cm.dedx_callo*var.DF.stub.l2cm.length,\n",
    "    ),\n",
    ")\n",
    "\n",
    "stubke_30mm = variable.SystVariable(\n",
    "    var.DF.stub.l3cm.dedx*var.DF.stub.l3cm.length,\n",
    "    variable.MultiVariable(\n",
    "        var.DF.stub.l3cm.dedx_calhi*var.DF.stub.l3cm.length,\n",
    "        var.DF.stub.l3cm.dedx_callo*var.DF.stub.l3cm.length,\n",
    "    ),\n",
    ")"
   ]
  },
  {
   "cell_type": "code",
   "execution_count": null,
   "id": "5e5d9ec0",
   "metadata": {},
   "outputs": [],
   "source": [
    "othr_obj_cut = ~((var.DF.max_shw_len > 15) | (var.DF.max_othr_trk_len > 20) |\\\n",
    "                 (var.DF.min_othr_chi2_proton < 80) | (var.DF.max_othr_chi2_muon > 40))\n",
    "othr_obj_cut = ~((var.DF.max_shw_len_primary > 10) | (var.DF.max_othr_trk_len > 10) |\\\n",
    "                 (var.DF.min_othr_chi2_proton < 90) | (var.DF.max_othr_chi2_muon > 75))\n",
    "\n",
    "vloosetrunk_muid = (chi2u_trunk < 20).correlate() & (chi2p_trunk > 80) & (trunk_mcs_range < 0.5) & (var.DF.trunk.trk.len > 25)\n",
    "vloosebranch_muid = (chi2u_branch < 20).correlate() & (chi2p_branch > 80) & (branch_mcs_range < 0.5) & (var.DF.branch.trk.len > 25)\n",
    "vloosemuid = vloosetrunk_muid.correlate() & vloosebranch_muid\n",
    "\n",
    "loosetrunk_muid = (chi2u_trunk < 15).correlate() & (chi2p_trunk > 80) & (trunk_mcs_range < 0.5) & (var.DF.trunk.trk.len > 25)\n",
    "loosebranch_muid = (chi2u_branch < 15).correlate() & (chi2p_branch > 80) & (branch_mcs_range < 0.5) & (var.DF.branch.trk.len > 25)\n",
    "loosemuid = loosetrunk_muid.correlate() & loosebranch_muid\n",
    "\n",
    "tighttrunk_muid = (chi2u_trunk < 10).correlate() & (chi2p_trunk > 80) & (trunk_mcs_range < 0.5) & (var.DF.trunk.trk.len > 25)\n",
    "tightbranch_muid = (chi2u_branch < 10).correlate() & (chi2p_branch > 80) & (branch_mcs_range < 0.5) & (var.DF.branch.trk.len > 25)\n",
    "\n",
    "tighttrunk_muid = (chi2u_trunk < 10).correlate() & (chi2p_trunk > 95) & (trunk_mcs_range < 0.8) & (var.DF.trunk.trk.len > 25)\n",
    "tightbranch_muid = (chi2u_branch < 10).correlate() & (chi2p_branch > 95) & (branch_mcs_range < 0.8) & (var.DF.branch.trk.len > 25)\n",
    "tightmuid = tighttrunk_muid.correlate() & tightbranch_muid\n",
    "\n",
    "one_tightmuid = tighttrunk_muid.correlate() | tightbranch_muid\n",
    "\n",
    "\n",
    "hasstub = (stubke_5mm > 25) | (stubke_10mm > 30) |\\\n",
    "    (stubke_20mm > 35) | (stubke_30mm > 45)\n",
    "\n",
    "stubid = ~hasstub\n"
   ]
  },
  {
   "cell_type": "code",
   "execution_count": null,
   "id": "56323e1b",
   "metadata": {},
   "outputs": [],
   "source": [
    "c = loosemuid & cut.fiducial@var.slc &\\\n",
    "    cut.trkfiducial@var.DF.branch.trk & cut.trkfiducial@var.DF.trunk.trk &\\\n",
    "    (var.DF.beamangle > 15)\n",
    "\n",
    "c  = c.cv() #= c.fs[0]"
   ]
  },
  {
   "cell_type": "code",
   "execution_count": null,
   "id": "ec63febf",
   "metadata": {},
   "outputs": [],
   "source": [
    "v = var.DF.openangle\n",
    "\n",
    "bins = np.linspace(0, 180, 21)\n",
    "\n",
    "mcdata_plot(v, bins, c, nucategories, \"Opening Angle\", \"Slices\", dosyst=True, color=nucategory_colors)"
   ]
  },
  {
   "cell_type": "code",
   "execution_count": null,
   "id": "f507987b",
   "metadata": {},
   "outputs": [],
   "source": [
    "c = cut.fiducial@var.slc &\\\n",
    "    cut.trkfiducial@var.DF.branch.trk & cut.trkfiducial@var.DF.trunk.trk &\\\n",
    "    (np.abs@var.DF.trunk.trk.truth.p.pdg == 13)\n",
    "\n",
    "bins = np.linspace(0, 20, 21)\n",
    "\n",
    "v = var.DF.trunk.trk.chi2pid.I2.chi2u\n",
    "_ = plt.hist(v(mc.df)[c(mc.df)], bins=bins, weights=mc.df.wgt.cv[c(mc.df)], histtype=\"step\", label=\"CV\")\n",
    "\n",
    "v = var.DF.trunk.trk.chi2pid.I2_ghi.chi2u\n",
    "_ = plt.hist(v(mc.df)[c(mc.df)], bins=bins, weights=mc.df.wgt.cv[c(mc.df)], histtype=\"step\", label=\"Gain 1% Hi\")\n",
    "\n",
    "v = var.DF.trunk.trk.chi2pid.I2_glo.chi2u\n",
    "_ = plt.hist(v(mc.df)[c(mc.df)], bins=bins, weights=mc.df.wgt.cv[c(mc.df)], histtype=\"step\", label=\"Gain 1% Lo\")\n",
    "\n",
    "v = var.DF.trunk.trk.chi2pid.I2_callo.chi2u\n",
    "_ = plt.hist(v(mc.df)[c(mc.df)], bins=bins, weights=mc.df.wgt.cv[c(mc.df)], histtype=\"step\", label=\"dE/dx Low\")\n",
    "\n",
    "v = var.DF.trunk.trk.chi2pid.I2_calhi.chi2u\n",
    "_ = plt.hist(v(mc.df)[c(mc.df)], bins=bins, weights=mc.df.wgt.cv[c(mc.df)], histtype=\"step\", label=\"dE/dx High\")\n",
    "\n",
    "plt.legend(ncol=2, loc=\"upper center\", bbox_to_anchor=(0.5, 1.3))\n",
    "\n",
    "plt.xlabel(\"Trunk Track $\\\\chi^2_\\\\mu$\")\n",
    "plt.ylabel(\"Pre-Selected Events / %s\" % POTSTR)\n",
    "\n",
    "if dosave:\n",
    "    plt.savefig(savedir + \"trunk_chi2u_caldetvar.pdf\", bbox_inches=\"tight\")"
   ]
  },
  {
   "cell_type": "code",
   "execution_count": null,
   "id": "8de5cb46",
   "metadata": {},
   "outputs": [],
   "source": [
    "c = cut.fiducial@var.slc &\\\n",
    "    cut.trkfiducial@var.DF.branch.trk & cut.trkfiducial@var.DF.trunk.trk &\\\n",
    "    (np.abs@var.DF.trunk.trk.truth.p.pdg == 13)\n",
    "\n",
    "bins = np.linspace(80, 400, 21)\n",
    "\n",
    "v = var.DF.trunk.trk.chi2pid.I2.chi2p\n",
    "_ = plt.hist(v(mc.df)[c(mc.df)], bins=bins, weights=mc.df.wgt.cv[c(mc.df)], histtype=\"step\", label=\"CV\")\n",
    "\n",
    "v = var.DF.trunk.trk.chi2pid.I2_ghi.chi2p\n",
    "_ = plt.hist(v(mc.df)[c(mc.df)], bins=bins, weights=mc.df.wgt.cv[c(mc.df)], histtype=\"step\", label=\"Gain 1% Hi\")\n",
    "\n",
    "v = var.DF.trunk.trk.chi2pid.I2_glo.chi2p\n",
    "_ = plt.hist(v(mc.df)[c(mc.df)], bins=bins, weights=mc.df.wgt.cv[c(mc.df)], histtype=\"step\", label=\"Gain 1% Lo\")\n",
    "\n",
    "v = var.DF.trunk.trk.chi2pid.I2_callo.chi2p\n",
    "_ = plt.hist(v(mc.df)[c(mc.df)], bins=bins, weights=mc.df.wgt.cv[c(mc.df)], histtype=\"step\", label=\"dE/dx Low\")\n",
    "\n",
    "v = var.DF.trunk.trk.chi2pid.I2_calhi.chi2p\n",
    "_ = plt.hist(v(mc.df)[c(mc.df)], bins=bins, weights=mc.df.wgt.cv[c(mc.df)], histtype=\"step\", label=\"dE/dx High\")\n",
    "\n",
    "plt.legend(ncol=2, loc=\"upper center\", bbox_to_anchor=(0.5, 1.3))\n",
    "\n",
    "plt.xlabel(\"Trunk Track $\\\\chi^2_p$\")\n",
    "plt.ylabel(\"Pre-Selected Events / %s\" % POTSTR)\n",
    "\n",
    "if dosave:\n",
    "    plt.savefig(savedir + \"trunk_chi2p_caldetvar.pdf\", bbox_inches=\"tight\")"
   ]
  },
  {
   "cell_type": "code",
   "execution_count": null,
   "id": "68fa8098",
   "metadata": {},
   "outputs": [],
   "source": [
    "c = cut.fiducial@var.slc &\\\n",
    "    cut.trkfiducial@var.DF.branch.trk & cut.trkfiducial@var.DF.trunk.trk &\\\n",
    "    (var.DF.slc.truth.max_proton_ke < 0.05) & (var.DF.slc.truth.max_proton_ke > 0.015)\n",
    "\n",
    "bins = np.linspace(0, 100, 21)\n",
    "\n",
    "v = var.DF.stub.l0_5cm.dedx*var.DF.stub.l0_5cm.length\n",
    "_ = plt.hist(v(mc.df)[c(mc.df)], bins=bins, weights=mc.df.wgt.cv[c(mc.df)], histtype=\"step\", label=\"CV\")\n",
    "\n",
    "v = var.DF.stub.l0_5cm.dedx_calhi*var.DF.stub.l0_5cm.length\n",
    "_ = plt.hist(v(mc.df)[c(mc.df)], bins=bins, weights=mc.df.wgt.cv[c(mc.df)], histtype=\"step\", label=\"Recomb. High\")\n",
    "\n",
    "v = var.DF.stub.l0_5cm.dedx_callo*var.DF.stub.l0_5cm.length\n",
    "_ = plt.hist(v(mc.df)[c(mc.df)], bins=bins, weights=mc.df.wgt.cv[c(mc.df)], histtype=\"step\", label=\"Recomb. Low\")\n",
    "\n",
    "plt.xlabel(\"Stub KE [MeV]\")\n",
    "plt.title(\"Stubs (0 < Length < 5 mm)\")\n",
    "plt.legend()\n",
    "plt.ylabel(\"Pre-Selected Events / %s\" % POTSTR)\n",
    "\n",
    "if dosave:\n",
    "    plt.savefig(savedir + \"stubke_5mm_caldetvar.pdf\", bbox_inches=\"tight\")"
   ]
  },
  {
   "cell_type": "code",
   "execution_count": null,
   "id": "e9d54a0d",
   "metadata": {},
   "outputs": [],
   "source": [
    "c = cut.fiducial@var.slc &\\\n",
    "    cut.trkfiducial@var.DF.branch.trk & cut.trkfiducial@var.DF.trunk.trk &\\\n",
    "    (np.abs@var.DF.trunk.trk.truth.p.pdg == 13)\n",
    "\n",
    "bins = np.linspace(0, 1, 21)\n",
    "\n",
    "v = ratio_to_diff@(var.DF.trunk.trk.mcsP.fwdP_muon / var.DF.trunk.trk.rangeP.p_muon)\n",
    "_ = plt.hist(v(mc.df)[c(mc.df)], bins=bins, weights=mc.df.wgt.cv[c(mc.df)], histtype=\"step\", label=\"CV\")\n",
    "\n",
    "v = ratio_to_diff@((var.DF.trunk.trk.mcsP.fwdP_muon + mc.df.trunk.trk.rangeP.p_muon*0.03) / var.DF.trunk.trk.rangeP.p_muon)\n",
    "_ = plt.hist(v(mc.df)[c(mc.df)], bins=bins, weights=mc.df.wgt.cv[c(mc.df)], histtype=\"step\", label=\"MCS-high\")\n",
    "\n",
    "v = ratio_to_diff@((var.DF.trunk.trk.mcsP.fwdP_muon - mc.df.trunk.trk.rangeP.p_muon*0.03) / var.DF.trunk.trk.rangeP.p_muon)\n",
    "_ = plt.hist(v(mc.df)[c(mc.df)], bins=bins, weights=mc.df.wgt.cv[c(mc.df)], histtype=\"step\", label=\"MCS-low\")\n",
    "\n",
    "\n",
    "plt.xlabel(\"|1 - MCS P / Range P|\")\n",
    "plt.legend()\n",
    "plt.ylabel(\"Pre-Selected Events / %s\" % POTSTR)\n",
    "\n",
    "if dosave:\n",
    "    plt.savefig(savedir + \"trunkmcs_caldetvar.pdf\", bbox_inches=\"tight\")"
   ]
  },
  {
   "cell_type": "code",
   "execution_count": null,
   "id": "a28a7768",
   "metadata": {},
   "outputs": [],
   "source": [
    "c = cut.fiducial@var.slc &\\\n",
    "    cut.trkfiducial@var.DF.branch.trk & cut.trkfiducial@var.DF.trunk.trk &\\\n",
    "    (var.DF.slc.truth.max_proton_ke < 0.05) & (var.DF.slc.truth.max_proton_ke > 0.015)\n",
    "\n",
    "bins = np.linspace(0, 100, 21)\n",
    "\n",
    "v = var.DF.stub.l1cm.dedx*var.DF.stub.l1cm.length\n",
    "_ = plt.hist(v(mc.df)[c(mc.df)], bins=bins, weights=mc.df.wgt.cv[c(mc.df)], histtype=\"step\", label=\"CV\")\n",
    "\n",
    "v = var.DF.stub.l1cm.dedx_calhi*var.DF.stub.l1cm.length\n",
    "_ = plt.hist(v(mc.df)[c(mc.df)], bins=bins, weights=mc.df.wgt.cv[c(mc.df)], histtype=\"step\", label=\"Recomb. High\")\n",
    "\n",
    "v = var.DF.stub.l1cm.dedx_callo*var.DF.stub.l1cm.length\n",
    "_ = plt.hist(v(mc.df)[c(mc.df)], bins=bins, weights=mc.df.wgt.cv[c(mc.df)], histtype=\"step\", label=\"Recomb. Low\")\n",
    "\n",
    "plt.xlabel(\"Stub KE [MeV]\")\n",
    "plt.title(\"Stubs (5 < Length < 10 mm)\")\n",
    "plt.legend()\n",
    "plt.ylabel(\"Pre-Selected Events / %s\" % POTSTR)\n",
    "\n",
    "if dosave:\n",
    "    plt.savefig(savedir + \"stubke_10mm_caldetvar.pdf\", bbox_inches=\"tight\")"
   ]
  },
  {
   "cell_type": "code",
   "execution_count": null,
   "id": "208210ad",
   "metadata": {},
   "outputs": [],
   "source": [
    "c = cut.fiducial@var.slc &\\\n",
    "    cut.trkfiducial@var.DF.branch.trk & cut.trkfiducial@var.DF.trunk.trk &\\\n",
    "    (var.DF.slc.truth.max_proton_ke < 0.05) & (var.DF.slc.truth.max_proton_ke > 0.015)\n",
    "\n",
    "bins = np.linspace(0, 150, 21)\n",
    "\n",
    "v = var.DF.stub.l2cm.dedx*var.DF.stub.l2cm.length\n",
    "_ = plt.hist(v(mc.df)[c(mc.df)], bins=bins, weights=mc.df.wgt.cv[c(mc.df)], histtype=\"step\", label=\"CV\")\n",
    "\n",
    "v = var.DF.stub.l2cm.dedx_calhi*var.DF.stub.l2cm.length\n",
    "_ = plt.hist(v(mc.df)[c(mc.df)], bins=bins, weights=mc.df.wgt.cv[c(mc.df)], histtype=\"step\", label=\"Recomb. High\")\n",
    "\n",
    "v = var.DF.stub.l2cm.dedx_callo*var.DF.stub.l2cm.length\n",
    "_ = plt.hist(v(mc.df)[c(mc.df)], bins=bins, weights=mc.df.wgt.cv[c(mc.df)], histtype=\"step\", label=\"Recomb. Low\")\n",
    "\n",
    "plt.xlabel(\"Stub KE [MeV]\")\n",
    "plt.title(\"Stubs (10 < Length < 20 mm)\")\n",
    "plt.legend()\n",
    "plt.ylabel(\"Pre-Selected Events / %s\" % POTSTR)\n",
    "\n",
    "if dosave:\n",
    "    plt.savefig(savedir + \"stubke_20mm_caldetvar.pdf\", bbox_inches=\"tight\")"
   ]
  },
  {
   "cell_type": "code",
   "execution_count": null,
   "id": "6d1416dd",
   "metadata": {},
   "outputs": [],
   "source": [
    "c = cut.fiducial@var.slc &\\\n",
    "    cut.trkfiducial@var.DF.branch.trk & cut.trkfiducial@var.DF.trunk.trk &\\\n",
    "    (var.DF.slc.truth.max_proton_ke < 0.05) & (var.DF.slc.truth.max_proton_ke > 0.015)\n",
    "\n",
    "bins = np.linspace(0, 150, 21)\n",
    "\n",
    "v = var.DF.stub.l3cm.dedx*var.DF.stub.l3cm.length\n",
    "_ = plt.hist(v(mc.df)[c(mc.df)], bins=bins, weights=mc.df.wgt.cv[c(mc.df)], histtype=\"step\", label=\"CV\")\n",
    "\n",
    "v = var.DF.stub.l3cm.dedx_calhi*var.DF.stub.l3cm.length\n",
    "_ = plt.hist(v(mc.df)[c(mc.df)], bins=bins, weights=mc.df.wgt.cv[c(mc.df)], histtype=\"step\", label=\"Recomb. High\")\n",
    "\n",
    "v = var.DF.stub.l3cm.dedx_callo*var.DF.stub.l3cm.length\n",
    "_ = plt.hist(v(mc.df)[c(mc.df)], bins=bins, weights=mc.df.wgt.cv[c(mc.df)], histtype=\"step\", label=\"Recomb. Low\")\n",
    "\n",
    "plt.xlabel(\"Stub KE [MeV]\")\n",
    "plt.title(\"Stubs (20 < Length < 30 mm)\")\n",
    "plt.legend()\n",
    "plt.ylabel(\"Pre-Selected Events / %s\" % POTSTR)\n",
    "\n",
    "if dosave:\n",
    "    plt.savefig(savedir + \"stubke_30mm_caldetvar.pdf\", bbox_inches=\"tight\")"
   ]
  },
  {
   "cell_type": "code",
   "execution_count": null,
   "id": "cc1f19d0",
   "metadata": {},
   "outputs": [],
   "source": [
    "trunk_mcs_range"
   ]
  },
  {
   "cell_type": "code",
   "execution_count": null,
   "id": "627fba9e",
   "metadata": {},
   "outputs": [],
   "source": [
    "cuts = [\n",
    "    cut.fiducial@var.slc &\\\n",
    "    cut.trkfiducial@var.DF.branch.trk & cut.trkfiducial@var.DF.trunk.trk &\\\n",
    "    (var.DF.beamangle > 15),\n",
    "    \n",
    "    cut.fiducial@var.slc &\\\n",
    "    cut.trkfiducial@var.DF.branch.trk & cut.trkfiducial@var.DF.trunk.trk &\\\n",
    "    (var.DF.beamangle > 15) &\\\n",
    "    (var.DF.openangle < 100) &\\\n",
    "    loosemuid,\n",
    "    \n",
    "    cut.fiducial@var.slc &\\\n",
    "    cut.trkfiducial@var.DF.branch.trk & cut.trkfiducial@var.DF.trunk.trk &\\\n",
    "    (var.DF.beamangle > 15) &\\\n",
    "    (var.DF.openangle < 100) &\\\n",
    "    tightmuid,\n",
    "    \n",
    "    cut.fiducial@var.slc &\\\n",
    "    cut.trkfiducial@var.DF.branch.trk & cut.trkfiducial@var.DF.trunk.trk &\\\n",
    "    (var.DF.beamangle > 15) &\\\n",
    "    (var.DF.openangle < 100) &\\\n",
    "    tightmuid & othr_obj_cut,\n",
    "    \n",
    "    cut.fiducial@var.slc &\\\n",
    "    cut.trkfiducial@var.DF.branch.trk & cut.trkfiducial@var.DF.trunk.trk &\\\n",
    "    (var.DF.beamangle > 15) &\\\n",
    "    (var.DF.openangle < 100) &\\\n",
    "    tightmuid & othr_obj_cut & stubid,\n",
    "    \n",
    "    \n",
    "]"
   ]
  },
  {
   "cell_type": "code",
   "execution_count": null,
   "id": "adfc349c",
   "metadata": {},
   "outputs": [],
   "source": [
    "cut_text = [    \n",
    "    \"Pre-Selected\",\n",
    "    \"Loose Muon ID\",\n",
    "    \"Tight Muon ID\",\n",
    "    \"Tight Muon ID\\nOther Obj. Cut\",\n",
    "    \"Tight Muon ID\\nOther Obj. Cut\\nStub ID\",\n",
    "]"
   ]
  },
  {
   "cell_type": "code",
   "execution_count": null,
   "id": "c92efbba",
   "metadata": {},
   "outputs": [],
   "source": [
    "cut_dir = [    \n",
    "    \"PreSelection\",\n",
    "    \"LooseMuonID\",\n",
    "    \"TightMuonID\",\n",
    "    \"TightMuonID_OtherObj\",\n",
    "    \"TightMuonID_OtherObj_StubID\",\n",
    "]"
   ]
  },
  {
   "cell_type": "code",
   "execution_count": null,
   "id": "d8bcaa32",
   "metadata": {},
   "outputs": [],
   "source": [
    "plotvars = [\n",
    "    var.crlongtrkdiry@var.slc,\n",
    "    var.DF.max_shw_len,\n",
    "    var.DF.max_othr_trk_len,\n",
    "    var.DF.max_othr_chi2_muon,\n",
    "    var.DF.min_othr_chi2_proton,\n",
    "    var.DF.trunk.trk.len,\n",
    "    var.DF.branch.trk.len,\n",
    "    var.DF.trunk.trackScore,\n",
    "    var.DF.branch.trackScore,\n",
    "    chi2u_trunk,\n",
    "    chi2u_branch,\n",
    "    chi2p_trunk,\n",
    "    chi2p_branch,\n",
    "    trunk_mcs_range,\n",
    "    branch_mcs_range,\n",
    "    stubke_5mm,\n",
    "    stubke_10mm,\n",
    "    stubke_20mm,\n",
    "    stubke_30mm,\n",
    "    var.DF.openangle,\n",
    "    var.DF.beamangle,\n",
    "    var.DF.s_mass,\n",
    "    var.DF.coht,\n",
    "    var.DF.pT,\n",
    "]"
   ]
  },
  {
   "cell_type": "code",
   "execution_count": null,
   "id": "1a801d17",
   "metadata": {},
   "outputs": [],
   "source": [
    "plotnames = [\n",
    "    \"CRLongTrkDirY\",\n",
    "    \"Maximum Shower Length [cm]\",\n",
    "    \"Maximum Other Track Length [cm]\",\n",
    "    \"Maximum Other $\\\\chi^2_\\\\mu$\",\n",
    "    \"Minimum Other $\\\\chi^2_p$\",\n",
    "    \"Trunk Track Length [cm]\",\n",
    "    \"Branch Track Length [cm]\",\n",
    "    \"Trunk Track Score\",\n",
    "    \"Branch Track Score\",\n",
    "    \"Trunk $\\\\chi^2_\\\\mu$\",\n",
    "    \"Branch $\\\\chi^2_\\\\mu$\",\n",
    "    \"Trunk $\\\\chi^2_p$\",\n",
    "    \"Branch $\\\\chi^2_p$\",\n",
    "    \"Trunk (1 - MCS P / Range P)\",\n",
    "    \"Branch (1 - MCS P / Range P)\",\n",
    "    \"Stub KE (len < 0.5 cm) [MeV]\",\n",
    "    \"Stub KE (0.5 < len < 1 cm) [MeV]\",\n",
    "    \"Stub KE (1 < len < 2 cm) [MeV]\",\n",
    "    \"Stub KE (2 < len < 3 cm) [MeV]\",\n",
    "    \"Trunk - Branch Opening Angle [$^\\\\circ$]\",\n",
    "    \"Scalar Angle to Beam [$^\\\\circ$]\",\n",
    "    \"$M_{\\\\mu\\\\mu}$ [GeV/c$^2$]\",\n",
    "    \"|t| [GeV$^2$]\",\n",
    "    \"|Transverse Momentum| [GeV]\",\n",
    "]"
   ]
  },
  {
   "cell_type": "code",
   "execution_count": null,
   "id": "205bd967",
   "metadata": {},
   "outputs": [],
   "source": [
    "plotsave = [\n",
    "    \"crlongtrkdiry\",\n",
    "    \"max_shw_len\",\n",
    "    \"max_othr_trk_len\",\n",
    "    \"max_othr_chi2u\",\n",
    "    \"min_othr_chi2p\",\n",
    "    \"trunk_trk_len\",\n",
    "    \"branch_trk_len\",\n",
    "    \"trunk_trk_score\",\n",
    "    \"branch_trk_score\",\n",
    "    \"trunk_chi2u\",\n",
    "    \"branch_chi2u\",\n",
    "    \"trunk_chi2p\",\n",
    "    \"branch_chi2p\",\n",
    "    \"trunk_mcsvrange\",\n",
    "    \"branch_mcsvrange\",\n",
    "    \"stub_ke_0_5cm\",\n",
    "    \"stub_ke_1cm\",\n",
    "    \"stub_ke_2cm\",\n",
    "    \"stub_ke_3cm\",\n",
    "    \"openangle\",\n",
    "    \"beamangle\",\n",
    "    \"s_mass\",\n",
    "    \"coht\",\n",
    "    \"pT\",\n",
    "]"
   ]
  },
  {
   "cell_type": "code",
   "execution_count": null,
   "id": "8886a211",
   "metadata": {},
   "outputs": [],
   "source": [
    "plotbins = [\n",
    "    np.linspace(-1, 1, 21),\n",
    "    np.linspace(0, 20, 21),\n",
    "    np.linspace(0, 60, 21),\n",
    "    np.linspace(0, 60, 21),\n",
    "    np.linspace(0, 60, 21),\n",
    "    np.linspace(0, 200, 21) + 10,\n",
    "    np.linspace(0, 200, 21) + 10,\n",
    "    np.linspace(0, 1, 21),\n",
    "    np.linspace(0, 1, 21),\n",
    "    np.linspace(0, 30, 16),\n",
    "    np.linspace(0, 30, 16),\n",
    "    np.linspace(80, 400, 21),\n",
    "    np.linspace(80, 400, 21),\n",
    "    np.linspace(0, 1, 21),\n",
    "    np.linspace(0, 1, 21),\n",
    "    np.linspace(0, 100, 6),\n",
    "    np.linspace(0, 100, 6),\n",
    "    np.linspace(0, 160, 9),\n",
    "    np.linspace(0, 160, 9),\n",
    "    np.linspace(0, 180, 21),\n",
    "    np.linspace(0, 60, 13),\n",
    "    np.linspace(0, 0.5, 21) + 2*MUON_MASS,\n",
    "    np.linspace(0, 0.15, 16),\n",
    "    np.linspace(0, 1, 11),\n",
    "]"
   ]
  },
  {
   "cell_type": "code",
   "execution_count": null,
   "id": "526980e6",
   "metadata": {},
   "outputs": [],
   "source": [
    "len(list(zip(cuts, cut_text, cut_dir)))"
   ]
  },
  {
   "cell_type": "code",
   "execution_count": null,
   "id": "fa938767",
   "metadata": {},
   "outputs": [],
   "source": [
    "importlib.reload(hist)"
   ]
  },
  {
   "cell_type": "code",
   "execution_count": null,
   "id": "31177d47",
   "metadata": {},
   "outputs": [],
   "source": [
    "#  chi2pid\n",
    "whichvars = [\n",
    "    5, 7, 9, 11, 13\n",
    "]"
   ]
  },
  {
   "cell_type": "code",
   "execution_count": null,
   "id": "268fb9ab",
   "metadata": {},
   "outputs": [],
   "source": [
    "ifig = 0\n",
    "labels = [\"CV\", \"Gain Hi\", \"Gain Lo\", \"dE/dx Hi\", \"dE/dx Lo\"]\n",
    "\n",
    "for c, ctxt, cdir in zip(cuts, cut_text, cut_dir):\n",
    "    print(ctxt)\n",
    "    if dosave:\n",
    "        os.makedirs(os.path.join(savedir, cdir), exist_ok=True)\n",
    "    for ivar, (vs, name, savename, bins) in enumerate(zip(plotvars, plotnames, plotsave, plotbins)):\n",
    "        if ivar not in whichvars: continue\n",
    "        if not isinstance(vs, variable.SystVariable): continue\n",
    "            \n",
    "        plt.figure(ifig)\n",
    "        fig, (p0, p1) = plt.subplots(2, 1, gridspec_kw={'height_ratios': [3,1]}, sharex=True, figsize=(7, 6.4))\n",
    "        fig.subplots_adjust(hspace=0.03)\n",
    "        \n",
    "        hnom_cv = None\n",
    "        isyst = 0\n",
    "        for vv in vs.fs:\n",
    "            if isinstance(vv, variable.MultiVariable):\n",
    "                vvs = vv.fs\n",
    "            else:\n",
    "                vvs = [vv]\n",
    "            for v in vvs:\n",
    "                hnom, _ = hist.makehist(v, mc, cut=c, bins=bins, POT=onbeam.POT, systematics=False)\n",
    "                if isyst == 0:\n",
    "                    hnom_cv = hnom                \n",
    "                _ = p0.hist(hnom.centers, bins=hnom.bins, weights=hnom.N, label=labels[isyst], histtype=\"step\")\n",
    "                isyst += 1\n",
    "            \n",
    "        hon, _ = hist.makehist(vs.cv(), onbeam, cut=c, bins=bins, cvweight=False, systematics=False)\n",
    "        hoff, _ = hist.makehist(vs.cv(), offbeam, cut=c, bins=bins, cvweight=False, livetime=onbeam.livetime, systematics=False)     \n",
    "        hd = hist.plotdata(p0, hon-hoff)\n",
    "        p0.legend(loc=\"upper right\")\n",
    "            \n",
    "        p0.text(0.9, 0.5, ctxt, transform=p0.transAxes, verticalalignment='top', horizontalalignment=\"right\")\n",
    "        \n",
    "        hist.plotratio(p1, hon-hoff, hnom_cv)\n",
    "        p1.axhline([1], color=\"r\", linestyle=\":\")\n",
    "        p1.set_ylim([0.5, 1.5])\n",
    "        \n",
    "        p0.set_ylabel(\"Slices / %s\" % POTSTR)\n",
    "        p1.set_ylabel(\"Data / MC CV\")\n",
    "        p1.set_xlabel(name)\n",
    "\n",
    "        if dosave: \n",
    "            plt.savefig(os.path.join(savedir, cdir, (\"nocat_%s.pdf\" % savename)), bbox_inches=\"tight\")\n",
    "            plt.savefig(os.path.join(savedir, cdir, (\"nocat_%s.svg\" % savename)), bbox_inches=\"tight\")\n",
    "        \n",
    "        ifig += 1\n",
    "    if dosave: \n",
    "        plt.close(\"all\")"
   ]
  },
  {
   "cell_type": "code",
   "execution_count": null,
   "id": "2b9f09f0",
   "metadata": {},
   "outputs": [],
   "source": [
    "ifig = 0\n",
    "\n",
    "for c, ctxt, cdir in zip(cuts, cut_text, cut_dir):\n",
    "    print(ctxt)\n",
    "    if dosave:\n",
    "        os.makedirs(os.path.join(savedir, cdir), exist_ok=True)\n",
    "    for ivar, (v, name, savename, bins) in enumerate(zip(plotvars, plotnames, plotsave, plotbins)):\n",
    "        if ivar not in whichvars: continue\n",
    "            \n",
    "        plt.figure(ifig)\n",
    "\n",
    "        fig, (p0, p1) = mcdata_plot(v, bins, c, trunkIDcategories, name, \"Slices\", dosyst=True, \n",
    "                                    lgnd_ncol=5, color=trunkIDcategory_colors)\n",
    "        p0.text(0.9, 0.85, ctxt, transform=p0.transAxes, verticalalignment='top', horizontalalignment=\"right\")\n",
    "        \n",
    "        if dosave: \n",
    "            plt.savefig(os.path.join(savedir, cdir, (\"trunkcat_%s.pdf\" % savename)), bbox_inches=\"tight\")\n",
    "            plt.savefig(os.path.join(savedir, cdir, (\"trunkcat_%s.svg\" % savename)), bbox_inches=\"tight\")\n",
    "        \n",
    "        ifig += 1        \n",
    "    if dosave: \n",
    "        plt.close(\"all\")"
   ]
  },
  {
   "cell_type": "code",
   "execution_count": null,
   "id": "59f3dfe8",
   "metadata": {},
   "outputs": [],
   "source": [
    "# Branch chi2pid\n",
    "whichvars = [\n",
    "    6, 8, 10, 12, 14\n",
    "]"
   ]
  },
  {
   "cell_type": "code",
   "execution_count": null,
   "id": "974eb5a5",
   "metadata": {},
   "outputs": [],
   "source": [
    "ifig = 0\n",
    "labels = [\"CV\", \"Gain Hi\", \"Gain Lo\", \"dE/dx Hi\", \"dE/dx Lo\"]\n",
    "\n",
    "for c, ctxt, cdir in zip(cuts, cut_text, cut_dir):\n",
    "    print(ctxt)\n",
    "    if dosave:\n",
    "        os.makedirs(os.path.join(savedir, cdir), exist_ok=True)\n",
    "    for ivar, (vs, name, savename, bins) in enumerate(zip(plotvars, plotnames, plotsave, plotbins)):\n",
    "        if ivar not in whichvars: continue\n",
    "        if not isinstance(vs, variable.SystVariable): continue\n",
    "            \n",
    "        plt.figure(ifig)\n",
    "        fig, (p0, p1) = plt.subplots(2, 1, gridspec_kw={'height_ratios': [3,1]}, sharex=True, figsize=(7, 6.4))\n",
    "        fig.subplots_adjust(hspace=0.03)\n",
    "        \n",
    "        hnom_cv = None\n",
    "        isyst = 0\n",
    "        for vv in vs.fs:\n",
    "            if isinstance(vv, variable.MultiVariable):\n",
    "                vvs = vv.fs\n",
    "            else:\n",
    "                vvs = [vv]\n",
    "            for v in vvs:\n",
    "                hnom, _ = hist.makehist(v, mc, cut=c, bins=bins, POT=onbeam.POT, systematics=False)\n",
    "                if isyst == 0:\n",
    "                    hnom_cv = hnom                \n",
    "                _ = p0.hist(hnom.centers, bins=hnom.bins, weights=hnom.N, label=labels[isyst], histtype=\"step\")\n",
    "                isyst += 1\n",
    "            \n",
    "        hon, _ = hist.makehist(vs.cv(), onbeam, cut=c, bins=bins, cvweight=False, systematics=False)\n",
    "        hoff, _ = hist.makehist(vs.cv(), offbeam, cut=c, bins=bins, cvweight=False, livetime=onbeam.livetime, systematics=False)     \n",
    "        hd = hist.plotdata(p0, hon-hoff)\n",
    "        p0.legend(loc=\"upper right\")\n",
    "            \n",
    "        p0.text(0.9, 0.5, ctxt, transform=p0.transAxes, verticalalignment='top', horizontalalignment=\"right\")\n",
    "        \n",
    "        hist.plotratio(p1, hon-hoff, hnom_cv)\n",
    "        p1.axhline([1], color=\"r\", linestyle=\":\")\n",
    "        p1.set_ylim([0.5, 1.5])\n",
    "        \n",
    "        p0.set_ylabel(\"Slices / %s\" % POTSTR)\n",
    "        p1.set_ylabel(\"Data / MC CV\")\n",
    "        p1.set_xlabel(name)\n",
    "\n",
    "        if dosave: \n",
    "            plt.savefig(os.path.join(savedir, cdir, (\"nocat_%s.pdf\" % savename)), bbox_inches=\"tight\")\n",
    "            plt.savefig(os.path.join(savedir, cdir, (\"nocat_%s.svg\" % savename)), bbox_inches=\"tight\")\n",
    "        \n",
    "        ifig += 1\n",
    "    if dosave: \n",
    "        plt.close(\"all\")"
   ]
  },
  {
   "cell_type": "code",
   "execution_count": null,
   "id": "d53a9e9e",
   "metadata": {},
   "outputs": [],
   "source": [
    "ifig = 0\n",
    "\n",
    "for c, ctxt, cdir in zip(cuts, cut_text, cut_dir):\n",
    "    print(ctxt)\n",
    "    if dosave:\n",
    "        os.makedirs(os.path.join(savedir, cdir), exist_ok=True)\n",
    "    for ivar, (v, name, savename, bins) in enumerate(zip(plotvars, plotnames, plotsave, plotbins)):\n",
    "        if ivar not in whichvars: continue\n",
    "            \n",
    "        plt.figure(ifig)\n",
    "\n",
    "        fig, (p0, p1) = mcdata_plot(v, bins, c, branchIDcategories, name, \"Slices\",\n",
    "                                    lgnd_ncol=5, color=branchIDcategory_colors)\n",
    "        p0.text(0.9, 0.85, ctxt, transform=p0.transAxes, verticalalignment='top', horizontalalignment=\"right\")\n",
    "        \n",
    "        if dosave: \n",
    "            plt.savefig(os.path.join(savedir, cdir, (\"branchcat_%s.pdf\" % savename)), bbox_inches=\"tight\")\n",
    "            plt.savefig(os.path.join(savedir, cdir, (\"branchcat_%s.svg\" % savename)), bbox_inches=\"tight\")\n",
    "        \n",
    "        ifig += 1        \n",
    "    if dosave: \n",
    "        plt.close(\"all\")"
   ]
  },
  {
   "cell_type": "code",
   "execution_count": null,
   "id": "fcfe1330",
   "metadata": {},
   "outputs": [],
   "source": [
    "# stubs\n",
    "whichvars = [\n",
    "    15, 16, 17, 18\n",
    "]"
   ]
  },
  {
   "cell_type": "code",
   "execution_count": null,
   "id": "1ebdd191",
   "metadata": {},
   "outputs": [],
   "source": [
    "ifig = 0\n",
    "labels = [\"CV\", \"Recomb-Hi\", \"Recomb-Lo\"]\n",
    "\n",
    "for c, ctxt, cdir in zip(cuts, cut_text, cut_dir):\n",
    "    print(ctxt)\n",
    "    if dosave:\n",
    "        os.makedirs(os.path.join(savedir, cdir), exist_ok=True)\n",
    "    for ivar, (vs, name, savename, bins) in enumerate(zip(plotvars, plotnames, plotsave, plotbins)):\n",
    "        if ivar not in whichvars: continue\n",
    "        plt.figure(ifig)\n",
    "        fig, (p0, p1) = plt.subplots(2, 1, gridspec_kw={'height_ratios': [3,1]}, sharex=True, figsize=(7, 6.4))\n",
    "        fig.subplots_adjust(hspace=0.03)\n",
    "        \n",
    "        hnom_cv = None\n",
    "        isyst = 0\n",
    "        for vv in vs.fs:\n",
    "            if isinstance(vv, variable.MultiVariable):\n",
    "                vvs = vv.fs\n",
    "            else:\n",
    "                vvs = [vv]\n",
    "            for v in vvs:\n",
    "                hnom, _ = hist.makehist(v, mc, cut=c, bins=bins, POT=onbeam.POT, systematics=False)\n",
    "                if isyst == 0:\n",
    "                    hnom_cv = hnom                \n",
    "                _ = p0.hist(hnom.centers, bins=hnom.bins, weights=hnom.N, label=labels[isyst], histtype=\"step\")\n",
    "                isyst += 1\n",
    "            \n",
    "        hon, _ = hist.makehist(vs.cv(), onbeam, cut=c, bins=bins, cvweight=False, systematics=False)\n",
    "        hoff, _ = hist.makehist(vs.cv(), offbeam, cut=c, bins=bins, cvweight=False, livetime=onbeam.livetime, systematics=False)     \n",
    "        hd = hist.plotdata(p0, hon-hoff)\n",
    "        p0.legend(loc=\"upper right\")\n",
    "            \n",
    "        p0.text(0.9, 0.5, ctxt, transform=p0.transAxes, verticalalignment='top', horizontalalignment=\"right\")\n",
    "        \n",
    "        hist.plotratio(p1, hon-hoff, hnom_cv)\n",
    "        p1.axhline([1], color=\"r\", linestyle=\":\")\n",
    "        p1.set_ylim([0.5, 1.5])\n",
    "        \n",
    "        p0.set_ylabel(\"Slices / %s\" % POTSTR)\n",
    "        p1.set_ylabel(\"Data / MC CV\")\n",
    "        p1.set_xlabel(name)\n",
    "\n",
    "        if dosave: \n",
    "            plt.savefig(os.path.join(savedir, cdir, (\"nocat_%s.pdf\" % savename)), bbox_inches=\"tight\")\n",
    "            plt.savefig(os.path.join(savedir, cdir, (\"nocat_%s.svg\" % savename)), bbox_inches=\"tight\")\n",
    "        \n",
    "        ifig += 1\n",
    "    if dosave: \n",
    "        plt.close(\"all\")"
   ]
  },
  {
   "cell_type": "code",
   "execution_count": null,
   "id": "52478714",
   "metadata": {},
   "outputs": [],
   "source": [
    "ifig = 0\n",
    "\n",
    "for c, ctxt, cdir in zip(cuts, cut_text, cut_dir):\n",
    "    print(ctxt)\n",
    "    if dosave:\n",
    "        os.makedirs(os.path.join(savedir, cdir), exist_ok=True)\n",
    "    for ivar, (v, name, savename, bins) in enumerate(zip(plotvars, plotnames, plotsave, plotbins)):\n",
    "        if ivar not in whichvars: continue\n",
    "            \n",
    "        plt.figure(ifig)\n",
    "\n",
    "        fig, (p0, p1) = mcdata_plot(v, bins, c, vtxIDcategories, name, \"Slices\", color=vtxIDcategory_colors)\n",
    "        p0.text(0.9, 0.85, ctxt, transform=p0.transAxes, verticalalignment='top', horizontalalignment=\"right\")\n",
    "        \n",
    "        if dosave: \n",
    "            plt.savefig(os.path.join(savedir, cdir, (\"vtxcat_%s.pdf\" % savename)), bbox_inches=\"tight\")\n",
    "            plt.savefig(os.path.join(savedir, cdir, (\"vtxcat_%s.svg\" % savename)), bbox_inches=\"tight\")\n",
    "        \n",
    "        ifig += 1        \n",
    "#     if dosave: \n",
    "#         plt.close(\"all\")"
   ]
  },
  {
   "cell_type": "code",
   "execution_count": null,
   "id": "eaff7e3c",
   "metadata": {},
   "outputs": [],
   "source": [
    "whichvars = list(range(len(plotvars))) # all"
   ]
  },
  {
   "cell_type": "code",
   "execution_count": null,
   "id": "5dc999dd",
   "metadata": {},
   "outputs": [],
   "source": [
    "ifig = 0\n",
    "\n",
    "for c, ctxt, cdir in zip(cuts, cut_text, cut_dir):\n",
    "    print(ctxt)\n",
    "    if dosave:\n",
    "        os.makedirs(os.path.join(savedir, cdir), exist_ok=True)\n",
    "    for ivar, (v, name, savename, bins) in enumerate(zip(plotvars, plotnames, plotsave, plotbins)):\n",
    "        if ivar not in whichvars: continue\n",
    "            \n",
    "        plt.figure(ifig)\n",
    "\n",
    "        fig, (p0, p1) = mcdata_plot(v, bins, c, nucategories, name, \"Slices\", color=nucategory_colors)\n",
    "        p0.text(0.9, 0.85, ctxt, transform=p0.transAxes, verticalalignment='top', horizontalalignment=\"right\")\n",
    "        \n",
    "        if dosave: \n",
    "            plt.savefig(os.path.join(savedir, cdir, (\"%s.pdf\" % savename)), bbox_inches=\"tight\")\n",
    "            plt.savefig(os.path.join(savedir, cdir, (\"%s.svg\" % savename)), bbox_inches=\"tight\")\n",
    "        \n",
    "        ifig += 1        \n",
    "    if dosave: \n",
    "        plt.close(\"all\")"
   ]
  },
  {
   "cell_type": "code",
   "execution_count": null,
   "id": "750f4349",
   "metadata": {},
   "outputs": [],
   "source": [
    "# open angle plot"
   ]
  },
  {
   "cell_type": "code",
   "execution_count": null,
   "id": "a52fcab1",
   "metadata": {},
   "outputs": [],
   "source": [
    "ctxt = \"Loose Muon ID\"\n",
    "cdir = \"LooseMuID\"\n",
    "print(ctxt)\n",
    "\n",
    "if dosave:\n",
    "    os.makedirs(os.path.join(savedir, cdir), exist_ok=True)"
   ]
  },
  {
   "cell_type": "code",
   "execution_count": null,
   "id": "38d0f590",
   "metadata": {},
   "outputs": [],
   "source": [
    "c = cut.fiducial@var.slc &\\\n",
    "    cut.trkfiducial@var.DF.branch.trk & cut.trkfiducial@var.DF.trunk.trk &\\\n",
    "    (var.DF.openangle < 100) &\\\n",
    "    loosemuid\n",
    "\n",
    "v = var.DF.beamangle\n",
    "bins = np.linspace(0, 60, 13)\n",
    "name = \"Scalar Angle to Beam [$^\\\\circ$]\""
   ]
  },
  {
   "cell_type": "code",
   "execution_count": null,
   "id": "136171ad",
   "metadata": {},
   "outputs": [],
   "source": [
    "fig, (p0, p1) = mcdata_plot(v, bins, c, nucategories, name, \"Slices\", \n",
    "                            databinselect=(bins >= 15), color=nucategory_colors, fullpot=True, ratio_lim=[0, 2], \n",
    "                            dosyst=True)\n",
    "p0.text(0.9, 0.85, ctxt, transform=p0.transAxes, verticalalignment='top', horizontalalignment=\"right\")\n",
    "\n",
    "if dosave: \n",
    "    plt.savefig(os.path.join(savedir, cdir, \"thnumi_15deg_fullpot.pdf\"), bbox_inches=\"tight\")\n",
    "    plt.savefig(os.path.join(savedir, cdir, \"thnumi_15deg_fullpot.svg\"), bbox_inches=\"tight\")"
   ]
  },
  {
   "cell_type": "code",
   "execution_count": null,
   "id": "57fa3bf9",
   "metadata": {},
   "outputs": [],
   "source": [
    "ctxt = \"Tight Muon ID\\nOther Obj. Cut\\nStub ID\"\n",
    "cdir = \"NearSideband\"\n",
    "print(ctxt)\n",
    "\n",
    "if dosave:\n",
    "    os.makedirs(os.path.join(savedir, cdir), exist_ok=True)"
   ]
  },
  {
   "cell_type": "code",
   "execution_count": null,
   "id": "9b437d71",
   "metadata": {},
   "outputs": [],
   "source": [
    "c = cut.fiducial@var.slc &\\\n",
    "    cut.trkfiducial@var.DF.branch.trk & cut.trkfiducial@var.DF.trunk.trk &\\\n",
    "    (var.DF.openangle < 60) &\\\n",
    "    tightmuid & othr_obj_cut & stubid\n",
    "\n",
    "v = var.DF.beamangle\n",
    "bins = np.linspace(0, 60, 13)\n",
    "name = \"Scalar Angle to Beam [$^\\\\circ$]\""
   ]
  },
  {
   "cell_type": "code",
   "execution_count": null,
   "id": "420b82dd",
   "metadata": {},
   "outputs": [],
   "source": [
    "fig, (p0, p1) = mcdata_plot(v, bins, c, nucategories, name, \"Slices\", \n",
    "                            databinselect=(bins >= 15), color=nucategory_colors, fullpot=True, ratio_lim=[0, 2], \n",
    "                            dosyst=True)\n",
    "p0.text(0.9, 0.85, ctxt, transform=p0.transAxes, verticalalignment='top', horizontalalignment=\"right\")\n",
    "\n",
    "if dosave: \n",
    "    plt.savefig(os.path.join(savedir, cdir, \"thnumi_15deg_fullpot.pdf\"), bbox_inches=\"tight\")\n",
    "    plt.savefig(os.path.join(savedir, cdir, \"thnumi_15deg_fullpot.svg\"), bbox_inches=\"tight\")"
   ]
  },
  {
   "cell_type": "code",
   "execution_count": null,
   "id": "635c5eab",
   "metadata": {},
   "outputs": [],
   "source": [
    "fig, (p0, p1) = mcdata_plot(v, bins, c, nucategories, name, \"Slices\", \n",
    "                            databinselect=(bins >= 15), color=nucategory_colors, fullpot=False, ratio_lim=[0, 2])\n",
    "p0.text(0.9, 0.85, ctxt, transform=p0.transAxes, verticalalignment='top', horizontalalignment=\"right\")\n",
    "\n",
    "if dosave: \n",
    "    plt.savefig(os.path.join(savedir, cdir, \"thnumi_15deg_halfpot.pdf\"), bbox_inches=\"tight\")\n",
    "    plt.savefig(os.path.join(savedir, cdir, \"thnumi_15deg_halfpot.svg\"), bbox_inches=\"tight\")"
   ]
  },
  {
   "cell_type": "code",
   "execution_count": null,
   "id": "1dbfc63f",
   "metadata": {},
   "outputs": [],
   "source": [
    "fig, (p0, p1) = mcdata_plot(v, bins, c, nucategories, name, \"Slices\", \n",
    "                            databinselect=(bins >= 5), color=nucategory_colors, fullpot=False, ratio_lim=[0, 2])\n",
    "p0.text(0.9, 0.85, ctxt, transform=p0.transAxes, verticalalignment='top', horizontalalignment=\"right\")\n",
    "\n",
    "if dosave: \n",
    "    plt.savefig(os.path.join(savedir, cdir, \"thnumi_5deg_halfpot.pdf\"), bbox_inches=\"tight\")\n",
    "    plt.savefig(os.path.join(savedir, cdir, \"thnumi_5deg_halfpot.svg\"), bbox_inches=\"tight\")"
   ]
  },
  {
   "cell_type": "code",
   "execution_count": null,
   "id": "9a369de0",
   "metadata": {},
   "outputs": [],
   "source": [
    "c = cut.fiducial@var.slc &\\\n",
    "    cut.trkfiducial@var.DF.branch.trk & cut.trkfiducial@var.DF.trunk.trk &\\\n",
    "    (var.DF.openangle < 60) &\\\n",
    "    (var.DF.beamangle > 5) & (var.DF.beamangle < 10) &\\\n",
    "    tightmuid & othr_obj_cut & stubid\n",
    "\n",
    "ctxt = \"Near Sideband\"\n",
    "\n",
    "# kinematics\n",
    "whichvars = list(range(len(plotvars)))[-5:]\n",
    "\n",
    "# redo binning\n",
    "nearsideband_plotbins = [\n",
    "    np.linspace(0, 60, 7),\n",
    "    np.linspace(0, 60, 13),\n",
    "    np.linspace(0, 0.5, 6) + 2*MUON_MASS,\n",
    "    np.linspace(0, 0.2, 6),\n",
    "    np.linspace(0, 0.6, 7),\n",
    "]"
   ]
  },
  {
   "cell_type": "code",
   "execution_count": null,
   "id": "29bbe282",
   "metadata": {},
   "outputs": [],
   "source": [
    "ifig = 0\n",
    "\n",
    "\n",
    "for ivar, (v, name, savename, bins) in enumerate(zip(plotvars, plotnames, plotsave, plotbins)):\n",
    "    if ivar not in whichvars: continue\n",
    "\n",
    "    plt.figure(ifig)\n",
    "\n",
    "    fig, (p0, p1) = mcdata_plot(v, nearsideband_plotbins[ifig], c, nucategories, name, \"Slices\", \n",
    "                                color=nucategory_colors, fullpot=False, ratio_lim=[0, 2])\n",
    "    p0.text(0.9, 0.85, ctxt, transform=p0.transAxes, verticalalignment='top', horizontalalignment=\"right\")\n",
    "\n",
    "    if dosave: \n",
    "        plt.savefig(os.path.join(savedir, cdir, (\"nearsideband_%s.pdf\" % savename)), bbox_inches=\"tight\")\n",
    "        plt.savefig(os.path.join(savedir, cdir, (\"nearsideband_%s.svg\" % savename)), bbox_inches=\"tight\")\n",
    "\n",
    "    ifig += 1        \n",
    "# if dosave: \n",
    "#     plt.close(\"all\")"
   ]
  },
  {
   "cell_type": "code",
   "execution_count": null,
   "id": "9faa4c88",
   "metadata": {},
   "outputs": [],
   "source": [
    "c = cut.fiducial@var.slc &\\\n",
    "    cut.trkfiducial@var.DF.branch.trk & cut.trkfiducial@var.DF.trunk.trk &\\\n",
    "    (var.DF.openangle < 60) &\\\n",
    "    (var.DF.beamangle > 5) & (var.DF.beamangle < 10) &\\\n",
    "    tightmuid & othr_obj_cut & stubid\n",
    "\n",
    "numu_cc_coh = (var.DF.slc.truth.genie_mode == 3) & ((np.abs@var.DF.slc.truth.pdg) == 14) & (var.DF.slc.truth.iscc == 1)\n",
    "\n",
    "@var.VAR\n",
    "def one(df):\n",
    "    return pd.Series(1, df.index)\n",
    "\n",
    "v = one\n",
    "bins = np.linspace(0, 2, 2)"
   ]
  },
  {
   "cell_type": "code",
   "execution_count": null,
   "id": "353949f3",
   "metadata": {},
   "outputs": [],
   "source": [
    "hnom_cccoh, hsyst_cccoh = hist.makehist(v, mc, cut=c&numu_cc_coh, bins=bins, POT=onbeam.POT,\n",
    "            systematics=True, syst_weightname=\"all\", \n",
    "            syst_datasets=mc_systs, syst_dataset_cut=cohlike)\n",
    "\n",
    "hnom_bkg, hsyst_bkg = hist.makehist(v, mc, cut=c&(~numu_cc_coh), bins=bins, POT=onbeam.POT,\n",
    "            systematics=True, syst_weightname=\"xsec\")\n",
    "\n",
    "cccoh_err = hist.makecovariance(hnom_cccoh, hsyst_cccoh).flatten()\n",
    "bkg_err = hist.makecovariance(hnom_bkg, hsyst_bkg).flatten()\n",
    "\n",
    "hon, _ = hist.makehist(v, onbeam_half, cut=c, bins=bins, cvweight=False, systematics=False)\n",
    "hoff, _ = hist.makehist(v, offbeam, cut=c, bins=bins, cvweight=False, \n",
    "                        livetime=onbeam_half.livetime, systematics=False)"
   ]
  },
  {
   "cell_type": "code",
   "execution_count": null,
   "id": "29684d71",
   "metadata": {},
   "outputs": [],
   "source": [
    "Nexp_evt = hnom_cccoh.N\n",
    "Nexp_bkg_evt = hnom_bkg.N\n",
    "Nexp_err = np.sqrt(Nexp_evt + Nexp_bkg_evt + bkg_err)\n",
    "Nexp_halfpot_err = np.sqrt((Nexp_evt + Nexp_bkg_evt)/2 + bkg_err/4)"
   ]
  },
  {
   "cell_type": "code",
   "execution_count": null,
   "id": "c9ee117f",
   "metadata": {},
   "outputs": [],
   "source": [
    "Nobs_evt = hon.N - hnom_bkg.N/2\n",
    "Nobs_err = np.sqrt(hon.N + bkg_err/4)"
   ]
  },
  {
   "cell_type": "code",
   "execution_count": null,
   "id": "ae64c35b",
   "metadata": {},
   "outputs": [],
   "source": [
    "def plot_chi2(xs, cv, err):\n",
    "    return (xs-cv)**2 /(2*err**2)\n",
    "\n",
    "xs = np.linspace(-2, 4, 101)\n",
    "\n",
    "plt.plot(xs, plot_chi2(xs, 1, np.sqrt(cccoh_cov)/Nexp_evt), label=\"Prior\")\n",
    "\n",
    "plt.plot(xs, plot_chi2(xs, Nobs_evt/(Nexp_evt/2), Nobs_err/(Nexp_evt/2)), \n",
    "         color=\"black\", linestyle=\":\",\n",
    "         label=\"Obs. Constraint, Half POT\")\n",
    "\n",
    "l1 = plt.plot(xs, plot_chi2(xs, 1, Nexp_err/Nexp_evt), \n",
    "         label=\"Exp. Constraint, Full POT\")\n",
    "\n",
    "plt.plot(xs, plot_chi2(xs, 1, Nexp_halfpot_err/(Nexp_evt/2)), \n",
    "         color=l1[0].get_color(), linestyle=\":\",\n",
    "         label=\"Exp. Constraint, Half POT\")\n",
    "\n",
    "plt.legend(loc='upper center', bbox_to_anchor=(0.5, 1.225), ncol=2)\n",
    "plt.xlabel(\"$\\\\nu_\\\\mu$ CC Coherent-$\\\\pi$ Strength\")\n",
    "plt.ylabel(\"$\\\\Delta \\\\chi^2$\")\n",
    "plt.ylim([0, 2.4])\n",
    "plt.grid()"
   ]
  },
  {
   "cell_type": "code",
   "execution_count": null,
   "id": "4ace7b6c",
   "metadata": {},
   "outputs": [],
   "source": []
  },
  {
   "cell_type": "code",
   "execution_count": null,
   "id": "038488a2",
   "metadata": {},
   "outputs": [],
   "source": []
  },
  {
   "cell_type": "code",
   "execution_count": null,
   "id": "848bb3db",
   "metadata": {},
   "outputs": [],
   "source": [
    "hnom, hsyst = hist.makehist(v, mc, cut=c, bins=bins, POT=onbeam.POT,\n",
    "            systematics=True, syst_weightname=\"all\", \n",
    "            syst_datasets=mc_systs, syst_dataset_cut=cohlike)\n",
    "hcov = hist.makecovariance(hnom, hsyst)\n",
    "\n",
    "hon, _ = hist.makehist(v, onbeam_half, cut=c, bins=bins, cvweight=False, systematics=False)\n",
    "hoff, _ = hist.makehist(v, offbeam, cut=c, bins=bins, cvweight=False, \n",
    "                        livetime=onbeam_half.livetime, systematics=False)"
   ]
  },
  {
   "cell_type": "code",
   "execution_count": null,
   "id": "9e6594cd",
   "metadata": {},
   "outputs": [],
   "source": []
  },
  {
   "cell_type": "code",
   "execution_count": null,
   "id": "aafda020",
   "metadata": {},
   "outputs": [],
   "source": []
  },
  {
   "cell_type": "code",
   "execution_count": null,
   "id": "e80eaf9d",
   "metadata": {},
   "outputs": [],
   "source": [
    "c = cut.fiducial@var.slc &\\\n",
    "    cut.trkfiducial@var.DF.branch.trk & cut.trkfiducial@var.DF.trunk.trk &\\\n",
    "    (var.DF.openangle < 60) &\\\n",
    "    (var.DF.beamangle > 5) & (var.DF.beamangle < 10) &\\\n",
    "    tightmuid & othr_obj_cut & stubid\n",
    "\n",
    "whichevt = pd.Series(False, onbeam_half.hdrdf.index) | c(onbeam_half.df).groupby(level=[0,1]).any()"
   ]
  },
  {
   "cell_type": "code",
   "execution_count": null,
   "id": "9efcbac0",
   "metadata": {},
   "outputs": [],
   "source": [
    "[\"%i:%i\" % (r[1][\"run\"], r[1][\"evt\"]) for r in onbeam.hdrdf.loc[whichevt].iterrows()]"
   ]
  },
  {
   "cell_type": "code",
   "execution_count": null,
   "id": "5b5cb0d6",
   "metadata": {},
   "outputs": [],
   "source": [
    "FILELIST = \"/icarus/app/users/gputnam/DP2023G/ICARUSRun2DataOnBeamMajority_stage0_disk_files_deduped.list\"\n",
    "NFILE_PER_JOB = 5\n",
    "\n",
    "with open(FILELIST) as f:\n",
    "    FILES = [l.rstrip(\"\\n\") for l in f]\n",
    "FILES"
   ]
  },
  {
   "cell_type": "code",
   "execution_count": null,
   "id": "dcabda5b",
   "metadata": {},
   "outputs": [],
   "source": [
    "PROCS = [r[1][\"proc\"].values[0] for r in onbeam.hdrdf.loc[whichevt].iterrows()]\n",
    "files_to_process = [FILES[P*NFILE_PER_JOB:(P+1)*NFILE_PER_JOB] for P in PROCS]\n",
    "files_to_process = [f for files in files_to_process for f in files]\n",
    "len(files_to_process)"
   ]
  },
  {
   "cell_type": "code",
   "execution_count": null,
   "id": "62b9933a",
   "metadata": {},
   "outputs": [],
   "source": [
    "with open(\"/exp/icarus/app/users/gputnam/DP2023G/INTERESTING_FILES.list\", \"w+\") as f:\n",
    "    for fname in files_to_process:\n",
    "        f.write(fname + \"\\n\")"
   ]
  },
  {
   "cell_type": "code",
   "execution_count": null,
   "id": "7a5e4c41",
   "metadata": {},
   "outputs": [],
   "source": [
    "FILELIST = \"/exp/icarus/app/users/gputnam/DP2023G/localProducts_larsoft_v09_72_00_e20_prof/icaruscode/ICARUSRun1OnBeamMajority_2022A_files.list\"\n",
    "NFILE_PER_JOB = 5\n",
    "\n",
    "with open(FILELIST) as f:\n",
    "    FILES = [l.rstrip(\"\\n\") for l in f]\n",
    "FILES"
   ]
  },
  {
   "cell_type": "code",
   "execution_count": null,
   "id": "6ddc456b",
   "metadata": {},
   "outputs": [],
   "source": [
    "PROCS = [r[1][\"proc\"].values[0] for r in onbeam.hdrdf.loc[whichevt].iterrows()]\n",
    "files_to_process = [FILES[P*NFILE_PER_JOB:(P+1)*NFILE_PER_JOB] for P in PROCS]\n",
    "files_to_process = [f for files in files_to_process for f in files]\n",
    "len(files_to_process)"
   ]
  },
  {
   "cell_type": "code",
   "execution_count": null,
   "id": "0a60b950",
   "metadata": {},
   "outputs": [],
   "source": [
    "with open(\"/exp/icarus/app/users/gputnam/DP2023G/INTERESTING_FILES_Run1.list\", \"w+\") as f:\n",
    "    for fname in files_to_process:\n",
    "        f.write(fname + \"\\n\")"
   ]
  },
  {
   "cell_type": "code",
   "execution_count": null,
   "id": "224c7c45",
   "metadata": {},
   "outputs": [],
   "source": []
  },
  {
   "cell_type": "code",
   "execution_count": null,
   "id": "eb35afe9",
   "metadata": {},
   "outputs": [],
   "source": [
    "branches = [\n",
    "    (\"slc\", \"vertex\", \"x\", \"\", \"\", \"\"),\n",
    "    (\"slc\", \"vertex\", \"y\", \"\", \"\", \"\"),\n",
    "    (\"slc\", \"vertex\", \"z\", \"\", \"\", \"\"),\n",
    "    (\"trunk\", \"trk\", \"len\", \"\", \"\", \"\"),\n",
    "    (\"trunk\", \"trk\", \"chi2pid\", \"I2\", \"chi2_muon\", \"\"),\n",
    "    (\"trunk\", \"trk\", \"chi2pid\", \"I2\", \"chi2_proton\", \"\"),\n",
    "    (\"branch\", \"trk\", \"len\", \"\", \"\", \"\"),\n",
    "    (\"branch\", \"trk\", \"chi2pid\", \"I2\", \"chi2_muon\", \"\"),\n",
    "    (\"branch\", \"trk\", \"chi2pid\", \"I2\", \"chi2_proton\", \"\"),\n",
    "]"
   ]
  },
  {
   "cell_type": "code",
   "execution_count": null,
   "id": "b4a6591e",
   "metadata": {},
   "outputs": [],
   "source": [
    "onbeam_half.df.loc[c(onbeam_half.df), branches]"
   ]
  },
  {
   "cell_type": "code",
   "execution_count": null,
   "id": "f04b9fcf",
   "metadata": {},
   "outputs": [],
   "source": [
    "onbeam_half.df.trunk.trk.len"
   ]
  },
  {
   "cell_type": "code",
   "execution_count": null,
   "id": "2d718db5",
   "metadata": {},
   "outputs": [],
   "source": []
  },
  {
   "cell_type": "code",
   "execution_count": null,
   "id": "8396b773",
   "metadata": {},
   "outputs": [],
   "source": [
    "stdcols = mc.df.wgt.coh.columns[1:]\n",
    "stdcols"
   ]
  },
  {
   "cell_type": "code",
   "execution_count": null,
   "id": "fefcd4a3",
   "metadata": {},
   "outputs": [],
   "source": [
    "_ = plt.hist(mc.df.wgt.coh[(mc.df.slc.truth.genie_mode == 3) & c(mc.df)][stdcols].std(1))"
   ]
  },
  {
   "cell_type": "code",
   "execution_count": null,
   "id": "0cc48d69",
   "metadata": {},
   "outputs": [],
   "source": [
    "np.sqrt((mc.df.wgt.coh[(mc.df.slc.truth.genie_mode == 3) & c(mc.df)][stdcols].std(1)**2).mean())"
   ]
  },
  {
   "cell_type": "code",
   "execution_count": null,
   "id": "e75003fd",
   "metadata": {},
   "outputs": [],
   "source": []
  },
  {
   "cell_type": "code",
   "execution_count": null,
   "id": "d5c1a04b",
   "metadata": {},
   "outputs": [],
   "source": [
    "# Sideband study"
   ]
  },
  {
   "cell_type": "code",
   "execution_count": null,
   "id": "c720cdad",
   "metadata": {},
   "outputs": [],
   "source": [
    "ifig = 0\n",
    "\n",
    "for c, ctxt, cdir in zip(cuts, cut_text, cut_dir):\n",
    "    print(ctxt)\n",
    "    if dosave:\n",
    "        os.makedirs(os.path.join(savedir, cdir), exist_ok=True)\n",
    "    for ivar, (v, name, savename, bins) in enumerate(zip(plotvars, plotnames, plotsave, plotbins)):\n",
    "        if ivar not in whichvars: continue\n",
    "            \n",
    "        plt.figure(ifig)\n",
    "\n",
    "        v = v if not isinstance(v, variable.MultiVariable) else v.cv()\n",
    "        hnom,_ = hist.makehist(v, mc, cut=c, bins=bins, POT=onbeam.POT, categories=nucategories, systematics=False)          \n",
    "        _ = plt.hist([h.centers for h in hnom], \n",
    "                    bins=hnom[0].bins, weights=[h.N for h in hnom], \n",
    "                    label=[cat.name for cat in nucategories], stacked=True)\n",
    "        plt.legend(loc=\"upper center\", ncol=3, bbox_to_anchor=(0.5, 1.35))\n",
    "        plt.xlabel(name)\n",
    "        plt.ylabel(\"Events / %s\" % POTSTR)\n",
    "        plt.text(0.95, 0.95, ctxt, transform=plt.gca().transAxes, verticalalignment='top', horizontalalignment=\"right\")\n",
    "\n",
    "        if dosave: \n",
    "            plt.savefig(os.path.join(savedir, cdir, (\"mccv_%s.pdf\" % savename)), bbox_inches=\"tight\")\n",
    "            plt.savefig(os.path.join(savedir, cdir, (\"mccv_%s.svg\" % savename)), bbox_inches=\"tight\")\n",
    "        \n",
    "        ifig += 1 \n",
    "            \n",
    "#     if dosave: \n",
    "#         plt.close(\"all\")"
   ]
  },
  {
   "cell_type": "code",
   "execution_count": null,
   "id": "996c637f",
   "metadata": {},
   "outputs": [],
   "source": []
  },
  {
   "cell_type": "code",
   "execution_count": null,
   "id": "69d6858b",
   "metadata": {},
   "outputs": [],
   "source": []
  },
  {
   "cell_type": "code",
   "execution_count": null,
   "id": "954896fc",
   "metadata": {},
   "outputs": [],
   "source": []
  },
  {
   "cell_type": "code",
   "execution_count": null,
   "id": "9bf6c6fa",
   "metadata": {},
   "outputs": [],
   "source": []
  },
  {
   "cell_type": "code",
   "execution_count": null,
   "id": "b6c59e1d",
   "metadata": {},
   "outputs": [],
   "source": [
    "whichvars"
   ]
  },
  {
   "cell_type": "code",
   "execution_count": null,
   "id": "61cc095f",
   "metadata": {},
   "outputs": [],
   "source": [
    "othr_obj_cut = ~((var.DF.max_shw_len_primary > 15) | (var.DF.max_othr_trk_len > 20) |\\\n",
    "                 (var.DF.min_othr_chi2_proton_all < 80))\n",
    "\n",
    "trunk_muid = (var.DF.trunk.trk.len > 25) & (var.DF.trunk.trk.chi2pid.I2.chi2_muon < 10) &\\\n",
    "    (var.DF.trunk.trk.chi2pid.I2.chi2_proton > 80) & (var.DF.trunk_mcs_range < 0.5)\n",
    "branch_muid = (var.DF.branch.trk.len > 25) & (var.DF.branch.trk.chi2pid.I2.chi2_muon < 10) &\\\n",
    "    (var.DF.branch.trk.chi2pid.I2.chi2_proton > 80) & (var.DF.branch_mcs_range < 0.5)\n",
    "\n",
    "hasstub = (var.DF.stub.l0_5cm.dqdx > 5e5) | (var.DF.stub.l1cm.dqdx > 3e5) |\\\n",
    "    (var.DF.stub.l2cm.dqdx > 2.5e5) | (var.DF.stub.l3cm.dqdx > 2e5)\n",
    "\n",
    "stubid = ~hasstub"
   ]
  },
  {
   "cell_type": "code",
   "execution_count": null,
   "id": "d2d68b7e",
   "metadata": {},
   "outputs": [],
   "source": [
    "othr_obj_cut = ~((var.DF.max_shw_len_primary > 10) | (var.DF.max_othr_trk_len > 20) |\\\n",
    "                 (var.DF.min_othr_chi2_proton < 80) | (var.DF.max_othr_chi2_muon > 40))\n",
    "\n",
    "# othr_obj_cut = ~((var.DF.max_shw_len > 15) | (var.DF.max_othr_trk_len > 20) |\\\n",
    "#                  (var.DF.min_othr_chi2_proton_all < 80) | (var.DF.max_othr_chi2_muon > 40))\n",
    "\n",
    "trunk_muid = (var.DF.trunk.trk.len > 25) & (var.DF.trunk.trk.chi2pid.I2.chi2_muon < 10) &\\\n",
    "    (var.DF.trunk.trk.chi2pid.I2.chi2_proton > 80) & (var.DF.trunk_mcs_range < 0.5)\n",
    "branch_muid = (var.DF.branch.trk.len > 25) & (var.DF.branch.trk.chi2pid.I2.chi2_muon < 10) &\\\n",
    "    (var.DF.branch.trk.chi2pid.I2.chi2_proton > 80) & (var.DF.branch_mcs_range < 0.5)"
   ]
  },
  {
   "cell_type": "code",
   "execution_count": null,
   "id": "d668cf5f",
   "metadata": {},
   "outputs": [],
   "source": [
    "nmu = mc.df.slc.truth.iscc & (np.abs(mc.df.slc.truth.pdg) == 14)\n",
    "ns = (np.abs(mc.df.slc.truth.p0.pdg) == 3112) + (np.abs(mc.df.slc.truth.p0.pdg) == 3222) +\\\n",
    "      (np.abs(mc.df.slc.truth.p1.pdg) == 3112) + (np.abs(mc.df.slc.truth.p1.pdg) == 3222)\n",
    "is_coh_like = (mc.df.slc.truth.max_proton_ke < 0.05) & (mc.df.slc.truth.npi + nmu + ns >= 2)"
   ]
  },
  {
   "cell_type": "code",
   "execution_count": null,
   "id": "374f5eee",
   "metadata": {},
   "outputs": [],
   "source": [
    "when = cut.fiducial@var.slc &\\\n",
    "    cut.trkfiducial@var.DF.branch.trk & cut.trkfiducial@var.DF.trunk.trk &\\\n",
    "    (var.DF.openangle < 0.5*180/np.pi) &\\\n",
    "    trunk_muid & branch_muid & othr_obj_cut"
   ]
  },
  {
   "cell_type": "code",
   "execution_count": null,
   "id": "f5d9add6",
   "metadata": {},
   "outputs": [],
   "source": [
    "c = when(mc.df)"
   ]
  },
  {
   "cell_type": "code",
   "execution_count": null,
   "id": "a676eca5",
   "metadata": {},
   "outputs": [],
   "source": [
    "(c & is_coh_like).sum() / c.sum()"
   ]
  },
  {
   "cell_type": "code",
   "execution_count": null,
   "id": "5e6012b7",
   "metadata": {},
   "outputs": [],
   "source": [
    "(2*onbeam.POT / mc.POT)*mc.df.wgt.cv[c].sum()"
   ]
  },
  {
   "cell_type": "code",
   "execution_count": null,
   "id": "b73eae5c",
   "metadata": {},
   "outputs": [],
   "source": [
    "2*onbeam.POT"
   ]
  },
  {
   "cell_type": "code",
   "execution_count": null,
   "id": "cf0e39cd",
   "metadata": {},
   "outputs": [],
   "source": [
    "v = var.DF.beamangle(mc.df)\n",
    "whens = [c & is_coh_like, c & ~is_coh_like]\n",
    "labels = [\"Coh-Like\", \"Not-Coh-Like\"]\n",
    "\n",
    "_ = plt.hist([v[w] for w in whens], label=labels, stacked=True, bins=np.linspace(0, 75, 11))\n",
    "plt.legend()\n",
    "plt.xlabel(\"$\\\\theta_\\\\mathrm{NuMI}$\")\n",
    "plt.ylabel(\"Events / Data POT\")\n",
    "plt.title(\"Selected Di-Muon Decay Candidates\")\n",
    "plt.axvline(7.5, color=\"red\", linestyle=\":\", linewidth=2)\n",
    "plt.text(0.01, 0.8, \"Signal\\nRegion\", color=\"red\", transform=plt.gca().transAxes, fontsize=12)"
   ]
  },
  {
   "cell_type": "raw",
   "id": "62e4b5d2",
   "metadata": {},
   "source": [
    "cols = [\n",
    "    \"min_othr_chi2_proton\",\n",
    "    \"max_othr_chi2_muon\",\n",
    "    \"min_othr_chi2_proton_primary\",\n",
    "    \"max_othr_chi2_muon_primary\",\n",
    "    \"min_othr_chi2_proton_all\",\n",
    "    \"max_othr_chi2_muon_all\",\n",
    "    \n",
    "    \"max_shw_len\",\n",
    "    \"max_shw_len_all\",\n",
    "    \"max_shw_len_primary\",\n",
    "\n",
    "    \"max_othr_trk_len\",\n",
    "    \"max_othr_trk_len_all\",\n",
    "    \"max_othr_trk_len_primary\",\n",
    "    \n",
    "]"
   ]
  },
  {
   "cell_type": "code",
   "execution_count": null,
   "id": "672747c7",
   "metadata": {},
   "outputs": [],
   "source": [
    "for i, col in enumerate(cols):\n",
    "    plt.figure(i)\n",
    "    \n",
    "    N,bins,_ = plt.hist(mc.df[c & ~is_coh_like][col], histtype=\"step\")\n",
    "    plt.hist(mc.df[c & is_coh_like][col], bins=bins, histtype=\"step\")\n",
    "    plt.xlabel(col)"
   ]
  },
  {
   "cell_type": "code",
   "execution_count": null,
   "id": "52fda5d0",
   "metadata": {},
   "outputs": [],
   "source": [
    "mc.df[(c & ~is_coh_like)].slc.truth.p0"
   ]
  },
  {
   "cell_type": "code",
   "execution_count": null,
   "id": "1369d355",
   "metadata": {},
   "outputs": [],
   "source": [
    "mc.df[(c & ~is_coh_like)].slc.truth.p1"
   ]
  },
  {
   "cell_type": "code",
   "execution_count": null,
   "id": "9ca6e065",
   "metadata": {},
   "outputs": [],
   "source": [
    "mc.df[(c & ~is_coh_like)].trunk.trk.truth"
   ]
  },
  {
   "cell_type": "code",
   "execution_count": null,
   "id": "90d5702b",
   "metadata": {},
   "outputs": [],
   "source": [
    "mc.df[(c & ~is_coh_like)].branch.trk.truth"
   ]
  },
  {
   "cell_type": "code",
   "execution_count": null,
   "id": "99781764",
   "metadata": {},
   "outputs": [],
   "source": [
    "mc.df[(c & ~is_coh_like) & (mc.df.branch.trk.truth.p.pdg == 2212)].branch.trk.chi2pid"
   ]
  },
  {
   "cell_type": "code",
   "execution_count": null,
   "id": "fbe710f3",
   "metadata": {},
   "outputs": [],
   "source": [
    "[\"%i:%i\" % (r[1][\"run\"], r[1][\"evt\"]) for r in onbeam.hdrdf.loc[whichevt].iterrows()]"
   ]
  },
  {
   "cell_type": "code",
   "execution_count": null,
   "id": "121d6e47",
   "metadata": {},
   "outputs": [],
   "source": [
    "FILELIST = \"/icarus/app/users/gputnam/DP2023G/ICARUSRun2DataOnBeamMajority_stage0_disk_files_deduped.list\"\n",
    "NFILE_PER_JOB = 5\n",
    "\n",
    "with open(FILELIST) as f:\n",
    "    FILES = [l.rstrip(\"\\n\") for l in f]\n",
    "FILES"
   ]
  },
  {
   "cell_type": "code",
   "execution_count": null,
   "id": "8754a032",
   "metadata": {},
   "outputs": [],
   "source": [
    "PROCS = [r[1][\"proc\"].values[0] for r in onbeam.hdrdf.loc[whichevt].iterrows()]\n",
    "files_to_process = [FILES[P*NFILE_PER_JOB:(P+1)*NFILE_PER_JOB] for P in PROCS]\n",
    "files_to_process = [f for files in files_to_process for f in files]\n",
    "len(files_to_process)"
   ]
  },
  {
   "cell_type": "code",
   "execution_count": null,
   "id": "f7ab8e82",
   "metadata": {},
   "outputs": [],
   "source": [
    "with open(\"/icarus/app/users/gputnam/DP2023G/INTERESTING_FILES.list\", \"w+\") as f:\n",
    "    for fname in files_to_process:\n",
    "        f.write(fname + \"\\n\")"
   ]
  },
  {
   "cell_type": "code",
   "execution_count": null,
   "id": "53041856",
   "metadata": {},
   "outputs": [],
   "source": [
    "[r for r in onbeam.hdrdf.loc[whichevt].iterrows()][0][1]"
   ]
  },
  {
   "cell_type": "code",
   "execution_count": null,
   "id": "967b05d7",
   "metadata": {},
   "outputs": [],
   "source": [
    "# Run 1 only test"
   ]
  },
  {
   "cell_type": "code",
   "execution_count": null,
   "id": "bc0ba378",
   "metadata": {},
   "outputs": [],
   "source": [
    "ifig = 0\n",
    "\n",
    "onbeam_tmp = onbeam\n",
    "offbeam_tmp = offbeam\n",
    "\n",
    "onbeam = Dataset(onbeam.df[onbeam.df.Run1], onbeamR1.livetime, onbeamR1.POT)\n",
    "offbeam = Dataset(offbeam.df[offbeam.df.Run1], offbeamR1.livetime, offbeamR1.POT)\n",
    "\n",
    "for c, ctxt, cdir in zip(cuts[:3], cut_text[:3], cut_dir[:3]):\n",
    "    ctxt = ctxt + \"\\nRun 1\"\n",
    "    cdir = cdir + \"_Run1\"\n",
    "    print(ctxt)\n",
    "    if dosave:\n",
    "        os.makedirs(os.path.join(savedir, cdir), exist_ok=True)\n",
    "    for v, name, savename, bins in zip(plotvars, plotnames, plotsave, plotbins):\n",
    "        plt.figure(ifig)\n",
    "\n",
    "        fig, (p0, p1) = mcdata_plot(v, bins, c, nucategories, name, \"Slices\")\n",
    "        p0.text(0.9, 0.85, ctxt, transform=p0.transAxes, verticalalignment='top', horizontalalignment=\"right\")\n",
    "        \n",
    "        if dosave: \n",
    "            plt.savefig(os.path.join(savedir, cdir, (\"%s.svg\" % savename)), bbox_inches=\"tight\")\n",
    "            plt.savefig(os.path.join(savedir, cdir, (\"%s.pdf\" % savename)), bbox_inches=\"tight\")\n",
    "        \n",
    "        ifig += 1        \n",
    "    if dosave: \n",
    "        plt.close(\"all\")"
   ]
  },
  {
   "cell_type": "code",
   "execution_count": null,
   "id": "6707b3ae",
   "metadata": {},
   "outputs": [],
   "source": [
    "onbeam = onbeam_tmp\n",
    "offbeam = offbeam_tmp"
   ]
  },
  {
   "cell_type": "code",
   "execution_count": null,
   "id": "e9b4fcb7",
   "metadata": {},
   "outputs": [],
   "source": [
    "# Run 2 only test"
   ]
  },
  {
   "cell_type": "code",
   "execution_count": null,
   "id": "99a55455",
   "metadata": {},
   "outputs": [],
   "source": [
    "ifig = 0\n",
    "\n",
    "onbeam = Dataset(onbeam.df[onbeam.df.Run2], onbeamR2.livetime, onbeamR2.POT)\n",
    "offbeam = Dataset(offbeam.df[offbeam.df.Run2], offbeamR2.livetime, offbeamR2.POT)\n",
    "\n",
    "for c, ctxt, cdir in zip(cuts[:3], cut_text[:3], cut_dir[:3]):\n",
    "    ctxt = ctxt + \"\\nRun 2\"\n",
    "    cdir = cdir + \"_Run2\"\n",
    "    print(ctxt)\n",
    "    if dosave:\n",
    "        os.makedirs(os.path.join(savedir, cdir), exist_ok=True)\n",
    "    for v, name, savename, bins in zip(plotvars, plotnames, plotsave, plotbins):\n",
    "        plt.figure(ifig)\n",
    "\n",
    "        fig, (p0, p1) = mcdata_plot(v, bins, c, nucategories, name, \"Slices\")\n",
    "        p0.text(0.9, 0.85, ctxt, transform=p0.transAxes, verticalalignment='top', horizontalalignment=\"right\")\n",
    "        \n",
    "        if dosave: \n",
    "            plt.savefig(os.path.join(savedir, cdir, (\"%s.pdf\" % savename)), bbox_inches=\"tight\")\n",
    "        \n",
    "        ifig += 1        \n",
    "    if dosave: \n",
    "        plt.close(\"all\")"
   ]
  },
  {
   "cell_type": "code",
   "execution_count": null,
   "id": "98b1ad7a",
   "metadata": {},
   "outputs": [],
   "source": [
    "onbeam = onbeam_tmp\n",
    "offbeam = offbeam_tmp"
   ]
  },
  {
   "cell_type": "code",
   "execution_count": null,
   "id": "963aebf8",
   "metadata": {},
   "outputs": [],
   "source": []
  },
  {
   "cell_type": "code",
   "execution_count": null,
   "id": "c710cf79",
   "metadata": {},
   "outputs": [],
   "source": []
  }
 ],
 "metadata": {
  "kernelspec": {
   "display_name": "Python 3 (ipykernel)",
   "language": "python",
   "name": "python3"
  },
  "language_info": {
   "codemirror_mode": {
    "name": "ipython",
    "version": 3
   },
   "file_extension": ".py",
   "mimetype": "text/x-python",
   "name": "python",
   "nbconvert_exporter": "python",
   "pygments_lexer": "ipython3",
   "version": "3.9.2"
  }
 },
 "nbformat": 4,
 "nbformat_minor": 5
}

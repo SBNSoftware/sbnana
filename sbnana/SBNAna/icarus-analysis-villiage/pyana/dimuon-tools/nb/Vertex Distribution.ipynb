{
 "cells": [
  {
   "cell_type": "code",
   "execution_count": null,
   "id": "78657373",
   "metadata": {},
   "outputs": [],
   "source": [
    "1+1"
   ]
  },
  {
   "cell_type": "code",
   "execution_count": null,
   "id": "22bf45a0",
   "metadata": {},
   "outputs": [],
   "source": [
    "import uproot\n",
    "import matplotlib.pyplot as plt \n",
    "import pandas as pd \n",
    "import numpy as np \n",
    "import matplotlib as mpl\n",
    "\n",
    "import os\n",
    "import multiprocessing"
   ]
  },
  {
   "cell_type": "code",
   "execution_count": null,
   "id": "306690fd",
   "metadata": {},
   "outputs": [],
   "source": [
    "plt.rcParams.update({'font.size': 14})\n"
   ]
  },
  {
   "cell_type": "code",
   "execution_count": null,
   "id": "28acc23e",
   "metadata": {},
   "outputs": [],
   "source": [
    "f = \"/icarus/data/users/gputnam/DMCP2023G/data-reprod-D/NuMIMajorityRun1OnBeam_slc.df\""
   ]
  },
  {
   "cell_type": "code",
   "execution_count": null,
   "id": "91619cbc",
   "metadata": {},
   "outputs": [],
   "source": [
    "df = pd.read_hdf(f, \"slc\")"
   ]
  },
  {
   "cell_type": "code",
   "execution_count": null,
   "id": "50a7da4f",
   "metadata": {},
   "outputs": [],
   "source": [
    "df.slc.vertex.y"
   ]
  },
  {
   "cell_type": "code",
   "execution_count": null,
   "id": "b84cf99b",
   "metadata": {},
   "outputs": [],
   "source": [
    "binx = np.linspace(-500, 500, 101)"
   ]
  },
  {
   "cell_type": "code",
   "execution_count": null,
   "id": "1a730494",
   "metadata": {},
   "outputs": [],
   "source": [
    "INX = 10\n",
    "\n",
    "df[\"tpcEE\"] = (df.slc.vertex.x > -358.49 + INX) & (df.slc.vertex.x < -210.29 - INX)\n",
    "df[\"tpcEW\"] = (df.slc.vertex.x > -210.14 + INX) & (df.slc.vertex.x < -61.94 - INX)\n",
    "\n",
    "df[\"tpcWE\"] = (df.slc.vertex.x < 210.14 - INX) & (df.slc.vertex.x > 61.94 + INX)\n",
    "df[\"tpcWW\"] = (df.slc.vertex.x < 358.49 - INX) & (df.slc.vertex.x > 210.29 + INX)"
   ]
  },
  {
   "cell_type": "code",
   "execution_count": null,
   "id": "b4924937",
   "metadata": {},
   "outputs": [],
   "source": [
    "when = (df.slc.is_clear_cosmic == 0)"
   ]
  },
  {
   "cell_type": "code",
   "execution_count": null,
   "id": "8c8fe20a",
   "metadata": {},
   "outputs": [],
   "source": [
    "_ = plt.hist(df.slc.vertex.x[when], bins=binx)"
   ]
  },
  {
   "cell_type": "code",
   "execution_count": null,
   "id": "625ca6a7",
   "metadata": {},
   "outputs": [],
   "source": [
    "biny = np.linspace(-180, 120, 16)\n",
    "binz = np.linspace(-900, 900, 91)\n",
    "\n",
    "binz = binz[1:]\n",
    "biny = biny[1:-1]"
   ]
  },
  {
   "cell_type": "code",
   "execution_count": null,
   "id": "6204bbb5",
   "metadata": {},
   "outputs": [],
   "source": [
    "plt.figure(0, figsize=(20, 4))\n",
    "_  = plt.hist2d(df[:1000].slc.vertex.z, df[:1000].slc.vertex.y, bins=[binz, biny])\n",
    "\n",
    "cbar = plt.colorbar(pad=0.01)\n",
    "plt.ylabel(\"Detector Y [cm]\")\n",
    "plt.xlabel(\"Detector Z [cm]\")\n",
    "plt.title(\"TPC EE\", loc=\"right\")\n",
    "cbar.set_label('#Vertices', rotation=270, labelpad=15)\n",
    "for b in biny:\n",
    "    plt.axhline([b], color=\"r\", linewidth=2)\n",
    "for b in binz:\n",
    "    plt.axvline([b], color=\"r\", linewidth=2)"
   ]
  },
  {
   "cell_type": "code",
   "execution_count": null,
   "id": "c964590b",
   "metadata": {},
   "outputs": [],
   "source": [
    "plt.figure(0, figsize=(20, 4))\n",
    "_  = plt.hist2d(df.slc.vertex.z[when & df.tpcEE], df.slc.vertex.y[when & df.tpcEE], bins=[binz, biny])\n",
    "\n",
    "cbar = plt.colorbar(pad=0.01)\n",
    "plt.ylabel(\"Detector Y [cm]\")\n",
    "plt.xlabel(\"Detector Z [cm]\")\n",
    "plt.title(\"TPC EE\", loc=\"right\")\n",
    "cbar.set_label('#Vertices', rotation=270, labelpad=15)\n",
    "# for b in biny:\n",
    "#     plt.axhline([b], color=\"r\", linewidth=2)\n",
    "# for b in binz:\n",
    "#     plt.axvline([b], color=\"r\", linewidth=2)"
   ]
  },
  {
   "cell_type": "code",
   "execution_count": null,
   "id": "360db707",
   "metadata": {},
   "outputs": [],
   "source": [
    "plt.figure(0, figsize=(20, 4))\n",
    "_  = plt.hist2d(df.slc.vertex.z[when & df.tpcEW], df.slc.vertex.y[when & df.tpcEW], bins=[binz, biny])\n",
    "\n",
    "cbar = plt.colorbar(pad=0.01)\n",
    "plt.ylabel(\"Detector Y [cm]\")\n",
    "plt.xlabel(\"Detector Z [cm]\")\n",
    "plt.title(\"TPC EW\", loc=\"right\")\n",
    "cbar.set_label('#Vertices', rotation=270, labelpad=15)"
   ]
  },
  {
   "cell_type": "code",
   "execution_count": null,
   "id": "e38095f5",
   "metadata": {},
   "outputs": [],
   "source": [
    "plt.figure(0, figsize=(20, 4))\n",
    "_  = plt.hist2d(df.slc.vertex.z[when & df.tpcWE], df.slc.vertex.y[when & df.tpcWE], \n",
    "                bins=[binz, biny])\n",
    "\n",
    "cbar = plt.colorbar(pad=0.01)\n",
    "plt.ylabel(\"Detector Y [cm]\")\n",
    "plt.xlabel(\"Detector Z [cm]\")\n",
    "plt.title(\"TPC WE\", loc=\"right\")\n",
    "cbar.set_label('#Vertices', rotation=270, labelpad=15)"
   ]
  },
  {
   "cell_type": "code",
   "execution_count": null,
   "id": "6adaba04",
   "metadata": {},
   "outputs": [],
   "source": [
    "plt.figure(0, figsize=(20, 4))\n",
    "_  = plt.hist2d(df.slc.vertex.z[when & df.tpcWW], df.slc.vertex.y[when & df.tpcWW], bins=[binz, biny])\n",
    "\n",
    "cbar = plt.colorbar(pad=0.01)\n",
    "plt.ylabel(\"Detector Y [cm]\")\n",
    "plt.xlabel(\"Detector Z [cm]\")\n",
    "plt.title(\"TPC WW\", loc=\"right\")\n",
    "cbar.set_label('#Vertices', rotation=270, labelpad=15)"
   ]
  },
  {
   "cell_type": "code",
   "execution_count": null,
   "id": "3df777f0",
   "metadata": {},
   "outputs": [],
   "source": []
  },
  {
   "cell_type": "code",
   "execution_count": null,
   "id": "46c7bcc5",
   "metadata": {},
   "outputs": [],
   "source": []
  }
 ],
 "metadata": {
  "kernelspec": {
   "display_name": "Python 3 (ipykernel)",
   "language": "python",
   "name": "python3"
  },
  "language_info": {
   "codemirror_mode": {
    "name": "ipython",
    "version": 3
   },
   "file_extension": ".py",
   "mimetype": "text/x-python",
   "name": "python",
   "nbconvert_exporter": "python",
   "pygments_lexer": "ipython3",
   "version": "3.9.2"
  }
 },
 "nbformat": 4,
 "nbformat_minor": 5
}

{
 "cells": [
  {
   "cell_type": "code",
   "execution_count": null,
   "id": "0dcc6afb",
   "metadata": {},
   "outputs": [],
   "source": [
    "import uproot\n",
    "import matplotlib.pyplot as plt \n",
    "import pandas as pd \n",
    "import numpy as np \n",
    "import matplotlib as mpl\n",
    "\n",
    "from util import *\n",
    "import var\n",
    "import cut\n",
    "import data\n",
    "import hist\n",
    "\n",
    "import importlib\n",
    "\n",
    "from pyanalib import panda_helpers"
   ]
  },
  {
   "cell_type": "code",
   "execution_count": null,
   "id": "d6da64b2",
   "metadata": {},
   "outputs": [],
   "source": [
    "mpl.rc('font', size=14)\n",
    "\n",
    "dosave = True\n",
    "savedir = \"./plots_1_4_24/preselction_plots/\"\n",
    "\n",
    "import warnings\n",
    "\n",
    "warnings.simplefilter(action='ignore', category=pd.errors.PerformanceWarning)"
   ]
  },
  {
   "cell_type": "code",
   "execution_count": null,
   "id": "baf6a8b9",
   "metadata": {},
   "outputs": [],
   "source": [
    "MASS = 300"
   ]
  },
  {
   "cell_type": "code",
   "execution_count": null,
   "id": "6f726038",
   "metadata": {},
   "outputs": [],
   "source": [
    "f = \"/icarus/data/users/gputnam/DMCP2023G/mc-F/F2-Higgs_M%i_nom_trk.df\" % MASS"
   ]
  },
  {
   "cell_type": "code",
   "execution_count": null,
   "id": "24ea200b",
   "metadata": {},
   "outputs": [],
   "source": [
    "DIST_CUT = 10"
   ]
  },
  {
   "cell_type": "code",
   "execution_count": null,
   "id": "2f98cb08",
   "metadata": {},
   "outputs": [],
   "source": [
    "df = pd.read_hdf(f, key=\"trk\")"
   ]
  },
  {
   "cell_type": "code",
   "execution_count": null,
   "id": "214dbcff",
   "metadata": {},
   "outputs": [],
   "source": [
    "mcdf = pd.read_hdf(f, key=\"mcnu\")"
   ]
  },
  {
   "cell_type": "code",
   "execution_count": null,
   "id": "ccb22a26",
   "metadata": {},
   "outputs": [],
   "source": [
    "mcdf"
   ]
  },
  {
   "cell_type": "code",
   "execution_count": null,
   "id": "f2f178ea",
   "metadata": {},
   "outputs": [],
   "source": [
    "df"
   ]
  },
  {
   "cell_type": "code",
   "execution_count": null,
   "id": "e48a0b72",
   "metadata": {},
   "outputs": [],
   "source": [
    "slc_is_reco = SlcInFV(df.slc.vertex) & (df.slc.tmatch.idx == 0)"
   ]
  },
  {
   "cell_type": "code",
   "execution_count": null,
   "id": "d54de7a5",
   "metadata": {},
   "outputs": [],
   "source": [
    "two_particles = (df.pfp.dist_to_vertex < DIST_CUT).groupby(level=[0,1,2]).sum() >= 2"
   ]
  },
  {
   "cell_type": "code",
   "execution_count": null,
   "id": "e7217fbd",
   "metadata": {},
   "outputs": [],
   "source": [
    "two_contained_particles = ((df.pfp.dist_to_vertex < DIST_CUT) & TrkInFV(df.pfp.trk.end)).groupby(level=[0,1,2]).sum() >= 2"
   ]
  },
  {
   "cell_type": "code",
   "execution_count": null,
   "id": "ed8af203",
   "metadata": {},
   "outputs": [],
   "source": [
    "muid = (df.pfp.dist_to_vertex < DIST_CUT) & TrkInFV(df.pfp.trk.end) & (df.pfp.trk.len > 10) &\\\n",
    "    (df.pfp.trk.chi2pid.I2.chi2_proton > 80) & (df.pfp.trk.chi2pid.I2.chi2_muon < 30)\n",
    "\n",
    "two_muids = muid.groupby(level=[0,1,2]).sum() >= 2"
   ]
  },
  {
   "cell_type": "code",
   "execution_count": null,
   "id": "a366b0c5",
   "metadata": {},
   "outputs": [],
   "source": [
    "two_tracks = ((df.pfp.dist_to_vertex < DIST_CUT) & (df.pfp.trackScore > 0.5)).groupby(level=[0,1,2]).sum() >= 2"
   ]
  },
  {
   "cell_type": "code",
   "execution_count": null,
   "id": "fb528abe",
   "metadata": {},
   "outputs": [],
   "source": [
    "good_reco = (dmagdf(df.pfp.trk.start, df.pfp.trk.truth.p.start) < DIST_CUT) &\\\n",
    "    (dmagdf(df.pfp.trk.end, df.pfp.trk.truth.p.end) < DIST_CUT)"
   ]
  },
  {
   "cell_type": "code",
   "execution_count": null,
   "id": "c54c37a5",
   "metadata": {},
   "outputs": [],
   "source": [
    "truthmatch = (df.slc.tmatch.idx == 0) &\\\n",
    "    (df.pfp.trk.truth.p.interaction_id == 0) &\\\n",
    "    (df.pfp.trk.truth.p.start_process == 0)\n",
    "\n",
    "truthmatch_pos = truthmatch & (df.pfp.trk.truth.p.pdg == 13)\n",
    "truthmatch_neg = truthmatch & (df.pfp.trk.truth.p.pdg == -13)\n",
    "\n",
    "good_truthmatch = truthmatch_pos.groupby(level=[0,1,2]).any() & truthmatch_neg.groupby(level=[0,1,2]).any()"
   ]
  },
  {
   "cell_type": "code",
   "execution_count": null,
   "id": "9573a51c",
   "metadata": {},
   "outputs": [],
   "source": [
    "good_recomatch = good_reco & good_truthmatch"
   ]
  },
  {
   "cell_type": "code",
   "execution_count": null,
   "id": "3aad5d57",
   "metadata": {},
   "outputs": [],
   "source": [
    "cuts = [\n",
    "    slc_is_reco,\n",
    "    two_contained_particles,\n",
    "    two_muids,\n",
    "    two_tracks,\n",
    "]\n",
    "\n",
    "cutnames = [\n",
    "    \"Slice Reconstructed\",\n",
    "    \"Two PFParticles < %.0f cm to Vertex\" % DIST_CUT,\n",
    "    \"Two Muons < %.0f cm to Vertex\" % DIST_CUT,\n",
    "    \"Two Tracks < %.0f cm to Vertex\" % DIST_CUT,\n",
    "]"
   ]
  },
  {
   "cell_type": "code",
   "execution_count": null,
   "id": "af736520",
   "metadata": {},
   "outputs": [],
   "source": [
    "bins = np.linspace(0, 5, 11)\n",
    "when_all = SlcInFV(mcdf.position) & (mcdf.npi == 0) & (mcdf.npi0 == 0) &\\\n",
    "    TrkInFV(mcdf.p0.end) & TrkInFV(mcdf.p1.end) \n",
    "\n",
    "when_cut = when_all\n",
    "for c, name in zip(cuts, cutnames):\n",
    "    when_cut = when_cut & (c).groupby(level=[0, 1]).any()\n",
    "\n",
    "    D, _ = np.histogram(mcdf[when_all].E, bins=bins)\n",
    "    N, _ = np.histogram(mcdf[when_cut].E, bins=bins)  \n",
    "\n",
    "    centers = (bins[1:] + bins[:-1])/2.\n",
    "\n",
    "    plt.plot(centers, N/D, label=name)\n",
    "    \n",
    "    \n",
    "plt.legend()\n"
   ]
  },
  {
   "cell_type": "code",
   "execution_count": null,
   "id": "b12fc174",
   "metadata": {},
   "outputs": [],
   "source": [
    "cuts = [\n",
    "    good_recomatch,\n",
    "    two_contained_particles,\n",
    "    two_muids,\n",
    "]\n",
    "\n",
    "cutnames = [\n",
    "    \"Two Tracks < %.0fcm\\nto Vertex\" % DIST_CUT,\n",
    "    \"Both Contained\",\n",
    "    \"Both Muon ID'd\",\n",
    "]"
   ]
  },
  {
   "cell_type": "code",
   "execution_count": null,
   "id": "9ea4fd6f",
   "metadata": {},
   "outputs": [],
   "source": [
    "bins = np.linspace(0, 5, 11)\n",
    "when_all = SlcInFV(mcdf.position) & (mcdf.npi == 0) & (mcdf.npi0 == 0) &\\\n",
    "    TrkInFV(mcdf.p0.end) & TrkInFV(mcdf.p1.end)\n",
    "\n",
    "when_cut = when_all\n",
    "for c, name in zip(cuts, cutnames):\n",
    "    when_cut = when_cut & (c).groupby(level=[0, 1]).any()\n",
    "\n",
    "    D, _ = np.histogram(mcdf[when_all].E, bins=bins)\n",
    "    N, _ = np.histogram(mcdf[when_cut].E, bins=bins)  \n",
    "\n",
    "    centers = (bins[1:] + bins[:-1])/2.\n",
    "\n",
    "    plt.plot(centers, N/D, label=name)\n",
    "    \n",
    "plt.legend(loc=\"lower left\")\n",
    "\n",
    "plt.xlabel(\"Scalar Energy [GeV]\")\n",
    "plt.ylabel(\"Selection Fraction\")\n",
    "plt.title(\"Scalar Portal, $M_S = %i$ MeV\" % MASS)\n",
    "\n",
    "if dosave: plt.savefig(savedir + \"scalar_good_reco_M%i_eff.pdf\" % MASS)"
   ]
  },
  {
   "cell_type": "code",
   "execution_count": null,
   "id": "2161f935",
   "metadata": {},
   "outputs": [],
   "source": [
    "lencuts = np.linspace(2, 30, 15)\n",
    "\n",
    "when_all = SlcInFV(mcdf.position) & (mcdf.npi == 0) & (mcdf.npi0 == 0) &\\\n",
    "    TrkInFV(mcdf.p0.end) & TrkInFV(mcdf.p1.end)\n",
    "\n",
    "effs = []\n",
    "\n",
    "for l in lencuts:\n",
    "    thismuid = (df.pfp.dist_to_vertex < l) & TrkInFV(df.pfp.trk.end) & (df.pfp.trk.len > 10) &\\\n",
    "        (df.pfp.trk.chi2pid.I2.chi2_proton > 80) & (df.pfp.trk.chi2pid.I2.chi2_muon < 30)\n",
    "\n",
    "    two_thismuids = thismuid.groupby(level=[0,1,2]).sum() >= 2\n",
    "    \n",
    "    when_cut = (good_recomatch & two_thismuids).groupby(level=[0, 1]).any()\n",
    "\n",
    "    eff = when_cut.sum() / when_all.sum()\n",
    "    \n",
    "    effs.append(eff)"
   ]
  },
  {
   "cell_type": "code",
   "execution_count": null,
   "id": "38222e8c",
   "metadata": {},
   "outputs": [],
   "source": [
    "plt.plot(lencuts, np.array(effs)*100)\n",
    "plt.xlabel(\"Track Distance to Vertex Cut [cm]\")\n",
    "plt.ylabel(\"Muon ID Efficiency [%]\")\n",
    "plt.title(\"Scalar Portal, $M_S = %i$ MeV\" % MASS)\n",
    "\n",
    "plt.axvline(DIST_CUT, color=\"red\", linestyle=\"--\")\n",
    "\n",
    "if dosave: plt.savefig(savedir + \"vtxdist_cut_eff_M%i_eff.pdf\" % MASS)"
   ]
  },
  {
   "cell_type": "code",
   "execution_count": null,
   "id": "4711a5fb",
   "metadata": {},
   "outputs": [],
   "source": []
  },
  {
   "cell_type": "code",
   "execution_count": null,
   "id": "fc44bb95",
   "metadata": {},
   "outputs": [],
   "source": []
  },
  {
   "cell_type": "code",
   "execution_count": null,
   "id": "8c8eb72b",
   "metadata": {},
   "outputs": [],
   "source": [
    "interesting_mcdf = when_all & two_particles.groupby(level=[0,1]).any() & ~two_tracks.groupby(level=[0,1]).any()"
   ]
  },
  {
   "cell_type": "code",
   "execution_count": null,
   "id": "18e2a9a3",
   "metadata": {},
   "outputs": [],
   "source": [
    "mcdf[interesting_mcdf].position"
   ]
  },
  {
   "cell_type": "code",
   "execution_count": null,
   "id": "b3ebe9f3",
   "metadata": {},
   "outputs": [],
   "source": [
    "good_scalar = (mcdf.npi == 0) & (mcdf.npi0 == 0) &\\\n",
    "    TrkInFV(mcdf.p0.end) & TrkInFV(mcdf.p1.end)"
   ]
  },
  {
   "cell_type": "code",
   "execution_count": null,
   "id": "67b622e5",
   "metadata": {},
   "outputs": [],
   "source": [
    "interesting_slcdf = df.good_scalar & good_reco & ~two_muids & (df.slc.tmatch.idx == 0) & (df.slc.truth.E > 0.5) "
   ]
  },
  {
   "cell_type": "code",
   "execution_count": null,
   "id": "0339cfb7",
   "metadata": {},
   "outputs": [],
   "source": [
    "df[\"true_contained\"] = TrkInFV(df.pfp.trk.truth.p.end)\n",
    "df[\"reco_contained\"] = TrkInFV(df.pfp.trk.end)"
   ]
  },
  {
   "cell_type": "code",
   "execution_count": null,
   "id": "6c00b20c",
   "metadata": {},
   "outputs": [],
   "source": [
    "cols = [\n",
    "    (\"slc\", \"truth\", \"E\", \"\", \"\", \"\"),\n",
    "    (\"dist_to_vertex\", \"\", \"\", \"\", \"\", \"\"),\n",
    "    (\"pfp\", \"trk\", \"len\", \"\", \"\", \"\"),\n",
    "    (\"pfp\", \"trackScore\", \"\", \"\", \"\", \"\"),\n",
    "    (\"pfp\", \"trk\", \"chi2pid\", \"I2\", \"chi2_proton\", \"\"),\n",
    "    (\"pfp\", \"trk\", \"chi2pid\", \"I2\", \"chi2_muon\", \"\"),\n",
    "#     (\"pfp\", \"trk\", \"end\", \"x\", \"\", \"\"),\n",
    "#     (\"pfp\", \"trk\", \"end\", \"y\", \"\", \"\"),\n",
    "#     (\"pfp\", \"trk\", \"end\", \"z\", \"\", \"\"),\n",
    "#     (\"pfp\", \"trk\", \"truth\", \"p\", \"end\", \"x\"),\n",
    "#     (\"pfp\", \"trk\", \"truth\", \"p\", \"end\", \"y\"),\n",
    "#     (\"pfp\", \"trk\", \"truth\", \"p\", \"end\", \"z\"),\n",
    "    (\"true_contained\", \"\", \"\", \"\", \"\", \"\"),\n",
    "    (\"reco_contained\", \"\", \"\", \"\", \"\", \"\"),\n",
    "    (\"pfp\", \"trk\", \"truth\", \"p\", \"pdg\", \"\"),\n",
    "    (\"pfp\", \"trk\", \"truth\", \"p\", \"length\", \"\"),\n",
    "    (\"pfp\", \"trk\", \"truth\", \"p\", \"G4ID\", \"\"),\n",
    "    \n",
    "]"
   ]
  },
  {
   "cell_type": "code",
   "execution_count": null,
   "id": "2f9eafc6",
   "metadata": {},
   "outputs": [],
   "source": [
    "df.loc[interesting_slcdf, cols][:50]"
   ]
  },
  {
   "cell_type": "code",
   "execution_count": null,
   "id": "a93cb8bc",
   "metadata": {},
   "outputs": [],
   "source": [
    "muid.xs((20,15,2))"
   ]
  },
  {
   "cell_type": "code",
   "execution_count": null,
   "id": "304c42b5",
   "metadata": {},
   "outputs": [],
   "source": []
  }
 ],
 "metadata": {
  "kernelspec": {
   "display_name": "Python 3 (ipykernel)",
   "language": "python",
   "name": "python3"
  },
  "language_info": {
   "codemirror_mode": {
    "name": "ipython",
    "version": 3
   },
   "file_extension": ".py",
   "mimetype": "text/x-python",
   "name": "python",
   "nbconvert_exporter": "python",
   "pygments_lexer": "ipython3",
   "version": "3.9.2"
  }
 },
 "nbformat": 4,
 "nbformat_minor": 5
}

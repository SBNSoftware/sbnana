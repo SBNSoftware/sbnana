{
 "cells": [
  {
   "cell_type": "code",
   "execution_count": null,
   "id": "9e284149",
   "metadata": {},
   "outputs": [],
   "source": [
    "import uproot\n",
    "import matplotlib.pyplot as plt \n",
    "import pandas as pd \n",
    "import numpy as np \n",
    "import matplotlib as mpl\n",
    "\n",
    "from util import *\n",
    "import var\n",
    "import cut\n",
    "import data\n",
    "import hist\n",
    "\n",
    "import importlib\n",
    "\n",
    "from pyanalib import panda_helpers\n",
    "\n",
    "from scipy import optimize, stats\n",
    "\n",
    "from numpy import sqrt, cos, sin\n",
    "\n",
    "\n",
    "import numiweight"
   ]
  },
  {
   "cell_type": "code",
   "execution_count": null,
   "id": "65714c97",
   "metadata": {},
   "outputs": [],
   "source": [
    "plt.rcParams.update({'font.size': 16})\n",
    "# mpl.rcParams['lines.linewidth'] = 4.\n",
    "\n",
    "dosave = True\n",
    "savedir = \"plots_2_28_24/kaonstudy/\"\n",
    "\n",
    "prop_cycle = plt.rcParams['axes.prop_cycle']\n",
    "colors = prop_cycle.by_key()['color']"
   ]
  },
  {
   "cell_type": "code",
   "execution_count": null,
   "id": "56172038",
   "metadata": {},
   "outputs": [],
   "source": [
    "Masses = np.array([220, 240, 260, 280, 300, 320, 340])\n",
    "\n",
    "fs = [\"/icarus/data/users/gputnam/DMCP2023G/mc-F-iter2/F2-Higgs_M%i_nom_evt.df\" % M for M in Masses]"
   ]
  },
  {
   "cell_type": "code",
   "execution_count": null,
   "id": "667fc2fe",
   "metadata": {},
   "outputs": [],
   "source": [
    "dfs = [pd.read_hdf(f, \"mcnu\") for f in fs]\n",
    "for i in range(len(dfs)):\n",
    "    dfs[i].index = dfs[i].index.droplevel(-1)"
   ]
  },
  {
   "cell_type": "code",
   "execution_count": null,
   "id": "c541c861",
   "metadata": {},
   "outputs": [],
   "source": [
    "dfhs = [pd.read_hdf(f, \"mch\") for f in fs]\n",
    "for i in range(len(dfhs)):\n",
    "    dfhs[i].index = dfhs[i].index.droplevel(-1)"
   ]
  },
  {
   "cell_type": "code",
   "execution_count": null,
   "id": "1017e6af",
   "metadata": {},
   "outputs": [],
   "source": [
    "# get weights\n",
    "\n",
    "for i in range(len(dfs)):\n",
    "    nupdg = dfs[i].pdg\n",
    "    nuparent_pdg = dfs[i].parent_pdg\n",
    "    nuE = dfs[i].E\n",
    "    \n",
    "    ppfx_cv = numiweight.cv(nupdg, nuE)\n",
    "    concrete_cv = numiweight.concrete_cv(nuparent_pdg, nuE)\n",
    "    \n",
    "    dfs[i][\"weight\"] = ppfx_cv * concrete_cv"
   ]
  },
  {
   "cell_type": "code",
   "execution_count": null,
   "id": "a549d8dc",
   "metadata": {},
   "outputs": [],
   "source": [
    "for iplt in range(len(Masses)):\n",
    "    plt.figure(iplt)\n",
    "    var = dfhs[iplt].E\n",
    "    weights = dfs[iplt].weight\n",
    "\n",
    "    klong = dfs[iplt].parent_pdg == 130\n",
    "    kplus = np.abs(dfs[iplt].parent_pdg) == 321\n",
    "\n",
    "    _ = plt.hist(var[klong], weights=weights[klong], bins=np.linspace(0, 4, 11), histtype=\"step\", density=True, label=\"$K^L$ Production\", linewidth=2)\n",
    "    _ = plt.hist(var[kplus], weights=weights[kplus], bins=np.linspace(0, 4, 11), histtype=\"step\", density=True, label=\"$K^\\\\pm$ Production\", linewidth=2)\n",
    "    plt.ylabel(\"Area Normalized\")\n",
    "    plt.xlabel(\"Scalar Energy [GeV]\")\n",
    "    plt.legend(title=\"M: %iMeV, $\\\\theta_S$: %.0e\" % (Masses[iplt], dfhs[iplt].C1.iloc[0]))\n",
    "    plt.tight_layout()\n",
    "    \n",
    "    if dosave:\n",
    "        plt.savefig(savedir + \"kaon_relative_spectra_M%i.pdf\" % int(Masses[iplt]))\n",
    "        plt.savefig(savedir + \"kaon_relative_spectra_M%i.svg\" % int(Masses[iplt]))\n",
    "        plt.savefig(savedir + \"kaon_relative_spectra_M%i.png\" % int(Masses[iplt]))"
   ]
  },
  {
   "cell_type": "code",
   "execution_count": null,
   "id": "089e38d8",
   "metadata": {},
   "outputs": [],
   "source": [
    "fracs = np.array([((df.parent_pdg == 130)).sum() / ((np.abs(df.parent_pdg) == 321)).sum() for df in dfs])"
   ]
  },
  {
   "cell_type": "code",
   "execution_count": null,
   "id": "93354d14",
   "metadata": {},
   "outputs": [],
   "source": [
    "plt.plot(Masses, fracs)"
   ]
  },
  {
   "cell_type": "code",
   "execution_count": null,
   "id": "024f8e18",
   "metadata": {},
   "outputs": [],
   "source": [
    "fracs = np.array([(df.weight*(df.parent_pdg == 130)).sum() / (df.weight*(np.abs(df.parent_pdg) == 321)).sum() for df in dfs])"
   ]
  },
  {
   "cell_type": "code",
   "execution_count": null,
   "id": "f21c99dd",
   "metadata": {},
   "outputs": [],
   "source": [
    "plt.plot(Masses, fracs)"
   ]
  },
  {
   "cell_type": "code",
   "execution_count": null,
   "id": "5771d9aa",
   "metadata": {},
   "outputs": [],
   "source": [
    "# CONSTANTS\n",
    "\n",
    "M_PI = np.pi\n",
    "elec_mass = 0.0005109989461\n",
    "muon_mass = 0.1056583745\n",
    "tau_mass  = 1.77686\n",
    "piplus_mass = 0.13957039\n",
    "pizero_mass = 0.1349768\n",
    "kplus_mass = 0.493677\n",
    "klong_mass = 0.497611\n",
    "tquark_mass = 172.76\n",
    "eta_mass = 0.547862\n",
    "rho_mass = 0.77526\n",
    "etap_mass = 0.95778\n",
    "Wmass = 80.377\n",
    "\n",
    "fine_structure_constant = 7.2973525693e-3\n",
    "Gfermi = 1.166379e-5\n",
    "higgs_vev = 1. / sqrt(sqrt(2)*Gfermi)\n",
    "sin2thetaW = 0.2312\n",
    "gL = -0.5 + sin2thetaW\n",
    "gR = sin2thetaW\n",
    "\n",
    "fpion = 0.1302 / sqrt(2) # 93 MeV convention\n",
    "\n",
    "# compute the eta decay constants\n",
    "# From https://link.springer.com/article/10.1140/epjc/s10052-021-08861-y\n",
    "f0 = 0.148\n",
    "f8 = 0.165\n",
    "th0 = -6.9*M_PI/180 # rad\n",
    "th8 = -21.2*M_PI/180. # rad\n",
    "feta = cos(th8)*f8/sqrt(3) + sin(th0)*f0/sqrt(6) #eq 83\n",
    "fetap = sin(th8)*f8/sqrt(3) - cos(th0)*f0/sqrt(6) #eq 83\n",
    "\n",
    "frho = 0.171# GeV^2\n",
    "grho = 1 - 2*sin2thetaW # // https://link.springer.com/article/10.1140/epjc/s10052-021-08861-y\n",
    "\n",
    "# unit conversion\n",
    "hbar = 6.582119569e-16 # GeV*ns or eV*s https://pdg.lbl.gov/2020/reviews/rpp2020-rev-phys-constants.pdf\n",
    "c_cm_per_ns = 29.9792458 # cm / ns https://pdg.lbl.gov/2020/reviews/rpp2020-rev-phys-constants.pdf\n",
    "\n",
    "# kaon lifetimes\n",
    "kplus_lifetime = 1.238e1 # ns https://pdg.lbl.gov/2020/listings/rpp2020-list-K-plus-minus.pdf\n",
    "klong_lifetime = 5.116e1 # ns https://pdg.lbl.gov/2020/listings/rpp2020-list-K-zero-L.pdf (FIT)\n",
    "kshort_lifetime = 8.954e-2 # ns https://pdg.lbl.gov/2014/tables/rpp2014-tab-mesons-strange.pdf\n",
    "\n",
    "\n",
    "# other lifetimes\n",
    "tau_lifetime = 290.3e-6 # ns https://pdg.lbl.gov/2019/tables/rpp2019-sum-leptons.pdf\n",
    "\n",
    "# and widths\n",
    "rho_width = 0.1478 # GeV https://pdg.lbl.gov/2019/listings/rpp2019-list-rho-770.pdf\n",
    "\n",
    "# Kaon decay branching ratios\n",
    "kaonp_mup_numu = 0.6356 # From PDG: https://pdg.lbl.gov/2020/listings/rpp2020-list-K-plus-minus.pdf\n",
    "kaonp_ep_nue = 1.582e-5 # From PDG: https://pdg.lbl.gov/2020/listings/rpp2020-list-K-plus-minus.pdf\n",
    "kshort_2pi = 0.692 # https://pdg.lbl.gov/2014/tables/rpp2014-tab-mesons-strange.pdf\n",
    "\n",
    "# CKM matrix\n",
    "abs_Vud_squared = 0.97370 * 0.97370 # https://pdg.lbl.gov/2020/reviews/rpp2020-rev-ckm-matrix.pdf (12.7)\n",
    "\n",
    "abs_VtsVtd_squared = 1.19777e-7\n",
    "rel_VtsVtd_squared = 1.02136e-7"
   ]
  },
  {
   "cell_type": "code",
   "execution_count": null,
   "id": "5a7349fc",
   "metadata": {},
   "outputs": [],
   "source": [
    "def child_momentum(M, m1, m2) :\n",
    "    return sqrt(M * M * M * M\n",
    "        -2 * M * M * m1 * m1\n",
    "        -2 * M * M * m2 * m2\n",
    "           + m1 * m1 * m1 * m1\n",
    "           + m2 * m2 * m2 * m2\n",
    "        -2 * m1 * m1 * m2 * m2) / ( 2 * M )"
   ]
  },
  {
   "cell_type": "code",
   "execution_count": null,
   "id": "65e74fb5",
   "metadata": {},
   "outputs": [],
   "source": [
    "higgs_momentum = child_momentum\n",
    "\n",
    "def HPS_KaonPlusBranchingRatio(higs_mass, mixing):\n",
    "    # kplus width\n",
    "    #\n",
    "    # matrix eement for kplus\n",
    "    M_KP = (1. / 2.) * ( 3. / (16. * M_PI * M_PI * higgs_vev * higgs_vev * higgs_vev)) * (kplus_mass * kplus_mass) * (tquark_mass * tquark_mass) * mixing\n",
    "    M_KP2 = M_KP * M_KP * abs_VtsVtd_squared\n",
    "\n",
    "    kplus_width = (2 * higgs_momentum(kplus_mass, piplus_mass, higs_mass)/kplus_mass) * M_KP2 / (16 * M_PI * kplus_mass)\n",
    "\n",
    "    # convert to partia ifetime\n",
    "    kplus_2higgs_lifetime = hbar / kplus_width \n",
    "\n",
    "    # and branching ratio\n",
    "    #\n",
    "    # (this higgs decay woud make a negigibe contribution to the overa ifetime)\n",
    "    return kplus_lifetime / kplus_2higgs_lifetime\n",
    "        \n",
    "\n",
    "def HPS_KaonLongBranchingRatio(higs_mass, mixing):\n",
    "    M_KL = (1. / 2.) * (3. / (16. * M_PI * M_PI * higgs_vev * higgs_vev * higgs_vev)) * (klong_mass * klong_mass) * (tquark_mass * tquark_mass) * mixing\n",
    "    M_KL2 = M_KL * M_KL * rel_VtsVtd_squared\n",
    "\n",
    "    klong_width = (2 * higgs_momentum(klong_mass, pizero_mass, higs_mass) / klong_mass) * M_KL2 / (16 * M_PI * klong_mass)\n",
    "\n",
    "    klong_2higgs_lifetime = hbar / klong_width\n",
    "\n",
    "    return klong_lifetime / klong_2higgs_lifetime\n",
    "\n",
    "\n",
    "# Get the partial width for lepton decays\n",
    "def LeptonPartialWidth(lep_mass, higs_mass, mixing):\n",
    "    width = (mixing * mixing * lep_mass * lep_mass * higs_mass / (8 * M_PI * higgs_vev * higgs_vev)) * pow(1 - 4 * lep_mass * lep_mass / (higs_mass * higs_mass), 3. / 2.)\n",
    "    width[(lep_mass * 2 >= higs_mass)] = 0\n",
    "    return width\n",
    "\n",
    "\n",
    "def HPS_ElectronPartialWidth(higs_mass, mixing):\n",
    "    return LeptonPartialWidth(elec_mass, higs_mass, mixing)\n",
    "\n",
    "\n",
    "def HPS_MuonPartialWidth(higs_mass, mixing):\n",
    "    return LeptonPartialWidth(muon_mass, higs_mass, mixing)\n",
    "\n",
    "\n",
    "def PionPartialWidth(pion_mass, higs_mass, mixing):\n",
    "    form_factor = (2. / 9.) * higs_mass * higs_mass + (11. / 9.) * pion_mass * pion_mass\n",
    "\n",
    "    width = (mixing * mixing * 3 * form_factor * form_factor / (32 * M_PI * higgs_vev * higgs_vev * higs_mass)) * pow(1- 4. * pion_mass * pion_mass / (higs_mass * higs_mass), 1. / 2.)\n",
    "\n",
    "    width[(pion_mass * 2 >= higs_mass)] = 0\n",
    "    return width\n",
    "\n",
    "\n",
    "def HPS_PiPlusPartialWidth(higs_mass, mixing):\n",
    "    return PionPartialWidth(piplus_mass, higs_mass, mixing)\n",
    "\n",
    "\n",
    "def HPS_PiZeroPartialWidth(higs_mass, mixing):\n",
    "    return PionPartialWidth(pizero_mass, higs_mass, mixing)\n",
    "\n",
    "    "
   ]
  },
  {
   "cell_type": "code",
   "execution_count": null,
   "id": "7de5ec8e",
   "metadata": {},
   "outputs": [],
   "source": [
    "def HPS_KBR(higs_mass, mixing, klong_frac=0.13):\n",
    "    return HPS_KaonPlusBranchingRatio(higs_mass, mixing) + HPS_KaonLongBranchingRatio(higs_mass, mixing)*klong_frac"
   ]
  },
  {
   "cell_type": "code",
   "execution_count": null,
   "id": "f129fe5c",
   "metadata": {},
   "outputs": [],
   "source": [
    "BR_frac = HPS_KaonPlusBranchingRatio(Masses/1e3, 1e-5) / HPS_KaonLongBranchingRatio(Masses/1e3, 1e-5)"
   ]
  },
  {
   "cell_type": "code",
   "execution_count": null,
   "id": "cdbf5697",
   "metadata": {},
   "outputs": [],
   "source": [
    "plt.plot(Masses, fracs*BR_frac, linewidth=2)\n",
    "plt.xlabel(\"Scalar Mass [MeV]\")\n",
    "plt.ylabel(\"Ratio of $K^L$ to $K^+$ Parentage,\\nDe-weighting HPS BR\")\n",
    "plt.tight_layout()\n",
    "\n",
    "\n",
    "plt.ylim([0.11, 0.13])\n",
    "\n",
    "if dosave:\n",
    "    plt.savefig(savedir + \"klkp_rate_ratio.pdf\")\n",
    "    plt.savefig(savedir + \"klkp_rate_ratio.svg\")\n",
    "    plt.savefig(savedir + \"klkp_rate_ratio.png\")"
   ]
  },
  {
   "cell_type": "code",
   "execution_count": null,
   "id": "593853f3",
   "metadata": {},
   "outputs": [],
   "source": []
  },
  {
   "cell_type": "code",
   "execution_count": null,
   "id": "20862d46",
   "metadata": {},
   "outputs": [],
   "source": []
  }
 ],
 "metadata": {
  "kernelspec": {
   "display_name": "Python 3 (ipykernel)",
   "language": "python",
   "name": "python3"
  },
  "language_info": {
   "codemirror_mode": {
    "name": "ipython",
    "version": 3
   },
   "file_extension": ".py",
   "mimetype": "text/x-python",
   "name": "python",
   "nbconvert_exporter": "python",
   "pygments_lexer": "ipython3",
   "version": "3.9.2"
  }
 },
 "nbformat": 4,
 "nbformat_minor": 5
}

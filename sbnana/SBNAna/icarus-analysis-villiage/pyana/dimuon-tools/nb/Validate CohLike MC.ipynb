{
 "cells": [
  {
   "cell_type": "code",
   "execution_count": null,
   "id": "b1049889",
   "metadata": {},
   "outputs": [],
   "source": [
    "import uproot\n",
    "import matplotlib.pyplot as plt \n",
    "import pandas as pd \n",
    "import numpy as np \n",
    "import matplotlib as mpl\n",
    "\n",
    "from util import *\n",
    "import var\n",
    "import cut\n",
    "import data\n",
    "import hist\n",
    "\n",
    "import importlib\n",
    "\n",
    "from pyanalib import panda_helpers"
   ]
  },
  {
   "cell_type": "code",
   "execution_count": null,
   "id": "0837900e",
   "metadata": {},
   "outputs": [],
   "source": [
    "importlib.reload(var)\n",
    "importlib.reload(cut)\n",
    "importlib.reload(data)\n",
    "importlib.reload(hist)\n",
    "importlib.reload(panda_helpers)"
   ]
  },
  {
   "cell_type": "code",
   "execution_count": null,
   "id": "efb4899a",
   "metadata": {},
   "outputs": [],
   "source": [
    "plt.rcParams.update({'font.size': 16})\n",
    "mpl.rcParams['lines.linewidth'] = 1\n",
    "\n",
    "dosave = True\n",
    "savedir = \"plots_2_12_24/cohlike-validation/\""
   ]
  },
  {
   "cell_type": "code",
   "execution_count": null,
   "id": "89d02381",
   "metadata": {},
   "outputs": [],
   "source": [
    "filedir = \"/icarus/data/users/gputnam/DMCP2023G/mc-F/\"\n",
    "fnu_incoh = filedir + \"F-MCNuPhase2_evt.df\"\n",
    "\n",
    "filedir = \"/icarus/data/users/gputnam/DMCP2023G/mc-F/\"\n",
    "# fnu_coh = filedir + \"FB-CohLike_nom-polaris-prod3_evt.df\"\n",
    "fnu_coh = filedir + \"F-CohLike_nom_evt.df\""
   ]
  },
  {
   "cell_type": "code",
   "execution_count": null,
   "id": "561081e6",
   "metadata": {},
   "outputs": [],
   "source": [
    "nu_evtdf_coh = pd.read_hdf(fnu_coh, key=\"evt\")\n",
    "nu_mcdf_coh = pd.read_hdf(fnu_coh, key=\"mcnu\")"
   ]
  },
  {
   "cell_type": "code",
   "execution_count": null,
   "id": "3f6b4bd8",
   "metadata": {},
   "outputs": [],
   "source": [
    "nu_evtdf_incoh = pd.read_hdf(fnu_incoh, key=\"evt\")\n",
    "nu_mcdf_incoh = pd.read_hdf(fnu_incoh, key=\"mcnu\")"
   ]
  },
  {
   "cell_type": "code",
   "execution_count": null,
   "id": "4b99b8e2",
   "metadata": {},
   "outputs": [],
   "source": [
    "nu_hdr_coh = pd.read_hdf(fnu_coh, key=\"hdr\")\n",
    "nu_hdr_incoh = pd.read_hdf(fnu_incoh, key=\"hdr\")"
   ]
  },
  {
   "cell_type": "code",
   "execution_count": null,
   "id": "1a2c51ad",
   "metadata": {},
   "outputs": [],
   "source": [
    "nu_hdr_coh"
   ]
  },
  {
   "cell_type": "code",
   "execution_count": null,
   "id": "fa2602b7",
   "metadata": {},
   "outputs": [],
   "source": [
    "NU_PER_POT = nu_mcdf_coh.shape[0] / nu_hdr_coh.pot.sum()"
   ]
  },
  {
   "cell_type": "code",
   "execution_count": null,
   "id": "6483ca6d",
   "metadata": {},
   "outputs": [],
   "source": [
    "NU_PER_POT"
   ]
  },
  {
   "cell_type": "code",
   "execution_count": null,
   "id": "19999d70",
   "metadata": {},
   "outputs": [],
   "source": [
    "NU_PER_POT_BASE = 1.0448039251186124e-16"
   ]
  },
  {
   "cell_type": "code",
   "execution_count": null,
   "id": "26b38dc5",
   "metadata": {},
   "outputs": [],
   "source": [
    "nu_mcdf_incoh[\"scale\"] = 2e20 / nu_hdr_incoh.pot.sum()\n",
    "nu_evtdf_incoh[\"scale\"] = 2e20 / nu_hdr_incoh.pot.sum()\n",
    "\n",
    "if NU_PER_POT / NU_PER_POT_BASE > 0.8: # check POT normalized correctly\n",
    "    nu_mcdf_coh[\"scale\"] = 2e20 / nu_hdr_coh.pot.sum()\n",
    "    nu_evtdf_coh[\"scale\"] = 2e20 / nu_hdr_coh.pot.sum()    \n",
    "else:\n",
    "    nu_mcdf_coh[\"scale\"] = 2e20/(nu_mcdf_coh.shape[0]/NU_PER_POT_BASE)\n",
    "    nu_evtdf_coh[\"scale\"] = 2e20/(nu_mcdf_coh.shape[0]/NU_PER_POT_BASE)"
   ]
  },
  {
   "cell_type": "code",
   "execution_count": null,
   "id": "7ebb778c",
   "metadata": {},
   "outputs": [],
   "source": [
    "def cohlike(df):\n",
    "    nmu = df.iscc & (np.abs(df.pdg) == 14)\n",
    "    npi = df.npi\n",
    "    ns = df.nsm + df.nsp\n",
    "\n",
    "    is_coh_like = (nmu + npi + ns >= 2) & (df.max_proton_ke < 0.05)\n",
    "\n",
    "    is_coh_like = is_coh_like & InFV(df.position, 50)\n",
    "\n",
    "    return is_coh_like"
   ]
  },
  {
   "cell_type": "code",
   "execution_count": null,
   "id": "7ef9907e",
   "metadata": {},
   "outputs": [],
   "source": [
    "cohlike(nu_mcdf_coh).groupby(level=[0,1]).any().sum() / (cohlike(nu_mcdf_coh).groupby(level=[0,1]).any().sum() | True).sum()"
   ]
  },
  {
   "cell_type": "code",
   "execution_count": null,
   "id": "69b68c4a",
   "metadata": {},
   "outputs": [],
   "source": [
    "nu_mcdf_coh[\"cohlike\"] = True\n",
    "nu_mcdf_incoh[\"cohlike\"] = cohlike(nu_mcdf_incoh).groupby(level=[0,1]).any()"
   ]
  },
  {
   "cell_type": "code",
   "execution_count": null,
   "id": "b4067b3a",
   "metadata": {},
   "outputs": [],
   "source": [
    "nu_evtdf_coh[\"cohlike\"] = True\n",
    "nu_evtdf_incoh[\"cohlike\"] = cohlike(nu_mcdf_incoh).groupby(level=[0,1]).any()"
   ]
  },
  {
   "cell_type": "code",
   "execution_count": null,
   "id": "3ade3308",
   "metadata": {},
   "outputs": [],
   "source": [
    "def when(df):\n",
    "    return SlcInFV(df.position) & df.cohlike & cohlike(df)"
   ]
  },
  {
   "cell_type": "code",
   "execution_count": null,
   "id": "7d8ebde5",
   "metadata": {},
   "outputs": [],
   "source": [
    "def whenevt(df):\n",
    "    return SlcInFV(df.slc.vertex) & df.cohlike & ~np.isnan(df.slc.truth.E)"
   ]
  },
  {
   "cell_type": "code",
   "execution_count": null,
   "id": "3db24ddb",
   "metadata": {},
   "outputs": [],
   "source": [
    "coh_err_wgt = nu_evtdf_coh.scale.iloc[0]\n",
    "incoh_err_wgt = nu_evtdf_incoh.scale.iloc[0]"
   ]
  },
  {
   "cell_type": "code",
   "execution_count": null,
   "id": "868ec76b",
   "metadata": {},
   "outputs": [],
   "source": [
    "bins = np.linspace(0, 5, 11)\n",
    "centers = (bins[:-1] + bins[1:]) / 2\n",
    "\n",
    "Ncoh, _ = np.histogram(nu_mcdf_coh.E[when(nu_mcdf_coh)], \n",
    "                       weights=nu_mcdf_coh.scale[when(nu_mcdf_coh)], bins=bins)\n",
    "Nincoh, _ = np.histogram(nu_mcdf_incoh.E[when(nu_mcdf_incoh)], \n",
    "                         weights=nu_mcdf_incoh.scale[when(nu_mcdf_incoh)], bins=bins)\n",
    "\n",
    "fig, (p0, p1) = plt.subplots(2, 1, gridspec_kw={'height_ratios': [3,1]}, sharex=True, figsize=(7, 6.4))\n",
    "fig.subplots_adjust(hspace=0.03)\n",
    "\n",
    "p0.errorbar(centers, Ncoh, np.sqrt(Ncoh*coh_err_wgt),\n",
    "            linestyle=\"none\", marker=\".\", label=\"Coh-Like\")\n",
    "p0.errorbar(centers, Nincoh, np.sqrt(Nincoh*incoh_err_wgt),\n",
    "            linestyle=\"none\", marker=\".\", color=\"black\", label=\"MCNuPhase2\\n(Nom.)\")\n",
    "p0.legend(title=\"Production\")\n",
    "\n",
    "ratio = Ncoh / Nincoh\n",
    "ratio_err = np.sqrt(coh_err_wgt*ratio**2/Ncoh + incoh_err_wgt*ratio**2/Nincoh)\n",
    "\n",
    "p1.errorbar(centers, ratio, ratio_err, marker=\".\", linestyle=\"none\")\n",
    "p1.axhline([1], color=\"r\", linestyle=\":\")\n",
    "p1.set_ylim([0.95, 1.05])\n",
    "\n",
    "p1.set_xlabel(\"Neutrino Energy [GeV]\")\n",
    "p0.set_ylabel(\"Events / $2 \\\\times 10^{20}$ POT\")\n",
    "p1.set_ylabel(\"Coh-like / Nom\")\n",
    "\n",
    "if dosave:\n",
    "    plt.savefig(savedir + \"nuE.pdf\", bbox_inches=\"tight\")"
   ]
  },
  {
   "cell_type": "code",
   "execution_count": null,
   "id": "40f95949",
   "metadata": {},
   "outputs": [],
   "source": [
    "bins = np.linspace(0, 500, 11)\n",
    "centers = (bins[:-1] + bins[1:]) / 2\n",
    "\n",
    "Ncoh, _ = np.histogram(nu_evtdf_coh.trunk.trk.len[whenevt(nu_evtdf_coh)], \n",
    "                       weights=nu_evtdf_coh.scale[whenevt(nu_evtdf_coh)], bins=bins)\n",
    "Nincoh, _ = np.histogram(nu_evtdf_incoh.trunk.trk.len[whenevt(nu_evtdf_incoh)], \n",
    "                         weights=nu_evtdf_incoh.scale[whenevt(nu_evtdf_incoh)], bins=bins)\n",
    "\n",
    "fig, (p0, p1) = plt.subplots(2, 1, gridspec_kw={'height_ratios': [3,1]}, sharex=True, figsize=(7, 6.4))\n",
    "fig.subplots_adjust(hspace=0.03)\n",
    "\n",
    "p0.errorbar(centers, Ncoh, np.sqrt(Ncoh*coh_err_wgt),\n",
    "            linestyle=\"none\", marker=\".\", label=\"Coh-Like\")\n",
    "p0.errorbar(centers, Nincoh, np.sqrt(Nincoh*incoh_err_wgt),\n",
    "            linestyle=\"none\", marker=\".\", color=\"black\", label=\"MCNuPhase2\\n(Nom.)\")\n",
    "p0.legend(title=\"Production\")\n",
    "\n",
    "ratio = Ncoh / Nincoh\n",
    "ratio_err = np.sqrt(coh_err_wgt*ratio**2/Ncoh + incoh_err_wgt*ratio**2/Nincoh)\n",
    "\n",
    "p1.errorbar(centers, ratio, ratio_err, marker=\".\", linestyle=\"none\")\n",
    "p1.axhline([1], color=\"r\", linestyle=\":\")\n",
    "p1.set_ylim([0.9, 1.1])\n",
    "\n",
    "p1.set_xlabel(\"Length of Track Closest to Vertex [cm]\")\n",
    "p0.set_ylabel(\"Events / $2 \\\\times 10^{20}$ POT\")\n",
    "p1.set_ylabel(\"Coh-like / Nom\")\n",
    "\n",
    "if dosave:\n",
    "    plt.savefig(savedir + \"trunk_track_length.pdf\", bbox_inches=\"tight\")"
   ]
  },
  {
   "cell_type": "code",
   "execution_count": null,
   "id": "8985b128",
   "metadata": {},
   "outputs": [],
   "source": [
    "bins = np.linspace(0, 30, 11)\n",
    "centers = (bins[:-1] + bins[1:]) / 2\n",
    "\n",
    "Ncoh, _ = np.histogram(nu_evtdf_coh.trunk.trk.chi2pid.I2.chi2u[whenevt(nu_evtdf_coh)], \n",
    "                       weights=nu_evtdf_coh.scale[whenevt(nu_evtdf_coh)], bins=bins)\n",
    "Nincoh, _ = np.histogram(nu_evtdf_incoh.trunk.trk.chi2pid.I2.chi2u[whenevt(nu_evtdf_incoh)], \n",
    "                         weights=nu_evtdf_incoh.scale[whenevt(nu_evtdf_incoh)], bins=bins)\n",
    "\n",
    "fig, (p0, p1) = plt.subplots(2, 1, gridspec_kw={'height_ratios': [3,1]}, sharex=True, figsize=(7, 6.4))\n",
    "fig.subplots_adjust(hspace=0.03)\n",
    "\n",
    "p0.errorbar(centers, Ncoh, np.sqrt(Ncoh*coh_err_wgt),\n",
    "            linestyle=\"none\", marker=\".\", label=\"Coh-Like\")\n",
    "p0.errorbar(centers, Nincoh, np.sqrt(Nincoh*incoh_err_wgt),\n",
    "            linestyle=\"none\", marker=\".\", color=\"black\", label=\"MCNuPhase2\\n(Nom.)\")\n",
    "p0.legend(title=\"Production\")\n",
    "\n",
    "ratio = Ncoh / Nincoh\n",
    "ratio_err = np.sqrt(coh_err_wgt*ratio**2/Ncoh + incoh_err_wgt*ratio**2/Nincoh)\n",
    "\n",
    "p1.errorbar(centers, ratio, ratio_err, marker=\".\", linestyle=\"none\")\n",
    "p1.axhline([1], color=\"r\", linestyle=\":\")\n",
    "p1.set_ylim([0.9, 1.1])\n",
    "\n",
    "p1.set_xlabel(\"$\\\\chi^2_\\\\mu$\")\n",
    "p0.set_ylabel(\"Events / $2 \\\\times 10^{20}$ POT\")\n",
    "p1.set_ylabel(\"Coh-like / Nom\")"
   ]
  },
  {
   "cell_type": "code",
   "execution_count": null,
   "id": "b7669e5e",
   "metadata": {},
   "outputs": [],
   "source": []
  },
  {
   "cell_type": "code",
   "execution_count": null,
   "id": "2c6a79b0",
   "metadata": {},
   "outputs": [],
   "source": []
  },
  {
   "cell_type": "code",
   "execution_count": null,
   "id": "b7da156b",
   "metadata": {},
   "outputs": [],
   "source": []
  }
 ],
 "metadata": {
  "kernelspec": {
   "display_name": "Python 3 (ipykernel)",
   "language": "python",
   "name": "python3"
  },
  "language_info": {
   "codemirror_mode": {
    "name": "ipython",
    "version": 3
   },
   "file_extension": ".py",
   "mimetype": "text/x-python",
   "name": "python",
   "nbconvert_exporter": "python",
   "pygments_lexer": "ipython3",
   "version": "3.9.2"
  }
 },
 "nbformat": 4,
 "nbformat_minor": 5
}

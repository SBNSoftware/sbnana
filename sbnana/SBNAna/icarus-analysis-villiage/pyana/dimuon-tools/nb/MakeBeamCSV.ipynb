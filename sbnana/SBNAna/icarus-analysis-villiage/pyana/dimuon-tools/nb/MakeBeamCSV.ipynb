{
 "cells": [
  {
   "cell_type": "code",
   "execution_count": null,
   "id": "a08dfe28",
   "metadata": {},
   "outputs": [],
   "source": [
    "import pandas \n",
    "import uproot \n",
    "import matplotlib.pyplot as plt \n",
    "import pandas as pd \n",
    "import numpy as np \n",
    "import matplotlib\n",
    "import urllib.request, json\n",
    "from scipy.optimize import curve_fit\n",
    "\n",
    "from tqdm.notebook import tqdm\n",
    "import time\n",
    "import sys\n",
    "import multiprocessing"
   ]
  },
  {
   "cell_type": "code",
   "execution_count": null,
   "id": "a84a32c0",
   "metadata": {},
   "outputs": [],
   "source": [
    "plt.rc(\"font\", size=14)"
   ]
  },
  {
   "cell_type": "code",
   "execution_count": null,
   "id": "571c3dfd",
   "metadata": {},
   "outputs": [],
   "source": [
    "OFFBEAM = True\n",
    "RUN1 = False\n",
    "\n",
    "if not OFFBEAM:\n",
    "    # NuMI commissioning+Run 1 beam ON\n",
    "    MINBIAS_PRESCALE = 60\n",
    "else:\n",
    "    # NuMI commissioning+Run 1 beam OFF\n",
    "    MINBIAS_PRESCALE = 20\n",
    "\n",
    "datadir = \"/icarus/data/users/gputnam/DMCP2023G/normdata/\"\n",
    "\n",
    "savedir = datadir + (\"run1_\" if RUN1 else \"run2_\")\n",
    "\n",
    "dosave = True\n",
    "\n",
    "outf = datadir + \"Run%i_%sBeam.csv\" % (1 if RUN1 else 2, \"Off\" if OFFBEAM else \"On\")\n",
    "outf"
   ]
  },
  {
   "cell_type": "code",
   "execution_count": null,
   "id": "1c7c1430",
   "metadata": {},
   "outputs": [],
   "source": [
    "if RUN1:\n",
    "    if not OFFBEAM:\n",
    "        # Run 1, OnBeam\n",
    "        \n",
    "        # In Run 1, we need to disentangle minbias and majority triggers\n",
    "        rootfiles = [\n",
    "            \"norminfo_Run1_Onbeam_majority.root\",\n",
    "            \"norminfo_Run1_Onbeam_minbias.root\"\n",
    "        ]\n",
    "\n",
    "        filelists = [\n",
    "            \"ICARUSRun1OnBeamMajority_2022A_files.list\",\n",
    "            \"ICARUSRun1OnBeamMinbias_2022A_files.list\",\n",
    "        ]\n",
    "    else:\n",
    "        # Run 1, OffBeam\n",
    "        \n",
    "        # In Run 1, we need to disentable minbias and majority triggers\n",
    "        rootfiles = [\n",
    "            \"norminfo_Run1_Offbeam_majority.root\",\n",
    "            \"norminfo_Run1_Offbeam_minbias.root\"\n",
    "        ]\n",
    "\n",
    "        filelists = [\n",
    "            \"ICARUSRun1OffBeamMajority_2022A_files.list\",\n",
    "            \"ICARUSRun1OffBeamMinbias_2022A_files.list\",\n",
    "        ]\n",
    "        \n",
    "        \n",
    "    beamfile = \"run1_beam.df\"\n",
    "else:\n",
    "    if not OFFBEAM:\n",
    "        # Run 2, OnBeam\n",
    "        rootfiles = [\n",
    "            \"norminfo_Run2_Onbeam.root\"\n",
    "        ]\n",
    "\n",
    "        filelists = [\n",
    "            \"ICARUSRun2DataOnBeamMajority_stage0_disk_files.list\",\n",
    "        ]\n",
    "\n",
    "    else:\n",
    "        # Run 2, OffBeam\n",
    "        rootfiles = [\n",
    "            \"norminfo_Run2_Offbeam.root\"\n",
    "        ]\n",
    "\n",
    "        filelists = [\n",
    "            \"ICARUSRun2DataOffBeamMajority_stage0_disk_files.list\",\n",
    "        ]\n",
    "        \n",
    "    beamfile = \"run2_beam.df\"\n"
   ]
  },
  {
   "cell_type": "code",
   "execution_count": null,
   "id": "94974944",
   "metadata": {},
   "outputs": [],
   "source": [
    "fs = [uproot.open(datadir + f) for f in rootfiles]\n",
    "dfts = [f[\"icarusnumi\"][\"TriggerInfo\"].arrays(library=\"pd\") for f in fs]"
   ]
  },
  {
   "cell_type": "code",
   "execution_count": null,
   "id": "da634431",
   "metadata": {},
   "outputs": [],
   "source": [
    "files_per_list = []\n",
    "for i, filelist in enumerate(filelists):\n",
    "    thisfiles = []\n",
    "    with open(datadir + filelist) as f:\n",
    "        for line in f:\n",
    "            thisfiles.append(line.rstrip(\"\\n\"))\n",
    "    files_per_list.append(thisfiles)"
   ]
  },
  {
   "cell_type": "code",
   "execution_count": null,
   "id": "7ad25002",
   "metadata": {},
   "outputs": [],
   "source": [
    "filecount = 0\n",
    "\n",
    "for i in range(len(files_per_list)):\n",
    "    dfts[i].ifile += filecount\n",
    "    filecount += len(files_per_list[i])\n",
    "    \n",
    "files = [item for sublist in files_per_list for item in sublist]"
   ]
  },
  {
   "cell_type": "code",
   "execution_count": null,
   "id": "60613826",
   "metadata": {},
   "outputs": [],
   "source": [
    "dft = pd.concat(dfts, ignore_index=True, sort=False)\n",
    "\n",
    "dft = dft.sort_values([\"run\", \"subrun\", \"event\", \"ifile\"]).reset_index()\n",
    "\n",
    "# Identify duplicate files\n",
    "goodfiles = dft.groupby([\"run\", \"subrun\", \"event\"]).ifile.first()\n",
    "goodfiles.name = \"goodifile\"\n",
    "dft = dft.join(goodfiles, on=[\"run\", \"subrun\", \"event\"])"
   ]
  },
  {
   "cell_type": "code",
   "execution_count": null,
   "id": "88303637",
   "metadata": {},
   "outputs": [],
   "source": [
    "dft[\"duplicate\"] = dft.goodifile != dft.ifile"
   ]
  },
  {
   "cell_type": "code",
   "execution_count": null,
   "id": "e9b7e03b",
   "metadata": {},
   "outputs": [],
   "source": [
    "dft.duplicate = dft.duplicate | ((dft.trigger_type != 0) & (not RUN1)) # these are also bad, only show up in Run 2"
   ]
  },
  {
   "cell_type": "code",
   "execution_count": null,
   "id": "ba438cdf",
   "metadata": {},
   "outputs": [],
   "source": [
    "dft_evtidx = dft.set_index([\"run\", \"event\"])\n",
    "dft_evtidx.index.is_unique"
   ]
  },
  {
   "cell_type": "code",
   "execution_count": null,
   "id": "f00de621",
   "metadata": {},
   "outputs": [],
   "source": [
    "duplicate_files = [files[i] for i in dft.ifile[dft.duplicate].unique()]\n",
    "\n",
    "goodfiles = list(set(files) - set(duplicate_files))"
   ]
  },
  {
   "cell_type": "code",
   "execution_count": null,
   "id": "5440cf00",
   "metadata": {},
   "outputs": [],
   "source": [
    "duplicate_files"
   ]
  },
  {
   "cell_type": "code",
   "execution_count": null,
   "id": "6b338f69",
   "metadata": {},
   "outputs": [],
   "source": [
    "if dosave and False:\n",
    "    for i, flist in enumerate(filelists):\n",
    "        with open(flist.replace(\".list\", \"_deduped.list\"), \"w\") as f:\n",
    "            for fname in goodfiles:\n",
    "                if fname in files_per_list[i]:\n",
    "                    f.write(fname + \"\\n\")"
   ]
  },
  {
   "cell_type": "code",
   "execution_count": null,
   "id": "16add9ba",
   "metadata": {},
   "outputs": [],
   "source": [
    "dft[\"prev_trigger_timestamp_s\"] = dft.prev_trigger_timestamp / 1_000_000_000\n",
    "dft[\"trigger_timestamp_s\"] = dft.trigger_timestamp / 1_000_000_000"
   ]
  },
  {
   "cell_type": "code",
   "execution_count": null,
   "id": "5483d8ac",
   "metadata": {},
   "outputs": [],
   "source": [
    "trigger_cols = ['run', 'beam_type', 'source_type',\n",
    "       'trigger_type', 'last_source_Type', 'prev_trigger_timestamp',\n",
    "       'trigger_timestamp', 'beam_gate_timestamp', 'trigger_id', 'gate_id',\n",
    "       'trigger_count', 'gate_count', 'trigger_delta', 'gate_delta',\n",
    "       'gate_all_delta']"
   ]
  },
  {
   "cell_type": "code",
   "execution_count": null,
   "id": "16c7bc3a",
   "metadata": {},
   "outputs": [],
   "source": [
    "dft[trigger_cols]"
   ]
  },
  {
   "cell_type": "code",
   "execution_count": null,
   "id": "0c81092f",
   "metadata": {},
   "outputs": [],
   "source": [
    "beamdf = pd.read_hdf(datadir + beamfile, key=\"beam\")\n",
    "\n",
    "# clear beam for offbeam\n",
    "if OFFBEAM:\n",
    "    beamdf = beamdf[0:0]"
   ]
  },
  {
   "cell_type": "code",
   "execution_count": null,
   "id": "9c120b40",
   "metadata": {},
   "outputs": [],
   "source": [
    "beamdf"
   ]
  },
  {
   "cell_type": "code",
   "execution_count": null,
   "id": "7a6d6c30",
   "metadata": {},
   "outputs": [],
   "source": [
    "# Distributions"
   ]
  },
  {
   "cell_type": "code",
   "execution_count": null,
   "id": "08d35820",
   "metadata": {},
   "outputs": [],
   "source": [
    "_ = plt.hist(beamdf.pot, bins=np.linspace(-1, 70, 101))\n",
    "plt.xlabel(\"POT [$\\\\times 10^{12}$]\")\n",
    "plt.axvline(2, color=\"red\")\n",
    "plt.tight_layout()\n",
    "plt.ylabel(\"Spills\")\n",
    "if dosave and not OFFBEAM: \n",
    "    plt.savefig(savedir + \"spill_pot.pdf\")\n",
    "    plt.savefig(savedir + \"spill_pot.svg\")"
   ]
  },
  {
   "cell_type": "code",
   "execution_count": null,
   "id": "52154542",
   "metadata": {},
   "outputs": [],
   "source": [
    "_ = plt.hist(beamdf.horn_current, bins=np.linspace(-203, -195, 101))\n",
    "plt.xlabel(\"Horn Current [mA]\")\n",
    "plt.axvline(-202, color=\"red\")\n",
    "plt.axvline(-196.4, color=\"red\")\n",
    "plt.tight_layout()\n",
    "plt.ylabel(\"Spills\")\n",
    "if dosave and not OFFBEAM: \n",
    "    plt.savefig(savedir + \"spill_horncurrent.pdf\")\n",
    "    plt.savefig(savedir + \"spill_horncurrent.svg\")"
   ]
  },
  {
   "cell_type": "code",
   "execution_count": null,
   "id": "5afbab97",
   "metadata": {},
   "outputs": [],
   "source": [
    "_ = plt.hist(beamdf.extrap_hptgt, bins=np.linspace(-2, 2, 101))\n",
    "plt.axvline(1, color=\"red\")\n",
    "plt.axvline(-1, color=\"red\")\n",
    "plt.xlabel(\"Beam Position X [mm]\")\n",
    "plt.tight_layout()\n",
    "plt.ylabel(\"Spills\")\n",
    "if dosave and not OFFBEAM: \n",
    "    plt.savefig(savedir + \"spill_beamposx.pdf\")\n",
    "    plt.savefig(savedir + \"spill_beamposx.svg\")"
   ]
  },
  {
   "cell_type": "code",
   "execution_count": null,
   "id": "ef7d5a35",
   "metadata": {},
   "outputs": [],
   "source": [
    "_ = plt.hist(beamdf.extrap_vptgt, bins=np.linspace(-2, 2, 101))\n",
    "plt.axvline(1, color=\"red\")\n",
    "plt.axvline(-1, color=\"red\")\n",
    "plt.xlabel(\"Beam Position Y [mm]\")\n",
    "plt.tight_layout()\n",
    "plt.ylabel(\"Spills\")\n",
    "if dosave and not OFFBEAM: \n",
    "    plt.savefig(savedir + \"spill_beamposy.pdf\")\n",
    "    plt.savefig(savedir + \"spill_beamposy.svg\")"
   ]
  },
  {
   "cell_type": "code",
   "execution_count": null,
   "id": "6f90fdfa",
   "metadata": {},
   "outputs": [],
   "source": [
    "_ = plt.hist(beamdf.beam_width_h, bins=np.linspace(0.5, 4, 101))\n",
    "plt.axvline(0.57, color=\"red\")\n",
    "plt.axvline(1.88, color=\"red\")\n",
    "plt.xlabel(\"Horizontal Beam Width [mm]\")\n",
    "plt.tight_layout()\n",
    "plt.ylabel(\"Spills\")\n",
    "if dosave and not OFFBEAM: \n",
    "    plt.savefig(savedir + \"spill_beamwidthh.pdf\")\n",
    "    plt.savefig(savedir + \"spill_beamwidthh.svg\")"
   ]
  },
  {
   "cell_type": "code",
   "execution_count": null,
   "id": "5cc667c7",
   "metadata": {},
   "outputs": [],
   "source": [
    "_ = plt.hist(beamdf.beam_width_v, bins=np.linspace(0.5, 4, 101))\n",
    "plt.axvline(0.57, color=\"red\")\n",
    "plt.axvline(1.88, color=\"red\")\n",
    "plt.xlabel(\"Vertical Beam Width [mm]\")\n",
    "plt.tight_layout()\n",
    "plt.ylabel(\"Spills\")\n",
    "if dosave and not OFFBEAM: \n",
    "    plt.savefig(savedir + \"spill_beamwidthv.pdf\")\n",
    "    plt.savefig(savedir + \"spill_beamwidthv.svg\")"
   ]
  },
  {
   "cell_type": "code",
   "execution_count": null,
   "id": "3ac4dd1d",
   "metadata": {},
   "outputs": [],
   "source": [
    "pot_cut = (beamdf.pot > 2)\n",
    "hc_cut = (beamdf.horn_current > -202) & (beamdf.horn_current <= -196.4)\n",
    "bp_cut = (np.abs(beamdf.extrap_hptgt) < 1) & (np.abs(beamdf.extrap_vptgt) < 1)\n",
    "bw_cut = (beamdf.beam_width_h > 0.57) & (beamdf.beam_width_h <= 1.88) &\\\n",
    "         (beamdf.beam_width_v > 0.57) & (beamdf.beam_width_v <= 1.88)\n",
    "\n",
    "bq_cut = pot_cut & hc_cut & bp_cut & bw_cut\n",
    "\n",
    "beamdf[\"goodpot\"] = beamdf.pot*bq_cut\n",
    "beamdf[\"badspill\"] = ~bq_cut"
   ]
  },
  {
   "cell_type": "code",
   "execution_count": null,
   "id": "295db26f",
   "metadata": {},
   "outputs": [],
   "source": [
    "beamdf[pot_cut].pot.sum()/1e8"
   ]
  },
  {
   "cell_type": "code",
   "execution_count": null,
   "id": "ecf695d1",
   "metadata": {},
   "outputs": [],
   "source": [
    "beamdf[bq_cut].pot.sum()/1e8"
   ]
  },
  {
   "cell_type": "code",
   "execution_count": null,
   "id": "9b8afcd2",
   "metadata": {},
   "outputs": [],
   "source": [
    "dft[\"prev_trigger_timestamp_s_fixed\"] = dft.trigger_timestamp_s - dft.trigger_timestamp_s.diff() "
   ]
  },
  {
   "cell_type": "code",
   "execution_count": null,
   "id": "f35fd63b",
   "metadata": {},
   "outputs": [],
   "source": [
    "dft[\"trigger_timestamp_s_fixed\"] = dft.trigger_timestamp_s\n",
    "dft.loc[0, \"trigger_timestamp_s_fixed\"] = 0 # np.nan\n",
    "dft.loc[0, \"prev_trigger_timestamp_s_fixed\"] = 0 # np.nan"
   ]
  },
  {
   "cell_type": "code",
   "execution_count": null,
   "id": "4ceb025c",
   "metadata": {},
   "outputs": [],
   "source": [
    "# Merge Triggers into POT DF\n",
    "\n",
    "# RUN 1 STRATEGY\n",
    "if RUN1:\n",
    "    ranges = pd.IntervalIndex.from_arrays(dft.prev_trigger_timestamp_s_fixed[~dft.duplicate] + 0.5, \n",
    "                                          dft.trigger_timestamp_s_fixed[~dft.duplicate] + 0.5)\n",
    "\n",
    "# RUN 2 STRATEGY\n",
    "else:\n",
    "    ranges = pd.IntervalIndex.from_arrays(dft.prev_trigger_timestamp_s[~dft.duplicate] + 0.5, \n",
    "                                          dft.trigger_timestamp_s[~dft.duplicate] + 0.5)"
   ]
  },
  {
   "cell_type": "code",
   "execution_count": null,
   "id": "c697d7a7",
   "metadata": {},
   "outputs": [],
   "source": [
    "inds = ranges.get_indexer(beamdf.time)"
   ]
  },
  {
   "cell_type": "code",
   "execution_count": null,
   "id": "ada84f00",
   "metadata": {},
   "outputs": [],
   "source": [
    "cols = [\n",
    "    \"run\",\n",
    "    \"subrun\",\n",
    "    \"event\",\n",
    "    \"ifile\",\n",
    "]\n",
    "\n",
    "for c in cols:\n",
    "    if not OFFBEAM:\n",
    "        beamdf[c] = dft[c][~dft.duplicate].iloc[inds].to_numpy()\n",
    "        beamdf.loc[inds<0, c] = 0 # Invalid events\n",
    "    else:\n",
    "        beamdf[c] = []"
   ]
  },
  {
   "cell_type": "code",
   "execution_count": null,
   "id": "bdf4443e",
   "metadata": {},
   "outputs": [],
   "source": [
    "beamdf[:50]"
   ]
  },
  {
   "cell_type": "code",
   "execution_count": null,
   "id": "df401b64",
   "metadata": {},
   "outputs": [],
   "source": [
    "totpot = beamdf.groupby([\"run\", \"subrun\", \"event\", \"ifile\"]).goodpot.sum()\n",
    "totpot.name = \"totpot\"\n",
    "\n",
    "nspill = beamdf.groupby([\"run\", \"subrun\", \"event\", \"ifile\"]).goodpot.size()\n",
    "nspill.name = \"nspill\"\n",
    "\n",
    "# Bad if the spill matched to the event is bad\n",
    "badspill = beamdf.groupby([\"run\", \"subrun\", \"event\", \"ifile\"]).badspill.last()\n",
    "badspill.name = \"badspill\"\n",
    "\n",
    "spilltime = beamdf.groupby([\"run\", \"subrun\", \"event\", \"ifile\"]).time.last()\n",
    "spilltime.name = \"spilltime\""
   ]
  },
  {
   "cell_type": "code",
   "execution_count": null,
   "id": "4d766119",
   "metadata": {},
   "outputs": [],
   "source": [
    "if \"totpot\" in dft.columns:\n",
    "    del dft[\"totpot\"]\n",
    "if \"nspill\" in dft.columns:\n",
    "    del dft[\"nspill\"]\n",
    "if \"badspill\" in dft.columns:\n",
    "    del dft[\"badspill\"]\n",
    "if \"spilltime\" in dft.columns:\n",
    "    del dft[\"spilltime\"]\n",
    "    \n",
    "dft = dft.join(totpot, on=[\"run\", \"subrun\", \"event\", \"ifile\"])\n",
    "dft = dft.join(nspill, on=[\"run\", \"subrun\", \"event\", \"ifile\"])\n",
    "dft = dft.join(badspill, on=[\"run\", \"subrun\", \"event\", \"ifile\"])\n",
    "dft = dft.join(spilltime, on=[\"run\", \"subrun\", \"event\", \"ifile\"])\n",
    "\n",
    "dft.totpot = dft.totpot.fillna(0.).astype(float)\n",
    "dft.nspill = dft.nspill.fillna(0).astype(int)\n",
    "dft.badspill = dft.badspill.fillna(True).astype(bool)\n",
    "dft.spilltime = dft.spilltime.fillna(0).astype(float)"
   ]
  },
  {
   "cell_type": "code",
   "execution_count": null,
   "id": "11165d99",
   "metadata": {},
   "outputs": [],
   "source": [
    "# Check merging validity -- there should not be any triggers too before the beam spill\n",
    "assert((dft.trigger_timestamp_s - dft.spilltime).min() > -0.5)"
   ]
  },
  {
   "cell_type": "code",
   "execution_count": null,
   "id": "514fada3",
   "metadata": {},
   "outputs": [],
   "source": [
    "# Bad triggers are:\n",
    "\n",
    "# No spill associated with trigger\n",
    "trigger_quality_cut = (((dft.trigger_timestamp_s - dft.spilltime) < 0.5) | OFFBEAM)\n",
    "\n",
    "# Remove miscount between trigger and spill\n",
    "trigger_quality_cut = trigger_quality_cut & ((dft.gate_delta == dft.nspill) | OFFBEAM)\n",
    "\n",
    "# Don't count first trigger in each run\n",
    "trigger_quality_cut = trigger_quality_cut & (dft.trigger_count != 1)\n",
    "\n",
    "# In Run 1 OnBeam, cut events where the gate delta is miscounted,\n",
    "# since we rely on the previous trigger to get the timestamps correct for POT accounting\n",
    "if not OFFBEAM and RUN1:\n",
    "    trigger_quality_cut = trigger_quality_cut & (dft.gate_count.diff() == dft.gate_delta)"
   ]
  },
  {
   "cell_type": "code",
   "execution_count": null,
   "id": "ef34e614",
   "metadata": {},
   "outputs": [],
   "source": [
    "# Remove triggers with bad spills, unless the beam is OFF\n",
    "beam_quality_cut = trigger_quality_cut & (~dft.badspill | OFFBEAM) "
   ]
  },
  {
   "cell_type": "code",
   "execution_count": null,
   "id": "f9065126",
   "metadata": {},
   "outputs": [],
   "source": [
    "dft.totpot[trigger_quality_cut & ~dft.duplicate].sum() / dft.totpot[~dft.duplicate].sum()"
   ]
  },
  {
   "cell_type": "code",
   "execution_count": null,
   "id": "c26d286f",
   "metadata": {},
   "outputs": [],
   "source": [
    "dft[\"beam_quality\"] = beam_quality_cut\n",
    "dft[\"minbias\"] = dft.gate_count % MINBIAS_PRESCALE == 0\n",
    "dft[\"livetime\"] = 10.1*dft.gate_delta\n",
    "\n",
    "dft[\"offbeam\"] = OFFBEAM"
   ]
  },
  {
   "cell_type": "code",
   "execution_count": null,
   "id": "048cd4bb",
   "metadata": {},
   "outputs": [],
   "source": []
  },
  {
   "cell_type": "code",
   "execution_count": null,
   "id": "12f80e51",
   "metadata": {},
   "outputs": [],
   "source": [
    "dft[\"imajority\"] = (~dft.minbias).cumsum()"
   ]
  },
  {
   "cell_type": "code",
   "execution_count": null,
   "id": "baa73ec2",
   "metadata": {},
   "outputs": [],
   "source": [
    "totpot_corr = dft.groupby(\"imajority\").totpot.sum() * (MINBIAS_PRESCALE - 1) / MINBIAS_PRESCALE\n",
    "totpot_corr.name = \"totpot_corr\"\n",
    "\n",
    "livetime_corr = dft.groupby(\"imajority\").livetime.sum() * (MINBIAS_PRESCALE - 1) / MINBIAS_PRESCALE\n",
    "livetime_corr.name = \"livetime_corr\"\n",
    "\n",
    "quality_majority = dft.groupby(\"imajority\").beam_quality.last()\n",
    "quality_majority.name = \"quality_majority\"\n",
    "\n",
    "if \"totpot_corr\" in dft.columns:\n",
    "    del dft[\"totpot_corr\"]  \n",
    "if \"livetime_corr\" in dft.columns:\n",
    "    del dft[\"livetime_corr\"]\n",
    "if \"quality_majority\" in dft.columns:\n",
    "    del dft[\"quality_majority\"]\n",
    "    \n",
    "dft = dft.join(totpot_corr, on=\"imajority\")\n",
    "dft = dft.join(livetime_corr, on=\"imajority\")\n",
    "dft = dft.join(quality_majority, on=\"imajority\")\n",
    "\n",
    "dft.loc[dft.minbias, \"totpot_corr\"] = 0.\n",
    "dft.loc[dft.minbias, \"livetime_corr\"] = 0.\n",
    "dft.loc[dft.minbias, \"quality_majority\"] = False\n",
    "\n",
    "# Don't count POT OR livetime included in events with bad triggers\n",
    "dft.loc[~trigger_quality_cut, \"totpot_corr\"] = 0\n",
    "dft.loc[~trigger_quality_cut, \"livetime_corr\"] = 0"
   ]
  },
  {
   "cell_type": "code",
   "execution_count": null,
   "id": "ffbd6d79",
   "metadata": {},
   "outputs": [],
   "source": [
    "cols_tosave = [\n",
    "    \"run\",\n",
    "    \"subrun\",\n",
    "    \"event\",\n",
    "    \"ifile\",\n",
    "    \"duplicate\",\n",
    "    \"gate_count\",\n",
    "    \"gate_delta\",\n",
    "    \"nspill\",\n",
    "    \"prev_trigger_timestamp_s\",\n",
    "    \"trigger_timestamp_s\",\n",
    "    \"badspill\",\n",
    "    \"spilltime\",\n",
    "    \"beam_quality\",\n",
    "    \"quality_majority\",\n",
    "    \"minbias\",\n",
    "    \"offbeam\",\n",
    "    \"totpot\",\n",
    "    \"livetime\",\n",
    "    \"totpot_corr\",\n",
    "    \"livetime_corr\"\n",
    "]"
   ]
  },
  {
   "cell_type": "code",
   "execution_count": null,
   "id": "fbf7d69b",
   "metadata": {},
   "outputs": [],
   "source": [
    "dft[cols_tosave][:50]"
   ]
  },
  {
   "cell_type": "code",
   "execution_count": null,
   "id": "57d82922",
   "metadata": {},
   "outputs": [],
   "source": [
    "if dosave:\n",
    "    dft[cols_tosave].to_csv(outf)"
   ]
  },
  {
   "cell_type": "code",
   "execution_count": null,
   "id": "632fae48",
   "metadata": {},
   "outputs": [],
   "source": [
    "outf"
   ]
  },
  {
   "cell_type": "code",
   "execution_count": null,
   "id": "7e71b679",
   "metadata": {},
   "outputs": [],
   "source": []
  },
  {
   "cell_type": "code",
   "execution_count": null,
   "id": "184ed8c8",
   "metadata": {},
   "outputs": [],
   "source": []
  },
  {
   "cell_type": "code",
   "execution_count": null,
   "id": "8ae9554b",
   "metadata": {},
   "outputs": [],
   "source": []
  }
 ],
 "metadata": {
  "kernelspec": {
   "display_name": "Python 3 (ipykernel)",
   "language": "python",
   "name": "python3"
  },
  "language_info": {
   "codemirror_mode": {
    "name": "ipython",
    "version": 3
   },
   "file_extension": ".py",
   "mimetype": "text/x-python",
   "name": "python",
   "nbconvert_exporter": "python",
   "pygments_lexer": "ipython3",
   "version": "3.9.2"
  }
 },
 "nbformat": 4,
 "nbformat_minor": 5
}

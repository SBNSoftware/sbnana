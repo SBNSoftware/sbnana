{
 "cells": [
  {
   "cell_type": "code",
   "execution_count": null,
   "id": "aeb2a1a5",
   "metadata": {},
   "outputs": [],
   "source": [
    "1+1"
   ]
  },
  {
   "cell_type": "code",
   "execution_count": null,
   "id": "791d78b4",
   "metadata": {},
   "outputs": [],
   "source": [
    "import uproot\n",
    "import matplotlib.pyplot as plt \n",
    "import pandas as pd \n",
    "import numpy as np \n",
    "import matplotlib as mpl\n",
    "\n",
    "from util import *\n",
    "import var\n",
    "import cut\n",
    "import data\n",
    "import hist\n",
    "\n",
    "import importlib\n",
    "\n",
    "from pyanalib import panda_helpers"
   ]
  },
  {
   "cell_type": "code",
   "execution_count": null,
   "id": "3db11672",
   "metadata": {},
   "outputs": [],
   "source": [
    "importlib.reload(var)\n",
    "importlib.reload(cut)\n",
    "importlib.reload(data)\n",
    "importlib.reload(hist)\n",
    "importlib.reload(panda_helpers)"
   ]
  },
  {
   "cell_type": "code",
   "execution_count": null,
   "id": "b8f90482",
   "metadata": {},
   "outputs": [],
   "source": [
    "plt.rcParams.update({'font.size': 16})\n",
    "mpl.rcParams['lines.linewidth'] = 4.\n",
    "\n",
    "dosave = False\n",
    "savedir = \"/icarus/app/users/gputnam/evtsel-ana/plots_Jan9/\"\n",
    "\n",
    "savedata = False\n",
    "datadir = \"/icarus/data/users/gputnam/dimuon-data/\"\n",
    "\n",
    "HMASS = 240\n",
    "labelM = \"$M_S$ = %iMeV\" % HMASS\n",
    "label = labelM + \"\\n$\\\\theta_S = 5\\\\cdot10^{-5}$\"\n",
    "\n",
    "# AMASS = 400\n",
    "# labelM = \"$M_a$ = %i MeV\" % AMASS\n",
    "# label = labelM + \"\\n$f_a$ = \\n$c_\\\\ell$ =\""
   ]
  },
  {
   "cell_type": "code",
   "execution_count": null,
   "id": "5ea9f0a6",
   "metadata": {},
   "outputs": [],
   "source": [
    "fnu = \"/icarus/data/users/gputnam/dimuon-data/mcnu_phase2_evt.df\""
   ]
  },
  {
   "cell_type": "code",
   "execution_count": null,
   "id": "de39554e",
   "metadata": {},
   "outputs": [],
   "source": [
    "nu_evtdf = pd.read_hdf(fnu, key=\"evt\")"
   ]
  },
  {
   "cell_type": "code",
   "execution_count": null,
   "id": "8fe250d9",
   "metadata": {},
   "outputs": [],
   "source": [
    "nu_evtdf"
   ]
  },
  {
   "cell_type": "code",
   "execution_count": null,
   "id": "2dcd7cd9",
   "metadata": {},
   "outputs": [],
   "source": [
    "nu_mcdf = pd.read_hdf(fnu, key=\"mcnu\")"
   ]
  },
  {
   "cell_type": "code",
   "execution_count": null,
   "id": "049e8c78",
   "metadata": {},
   "outputs": [],
   "source": [
    "nu_mcdf"
   ]
  },
  {
   "cell_type": "code",
   "execution_count": null,
   "id": "bf695dcc",
   "metadata": {},
   "outputs": [],
   "source": [
    "nu_hdr = pd.read_hdf(fnu, key=\"hdr\")"
   ]
  },
  {
   "cell_type": "code",
   "execution_count": null,
   "id": "9f5ebb00",
   "metadata": {},
   "outputs": [],
   "source": [
    "nu_hdr"
   ]
  },
  {
   "cell_type": "code",
   "execution_count": null,
   "id": "b434cd13",
   "metadata": {},
   "outputs": [],
   "source": [
    "fh = \"/icarus/data/users/gputnam/dimuon-data/higgs_M%i_DMCP2023G_evt.df\" % HMASS"
   ]
  },
  {
   "cell_type": "code",
   "execution_count": null,
   "id": "afe9bd1a",
   "metadata": {},
   "outputs": [],
   "source": [
    "spectrum_file = fh.split(\"/\")[-1].replace(\"evt.df\", \"spectrum.df\").replace(\"DMCP2023G\", \"mcphase2\")\n",
    "spectrum_file"
   ]
  },
  {
   "cell_type": "code",
   "execution_count": null,
   "id": "902506fe",
   "metadata": {},
   "outputs": [],
   "source": [
    "h_evtdf = pd.read_hdf(fh, key=\"evt\")"
   ]
  },
  {
   "cell_type": "code",
   "execution_count": null,
   "id": "98e2594e",
   "metadata": {},
   "outputs": [],
   "source": [
    "h_mcdf = pd.read_hdf(fh, key=\"mcnu\")"
   ]
  },
  {
   "cell_type": "code",
   "execution_count": null,
   "id": "6eeee6ff",
   "metadata": {},
   "outputs": [],
   "source": [
    "h_mcdf"
   ]
  },
  {
   "cell_type": "code",
   "execution_count": null,
   "id": "61c65382",
   "metadata": {},
   "outputs": [],
   "source": [
    "h_mchdf = pd.read_hdf(fh, key=\"mch\")"
   ]
  },
  {
   "cell_type": "code",
   "execution_count": null,
   "id": "efd2b90c",
   "metadata": {},
   "outputs": [],
   "source": [
    "h_mchdf"
   ]
  },
  {
   "cell_type": "code",
   "execution_count": null,
   "id": "51ed27c9",
   "metadata": {},
   "outputs": [],
   "source": [
    "h_hdr = pd.read_hdf(fh, key=\"hdr\")"
   ]
  },
  {
   "cell_type": "code",
   "execution_count": null,
   "id": "7657a25c",
   "metadata": {},
   "outputs": [],
   "source": [
    "h_hdr"
   ]
  },
  {
   "cell_type": "code",
   "execution_count": null,
   "id": "ad01823d",
   "metadata": {},
   "outputs": [],
   "source": [
    "h_mchdf.index = h_mchdf.index.droplevel(-1)"
   ]
  },
  {
   "cell_type": "code",
   "execution_count": null,
   "id": "9be6acaa",
   "metadata": {},
   "outputs": [],
   "source": [
    "# MeVPrtl truth information\n",
    "\n",
    "# Simulation parameters\n",
    "p_M = h_mchdf.M\n",
    "p_M.name = \"p_M\"\n",
    "\n",
    "p_th = h_mchdf.C1\n",
    "p_th.name = \"p_th\"\n",
    "\n",
    "p_dist = dmagdf(h_mchdf.start, h_mchdf.enter)\n",
    "p_dist.name = \"p_dist\"\n",
    "\n",
    "p_raydist = dmagdf(h_mchdf.enter, h_mchdf.exit)\n",
    "p_raydist.name = \"p_raydist\"\n",
    "\n",
    "p_decaylength = h_mchdf.decay_length\n",
    "p_decaylength.name = \"p_decaylength\"\n",
    "\n",
    "h_evtdf[p_M.name] = p_M\n",
    "h_evtdf[p_th.name] = p_th\n",
    "h_evtdf[p_raydist.name] = p_raydist\n",
    "h_evtdf[p_dist.name] = p_dist\n",
    "h_evtdf[p_decaylength.name] = p_decaylength\n",
    "\n",
    "\n",
    "nu_evtdf[p_M.name] = np.nan\n",
    "nu_evtdf[p_th.name] = np.nan\n",
    "nu_evtdf[p_dist.name] = np.nan\n",
    "nu_evtdf[p_raydist.name] = np.nan\n",
    "nu_evtdf[p_dist.name] = p_raydist\n",
    "nu_evtdf[p_decaylength.name] = np.nan"
   ]
  },
  {
   "cell_type": "code",
   "execution_count": null,
   "id": "11f1b8e0",
   "metadata": {},
   "outputs": [],
   "source": [
    "def sample_concat(dfA, dfB, offset=1_000_000):\n",
    "    dfB = dfB.copy()\n",
    "    # dfB.index = dfB.index.set_levels(dfB.index.levels[0] + dfA.index.max()[0] + 1, level=0)\n",
    "    dfB.index = dfB.index.set_levels(dfB.index.levels[0] + offset, level=0)\n",
    "    return dfA.append(dfB)"
   ]
  },
  {
   "cell_type": "code",
   "execution_count": null,
   "id": "661ffd15",
   "metadata": {},
   "outputs": [],
   "source": [
    "nu_pot = np.sum(nu_hdr.pot * nu_hdr.first_in_subrun)\n",
    "h_pot = np.sum(h_hdr.pot * h_hdr.first_in_subrun)"
   ]
  },
  {
   "cell_type": "code",
   "execution_count": null,
   "id": "66cd2086",
   "metadata": {},
   "outputs": [],
   "source": [
    "nu_evt_per_spill = np.sum(nu_hdr.ngenevt*nu_hdr.first_in_subrun) / (np.sum(nu_hdr.pot*nu_hdr.first_in_subrun) / 6e13)\n",
    "# ic_pot = np.sum(ic_hdr.ngenevt * ic_hdr.first_in_subrun * 6e13) / (1 - nu_evt_per_spill)"
   ]
  },
  {
   "cell_type": "code",
   "execution_count": null,
   "id": "5d3143ef",
   "metadata": {},
   "outputs": [],
   "source": [
    "GOAL_POT = 4e20 \n",
    "nu_evtdf[\"scale\"] = GOAL_POT / nu_pot\n",
    "h_evtdf[\"scale\"] = GOAL_POT / h_pot\n",
    "# ic_evtdf[\"scale\"] = GOAL_POT / ic_pot\n",
    "\n",
    "nu_mcdf[\"scale\"] = GOAL_POT / nu_pot\n",
    "h_mcdf[\"scale\"] = GOAL_POT / h_pot\n",
    "\n",
    "POTSTR = \"4e20 POT\""
   ]
  },
  {
   "cell_type": "code",
   "execution_count": null,
   "id": "943004f4",
   "metadata": {},
   "outputs": [],
   "source": [
    "h_evtdf[\"higgs\"] = True\n",
    "nu_evtdf[\"higgs\"] = False\n",
    "# ic_evtdf[\"higgs\"] = False"
   ]
  },
  {
   "cell_type": "code",
   "execution_count": null,
   "id": "2d59e33e",
   "metadata": {},
   "outputs": [],
   "source": [
    "def decay_weight(in_dist, out_dist, mean_dist):\n",
    "    return np.exp(-in_dist / mean_dist) - \\\n",
    "          np.exp(-out_dist / mean_dist)\n",
    "    \n",
    "def flux_weight(mixing):\n",
    "    return mixing * mixing\n",
    "\n",
    "def reweight_mixing(newmixing, start, enter, exit, mean_dist, oldmixing=1e-5):\n",
    "    dist_in = dist(enter, start)\n",
    "    dist_out = dist(exit, start)\n",
    "    \n",
    "    old_dcy = decay_weight(dist_in, dist_out, mean_dist)\n",
    "    new_dcy = decay_weight(dist_in, dist_out, mean_dist / (newmixing**2 / oldmixing**2))\n",
    "    \n",
    "    old_flux = flux_weight(oldmixing)\n",
    "    new_flux = flux_weight(newmixing)\n",
    "    \n",
    "    return (new_flux / old_flux) * (new_dcy / old_dcy)"
   ]
  },
  {
   "cell_type": "code",
   "execution_count": null,
   "id": "294427c2",
   "metadata": {},
   "outputs": [],
   "source": [
    "var = nu_mcdf.E\n",
    "when = SlcInFV(nu_mcdf.position)\n",
    "bins = np.linspace(0, 5, 21)\n",
    "\n",
    "_ = plt.hist([var[when & (nu_mcdf.genie_mode == 3) & nu_mcdf.iscc],\n",
    "              var[when & (nu_mcdf.np == 0) & ((nu_mcdf.genie_mode != 3) | (nu_mcdf.iscc == 0))],\n",
    "              var[when & (nu_mcdf.np > 0)],\n",
    "             ],\n",
    "              weights=[\n",
    "                  nu_mcdf.scale[when & (nu_mcdf.genie_mode == 3) & nu_mcdf.iscc],\n",
    "                  nu_mcdf.scale[when & (nu_mcdf.np == 0) & ((nu_mcdf.genie_mode != 3) | (nu_mcdf.iscc == 0))],\n",
    "                  nu_mcdf.scale[when & (nu_mcdf.np > 0)]\n",
    "              ],\n",
    "              bins=bins, label=[\"CC Coh\", \"No p\", \"With p\"],\n",
    "             stacked=True\n",
    "            )\n",
    "plt.ylabel(\"Fiducial Neutrinos / %s\" % POTSTR)\n",
    "plt.xlabel(\"Neutrino Energy [GeV]\")\n",
    "plt.legend()\n",
    "plt.tight_layout()\n",
    "\n",
    "if dosave: plt.savefig(savedir + \"neutrino_energy_splitnu.pdf\")"
   ]
  },
  {
   "cell_type": "code",
   "execution_count": null,
   "id": "0f49b808",
   "metadata": {},
   "outputs": [],
   "source": [
    "var = nu_mcdf.E\n",
    "when = SlcInFV(nu_mcdf.position)\n",
    "bins = np.linspace(0, 10, 21)\n",
    "\n",
    "_ = plt.hist([var[when & (nu_mcdf.genie_mode == 3) & nu_mcdf.iscc],],\n",
    "              weights=[nu_mcdf.scale[when & (nu_mcdf.genie_mode == 3) & nu_mcdf.iscc],],\n",
    "              bins=bins, label=[\"CC Coh\"],\n",
    "             stacked=True\n",
    "            )\n",
    "plt.ylabel(\"Fiducial Neutrinos / %s\" % POTSTR)\n",
    "plt.xlabel(\"Neutrino Energy [GeV]\")\n",
    "plt.legend()\n",
    "plt.tight_layout()\n",
    "\n",
    "if dosave: plt.savefig(savedir + \"neutrino_energy_cohnu.pdf\")"
   ]
  },
  {
   "cell_type": "code",
   "execution_count": null,
   "id": "f539c29e",
   "metadata": {},
   "outputs": [],
   "source": [
    "var = nu_mcdf.E\n",
    "when = SlcInFV(nu_mcdf.position)\n",
    "bins = np.linspace(0, 5, 21)\n",
    "\n",
    "_ = plt.hist(var[when], bins=bins, weights=nu_mcdf.scale[when])\n",
    "plt.ylabel(\"Fiducial Neutrinos / %s\" % POTSTR)\n",
    "plt.xlabel(\"Neutrino Energy [GeV]\")\n",
    "plt.tight_layout()\n",
    "\n",
    "if dosave: plt.savefig(savedir + \"neutrino_energy.pdf\")"
   ]
  },
  {
   "cell_type": "code",
   "execution_count": null,
   "id": "8b602b76",
   "metadata": {},
   "outputs": [],
   "source": [
    "var = h_mcdf.E\n",
    "when = SlcInFV(h_mcdf.position)\n",
    "bins = np.linspace(0, 5, 21)\n",
    "bins = np.linspace(0, 10, 21)\n",
    "\n",
    "_ = plt.hist(var[when], bins=bins, weights=h_mcdf.scale[when])\n",
    "plt.ylabel(\"Fiducial Scalars / %s\" % POTSTR)\n",
    "plt.xlabel(\"Scalar Energy [GeV]\")\n",
    "plt.tight_layout()\n",
    "plt.text(0.6, 0.6, label, fontsize=18, transform=plt.gca().transAxes)\n",
    "if dosave: plt.savefig(savedir + \"scalar_energy_M%i.pdf\" % HMASS)"
   ]
  },
  {
   "cell_type": "code",
   "execution_count": null,
   "id": "ff439aac",
   "metadata": {},
   "outputs": [],
   "source": [
    "numu_cc = (np.abs(nu_mcdf.pdg) == 14) & nu_mcdf.iscc\n",
    "\n",
    "mc_is_nu_coh = (nu_mcdf.genie_mode == 3) & numu_cc\n",
    "mc_is_nu_coh.name = \"$\\\\nu_\\\\mu$ CC COH\"\n",
    "\n",
    "mc_is_nu_pi = (nu_mcdf.npi >= 1) & (nu_mcdf.max_proton_ke < 0.02) & (nu_mcdf.npi0 == 0) & ~mc_is_nu_coh & numu_cc\n",
    "mc_is_nu_pi.name = \"$\\\\nu_\\\\mu$ CC n$\\\\pi$0p\"\n",
    "                                              \n",
    "mc_is_nu_pip = (nu_mcdf.npi >= 1) & (nu_mcdf.max_proton_ke >= 0.02) & (nu_mcdf.npi0 == 0) & ~mc_is_nu_coh & numu_cc\n",
    "mc_is_nu_pip.name = \"$\\\\nu_\\\\mu$ CC n$\\\\pi$np\"                                              \n",
    "\n",
    "mc_is_nu_other = ~mc_is_nu_coh & ~mc_is_nu_pi & ~mc_is_nu_pip & numu_cc\n",
    "mc_is_nu_other.name = \"$\\\\nu_\\\\mu$ CC Other\""
   ]
  },
  {
   "cell_type": "code",
   "execution_count": null,
   "id": "34dcbe0b",
   "metadata": {},
   "outputs": [],
   "source": [
    "mc_nucategories = [mc_is_nu_other, mc_is_nu_pip, mc_is_nu_pi, mc_is_nu_coh] #[mc_is_nu_pi, mc_is_nu_pip, mc_is_nu_coh, mc_is_nu_other]"
   ]
  },
  {
   "cell_type": "code",
   "execution_count": null,
   "id": "dbcf94c2",
   "metadata": {},
   "outputs": [],
   "source": [
    "modes = [0, 1, 2, 3, 10]\n",
    "mode_names = [\"QE\", \"RES\", \"DIS\", \"COH\", \"MEC\"]"
   ]
  },
  {
   "cell_type": "code",
   "execution_count": null,
   "id": "a53f754f",
   "metadata": {},
   "outputs": [],
   "source": [
    "var = nu_mcdf.E\n",
    "\n",
    "when = SlcInFV(nu_mcdf.position) & numu_cc\n",
    "\n",
    "bins = np.linspace(0, 10, 21)\n",
    "\n",
    "# for c in nucategories:\n",
    "_ = plt.hist([var[when & (nu_mcdf.genie_mode == m)] for m in modes], \n",
    "             weights=[nu_mcdf.scale[when & (nu_mcdf.genie_mode == m)]/10 for m in modes], bins=bins, \n",
    "             label=mode_names, \n",
    "                 stacked=True, linewidth=2)\n",
    "plt.legend()\n",
    "\n",
    "#plt.ticklabel_format(axis='y', style='sci', scilimits=(4,4))\n",
    "plt.tight_layout()\n",
    "plt.xlabel(\"Neutrino Energy [GeV]\")\n",
    "plt.title(\"ICARUS MC\")\n",
    "plt.ylabel(\"Neutrinos / %s\" % POTSTR)\n",
    "\n",
    "plt.tight_layout()\n",
    "if dosave: plt.savefig(savedir + \"all_nue_intmodes.pdf\")"
   ]
  },
  {
   "cell_type": "code",
   "execution_count": null,
   "id": "690a107f",
   "metadata": {},
   "outputs": [],
   "source": [
    "evtdf = sample_concat(h_evtdf, nu_evtdf, offset=1_000_000)"
   ]
  },
  {
   "cell_type": "code",
   "execution_count": null,
   "id": "e61cae34",
   "metadata": {},
   "outputs": [],
   "source": [
    "is_higgs = (evtdf.slc.tmatch.idx >= 0) & evtdf.higgs & (evtdf.slc.truth.npi == 0) & (evtdf.slc.truth.npi0 == 0)\n",
    "is_higgs.name = \"Scalar\"\n",
    "is_nu = (evtdf.slc.tmatch.idx >= 0) & ~evtdf.higgs\n",
    "is_nu.name = \"$\\\\nu$\"\n",
    "is_cosmic = evtdf.slc.tmatch.idx < 0\n",
    "is_cosmic.name = \"Cosmic\""
   ]
  },
  {
   "cell_type": "code",
   "execution_count": null,
   "id": "80284ee2",
   "metadata": {},
   "outputs": [],
   "source": [
    "categories = [is_higgs, is_nu, is_cosmic]"
   ]
  },
  {
   "cell_type": "code",
   "execution_count": null,
   "id": "c2895621",
   "metadata": {},
   "outputs": [],
   "source": [
    "evt_numu_cc = (np.abs(evtdf.slc.truth.pdg) == 14) & evtdf.slc.truth.iscc\n",
    "\n",
    "is_nu_coh = is_nu & (evtdf.slc.truth.genie_mode == 3) & (evtdf.slc.truth.iscc) & evt_numu_cc\n",
    "is_nu_coh.name = \"$\\\\nu_\\\\mu$ CC COH\"\n",
    "\n",
    "is_nu_pi = is_nu & (evtdf.slc.truth.npi >= 1) & (evtdf.slc.truth.max_proton_ke < 0.02) & (evtdf.slc.truth.npi0 == 0) & (evtdf.slc.truth.iscc) & evt_numu_cc & ~is_nu_coh\n",
    "is_nu_pi.name = \"$\\\\nu_\\\\mu$ CC n$\\\\pi$0p\"\n",
    "                                              \n",
    "is_nu_pip = is_nu & (evtdf.slc.truth.npi >= 1) & (evtdf.slc.truth.max_proton_ke >= 0.02) & (evtdf.slc.truth.npi0 == 0) & (evtdf.slc.truth.iscc) & evt_numu_cc & ~is_nu_coh\n",
    "is_nu_pip.name = \"$\\\\nu_\\\\mu$ CC n$\\\\pi$np\"                                              \n",
    "\n",
    "is_nu_other = is_nu  & ~is_nu_coh & ~is_nu_pi & ~is_nu_pip\n",
    "is_nu_other.name = \"$\\\\nu$ Other\""
   ]
  },
  {
   "cell_type": "code",
   "execution_count": null,
   "id": "9976511c",
   "metadata": {},
   "outputs": [],
   "source": [
    "nucategories = [is_nu_other, is_nu_pip, is_nu_pi, is_nu_coh]"
   ]
  },
  {
   "cell_type": "code",
   "execution_count": null,
   "id": "7e465818",
   "metadata": {},
   "outputs": [],
   "source": [
    "scale = evtdf.scale.copy()\n",
    "# scale[is_higgs] = evtdf.scale"
   ]
  },
  {
   "cell_type": "code",
   "execution_count": null,
   "id": "952692a9",
   "metadata": {},
   "outputs": [],
   "source": [
    "var = np.maximum(evtdf.trunk.trk.len, evtdf.branch.trk.len)\n",
    "\n",
    "when = SlcInFV(evtdf.slc.vertex) & (evtdf.slc.is_clear_cosmic == 0)\n",
    "\n",
    "bins = np.linspace(0, 400, 21)\n",
    "\n",
    "# for c in nucategories:\n",
    "_ = plt.hist([var[when & c] for c in [is_cosmic] + nucategories], \n",
    "             weights=[scale[when & c]/10 for c in [is_cosmic] + nucategories], bins=bins, \n",
    "             label=[c.name for c in [is_cosmic] + nucategories], \n",
    "                 stacked=True, linewidth=2)\n",
    "plt.legend()\n",
    "\n",
    "#plt.ticklabel_format(axis='y', style='sci', scilimits=(4,4))\n",
    "plt.tight_layout()\n",
    "plt.xlabel(\"Maximum Track Length [cm]\")\n",
    "plt.title(\"ICARUS MC\")\n",
    "plt.ylabel(\"Candidates / %s\" % POTSTR)\n",
    "\n",
    "plt.tight_layout()\n",
    "if dosave: plt.savefig(savedir + \"allevt_trklen.pdf\")"
   ]
  },
  {
   "cell_type": "code",
   "execution_count": null,
   "id": "e96134f4",
   "metadata": {},
   "outputs": [],
   "source": [
    "# DEFINE CUTS"
   ]
  },
  {
   "cell_type": "code",
   "execution_count": null,
   "id": "dbfd0b5b",
   "metadata": {},
   "outputs": [],
   "source": [
    "# OPTIMIZED\n",
    "MAX_SHW_LEN_CUT = 3\n",
    "OTHR_CHI2P_CUT = 80\n",
    "OTHR_CHI2U_CUT = 40\n",
    "\n",
    "LEN_CUT = 25\n",
    "\n",
    "CHI2U_CUT = 10\n",
    "# CHI2U_CUT = 6\n",
    "CHI2P_CUT = 80\n",
    "MED_DQDX_CUT = 0\n",
    "\n",
    "STUB_5mm_CUT = 5e5 / 1e3\n",
    "STUB_10mm_CUT = 3e5 / 1e3\n",
    "STUB_20mm_CUT = 2.5e5 / 1e3\n",
    "STUB_30mm_CUT = 2e5 / 1e3\n",
    "\n",
    "OPENANGLE_CUT = 0.5\n",
    "UU_ANGLE_CUT = 0.125"
   ]
  },
  {
   "cell_type": "code",
   "execution_count": null,
   "id": "fc871eb1",
   "metadata": {},
   "outputs": [],
   "source": [
    "# LOOSE\n",
    "# MAX_SHW_LEN_CUT = 10\n",
    "# OTHR_CHI2P_CUT = 80\n",
    "# OTHR_CHI2U_CUT = 40\n",
    "# LEN_CUT = 25\n",
    "\n",
    "# CHI2U_CUT = 20\n",
    "# CHI2P_CUT = 80\n",
    "# MED_DQDX_CUT = 0\n",
    "\n",
    "# STUB_5mm_CUT = 5e5 / 1e3\n",
    "# STUB_10mm_CUT = 3e5 / 1e3\n",
    "# STUB_20mm_CUT = 2.5e5 / 1e3\n",
    "# STUB_30mm_CUT = 2e5 / 1e3\n",
    "\n",
    "# OPENANGLE_CUT = 0.6\n",
    "# UU_ANGLE_CUT = 0.15"
   ]
  },
  {
   "cell_type": "code",
   "execution_count": null,
   "id": "0392371c",
   "metadata": {},
   "outputs": [],
   "source": [
    "when = SlcInFV(evtdf.slc.vertex)\n",
    "\n",
    "var = evtdf.max_shw_len.copy()\n",
    "var[np.isnan(var) | (var < 0)] = -10\n",
    "\n",
    "bins = [-12, -8] + list(np.linspace(0, 100, 26))\n",
    "\n",
    "for c in categories:\n",
    "    _ = plt.hist(var[when & c], weights=scale[when & c], bins=bins, label=c.name, histtype=\"step\", linewidth=2, density=True)\n",
    "plt.legend()\n",
    "plt.xlabel(\"Max Shower Length [cm]\")\n",
    "\n",
    "plt.ylabel(\"Area Normalized\")\n",
    "plt.yscale(\"log\")\n",
    "\n",
    "plt.axvline([MAX_SHW_LEN_CUT], linestyle=\":\", color=\"r\", linewidth=2)\n",
    "\n",
    "plt.text(0.6, 0.4, label, transform=plt.gca().transAxes, fontsize=18)\n",
    "\n",
    "plt.tight_layout()\n",
    "\n",
    "if dosave: plt.savefig(savedir + \"max_shw_len_M%i.pdf\" % HMASS)"
   ]
  },
  {
   "cell_type": "code",
   "execution_count": null,
   "id": "c72ee8f8",
   "metadata": {},
   "outputs": [],
   "source": [
    "when = SlcInFV(evtdf.slc.vertex)\n",
    "\n",
    "var = evtdf.third_trk_dist.copy()\n",
    "var[np.isnan(var) | (var < 0)] = -10\n",
    "\n",
    "bins = [-12, -8] + list(np.linspace(0, 15, 16))\n",
    "\n",
    "for c in categories:\n",
    "    _ = plt.hist(var[when & c], weights=scale[when & c], bins=bins, label=c.name, histtype=\"step\", linewidth=2, density=True)\n",
    "plt.legend()\n",
    "plt.xlabel(\"Third Track Dist [cm]\")\n",
    "\n",
    "plt.ylabel(\"Area Normalized\")\n",
    "plt.yscale(\"log\")\n",
    "\n",
    "# plt.axvline([MAX_SHW_LEN_CUT], linestyle=\":\", color=\"r\", linewidth=2)\n",
    "\n",
    "plt.text(0.6, 0.4, label, transform=plt.gca().transAxes, fontsize=18)\n",
    "\n",
    "plt.tight_layout()\n",
    "\n",
    "if dosave: plt.savefig(savedir + \"third_trk_len_len_M%i.pdf\" % HMASS)"
   ]
  },
  {
   "cell_type": "code",
   "execution_count": null,
   "id": "088a23d8",
   "metadata": {},
   "outputs": [],
   "source": [
    "when = SlcInFV(evtdf.slc.vertex) \n",
    "var = evtdf.min_othr_chi2_proton\n",
    "\n",
    "bins = np.linspace(0, 400, 21)\n",
    "\n",
    "for c in categories:\n",
    "    _ = plt.hist(var[when & c], weights=scale[when & c], bins=bins, label=c.name, histtype=\"step\", linewidth=2, density=True)\n",
    "plt.legend()\n",
    "\n",
    "plt.xlabel(\"Trunk Track Col. Plane $\\\\chi^2$ Proton (Contained)\")\n",
    "\n",
    "plt.ylabel(\"Area Normalized\")\n",
    "plt.tight_layout()\n",
    "plt.axvline([OTHR_CHI2P_CUT], linestyle=\":\", color=\"r\", linewidth=2)\n",
    "\n",
    "plt.text(0.6, 0.4, label, transform=plt.gca().transAxes, fontsize=18)\n",
    "\n",
    "if dosave: plt.savefig(savedir +\"thirdtrk_chi2_proton_M%i.pdf\" % HMASS)"
   ]
  },
  {
   "cell_type": "code",
   "execution_count": null,
   "id": "0ee5263a",
   "metadata": {},
   "outputs": [],
   "source": [
    "when = SlcInFV(evtdf.slc.vertex)\n",
    "var = evtdf.max_othr_chi2_muon\n",
    "\n",
    "bins = np.linspace(0, 80, 21)\n",
    "\n",
    "for c in categories:\n",
    "    _ = plt.hist(var[when & c], weights=scale[when & c], bins=bins, label=c.name, histtype=\"step\", linewidth=2, density=True)\n",
    "plt.legend()\n",
    "\n",
    "plt.xlabel(\"Trunk Track Col. Plane $\\\\chi^2$ Muon (Contained)\")\n",
    "\n",
    "plt.ylabel(\"Area Normalized\")\n",
    "plt.tight_layout()\n",
    "plt.axvline([OTHR_CHI2U_CUT], linestyle=\":\", color=\"r\", linewidth=2)\n",
    "\n",
    "plt.text(0.6, 0.4, label, transform=plt.gca().transAxes, fontsize=18)\n",
    "\n",
    "if dosave: plt.savefig(savedir +\"trunk_chi2_muon_M%i.pdf\" % HMASS)"
   ]
  },
  {
   "cell_type": "code",
   "execution_count": null,
   "id": "e14fdac6",
   "metadata": {},
   "outputs": [],
   "source": [
    "when = SlcInFV(evtdf.slc.vertex) & TrkInFV(evtdf.trunk.trk.end)\n",
    "var = evtdf.trunk.trk.chi2pid.I2.chi2_muon\n",
    "\n",
    "bins = np.linspace(0, 80, 21)\n",
    "\n",
    "for c in categories:\n",
    "    _ = plt.hist(var[when & c], weights=scale[when & c], bins=bins, label=c.name, histtype=\"step\", linewidth=2, density=True)\n",
    "plt.legend()\n",
    "\n",
    "plt.xlabel(\"Trunk Track Col. Plane $\\\\chi^2$ Muon (Contained)\")\n",
    "\n",
    "plt.ylabel(\"Area Normalized\")\n",
    "plt.tight_layout()\n",
    "plt.axvline([CHI2U_CUT], linestyle=\":\", color=\"r\", linewidth=2)\n",
    "\n",
    "plt.text(0.6, 0.4, label, transform=plt.gca().transAxes, fontsize=18)\n",
    "\n",
    "if dosave: plt.savefig(savedir +\"trunk_chi2_muon_M%i.pdf\" % HMASS)"
   ]
  },
  {
   "cell_type": "code",
   "execution_count": null,
   "id": "595b5d8b",
   "metadata": {},
   "outputs": [],
   "source": [
    "when = SlcInFV(evtdf.slc.vertex) & TrkInFV(evtdf.trunk.trk.end)\n",
    "var = evtdf.trunk.trk.chi2pid.I2.chi2_proton\n",
    "\n",
    "bins = np.linspace(0, 400, 21)\n",
    "\n",
    "for c in categories:\n",
    "    _ = plt.hist(var[when & c], weights=scale[when & c], bins=bins, label=c.name, histtype=\"step\", linewidth=2, density=True)\n",
    "plt.legend()\n",
    "\n",
    "plt.xlabel(\"Trunk Track Col. Plane $\\\\chi^2$ Proton (Contained)\")\n",
    "\n",
    "plt.ylabel(\"Area Normalized\")\n",
    "plt.tight_layout()\n",
    "plt.axvline([CHI2P_CUT], linestyle=\":\", color=\"r\", linewidth=2)\n",
    "\n",
    "plt.text(0.6, 0.4, label, transform=plt.gca().transAxes, fontsize=18)\n",
    "\n",
    "if dosave: plt.savefig(savedir +\"trunk_chi2_proton_M%i.pdf\" % HMASS)"
   ]
  },
  {
   "cell_type": "code",
   "execution_count": null,
   "id": "6eb5a6bb",
   "metadata": {},
   "outputs": [],
   "source": [
    "when = SlcInFV(evtdf.slc.vertex) & TrkInFV(evtdf.trunk.trk.end)\n",
    "var = evtdf.trunk.trk.len\n",
    "\n",
    "bins = np.linspace(0, 400, 21)\n",
    "\n",
    "for c in categories:\n",
    "    _ = plt.hist(var[when & c], weights=scale[when & c], bins=bins, label=c.name, histtype=\"step\", linewidth=2, density=True)\n",
    "plt.legend()\n",
    "\n",
    "plt.xlabel(\"Trunk Len [cm] (Contained)\")\n",
    "\n",
    "plt.ylabel(\"Area Normalized\")\n",
    "plt.tight_layout()\n",
    "#nplt.axvline([60], linestyle=\":\", color=\"r\", linewidth=2)\n",
    "\n",
    "plt.text(0.6, 0.4, label, transform=plt.gca().transAxes, fontsize=18)\n",
    "\n",
    "if dosave: plt.savefig(savedir +\"trunk_cont_len_M%i.pdf\" % HMASS)"
   ]
  },
  {
   "cell_type": "code",
   "execution_count": null,
   "id": "f8cd477a",
   "metadata": {},
   "outputs": [],
   "source": [
    "when = SlcInFV(evtdf.slc.vertex) & ~TrkInFV(evtdf.trunk.trk.end)\n",
    "var = evtdf.trunk.trk.len\n",
    "\n",
    "bins = np.linspace(0, 600, 21)\n",
    "\n",
    "for c in categories:\n",
    "    _ = plt.hist(var[when & c], weights=scale[when & c], bins=bins, label=c.name, histtype=\"step\", linewidth=2, density=True)\n",
    "plt.legend()\n",
    "\n",
    "plt.xlabel(\"Trunk Len [cm] (Exiting)\")\n",
    "\n",
    "plt.ylabel(\"Area Normalized\")\n",
    "plt.tight_layout()\n",
    "plt.axvline([60], linestyle=\":\", color=\"r\", linewidth=2)\n",
    "\n",
    "plt.text(0.6, 0.4, label, transform=plt.gca().transAxes, fontsize=18)\n",
    "\n",
    "if dosave: plt.savefig(savedir +\"trunk_cont_len_M%i.pdf\" % HMASS)"
   ]
  },
  {
   "cell_type": "code",
   "execution_count": null,
   "id": "0ece4409",
   "metadata": {},
   "outputs": [],
   "source": [
    "when = SlcInFV(evtdf.slc.vertex) & TrkInFV(evtdf.branch.trk.end)\n",
    "var = evtdf.branch.trk.chi2pid.I2.chi2_muon\n",
    "\n",
    "bins = np.linspace(0, 80, 21)\n",
    "\n",
    "for c in categories:\n",
    "    _ = plt.hist(var[when & c], weights=scale[when & c], bins=bins, label=c.name, histtype=\"step\", density=True, linewidth=2)\n",
    "plt.legend()\n",
    "\n",
    "plt.xlabel(\"Branch Track Col. Plane $\\\\chi^2$ Muon (Contained)\")\n",
    "\n",
    "plt.ylabel(\"Area Normalized\")\n",
    "plt.axvline([CHI2U_CUT], linestyle=\":\", color=\"r\", linewidth=2)\n",
    "\n",
    "plt.tight_layout()\n",
    "plt.text(0.6, 0.4, label, transform=plt.gca().transAxes, fontsize=18)\n",
    "\n",
    "if dosave: plt.savefig(savedir + \"branch_chi2_muon_M%i.pdf\" % HMASS)"
   ]
  },
  {
   "cell_type": "code",
   "execution_count": null,
   "id": "e7847883",
   "metadata": {},
   "outputs": [],
   "source": [
    "when = SlcInFV(evtdf.slc.vertex) & TrkInFV(evtdf.branch.trk.end)\n",
    "var = evtdf.branch.trk.chi2pid.I2.chi2_proton\n",
    "\n",
    "bins = np.linspace(0, 400, 21)\n",
    "\n",
    "for c in categories:\n",
    "    _ = plt.hist(var[when & c], weights=scale[when & c], bins=bins, label=c.name, histtype=\"step\", density=True, linewidth=2)\n",
    "plt.legend()\n",
    "\n",
    "plt.xlabel(\"Branch Track Col. Plane $\\\\chi^2$ Proton (Contained)\")\n",
    "\n",
    "plt.ylabel(\"Area Normalized\")\n",
    "plt.axvline([CHI2P_CUT], linestyle=\":\", color=\"r\", linewidth=2)\n",
    "\n",
    "plt.tight_layout()\n",
    "plt.text(0.6, 0.4, label, transform=plt.gca().transAxes, fontsize=18)\n",
    "\n",
    "if dosave: plt.savefig(savedir + \"branch_chi2_proton_M%i.pdf\" % HMASS)"
   ]
  },
  {
   "cell_type": "code",
   "execution_count": null,
   "id": "368f3658",
   "metadata": {},
   "outputs": [],
   "source": [
    "def is_muon(trk):\n",
    "    return (TrkInFV(trk.end) & (trk.chi2pid.I2.chi2_muon < CHI2U_CUT) & (trk.chi2pid.I2.chi2_proton > CHI2P_CUT)) | (~TrkInFV(trk.end) & (trk.len > 100.))\n",
    "\n",
    "def is_proton(trk):\n",
    "    return TrkInFV(trk.end) & (trk.chi2pid.I2.chi2_muon > 40) & (trk.chi2pid.I2.chi2_proton < 60)"
   ]
  },
  {
   "cell_type": "code",
   "execution_count": null,
   "id": "6b807d34",
   "metadata": {},
   "outputs": [],
   "source": [
    "muselect = is_muon(evtdf.trunk.trk) & is_muon(evtdf.branch.trk)\n",
    "muselect.name = \"2 Muon Tracks Reconstructed\""
   ]
  },
  {
   "cell_type": "code",
   "execution_count": null,
   "id": "20104230",
   "metadata": {},
   "outputs": [],
   "source": [
    "LAr_density_gmL = 1.389875\n",
    "\n",
    "# RECOMBINATION\n",
    "\n",
    "# ArgoNeuT params\n",
    "MODA = 0.930\n",
    "MODB = 0.212\n",
    "Wion = 1e3 / 4.237e7\n",
    "\n",
    "Vps = 75058\n",
    "Enom = (375./385)*Vps*1e-3 /148.25\n",
    "Eshort = (368.6/378.6)*Vps*1e-3 /148.25\n",
    "Efield = Enom\n",
    "\n",
    "def recombination(dEdx, A=MODA, B=MODB, E=Efield):\n",
    "    alpha = A\n",
    "    beta = B / (LAr_density_gmL * E)\n",
    "\n",
    "    dQdx = np.log(alpha + dEdx*beta) / (Wion * beta)\n",
    "    return dQdx\n",
    "\n",
    "# recombination correction factor, MC\n",
    "Rfactor = 1/(recombination(1.6, A=0.93, B=0.212, E=0.494)*Wion)\n",
    "Gain = 1/0.01265\n",
    "Rfactor"
   ]
  },
  {
   "cell_type": "code",
   "execution_count": null,
   "id": "80d0aca4",
   "metadata": {},
   "outputs": [],
   "source": [
    "branch2trunk = magdf(evtdf.trunk.trk.start - evtdf.branch.trk.start)\n",
    "\n",
    "when = SlcInFV(evtdf.slc.vertex) & (branch2trunk < 5) #& topselect & muselect & (branch2trunk > 5)\n",
    "var = evtdf.trunk.med_start_dqdx*Gain*Rfactor / 1e3\n",
    "\n",
    "bins = np.linspace(0, 2e5, 21) / 1e3\n",
    "\n",
    "for c in categories:\n",
    "    _ = plt.hist(var[when & c], weights=scale[when & c], bins=bins, label=c.name, histtype=\"step\", linewidth=2, density=True)\n",
    "plt.legend()\n",
    "plt.axvline([MED_DQDX_CUT], linestyle=\":\", color=\"r\", linewidth=2)\n",
    "\n",
    "plt.text(0.6, 0.5, label, transform=plt.gca().transAxes, fontsize=18)\n",
    "\n",
    "plt.ylabel(\"Area Normalized\")\n",
    "\n",
    "plt.xlabel(\"Trunk dQ/dx [k$e^-$/cm]\")\n",
    "plt.ticklabel_format(axis='y', style='sci', scilimits=(-1,-4))\n",
    "\n",
    "plt.tight_layout()\n",
    "\n",
    "if dosave: plt.savefig(savedir + \"trunk_med_dqdx_M%i.pdf\" % HMASS)"
   ]
  },
  {
   "cell_type": "code",
   "execution_count": null,
   "id": "ae8b06a8",
   "metadata": {},
   "outputs": [],
   "source": [
    "branch2trunk = magdf(evtdf.trunk.trk.start - evtdf.branch.trk.start)\n",
    "\n",
    "when = SlcInFV(evtdf.slc.vertex) & (branch2trunk > 5) #& topselect & muselect & (branch2trunk > 5)\n",
    "var = evtdf.trunk.med_start_dqdx*Gain*Rfactor / 1e3\n",
    "\n",
    "bins = np.linspace(0, 2e5, 21) / 1e3\n",
    "\n",
    "for c in categories:\n",
    "    _ = plt.hist(var[when & c], weights=scale[when & c], bins=bins, label=c.name, histtype=\"step\", linewidth=2, density=True)\n",
    "plt.legend()\n",
    "plt.axvline([MED_DQDX_CUT], linestyle=\":\", color=\"r\", linewidth=2)\n",
    "\n",
    "plt.text(0.6, 0.5, label, transform=plt.gca().transAxes, fontsize=18)\n",
    "\n",
    "plt.ylabel(\"Area Normalized\")\n",
    "\n",
    "plt.xlabel(\"Trunk dQ/dx [ADDC/cm]\")\n",
    "plt.ticklabel_format(axis='y', style='sci', scilimits=(-1,-4))\n",
    "\n",
    "plt.tight_layout()\n",
    "\n",
    "if dosave: plt.savefig(savedir + \"trunk_med_dqdx_M%i.pdf\" % HMASS)"
   ]
  },
  {
   "cell_type": "code",
   "execution_count": null,
   "id": "ba955d34",
   "metadata": {},
   "outputs": [],
   "source": [
    "var = np.arccos(dotdf(evtdf.trunk.trk.dir, evtdf.branch.trk.dir)) #* 180 / np.pi\n",
    "when = SlcInFV(evtdf.slc.vertex) #& topselect & muselect\n",
    "\n",
    "bins = np.linspace(0, np.pi, 21)\n",
    "\n",
    "for c in categories:\n",
    "    _ = plt.hist(var[when & c], weights=scale[when & c], bins=bins, label=c.name, histtype=\"step\", linewidth=2, density=True)\n",
    "plt.legend(loc=\"upper right\")\n",
    "\n",
    "plt.axvline([OPENANGLE_CUT], linestyle=\":\", color=\"r\", linewidth=2)\n",
    "\n",
    "plt.text(0.25, 0.75, label, transform=plt.gca().transAxes, fontsize=18)\n",
    "\n",
    "plt.ylabel(\"Area Normalized\")\n",
    "plt.tight_layout()\n",
    "plt.xlabel(\"Reconstructed Opening Angle\")\n",
    "\n",
    "if dosave: plt.savefig(savedir + \"openangle_M%i.pdf\" % HMASS)"
   ]
  },
  {
   "cell_type": "code",
   "execution_count": null,
   "id": "27b51904",
   "metadata": {},
   "outputs": [],
   "source": [
    "beam2det = np.array([ [0.921035925, 0.022715103, 0.388814672], [0, 0.998297825, -0.058321970], [-0.389477631, 0.053716629, 0.919468161]])\n",
    "\n",
    "beamorigin = np.array([4.503730e2, 80.153901e2, 795.112945e2])\n",
    "\n",
    "MUON_MASS = 0.1057 \n",
    "PION_MASS = 0.13457\n",
    "\n",
    "BEAMDIR = beam2det.dot(beamorigin) / np.linalg.norm(beam2det.dot(beamorigin)) \n",
    "BEAMDIR"
   ]
  },
  {
   "cell_type": "code",
   "execution_count": null,
   "id": "f5279dc5",
   "metadata": {},
   "outputs": [],
   "source": [
    "def recop(trk):\n",
    "    p = trk.rangeP.p_muon\n",
    "    p[~TrkInFV(trk.end)] = trk.mcsP.fwdP_muon\n",
    "    return p"
   ]
  },
  {
   "cell_type": "code",
   "execution_count": null,
   "id": "7a13942c",
   "metadata": {},
   "outputs": [],
   "source": [
    "scalar_mom = evtdf.trunk.trk.dir.multiply(recop(evtdf.trunk.trk), axis=0) + \\\n",
    "           evtdf.branch.trk.dir.multiply(recop(evtdf.branch.trk), axis=0)\n",
    "    \n",
    "scalar_dir = scalar_mom.divide(magdf(scalar_mom), axis=0)\n",
    "\n",
    "beamangle = np.arccos(scalar_dir.x*BEAMDIR[0] + scalar_dir.y*BEAMDIR[1] + scalar_dir.z*BEAMDIR[2])\n",
    "\n",
    "trunk_beamcos = evtdf.trunk.trk.dir.x*BEAMDIR[0] + evtdf.trunk.trk.dir.y*BEAMDIR[1] + evtdf.trunk.trk.dir.z*BEAMDIR[2]\n",
    "trunk_E = np.sqrt(recop(evtdf.trunk.trk)**2 + MUON_MASS**2)\n",
    "branch_beamcos = evtdf.branch.trk.dir.x*BEAMDIR[0] + evtdf.branch.trk.dir.y*BEAMDIR[1] + evtdf.branch.trk.dir.z*BEAMDIR[2]\n",
    "branch_E = np.sqrt(recop(evtdf.branch.trk)**2 + PION_MASS**2)\n",
    "\n",
    "\n",
    "coh_t = (np.sin(beamangle)*magdf(scalar_mom))**2 + (trunk_E - recop(evtdf.trunk.trk)*trunk_beamcos + branch_E - recop(evtdf.branch.trk)*branch_beamcos)**2"
   ]
  },
  {
   "cell_type": "code",
   "execution_count": null,
   "id": "b27153a6",
   "metadata": {},
   "outputs": [],
   "source": [
    "var = beamangle\n",
    "\n",
    "when = SlcInFV(evtdf.slc.vertex) & muselect & TrkInFV(evtdf.trunk.trk.end) & TrkInFV(evtdf.branch.trk.end)\n",
    "\n",
    "bins = np.linspace(0, 0.5, 21)\n",
    "\n",
    "for c in categories:\n",
    "    _ = plt.hist(var[when & c], weights=scale[when & c], bins=bins, label=c.name, \n",
    "                 histtype=\"step\", linewidth=2, density=True)\n",
    "plt.legend()\n",
    "plt.axvline([UU_ANGLE_CUT], linestyle=\":\", color=\"r\", linewidth=2)\n",
    "\n",
    "plt.tight_layout()\n",
    "plt.xlabel(\"Reconstructed Scalar Angle to Beam [rad]\")\n",
    "plt.title(\"ICARUS MC\")\n",
    "plt.ylabel(\"Area Normalized\")\n",
    "\n",
    "plt.text(0.45, 0.35, label, transform=plt.gca().transAxes, fontsize=18)\n",
    "\n",
    "plt.tight_layout()\n",
    "if dosave: plt.savefig(savedir + \"scalar_beam_angle_relativenorm_M%i.pdf\" % HMASS)"
   ]
  },
  {
   "cell_type": "code",
   "execution_count": null,
   "id": "6e0b3536",
   "metadata": {},
   "outputs": [],
   "source": [
    "var = np.abs((recop(evtdf.trunk.trk) - recop(evtdf.branch.trk)) / (recop(evtdf.trunk.trk) + recop(evtdf.branch.trk)))\n",
    "\n",
    "when = SlcInFV(evtdf.slc.vertex) & muselect\n",
    "\n",
    "bins = np.linspace(0, 1, 21)\n",
    "\n",
    "for c in categories:\n",
    "    _ = plt.hist(var[when & c], weights=scale[when & c], bins=bins, label=c.name, \n",
    "                 histtype=\"step\", linewidth=2, density=True)\n",
    "plt.legend(loc=\"lower left\")\n",
    "# plt.axvline([0.3], linestyle=\":\", color=\"r\", linewidth=2)\n",
    "\n",
    "plt.tight_layout()\n",
    "plt.xlabel(\"Momentum Assymetry\")\n",
    "plt.title(\"ICARUS MC\")\n",
    "plt.ylabel(\"Area Normalized\")\n",
    "\n",
    "plt.text(0.4, 0.05, label, transform=plt.gca().transAxes, fontsize=18)\n",
    "\n",
    "plt.tight_layout()\n",
    "if dosave: plt.savefig(savedir + \"momentum_balance_M%i.pdf\" % HMASS)"
   ]
  },
  {
   "cell_type": "code",
   "execution_count": null,
   "id": "095d1c3c",
   "metadata": {},
   "outputs": [],
   "source": [
    "var = evtdf.stub.l0_5cm.dqdx / 1e3\n",
    "\n",
    "when = SlcInFV(evtdf.slc.vertex) & muselect # & (~is_higgs | ((evtdf.trunk.truth.p.genE > 0.5) & (evtdf.branch.truth.p.genE > 0.5)))\n",
    "\n",
    "bins = np.linspace(0, 8e5, 21) / 1e3\n",
    "\n",
    "for c in categories:\n",
    "    _ = plt.hist(var[when & c], weights=scale[when & c], bins=bins, label=c.name, \n",
    "                 histtype=\"step\", linewidth=2, density=True)\n",
    "plt.legend()\n",
    "plt.axvline([STUB_5mm_CUT], linestyle=\":\", color=\"r\", linewidth=2)\n",
    "\n",
    "#plt.ticklabel_format(axis='y', style='sci', scilimits=(4,4))\n",
    "plt.tight_layout()\n",
    "plt.xlabel(\"Stub dQ/dx [k$e^-$/cm] (len < 0.5cm)\")\n",
    "plt.title(\"ICARUS MC\")\n",
    "plt.ylabel(\"Area Normalized\")\n",
    "\n",
    "plt.text(0.25, 0.05, label, transform=plt.gca().transAxes, fontsize=18)\n",
    "\n",
    "plt.tight_layout()\n",
    "if dosave: plt.savefig(savedir + \"stub_0_5cm_dqdx_M%i.pdf\" % HMASS)"
   ]
  },
  {
   "cell_type": "code",
   "execution_count": null,
   "id": "90a19f1a",
   "metadata": {},
   "outputs": [],
   "source": [
    "var = evtdf.stub.l1cm.dqdx / 1e3\n",
    "\n",
    "bins = np.linspace(0, 8e5, 21) / 1e3\n",
    "\n",
    "for c in categories:\n",
    "    _ = plt.hist(var[when & c], weights=scale[when & c], bins=bins, label=c.name, \n",
    "                 histtype=\"step\", linewidth=2, density=True)\n",
    "plt.legend()\n",
    "plt.axvline([STUB_10mm_CUT], linestyle=\":\", color=\"r\", linewidth=2)\n",
    "\n",
    "#plt.ticklabel_format(axis='y', style='sci', scilimits=(4,4))\n",
    "plt.tight_layout()\n",
    "plt.xlabel(\"Stub dQ/dx [k$e^-$/cm] (0.5 < len < 1cm)\")\n",
    "plt.title(\"ICARUS MC\")\n",
    "plt.ylabel(\"Area Normalized\")\n",
    "\n",
    "plt.text(0.625, 0.35, label, transform=plt.gca().transAxes, fontsize=18)\n",
    "\n",
    "plt.tight_layout()\n",
    "if dosave: plt.savefig(savedir + \"stub_0_5cm_1cm_dqdx_M%i.pdf\" % HMASS)"
   ]
  },
  {
   "cell_type": "code",
   "execution_count": null,
   "id": "9f32c3ef",
   "metadata": {},
   "outputs": [],
   "source": [
    "var = evtdf.stub.l2cm.dqdx / 1e3\n",
    "\n",
    "bins = np.linspace(0, 8e5, 21) / 1e3\n",
    "\n",
    "for c in categories:\n",
    "    _ = plt.hist(var[when & c], weights=scale[when & c], bins=bins, label=c.name, \n",
    "                 histtype=\"step\", linewidth=2, density=True)\n",
    "plt.legend()\n",
    "plt.axvline([STUB_20mm_CUT], linestyle=\":\", color=\"r\", linewidth=2)\n",
    "\n",
    "plt.tight_layout()\n",
    "plt.xlabel(\"Stub dQ/dx [k$e^-$/cm] (1cm < len < 2cm)\")\n",
    "plt.title(\"ICARUS MC\")\n",
    "\n",
    "plt.text(0.625, 0.35, label, transform=plt.gca().transAxes, fontsize=18)\n",
    "plt.ylabel(\"Area Normalized\")\n",
    "\n",
    "plt.tight_layout()\n",
    "if dosave: plt.savefig(savedir + \"stub_1cm_2cm_dqdx_M%i.pdf\" % HMASS)"
   ]
  },
  {
   "cell_type": "code",
   "execution_count": null,
   "id": "d8dcbb1c",
   "metadata": {},
   "outputs": [],
   "source": [
    "var = evtdf.stub.l3cm.dqdx / 1e3\n",
    "\n",
    "bins = np.linspace(0, 8e5, 21) / 1e3\n",
    "\n",
    "for c in categories:\n",
    "    _ = plt.hist(var[when & c], weights=scale[when & c], bins=bins, label=c.name, \n",
    "                 histtype=\"step\", linewidth=2, density=True)\n",
    "    \n",
    "plt.legend()\n",
    "plt.axvline([STUB_30mm_CUT], linestyle=\":\", color=\"r\", linewidth=2)\n",
    "\n",
    "plt.tight_layout()\n",
    "plt.xlabel(\"Stub dQ/dx [k$e^-$/cm] (2cm < len < 3cm)\")\n",
    "plt.title(\"ICARUS MC\")\n",
    "plt.ylabel(\"Area Normalized\")\n",
    "\n",
    "plt.text(0.625, 0.35, label, transform=plt.gca().transAxes, fontsize=18)\n",
    "\n",
    "plt.tight_layout()\n",
    "if dosave: plt.savefig(savedir + \"stub_2cm_3cm_dqdx_M%i.pdf\" % HMASS)"
   ]
  },
  {
   "cell_type": "code",
   "execution_count": null,
   "id": "0a3986e0",
   "metadata": {},
   "outputs": [],
   "source": [
    "hasstub = (evtdf.stub.l0_5cm.dqdx/1e3 > STUB_5mm_CUT) |\\\n",
    "          (evtdf.stub.l1cm.dqdx/1e3 > STUB_10mm_CUT) |\\\n",
    "          (evtdf.stub.l2cm.dqdx/1e3 > STUB_20mm_CUT) |\\\n",
    "          (evtdf.stub.l3cm.dqdx/1e3 > STUB_30mm_CUT)"
   ]
  },
  {
   "cell_type": "code",
   "execution_count": null,
   "id": "a9602d51",
   "metadata": {},
   "outputs": [],
   "source": [
    "preselect = [\n",
    "    SlcInFV(evtdf.slc.vertex),\n",
    "#     evtdf.slc.nuid.crlongtrkdiry > -0.7,\n",
    "    np.isnan(evtdf.max_shw_len) | (evtdf.max_shw_len < MAX_SHW_LEN_CUT),\n",
    "    np.isnan(evtdf.max_othr_chi2_muon) | (evtdf.max_othr_chi2_muon < OTHR_CHI2U_CUT),\n",
    "    np.isnan(evtdf.min_othr_chi2_proton) | (evtdf.min_othr_chi2_proton > OTHR_CHI2P_CUT),\n",
    "]\n",
    "\n",
    "muid = [\n",
    "    evtdf.trunk.trk.len > LEN_CUT,\n",
    "    evtdf.branch.trk.len > LEN_CUT,\n",
    "    is_muon(evtdf.trunk.trk),\n",
    "    is_muon(evtdf.branch.trk),\n",
    "    (evtdf.trunk.med_start_dqdx*Gain*Rfactor/1e3 > MED_DQDX_CUT) | np.isnan(evtdf.trunk.med_start_dqdx) | (magdf(evtdf.trunk.trk.start - evtdf.branch.trk.start) < 5),    \n",
    "]\n",
    "\n",
    "kinematics = [\n",
    "    np.arccos(dotdf(evtdf.trunk.trk.dir, evtdf.branch.trk.dir)) < OPENANGLE_CUT,\n",
    "    beamangle < UU_ANGLE_CUT,\n",
    "]\n",
    "\n",
    "stubs = [\n",
    "    ~hasstub,\n",
    "]\n",
    "\n",
    "def cut_all(l):\n",
    "    l0 = l[0]\n",
    "    for c in l[1:]:\n",
    "        l0 = l0 & c\n",
    "    return l0\n",
    "\n",
    "# cuts = preselect + objects + scores + muid + stubs + kinematics\n",
    "cuts = preselect + muid + stubs + kinematics\n",
    "\n",
    "passcut = cut_all(cuts)\n",
    "\n",
    "passcut_nokinematics = cut_all(preselect + muid + stubs + [kinematics[0]])\n",
    "\n",
    "cutlist = [preselect, muid, stubs, kinematics]\n",
    "cutlist_names = [\"Pre-Select\", \"2$\\\\mu$ ID\", \"Stub\", \"Kinematics\", ]"
   ]
  },
  {
   "cell_type": "code",
   "execution_count": null,
   "id": "3fa1f18e",
   "metadata": {},
   "outputs": [],
   "source": [
    "var = coh_t\n",
    "\n",
    "when = SlcInFV(evtdf.slc.vertex) & passcut_nokinematics\n",
    "\n",
    "bins = np.linspace(0, 0.2, 11)\n",
    "\n",
    "_ = plt.hist(\n",
    "    [var[when & is_nu_coh], var[when & is_nu & ~is_nu_coh]],\n",
    "    weights=[scale[when & is_nu_coh], scale[when & is_nu & ~is_nu_coh]],\n",
    "    bins=bins, label=[\"$\\\\nu$ Coh-$\\pi$\", \"$\\\\nu$ Incoh.\"],\n",
    "    stacked=True\n",
    ")\n",
    "    \n",
    "plt.legend()\n",
    "# plt.axvline([0.15], linestyle=\":\", color=\"r\", linewidth=2)\n",
    "\n",
    "plt.tight_layout()\n",
    "plt.xlabel(\"$|t|$ [Gev$^2$]\")\n",
    "plt.title(\"ICARUS MC\")\n",
    "plt.ylabel(\"Events / %s\" % POTSTR)\n",
    "\n",
    "plt.tight_layout()\n",
    "if dosave: plt.savefig(savedir + \"scalar_beam_angle_relativenorm_M%i.pdf\" % HMASS)"
   ]
  },
  {
   "cell_type": "code",
   "execution_count": null,
   "id": "4e291b54",
   "metadata": {},
   "outputs": [],
   "source": [
    "var = beamangle\n",
    "\n",
    "when = SlcInFV(evtdf.slc.vertex) & passcut_nokinematics\n",
    "\n",
    "bins = np.linspace(0, 0.4, 9)\n",
    "\n",
    "_ = plt.hist(\n",
    "    [var[when & is_nu_coh], var[when & is_nu & ~is_nu_coh]],\n",
    "    weights=[scale[when & is_nu_coh], scale[when & is_nu & ~is_nu_coh]],\n",
    "    bins=bins, label=[\"$\\\\nu$ Coh-$\\pi$\", \"$\\\\nu$ Incoh.\"],\n",
    "    stacked=True\n",
    ")\n",
    "    \n",
    "plt.legend()\n",
    "# plt.axvline([0.15], linestyle=\":\", color=\"r\", linewidth=2)\n",
    "\n",
    "plt.tight_layout()\n",
    "plt.xlabel(\"Reconstructed Scalar Angle to Beam [rad]\")\n",
    "plt.title(\"ICARUS MC\")\n",
    "plt.ylabel(\"Events / %s\" % POTSTR)\n",
    "#plt.text(\"<- Signal\", color=)\n",
    "plt.axvline([0.15], color=\"black\", linestyle=\":\")\n",
    "plt.text(0.15, 0.6, \"<- Signal\", color=\"black\", transform=plt.gca().transAxes)\n",
    "plt.text(0.4, 0.4, \"Constraint ->\", color=\"black\", transform=plt.gca().transAxes)\n",
    "\n",
    "plt.tight_layout()\n",
    "if dosave: plt.savefig(savedir + \"scalar_beam_angle_relativenorm_M%i.pdf\" % HMASS)"
   ]
  },
  {
   "cell_type": "code",
   "execution_count": null,
   "id": "bdced090",
   "metadata": {},
   "outputs": [],
   "source": [
    "Etrunk = np.sqrt(MUON_MASS**2 + recop(evtdf.trunk.trk)**2)\n",
    "Ebranch = np.sqrt(MUON_MASS**2 + recop(evtdf.branch.trk)**2)\n",
    "\n",
    "s_mass = np.sqrt(2)*np.sqrt(MUON_MASS**2 + Etrunk*Ebranch - recop(evtdf.trunk.trk)*recop(evtdf.branch.trk)*dotdf(evtdf.branch.trk.dir, evtdf.trunk.trk.dir))"
   ]
  },
  {
   "cell_type": "code",
   "execution_count": null,
   "id": "219c5af3",
   "metadata": {},
   "outputs": [],
   "source": [
    "plt.figure(figsize=(9, 6))\n",
    "\n",
    "bins = np.linspace(0, 10, 21)\n",
    "\n",
    "when_all = SlcInFV(h_mcdf.position) & (h_mcdf.npi == 0) & (h_mcdf.npi0 == 0)\n",
    "\n",
    "slc_is_reco = SlcInFV(evtdf.slc.vertex) & (evtdf.slc.tmatch.idx == 0) & (evtdf.slc.tmatch.eff > 0.5)\n",
    "# slc_is_select = slc_is_reco & passcut\n",
    "\n",
    "thiscut = True\n",
    "for c, name in zip(cutlist, cutlist_names):\n",
    "    thiscut = cut_all(c) & thiscut\n",
    "    when_cut = when_all & (slc_is_reco & thiscut)[is_higgs].groupby(level=[0, 1]).any()\n",
    "    D, _ = np.histogram(h_mcdf[when_all].E, bins=bins)\n",
    "    N, _ = np.histogram(h_mcdf[when_cut].E, bins=bins)  \n",
    "\n",
    "    centers = (bins[1:] + bins[:-1])/2.\n",
    "\n",
    "    plt.plot(centers, N/D, label=name)\n",
    "plt.legend(bbox_to_anchor=(1.04,1), loc=\"upper left\")\n",
    "\n",
    "plt.xlabel(\"Scalar Energy [GeV]\")\n",
    "plt.ylabel(\"Efficiency\")\n",
    "plt.text(0.65, 0.05, label, transform=plt.gca().transAxes, fontsize=18)\n",
    "\n",
    "plt.tight_layout()\n",
    "if dosave: plt.savefig(savedir + \"scalar_eff_all_M%i.pdf\" % HMASS)"
   ]
  },
  {
   "cell_type": "code",
   "execution_count": null,
   "id": "c8837d4c",
   "metadata": {},
   "outputs": [],
   "source": [
    "plt.figure(figsize=(9, 6))\n",
    "\n",
    "bins = np.linspace(0, 10, 21)\n",
    "\n",
    "when_all = SlcInFV(h_mcdf.position) & (h_mcdf.npi == 0) & (h_mcdf.npi0 == 0)\n",
    "\n",
    "slc_is_reco = SlcInFV(evtdf.slc.vertex) & (evtdf.slc.tmatch.idx == 0) & TrkInFV(evtdf.trunk.trk.end) & TrkInFV(evtdf.branch.trk.end)\n",
    "# slc_is_select = slc_is_reco & passcut\n",
    "\n",
    "thiscut = True\n",
    "for c, name in zip(cutlist, cutlist_names):\n",
    "    thiscut = cut_all(c) & thiscut\n",
    "    when_cut = when_all & (slc_is_reco & thiscut)[is_higgs].groupby(level=[0, 1]).any()\n",
    "    D, _ = np.histogram(h_mcdf[when_all].E, bins=bins)\n",
    "    N, _ = np.histogram(h_mcdf[when_cut].E, bins=bins)  \n",
    "\n",
    "    centers = (bins[1:] + bins[:-1])/2.\n",
    "\n",
    "    plt.plot(centers, N/D, label=name)\n",
    "plt.legend(bbox_to_anchor=(1.04,1), loc=\"upper left\")\n",
    "\n",
    "plt.xlabel(\"Scalar Energy [GeV]\")\n",
    "plt.ylabel(\"Efficiency\")\n",
    "plt.text(0.65, 0.05, label, transform=plt.gca().transAxes, fontsize=18)\n",
    "\n",
    "plt.tight_layout()\n",
    "if dosave: plt.savefig(savedir + \"scalar_eff_all_M%i.pdf\" % HMASS)"
   ]
  },
  {
   "cell_type": "code",
   "execution_count": null,
   "id": "d81d670f",
   "metadata": {},
   "outputs": [],
   "source": [
    "plt.figure(figsize=(9, 6))\n",
    "\n",
    "bins = np.linspace(0, 10, 21)\n",
    "\n",
    "when_all = SlcInFV(h_mcdf.position) & (h_mcdf.npi == 0) & (h_mcdf.npi0 == 0)\n",
    "\n",
    "slc_is_reco = SlcInFV(evtdf.slc.vertex) & (evtdf.slc.tmatch.idx == 0) & TrkInFV(evtdf.trunk.trk.end) & TrkInFV(evtdf.branch.trk.end)\n",
    "\n",
    "thiscut = True\n",
    "for c, name in zip(cutlist, cutlist_names):\n",
    "    thiscut = cut_all(c) & thiscut\n",
    "    when_cut = when_all & (slc_is_reco & thiscut)[is_higgs].groupby(level=[0, 1]).any()\n",
    "    D, _ = np.histogram(h_mcdf[when_all].E, bins=bins)\n",
    "    N, _ = np.histogram(h_mcdf[when_cut].E, bins=bins)  \n",
    "\n",
    "    centers = (bins[1:] + bins[:-1])/2.\n",
    "\n",
    "    plt.plot(centers, N/D, label=name)\n",
    "plt.legend(bbox_to_anchor=(1.04,1), loc=\"upper left\")\n",
    "\n",
    "plt.xlabel(\"Scalar Energy [GeV]\")\n",
    "plt.ylabel(\"Efficiency\")\n",
    "plt.text(0.65, 0.05, label, transform=plt.gca().transAxes, fontsize=18)\n",
    "\n",
    "plt.tight_layout()\n",
    "if dosave: plt.savefig(savedir + \"scalar_eff_all_M%i.pdf\" % HMASS)"
   ]
  },
  {
   "cell_type": "code",
   "execution_count": null,
   "id": "c6337c0a",
   "metadata": {},
   "outputs": [],
   "source": [
    "width = 0.25\n",
    "plt.figure(figsize=(6.4, 6.4))\n",
    "\n",
    "basecut = SlcInFV(evtdf.slc.vertex) & TrkInFV(evtdf.trunk.trk.end) & TrkInFV(evtdf.branch.trk.end)\n",
    "\n",
    "for i,category in enumerate(categories):\n",
    "    plt.barh(np.arange(len(cutlist)) + i*width, \n",
    "             [np.sum(evtdf.scale[category & basecut & cut_all([c for cuts in cutlist[:i+1] for c in cuts])]) for i in range(len(cutlist))], \n",
    "             width, \n",
    "             label=category.name,\n",
    "             tick_label = cutlist_names\n",
    "            )\n",
    "    plt.xscale(\"log\")\n",
    "    plt.legend(ncol=3, bbox_to_anchor=(-0.05, 1.0, 1, 0.2), loc=\"upper left\")\n",
    "    plt.xlabel(\"Scalar Candidates / %s (1yr)\" % POTSTR)\n",
    "plt.xlim([1, plt.xlim()[1]])\n",
    "plt.title(label.replace(\"\\n\", \", \"))\n",
    "plt.tight_layout()\n",
    "if dosave: plt.savefig(savedir + \"cutchart_M%i.pdf\" % HMASS)"
   ]
  },
  {
   "cell_type": "code",
   "execution_count": null,
   "id": "15eeb672",
   "metadata": {},
   "outputs": [],
   "source": [
    "var = evtdf.slc.truth.max_proton_ke*1e3\n",
    "\n",
    "when_cut = SlcInFV(evtdf.slc.vertex) & passcut\n",
    "\n",
    "bins = np.linspace(0, 0.2, 21)*1e3\n",
    "\n",
    "for c in [is_nu]: \n",
    "    _ = plt.hist(var[when_cut & c], weights=scale[when_cut & c], bins=bins, label=c.name, histtype=\"step\", linewidth=2) \n",
    "\n",
    "when_cut_nostub = SlcInFV(evtdf.slc.vertex) & cut_all(preselect + muid + kinematics)\n",
    "\n",
    "for c in [is_nu]: \n",
    "    _ = plt.hist(var[when_cut_nostub & c], weights=scale[when_cut_nostub & c], bins=bins, label=c.name, histtype=\"step\", linewidth=2) \n",
    "\n",
    "#plt.ticklabel_format(axis='y', style='sci', scilimits=(4,4)) plt.tight_layout() plt.xlabel(\"Max Proton KE [GeV]\") plt.title(\"ICARUS MC\") plt.ylabel(\"Candidates / 6e20 POT\")\n",
    "\n",
    "plt.tight_layout() \n",
    "if dosave: plt.savefig(savedir + \"passcut_proton_ke.pdf\")"
   ]
  },
  {
   "cell_type": "code",
   "execution_count": null,
   "id": "bb50dfd1",
   "metadata": {},
   "outputs": [],
   "source": [
    "var = s_mass\n",
    "\n",
    "when = SlcInFV(evtdf.slc.vertex) & passcut & TrkInFV(evtdf.trunk.trk.end) & TrkInFV(evtdf.branch.trk.end)\n",
    "\n",
    "bins = np.linspace(0.2, 0.8, 25)\n",
    "\n",
    "Ns = [scale[when & (evtdf.slc.truth.genie_mode == m)].sum() for m in modes]\n",
    "\n",
    "_ = plt.hist([var[when & (evtdf.slc.truth.genie_mode == m)] for m in modes], \n",
    "             weights=[scale[when & (evtdf.slc.truth.genie_mode == m)] for m in modes], bins=bins, \n",
    "             label=[n + \" (%.0f%%)\" % (N/np.sum(Ns)*100) for n,N in zip(mode_names, Ns)], \n",
    "            stacked=True, linewidth=2)\n",
    "plt.legend()\n",
    "\n",
    "#plt.ticklabel_format(axis='y', style='sci', scilimits=(4,4))\n",
    "plt.tight_layout()\n",
    "plt.xlabel(\"Scalar Mass [GeV/c$^2$]\")\n",
    "plt.ylabel(\"Events / %s\" % POTSTR)\n",
    "plt.title(\"ICARUS MC\")\n",
    "\n",
    "plt.tight_layout()\n",
    "if dosave: plt.savefig(savedir + \"smass_intmodes.pdf\")"
   ]
  },
  {
   "cell_type": "code",
   "execution_count": null,
   "id": "919c94c8",
   "metadata": {},
   "outputs": [],
   "source": [
    "var = s_mass\n",
    "bins = np.linspace(0.2, 0.8, 61)\n",
    "\n",
    "when = SlcInFV(evtdf.slc.vertex) & passcut & TrkInFV(evtdf.trunk.trk.end) & TrkInFV(evtdf.branch.trk.end)\n",
    "\n",
    "for c in categories:\n",
    "    _ = plt.hist(var[when & c], weights=scale[when & c], bins=bins, label=c.name, \n",
    "                 histtype=\"step\", linewidth=2)\n",
    "plt.legend()\n",
    "\n",
    "plt.tight_layout()\n",
    "plt.xlabel(\"Scalar Mass [GeV/c$^2$]\")\n",
    "plt.ylabel(\"Events / %s\" % POTSTR)\n",
    "plt.title(\"ICARUS MC\")\n",
    "\n",
    "plt.text(0.625, 0.325, label, transform=plt.gca().transAxes, fontsize=18)\n",
    "\n",
    "plt.tight_layout()\n",
    "if dosave: plt.savefig(savedir + \"passcut_smass_M%i_contained.pdf\" % HMASS)"
   ]
  },
  {
   "cell_type": "code",
   "execution_count": null,
   "id": "fb086cbb",
   "metadata": {},
   "outputs": [],
   "source": [
    "# make a dataframe with just the information neede for the spectrum"
   ]
  },
  {
   "cell_type": "code",
   "execution_count": null,
   "id": "6455d5ae",
   "metadata": {},
   "outputs": [],
   "source": [
    "spectradf = pd.DataFrame(\n",
    "    data={\n",
    "        \"mass\": s_mass[passcut_nokinematics],\n",
    "        \"thnumi\": beamangle[passcut_nokinematics], \n",
    "        \"tuu\": coh_t[passcut_nokinematics],\n",
    "        \"signal\": evtdf.higgs[passcut_nokinematics],\n",
    "        \"weight\": scale[passcut_nokinematics],\n",
    "        \"genie_mode\": evtdf.slc.truth.genie_mode[passcut_nokinematics],\n",
    "        \"p_M\": evtdf.p_M[passcut_nokinematics],\n",
    "        \"p_th\": evtdf.p_th[passcut_nokinematics],\n",
    "        \"p_dist\": evtdf.p_dist[passcut_nokinematics],\n",
    "        \"p_raydist\": evtdf.p_raydist[passcut_nokinematics],\n",
    "        \"p_decaylength\": evtdf.p_decaylength[passcut_nokinematics],\n",
    "        \n",
    "    },\n",
    ").reset_index(drop=True)"
   ]
  },
  {
   "cell_type": "code",
   "execution_count": null,
   "id": "951c7e4c",
   "metadata": {},
   "outputs": [],
   "source": [
    "spectradf[spectradf.signal]"
   ]
  },
  {
   "cell_type": "code",
   "execution_count": null,
   "id": "32221b55",
   "metadata": {},
   "outputs": [],
   "source": [
    "if savedata:\n",
    "    spectradf.to_hdf(datadir + spectrum_file, key=\"s\")"
   ]
  },
  {
   "cell_type": "code",
   "execution_count": null,
   "id": "0a57b261",
   "metadata": {},
   "outputs": [],
   "source": [
    "spectrum_file"
   ]
  },
  {
   "cell_type": "code",
   "execution_count": null,
   "id": "2d22ce44",
   "metadata": {},
   "outputs": [],
   "source": []
  },
  {
   "cell_type": "code",
   "execution_count": null,
   "id": "6250db3e",
   "metadata": {},
   "outputs": [],
   "source": []
  },
  {
   "cell_type": "code",
   "execution_count": null,
   "id": "3609aea4",
   "metadata": {},
   "outputs": [],
   "source": []
  },
  {
   "cell_type": "code",
   "execution_count": null,
   "id": "5f269c7d",
   "metadata": {},
   "outputs": [],
   "source": []
  }
 ],
 "metadata": {
  "kernelspec": {
   "display_name": "Python 3 (ipykernel)",
   "language": "python",
   "name": "python3"
  },
  "language_info": {
   "codemirror_mode": {
    "name": "ipython",
    "version": 3
   },
   "file_extension": ".py",
   "mimetype": "text/x-python",
   "name": "python",
   "nbconvert_exporter": "python",
   "pygments_lexer": "ipython3",
   "version": "3.9.2"
  }
 },
 "nbformat": 4,
 "nbformat_minor": 5
}

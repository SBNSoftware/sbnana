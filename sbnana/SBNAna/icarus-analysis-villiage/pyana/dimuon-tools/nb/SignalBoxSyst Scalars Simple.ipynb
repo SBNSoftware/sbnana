{
 "cells": [
  {
   "cell_type": "code",
   "execution_count": null,
   "id": "b96af790",
   "metadata": {},
   "outputs": [],
   "source": [
    "1+1"
   ]
  },
  {
   "cell_type": "code",
   "execution_count": null,
   "id": "84c42f76",
   "metadata": {},
   "outputs": [],
   "source": [
    "import uproot\n",
    "import matplotlib.pyplot as plt \n",
    "import pandas as pd \n",
    "import numpy as np \n",
    "import matplotlib as mpl\n",
    "\n",
    "from util import *\n",
    "import var\n",
    "import cut\n",
    "import data\n",
    "import hist\n",
    "\n",
    "import importlib\n",
    "\n",
    "from pyanalib import panda_helpers\n",
    "\n",
    "from scipy import optimize, stats"
   ]
  },
  {
   "cell_type": "code",
   "execution_count": null,
   "id": "b6e69795",
   "metadata": {},
   "outputs": [],
   "source": [
    "plt.rcParams.update({'font.size': 16})\n",
    "# mpl.rcParams['lines.linewidth'] = 4.\n",
    "\n",
    "dosave = True\n",
    "savedir = \"plots_2_28_24/signalbox/\"\n",
    "\n",
    "prop_cycle = plt.rcParams['axes.prop_cycle']\n",
    "colors = prop_cycle.by_key()['color']"
   ]
  },
  {
   "cell_type": "code",
   "execution_count": null,
   "id": "67ee8333",
   "metadata": {},
   "outputs": [],
   "source": [
    "# configured\n",
    "DETSYST = 9.8711\n",
    "DETSYST"
   ]
  },
  {
   "cell_type": "code",
   "execution_count": null,
   "id": "c9e3354a",
   "metadata": {},
   "outputs": [],
   "source": [
    "NUMISYST = 8.6"
   ]
  },
  {
   "cell_type": "code",
   "execution_count": null,
   "id": "3a8af8c5",
   "metadata": {},
   "outputs": [],
   "source": [
    "importlib.reload(var)\n",
    "importlib.reload(cut)\n",
    "importlib.reload(data)\n",
    "importlib.reload(hist)\n",
    "importlib.reload(panda_helpers)"
   ]
  },
  {
   "cell_type": "code",
   "execution_count": null,
   "id": "3b7bac76",
   "metadata": {},
   "outputs": [],
   "source": [
    "filedir = \"/icarus/data/users/gputnam/DMCP2023G/mc-F-spectra/\"\n",
    "\n",
    "masses = [220, 240, 260, 280, 300, 320, 340]\n",
    "\n",
    "filetypes = [\"F2-Higgs_M%i_nom_evt_spectrum.df\" % (M,) for M in masses]\n",
    "ftype_names = [\"$M_S: $ %i MeV\" % M for M in masses]"
   ]
  },
  {
   "cell_type": "code",
   "execution_count": null,
   "id": "8b9efe9a",
   "metadata": {},
   "outputs": [],
   "source": [
    "cvdfs = [pd.read_hdf(filedir + ft) for ft in filetypes]"
   ]
  },
  {
   "cell_type": "code",
   "execution_count": null,
   "id": "e92221a4",
   "metadata": {},
   "outputs": [],
   "source": [
    "cvdfs[0].columns"
   ]
  },
  {
   "cell_type": "code",
   "execution_count": null,
   "id": "1f499fc2",
   "metadata": {},
   "outputs": [],
   "source": [
    "# apply the time weight\n",
    "for i in range(len(cvdfs)):\n",
    "    cvdfs[i].weight *= cvdfs[i].timeweight\n",
    "    cvdfs[i].cvweight *= cvdfs[i].timeweight"
   ]
  },
  {
   "cell_type": "code",
   "execution_count": null,
   "id": "97919a13",
   "metadata": {},
   "outputs": [],
   "source": [
    "when_all = []\n",
    "for cvdf in cvdfs:\n",
    "    when_all.append(cvdf.thnumi < 5)"
   ]
  },
  {
   "cell_type": "code",
   "execution_count": null,
   "id": "f38c8f18",
   "metadata": {},
   "outputs": [],
   "source": [
    "noms = []\n",
    "c_corr = []\n",
    "gc_corr = []\n",
    "gc_corr_err = []\n",
    "\n",
    "for cvdf, w in zip(cvdfs, when_all):\n",
    "    noms.append((cvdf.weight/(cvdf.cathode_weight*cvdf.gap_weight))[w].sum())\n",
    "    c_corr.append((cvdf.weight/(cvdf.cathode_weight))[w].sum())\n",
    "    gc_corr.append((cvdf.weight)[w].sum())\n",
    "    \n",
    "    N = cvdf.weight[w].sum()\n",
    "    Nerr = (cvdf.weight[w]*(1+np.sqrt(cvdf.cathode_weight_err**2 + cvdf.gap_weight_err**2))[w]).sum()\n",
    "    gc_corr_err.append(np.abs(Nerr - N )/N)\n",
    "    \n",
    "noms = np.array(noms)\n",
    "c_corr = np.array(c_corr)\n",
    "gc_corr = np.array(gc_corr)"
   ]
  },
  {
   "cell_type": "code",
   "execution_count": null,
   "id": "e15e4594",
   "metadata": {},
   "outputs": [],
   "source": [
    "# plt.plot(masses, c_corr/noms, marker=\".\", linestyle=\"none\", markersize=10, label=\"Nominal Rate\")\n",
    "plt.errorbar(masses, gc_corr/noms, yerr=gc_corr_err, marker=\".\", linestyle=\"none\", markersize=10, label=\"Corrected Rate\")\n",
    "plt.ylabel(\"Correction / Nominal\")\n",
    "plt.xlabel(\"Scalar Mass [MeV]\")\n",
    "\n",
    "plt.tight_layout()\n",
    "\n",
    "if dosave:\n",
    "    plt.savefig(savedir + \"tracksplit_corr_w_unc_scalar.pdf\", bbox_inches=\"tight\")\n",
    "    plt.savefig(savedir + \"tracksplit_corr_w_unc_scalar.svg\", bbox_inches=\"tight\")"
   ]
  },
  {
   "cell_type": "code",
   "execution_count": null,
   "id": "cfd7b218",
   "metadata": {},
   "outputs": [],
   "source": [
    "np.mean(gc_corr_err)*100"
   ]
  },
  {
   "cell_type": "code",
   "execution_count": null,
   "id": "6425c100",
   "metadata": {},
   "outputs": [],
   "source": [
    "flux_uncs = []\n",
    "g4_uncs = []\n",
    "det_uncs = []\n",
    "\n",
    "for cvdf, w, gerr in zip(cvdfs, when_all, gc_corr_err):\n",
    "    flux_uncs.append(100*(cvdf[w][[\"wgt_flux_univ_%i\" % i for i in range(100)]].multiply(cvdf.weight[w], 0)).sum().std()/cvdf.weight[w].sum())\n",
    "    flux_uncs[-1] = np.sqrt(flux_uncs[-1]**2 + NUMISYST**2)\n",
    "    det_uncs.append(np.sqrt((DETSYST**2 + (100*gerr)**2)))\n",
    "    \n",
    "flux_uncs = np.array(flux_uncs)\n",
    "det_uncs = np.array(det_uncs)\n",
    "total_uncs = np.sqrt(flux_uncs**2 + det_uncs**2)"
   ]
  },
  {
   "cell_type": "code",
   "execution_count": null,
   "id": "bb005c90",
   "metadata": {},
   "outputs": [],
   "source": [
    "plt.plot(masses, flux_uncs, marker=\".\", linestyle=\"none\", markersize=10, label=\"Flux\")\n",
    "plt.plot(masses, det_uncs, marker=\".\", linestyle=\"none\", markersize=10, label=\"Detector\")\n",
    "\n",
    "plt.plot(masses, total_uncs, marker=\".\", linestyle=\"none\", markersize=10, label=\"Total\", color=\"black\")\n",
    "\n",
    "plt.legend(ncol=4, loc='upper center', bbox_to_anchor=(0.5, 1.15))\n",
    "\n",
    "plt.xlabel(\"Mass [MeV]\")\n",
    "plt.ylabel(\"Uncertainty [%]\")\n",
    "\n",
    "if dosave:\n",
    "    plt.savefig(savedir + \"signalbox_syst_scalar.pdf\", bbox_inches=\"tight\")"
   ]
  },
  {
   "cell_type": "code",
   "execution_count": null,
   "id": "76ea1477",
   "metadata": {},
   "outputs": [],
   "source": [
    "det_uncs"
   ]
  },
  {
   "cell_type": "code",
   "execution_count": null,
   "id": "8502a892",
   "metadata": {},
   "outputs": [],
   "source": [
    "NUMISYST"
   ]
  },
  {
   "cell_type": "code",
   "execution_count": null,
   "id": "9343ed46",
   "metadata": {},
   "outputs": [],
   "source": []
  }
 ],
 "metadata": {
  "kernelspec": {
   "display_name": "Python 3 (ipykernel)",
   "language": "python",
   "name": "python3"
  },
  "language_info": {
   "codemirror_mode": {
    "name": "ipython",
    "version": 3
   },
   "file_extension": ".py",
   "mimetype": "text/x-python",
   "name": "python",
   "nbconvert_exporter": "python",
   "pygments_lexer": "ipython3",
   "version": "3.9.2"
  }
 },
 "nbformat": 4,
 "nbformat_minor": 5
}

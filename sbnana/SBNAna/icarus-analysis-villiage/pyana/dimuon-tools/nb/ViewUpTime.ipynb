{
 "cells": [
  {
   "cell_type": "code",
   "execution_count": null,
   "id": "eaf44e8e",
   "metadata": {},
   "outputs": [],
   "source": [
    "import numpy as np\n",
    "import uproot\n",
    "import matplotlib.pyplot as plt\n",
    "import pandas as pd\n",
    "import matplotlib.dates as md\n",
    "import datetime as dt\n",
    "import matplotlib"
   ]
  },
  {
   "cell_type": "code",
   "execution_count": null,
   "id": "5a119414",
   "metadata": {},
   "outputs": [],
   "source": [
    "matplotlib.rcParams.update({'font.size': 14})\n",
    "\n",
    "datadir = \"/icarus/data/users/gputnam/DMCP2023G/normdata/\"\n",
    "\n",
    "\n",
    "dosave = True\n",
    "savedir = \"./plots_2_1_24/\""
   ]
  },
  {
   "cell_type": "code",
   "execution_count": null,
   "id": "8c82657b",
   "metadata": {},
   "outputs": [],
   "source": [
    "beamdf = pd.concat([pd.read_hdf(datadir + \"run1_beam.df\"), pd.read_hdf(datadir + \"run2_beam.df\")])"
   ]
  },
  {
   "cell_type": "code",
   "execution_count": null,
   "id": "b75a98a0",
   "metadata": {},
   "outputs": [],
   "source": [
    "evtdf = pd.read_csv(datadir + \"Run1Run2_OnBeam.csv\")"
   ]
  },
  {
   "cell_type": "code",
   "execution_count": null,
   "id": "116b9fa0",
   "metadata": {},
   "outputs": [],
   "source": [
    "grl = np.loadtxt(datadir + \"Run1Run2_grl.txt\")"
   ]
  },
  {
   "cell_type": "code",
   "execution_count": null,
   "id": "32afe7fd",
   "metadata": {},
   "outputs": [],
   "source": [
    "evtdf[\"goodrun\"] = False\n",
    "for r in grl:\n",
    "    evtdf.loc[evtdf.run == r, \"goodrun\"] = True"
   ]
  },
  {
   "cell_type": "code",
   "execution_count": null,
   "id": "16d915d6",
   "metadata": {},
   "outputs": [],
   "source": [
    "dq_cuts = [9642, 9723, 9941]"
   ]
  },
  {
   "cell_type": "code",
   "execution_count": null,
   "id": "6fc5bf59",
   "metadata": {},
   "outputs": [],
   "source": [
    "# dq_cuts = [8518, 9642, 9723, 9781, 9837, 9851, 9892, 9941]"
   ]
  },
  {
   "cell_type": "code",
   "execution_count": null,
   "id": "adeacf9f",
   "metadata": {},
   "outputs": [],
   "source": [
    "evtdf[\"qualityrun\"] = evtdf.goodrun\n",
    "for r in dq_cuts:\n",
    "    evtdf.loc[evtdf.run == r, \"qualityrun\"] = False"
   ]
  },
  {
   "cell_type": "code",
   "execution_count": null,
   "id": "03a59440",
   "metadata": {},
   "outputs": [],
   "source": [
    "grl"
   ]
  },
  {
   "cell_type": "code",
   "execution_count": null,
   "id": "38408e34",
   "metadata": {},
   "outputs": [],
   "source": [
    "pot_cut = (beamdf.pot > 2)\n",
    "hc_cut = (beamdf.horn_current > -202) & (beamdf.horn_current <= -196.4)\n",
    "bp_cut = (np.abs(beamdf.extrap_hptgt) < 1) & (np.abs(beamdf.extrap_vptgt) < 1)\n",
    "bw_cut = (beamdf.beam_width_h > 0.57) & (beamdf.beam_width_h <= 1.88) &\\\n",
    "         (beamdf.beam_width_v > 0.57) & (beamdf.beam_width_v <= 1.88)\n",
    "\n",
    "bq_cut = pot_cut & hc_cut & bp_cut & bw_cut"
   ]
  },
  {
   "cell_type": "code",
   "execution_count": null,
   "id": "45d7a8c3",
   "metadata": {},
   "outputs": [],
   "source": [
    "times = np.array(list(map(dt.datetime.fromtimestamp, beamdf.time)))"
   ]
  },
  {
   "cell_type": "code",
   "execution_count": null,
   "id": "eb1300bc",
   "metadata": {},
   "outputs": [],
   "source": [
    "evttimes = np.array(list(map(dt.datetime.fromtimestamp, evtdf.trigger_timestamp_s)))"
   ]
  },
  {
   "cell_type": "code",
   "execution_count": null,
   "id": "06d9f12f",
   "metadata": {},
   "outputs": [],
   "source": [
    "plt.plot(times, beamdf.pot.cumsum()/1e8, label=\"NuMI Beam\")\n",
    "plt.plot(times[bq_cut], beamdf[bq_cut].pot.cumsum()/1e8, label=\"Quality Beam\")\n",
    "\n",
    "plt.plot(evttimes, evtdf.totpot_corr.cumsum()/1e8, label=\"Collected with Valid Trigger\")\n",
    "plt.plot(evttimes[evtdf.goodrun], evtdf[evtdf.goodrun].totpot_corr.cumsum()/1e8, label=\"Collected in Good Run\")\n",
    "plt.plot(evttimes[evtdf.qualityrun], evtdf[evtdf.qualityrun].totpot_corr.cumsum()/1e8, label=\"Run Satisfies Data Quality\")\n",
    "\n",
    "plt.legend()\n",
    "plt.xlabel(\"Date\")\n",
    "plt.ylabel(r\"Protons on Target [$\\times 10^{20}$]\")\n",
    "plt.xticks(rotation=30, ha='right')\n",
    "\n",
    "plt.tight_layout()\n",
    "\n",
    "if dosave:\n",
    "    plt.savefig(savedir + \"uptime.pdf\")\n",
    "    plt.savefig(savedir + \"uptime.svg\")"
   ]
  },
  {
   "cell_type": "code",
   "execution_count": null,
   "id": "c6efb6e1",
   "metadata": {},
   "outputs": [],
   "source": [
    "evtdf[evtdf.qualityrun].totpot_corr.sum()/1e8"
   ]
  },
  {
   "cell_type": "code",
   "execution_count": null,
   "id": "75128af7",
   "metadata": {},
   "outputs": [],
   "source": [
    "allruns = evtdf.run.unique()\n",
    "pot_per_run = [evtdf.totpot_corr[evtdf.run == r].sum()/1e8 for r in allruns]"
   ]
  },
  {
   "cell_type": "code",
   "execution_count": null,
   "id": "6f1efd82",
   "metadata": {},
   "outputs": [],
   "source": [
    "max_lost_pot = sorted([(p,r) for p,r in zip(pot_per_run, allruns) if r in grl and r in dq_cuts], key=lambda t: t[0], reverse=True)"
   ]
  },
  {
   "cell_type": "code",
   "execution_count": null,
   "id": "2e6e2ad3",
   "metadata": {},
   "outputs": [],
   "source": [
    "max_lost_pot"
   ]
  },
  {
   "cell_type": "code",
   "execution_count": null,
   "id": "30c47696",
   "metadata": {},
   "outputs": [],
   "source": [
    "evtdf[evtdf.run == 9944].totpot_corr.sum()"
   ]
  },
  {
   "cell_type": "code",
   "execution_count": null,
   "id": "5bf3abb4",
   "metadata": {},
   "outputs": [],
   "source": []
  }
 ],
 "metadata": {
  "kernelspec": {
   "display_name": "Python 3 (ipykernel)",
   "language": "python",
   "name": "python3"
  },
  "language_info": {
   "codemirror_mode": {
    "name": "ipython",
    "version": 3
   },
   "file_extension": ".py",
   "mimetype": "text/x-python",
   "name": "python",
   "nbconvert_exporter": "python",
   "pygments_lexer": "ipython3",
   "version": "3.9.2"
  }
 },
 "nbformat": 4,
 "nbformat_minor": 5
}

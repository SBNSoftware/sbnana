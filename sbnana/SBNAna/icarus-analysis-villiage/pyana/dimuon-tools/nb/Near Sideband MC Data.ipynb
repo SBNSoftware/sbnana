{
 "cells": [
  {
   "cell_type": "code",
   "execution_count": null,
   "id": "89e600c5",
   "metadata": {},
   "outputs": [],
   "source": [
    "1+1"
   ]
  },
  {
   "cell_type": "code",
   "execution_count": null,
   "id": "2b367816",
   "metadata": {},
   "outputs": [],
   "source": [
    "import uproot\n",
    "import matplotlib.pyplot as plt \n",
    "import pandas as pd \n",
    "import numpy as np \n",
    "import matplotlib as mpl\n",
    "\n",
    "from util import *\n",
    "import var\n",
    "import cut\n",
    "import data\n",
    "import hist\n",
    "\n",
    "import importlib\n",
    "\n",
    "import pid\n",
    "from pyanalib import panda_helpers\n",
    "import os\n",
    "import multiprocessing\n"
   ]
  },
  {
   "cell_type": "code",
   "execution_count": null,
   "id": "2363b823",
   "metadata": {},
   "outputs": [],
   "source": [
    "from pyanalib.dataset import Dataset"
   ]
  },
  {
   "cell_type": "code",
   "execution_count": null,
   "id": "9807534a",
   "metadata": {},
   "outputs": [],
   "source": [
    "importlib.reload(var)\n",
    "importlib.reload(cut)\n",
    "importlib.reload(data)\n",
    "importlib.reload(hist)\n",
    "importlib.reload(panda_helpers)"
   ]
  },
  {
   "cell_type": "code",
   "execution_count": null,
   "id": "2a45433d",
   "metadata": {},
   "outputs": [],
   "source": [
    "mpl.rc('font', size=14)\n",
    "\n",
    "dosave = False\n",
    "savedir = \"./plots_10_4_23/\"\n",
    "\n",
    "import warnings\n",
    "\n",
    "warnings.simplefilter(action='ignore', category=pd.errors.PerformanceWarning)"
   ]
  },
  {
   "cell_type": "code",
   "execution_count": null,
   "id": "775f8340",
   "metadata": {},
   "outputs": [],
   "source": [
    "datadir = \"/icarus/data/users/gputnam/calib-data/outputs/\""
   ]
  },
  {
   "cell_type": "code",
   "execution_count": null,
   "id": "203ac089",
   "metadata": {},
   "outputs": [],
   "source": [
    "filedir = \"/icarus/data/users/gputnam/DMCP2023G/\"\n",
    "\n",
    "onbeamfile_Run1 = filedir + \"data-reprod-D/NuMIMajorityRun1OnBeam_evt.df\"\n",
    "onbeamfile_Run2 = filedir + \"data-reprod-D/NuMIMajorityRun2OnBeam_evt.df\"\n",
    "\n",
    "offbeamfile_Run1 = filedir + \"data-reprod-D/NuMIMajorityRun1OffBeam_evt.df\"\n",
    "offbeamfile_Run2 = filedir + \"data-reprod-D/NuMIMajorityRun2OffBeam_evt.df\"\n",
    "\n",
    "mcfile = \"/icarus/data/users/gputnam/DMCP2023G/mc/mcnuphase2_evt_reprodD.df\""
   ]
  },
  {
   "cell_type": "code",
   "execution_count": null,
   "id": "bd44607d",
   "metadata": {},
   "outputs": [],
   "source": [
    "mc = data.mc_dataset(mcfile, \"evt\")\n",
    "mc.df"
   ]
  },
  {
   "cell_type": "code",
   "execution_count": null,
   "id": "afb1d330",
   "metadata": {},
   "outputs": [],
   "source": [
    "mc.df[\"Run1\"] = True\n",
    "mc.df[\"Run2\"] = True"
   ]
  },
  {
   "cell_type": "code",
   "execution_count": null,
   "id": "ffacfcf9",
   "metadata": {},
   "outputs": [],
   "source": [
    "onbeamR1 = data.onbeam_dataset(onbeamfile_Run1, \"evt\")\n",
    "onbeamR2 = data.onbeam_dataset(onbeamfile_Run2, \"evt\")"
   ]
  },
  {
   "cell_type": "code",
   "execution_count": null,
   "id": "1382ea3c",
   "metadata": {},
   "outputs": [],
   "source": [
    "onbeamR1.df[\"Run1\"] = True\n",
    "onbeamR1.df[\"Run2\"] = False\n",
    "\n",
    "onbeamR2.df[\"Run1\"] = False\n",
    "onbeamR2.df[\"Run2\"] = True\n",
    "\n",
    "onbeamR1.df = onbeamR1.df.iloc[::2]\n",
    "onbeamR1.POT = onbeamR1.POT / 2\n",
    "onbeamR1.livetime = onbeamR1.livetime / 2\n",
    "\n",
    "onbeamR2.df = onbeamR2.df.iloc[::2]\n",
    "onbeamR2.POT = onbeamR2.POT / 2\n",
    "onbeamR2.livetime = onbeamR2.livetime / 2\n",
    "\n",
    "onbeam = onbeamR1.concat(onbeamR2)"
   ]
  },
  {
   "cell_type": "code",
   "execution_count": null,
   "id": "5c86698e",
   "metadata": {},
   "outputs": [],
   "source": [
    "offbeamR1 = data.offbeam_dataset(offbeamfile_Run1, \"evt\")\n",
    "offbeamR2 = data.offbeam_dataset(offbeamfile_Run2, \"evt\")"
   ]
  },
  {
   "cell_type": "code",
   "execution_count": null,
   "id": "1c65def6",
   "metadata": {},
   "outputs": [],
   "source": [
    "offbeamR1.df[\"Run1\"] = True\n",
    "offbeamR1.df[\"Run2\"] = False\n",
    "\n",
    "offbeamR2.df[\"Run1\"] = False\n",
    "offbeamR2.df[\"Run2\"] = True\n",
    "\n",
    "offbeam = offbeamR1.concat(offbeamR2)"
   ]
  },
  {
   "cell_type": "code",
   "execution_count": null,
   "id": "48539c91",
   "metadata": {},
   "outputs": [],
   "source": [
    "POTSTR = \"$%.2f \\\\times 10^{20}$ POT\" % (onbeam.POT/1e20)\n",
    "POTSTR"
   ]
  },
  {
   "cell_type": "code",
   "execution_count": null,
   "id": "4b82c1f2",
   "metadata": {},
   "outputs": [],
   "source": [
    "trunkIDcategories = [\n",
    "    ((var.slc.truth.pdg == 14) | (var.slc.truth.pdg == -14)) & (var.slc.truth.iscc==1) & ((var.slc.truth.genie_mode == 0) | (var.slc.truth.genie_mode == 10)), # CC QE+MEC\n",
    "    ((var.slc.truth.pdg == 14) | (var.slc.truth.pdg == -14)) & (var.slc.truth.iscc==1) & (var.slc.truth.genie_mode == 1), # CC RES\n",
    "    ((var.slc.truth.pdg == 14) | (var.slc.truth.pdg == -14)) & (var.slc.truth.iscc==1) & (var.slc.truth.genie_mode == 2), # CC DIS\n",
    "    ((var.slc.truth.pdg == 14) | (var.slc.truth.pdg == -14)) & (var.slc.truth.iscc==1) & (var.slc.truth.genie_mode == 3), # CC COH\n",
    "    ((var.slc.truth.iscc == 0) & (var.slc.tmatch.idx >= 0)), # NC\n",
    "]\n",
    "nucategories.append(~nucategories[0] & (var.slc.tmatch.idx >= 0))\n",
    "for c in nucategories[1:-1]:\n",
    "    nucategories[-1] = nucategories[-1] & ~c\n",
    "    \n",
    "nucategories.append(var.slc.tmatch.idx < 0)\n",
    "    \n",
    "nucategories[0].name = \"$\\\\nu_\\\\mu$ CC QE+MEC\"\n",
    "nucategories[1].name = \"$\\\\nu_\\\\mu$ CC RES\"\n",
    "nucategories[2].name = \"$\\\\nu_\\\\mu$ CC DIS\"\n",
    "nucategories[3].name = \"$\\\\nu_\\\\mu$ CC COH\"\n",
    "nucategories[4].name = \"$\\\\nu$ NC\"\n",
    "nucategories[5].name = \"$\\\\nu$ Other\"\n",
    "nucategories[6].name = \"Cosmic\""
   ]
  },
  {
   "cell_type": "code",
   "execution_count": null,
   "id": "2ef60963",
   "metadata": {},
   "outputs": [],
   "source": [
    "trunkIDcategories = [\n",
    "    (var.DF.trunk.trk.truth.p.pdg == 13) | (var.DF.trunk.trk.truth.p.pdg == -13),\n",
    "    (var.DF.trunk.trk.truth.p.pdg == 211) | (var.DF.trunk.trk.truth.p.pdg == -211),\n",
    "    (var.DF.trunk.trk.truth.p.pdg == 2212),\n",
    "    (var.DF.trunk.trk.truth.p.pdg == 22),\n",
    "]\n",
    "trunkIDcategories.append(~trunkIDcategories[0])\n",
    "for c in trunkIDcategories[1:-1]:\n",
    "    trunkIDcategories[-1] = trunkIDcategories[-1] & ~c\n",
    "    \n",
    "trunkIDcategories[0].name = \"$\\\\mu$\"\n",
    "trunkIDcategories[1].name = \"$\\\\pi$\"\n",
    "trunkIDcategories[2].name = \"$p$\"\n",
    "trunkIDcategories[3].name = \"$\\\\gamma$\"\n",
    "trunkIDcategories[4].name = \"Other\""
   ]
  },
  {
   "cell_type": "code",
   "execution_count": null,
   "id": "cff3b8e5",
   "metadata": {},
   "outputs": [],
   "source": [
    "branchIDcategories = [\n",
    "    (var.DF.branch.trk.truth.p.pdg == 13) | (var.DF.branch.trk.truth.p.pdg == -13),\n",
    "    (var.DF.branch.trk.truth.p.pdg == 211) | (var.DF.branch.trk.truth.p.pdg == -211),\n",
    "    (var.DF.branch.trk.truth.p.pdg == 2212),\n",
    "    (var.DF.branch.trk.truth.p.pdg == 22),\n",
    "]\n",
    "branchIDcategories.append(~branchIDcategories[0])\n",
    "for c in branchIDcategories[1:-1]:\n",
    "    branchIDcategories[-1] = branchIDcategories[-1] & ~c\n",
    "    \n",
    "branchIDcategories[0].name = \"$\\\\mu$\"\n",
    "branchIDcategories[1].name = \"$\\\\pi$\"\n",
    "branchIDcategories[2].name = \"$p$\"\n",
    "branchIDcategories[3].name = \"$\\\\gamma$\"\n",
    "branchIDcategories[4].name = \"Other\""
   ]
  },
  {
   "cell_type": "code",
   "execution_count": null,
   "id": "2ca15594",
   "metadata": {},
   "outputs": [],
   "source": [
    "vtxIDcategories = [\n",
    "    (trunkIDcategoires[0] | trunkIDcategoires[1]) & (branchIDcategoires[0] | branchIDcategoires[1]),\n",
    "    ((trunkIDcategoires[0] | trunkIDcategoires[1]) & branchIDcategoires[2]) |\\\n",
    "    (trunkIDcategoires[2] & (branchIDcategoires[0] | branchIDcategoires[1])),\n",
    "]\n",
    "\n",
    "vtxIDcategories.append(~vtxIDcategories[0])\n",
    "for c in branchIDcategoires[1:-1]:\n",
    "    vtxIDcategories[-1] = vtxIDcategories[-1] & ~c\n",
    "\n",
    "vtxIDcategories[0].name = \"$\\\\mu\\\\pi$, $\\\\pi\\\\pi$\"\n",
    "vtxIDcategories[1].name = \"$\\\\mu p$, $\\\\pi p$\"\n",
    "vtxIDcategories[2].name = \"Other\""
   ]
  },
  {
   "cell_type": "code",
   "execution_count": null,
   "id": "ce2e8c23",
   "metadata": {},
   "outputs": [],
   "source": [
    "def chi2(mc, onbeam, offbeam, scov):\n",
    "    Ndata = onbeam.N - offbeam.N\n",
    "    Nmc = mc.N\n",
    "    stat_err = mc.N + offbeam.Nerr**2\n",
    "    \n",
    "    cov = (scov + np.diag(stat_err))[np.ix_(np.where(mc.N != 0)[0], np.where(mc.N != 0)[0])]\n",
    "    delta = (Nmc-Ndata)[Nmc != 0]\n",
    "    \n",
    "    return np.matmul(np.matmul(delta, np.linalg.inv(cov)), delta), int(np.sum(mc.N != 0))"
   ]
  },
  {
   "cell_type": "code",
   "execution_count": null,
   "id": "f55507a8",
   "metadata": {},
   "outputs": [],
   "source": [
    "def mcdata_plot(v, bins, c, categories=None, xlabel=None, ylabel=None):\n",
    "    hnom, hsyst = hist.makehist(v, mc, cut=c, bins=bins, POT=onbeam.POT, syst=\"all\", \n",
    "                            categories=categories)\n",
    "    hcov = hist.makecovariance(sum(hnom), hsyst)\n",
    "    hon, _ = hist.makehist(v, onbeam, cut=c, bins=bins, cvweight=False, syst=None)\n",
    "    hoff, _ = hist.makehist(v, offbeam, cut=c, bins=bins, cvweight=False, livetime=onbeam.livetime, syst=None)\n",
    "\n",
    "    fig, (p0, p1) = plt.subplots(2, 1, gridspec_kw={'height_ratios': [3,1]}, sharex=True, figsize=(7, 6.4))\n",
    "    fig.subplots_adjust(hspace=0.03)\n",
    "\n",
    "    hmc, hfill = hist.plotmc(p0, hnom, hcov)\n",
    "    _, _, fh = hmc\n",
    "    hd = hist.plotdata(p0, hon-hoff)\n",
    "    p0.set_ylim([p0.get_ylim()[0], p0.get_ylim()[1]*1.25])\n",
    "\n",
    "    legend1 = p0.legend(handles=[hd], labels=[\"Data\"], loc=\"upper left\", frameon=False)\n",
    "    p0.legend(handles=fh, labels=[c.name for c in categories], \n",
    "                        loc=\"upper center\", ncol=3, bbox_to_anchor=(0.5, 1.35))\n",
    "    p0.add_artist(legend1)\n",
    "\n",
    "    tchi2, ndof = chi2(sum(hnom), hon, hoff, hcov)\n",
    "\n",
    "    p0.text(0.6, 0.9, \"$\\\\chi^2/n$ = %.1f / %i\" % (tchi2, ndof), fontsize=14,\n",
    "            transform=p0.transAxes)\n",
    "\n",
    "    hist.plotratio(plt, hon-hoff, sum(hnom), hcov)\n",
    "    p1.axhline([1], color=\"r\", linestyle=\":\")\n",
    "    p1.set_ylim([0.5, 1.5])\n",
    "\n",
    "    if xlabel:\n",
    "        p1.set_xlabel(xlabel)\n",
    "    if ylabel:\n",
    "        p0.set_ylabel(\"%s / %s\" % (ylabel, POTSTR))\n",
    "        \n",
    "    return fig, (p0, p1)"
   ]
  },
  {
   "cell_type": "code",
   "execution_count": null,
   "id": "572b9ce4",
   "metadata": {},
   "outputs": [],
   "source": [
    "def recop(trk):\n",
    "    p = trk.rangeP.p_muon\n",
    "    p[~TrkInFV(trk.end)] = trk.mcsP.fwdP_muon\n",
    "    return p\n",
    "\n",
    "beam2det = np.array([ [0.921035925, 0.022715103, 0.388814672], [0, 0.998297825, -0.058321970], [-0.389477631, 0.053716629, 0.919468161]])\n",
    "\n",
    "beamorigin = np.array([4.503730e2, 80.153901e2, 795.112945e2])\n",
    "\n",
    "MUON_MASS = 0.1057 \n",
    "PION_MASS = 0.13457\n",
    "\n",
    "BEAMDIR = beam2det.dot(beamorigin) / np.linalg.norm(beam2det.dot(beamorigin)) \n",
    "BEAMDIR"
   ]
  },
  {
   "cell_type": "code",
   "execution_count": null,
   "id": "361a3f87",
   "metadata": {},
   "outputs": [],
   "source": [
    "offbeam.df[\"trunk_mcs_range\"] = np.abs(1 - offbeam.df.trunk.trk.mcsP.fwdP_muon / offbeam.df.trunk.trk.rangeP.p_muon)\n",
    "onbeam.df[\"trunk_mcs_range\"] = np.abs(1 - onbeam.df.trunk.trk.mcsP.fwdP_muon / onbeam.df.trunk.trk.rangeP.p_muon)\n",
    "mc.df[\"trunk_mcs_range\"] = np.abs(1 - mc.df.trunk.trk.mcsP.fwdP_muon / mc.df.trunk.trk.rangeP.p_muon)\n",
    "\n",
    "offbeam.df[\"branch_mcs_range\"] = np.abs(1 - offbeam.df.branch.trk.mcsP.fwdP_muon / offbeam.df.branch.trk.rangeP.p_muon)\n",
    "onbeam.df[\"branch_mcs_range\"] = np.abs(1 - onbeam.df.branch.trk.mcsP.fwdP_muon / onbeam.df.branch.trk.rangeP.p_muon)\n",
    "mc.df[\"branch_mcs_range\"] = np.abs(1 - mc.df.branch.trk.mcsP.fwdP_muon / mc.df.branch.trk.rangeP.p_muon)"
   ]
  },
  {
   "cell_type": "code",
   "execution_count": null,
   "id": "b4ac7ef6",
   "metadata": {},
   "outputs": [],
   "source": [
    "offbeam.df[\"openangle\"] = np.arccos(dotdf(offbeam.df.trunk.trk.dir, offbeam.df.branch.trk.dir))*180/np.pi\n",
    "onbeam.df[\"openangle\"] = np.arccos(dotdf(onbeam.df.trunk.trk.dir, onbeam.df.branch.trk.dir))*180/np.pi\n",
    "mc.df[\"openangle\"] = np.arccos(dotdf(mc.df.trunk.trk.dir, mc.df.branch.trk.dir))*180/np.pi"
   ]
  },
  {
   "cell_type": "code",
   "execution_count": null,
   "id": "b3e3a546",
   "metadata": {},
   "outputs": [],
   "source": [
    "off_scalar_mom = offbeam.df.trunk.trk.dir.multiply(recop(offbeam.df.trunk.trk), axis=0) + \\\n",
    "           offbeam.df.branch.trk.dir.multiply(recop(offbeam.df.branch.trk), axis=0)\n",
    "off_scalar_dir = off_scalar_mom.divide(magdf(off_scalar_mom), axis=0)\n",
    "offbeam.df[\"beamangle\"] = (180/np.pi)*np.arccos(off_scalar_dir.x*BEAMDIR[0] + off_scalar_dir.y*BEAMDIR[1] + off_scalar_dir.z*BEAMDIR[2])\n",
    "\n",
    "\n",
    "on_scalar_mom = onbeam.df.trunk.trk.dir.multiply(recop(onbeam.df.trunk.trk), axis=0) + \\\n",
    "           onbeam.df.branch.trk.dir.multiply(recop(onbeam.df.branch.trk), axis=0)\n",
    "on_scalar_dir = on_scalar_mom.divide(magdf(on_scalar_mom), axis=0)\n",
    "onbeam.df[\"beamangle\"] = (180/np.pi)*np.arccos(on_scalar_dir.x*BEAMDIR[0] + on_scalar_dir.y*BEAMDIR[1] + on_scalar_dir.z*BEAMDIR[2])\n",
    "\n",
    "\n",
    "mc_scalar_mom = mc.df.trunk.trk.dir.multiply(recop(mc.df.trunk.trk), axis=0) + \\\n",
    "           mc.df.branch.trk.dir.multiply(recop(mc.df.branch.trk), axis=0)\n",
    "mc_scalar_dir = mc_scalar_mom.divide(magdf(mc_scalar_mom), axis=0)\n",
    "mc.df[\"beamangle\"] = (180/np.pi)*np.arccos(mc_scalar_dir.x*BEAMDIR[0] + mc_scalar_dir.y*BEAMDIR[1] + mc_scalar_dir.z*BEAMDIR[2])\n"
   ]
  },
  {
   "cell_type": "code",
   "execution_count": null,
   "id": "a1a0992d",
   "metadata": {},
   "outputs": [],
   "source": [
    "off_Etrunk = np.sqrt(MUON_MASS**2 + recop(offbeam.df.trunk.trk)**2)\n",
    "off_Ebranch = np.sqrt(MUON_MASS**2 + recop(offbeam.df.branch.trk)**2)\n",
    "offbeam.df[\"s_mass\"] = np.sqrt(2)*np.sqrt(MUON_MASS**2 + off_Etrunk*off_Ebranch - recop(offbeam.df.trunk.trk)*recop(offbeam.df.branch.trk)*dotdf(offbeam.df.branch.trk.dir, offbeam.df.trunk.trk.dir))\n",
    "\n",
    "on_Etrunk = np.sqrt(MUON_MASS**2 + recop(onbeam.df.trunk.trk)**2)\n",
    "on_Ebranch = np.sqrt(MUON_MASS**2 + recop(onbeam.df.branch.trk)**2)\n",
    "onbeam.df[\"s_mass\"] = np.sqrt(2)*np.sqrt(MUON_MASS**2 + on_Etrunk*on_Ebranch - recop(onbeam.df.trunk.trk)*recop(onbeam.df.branch.trk)*dotdf(onbeam.df.branch.trk.dir, onbeam.df.trunk.trk.dir))\n",
    "\n",
    "mc_Etrunk = np.sqrt(MUON_MASS**2 + recop(mc.df.trunk.trk)**2)\n",
    "mc_Ebranch = np.sqrt(MUON_MASS**2 + recop(mc.df.branch.trk)**2)\n",
    "mc.df[\"s_mass\"] = np.sqrt(2)*np.sqrt(MUON_MASS**2 + mc_Etrunk*mc_Ebranch - recop(mc.df.trunk.trk)*recop(mc.df.branch.trk)*dotdf(mc.df.branch.trk.dir, mc.df.trunk.trk.dir))"
   ]
  },
  {
   "cell_type": "code",
   "execution_count": null,
   "id": "5e5d9ec0",
   "metadata": {},
   "outputs": [],
   "source": [
    "othr_obj_cut = ~((var.DF.max_shw_len > 15) | (var.DF.max_othr_trk_len > 20) |\\\n",
    "                 (var.DF.min_othr_chi2_proton < 80) | (var.DF.max_othr_chi2_muon > 40))\n",
    "\n",
    "trunk_muid = (var.DF.trunk.trk.len > 25) & (var.DF.trunk.trk.chi2pid.I2.chi2_muon < 15) &\\\n",
    "    (var.DF.trunk.trk.chi2pid.I2.chi2_proton > 80) & (var.DF.trunk_mcs_range < 0.5)\n",
    "branch_muid = (var.DF.branch.trk.len > 25) & (var.DF.branch.trk.chi2pid.I2.chi2_muon < 15) &\\\n",
    "    (var.DF.branch.trk.chi2pid.I2.chi2_proton > 80) & (var.DF.branch_mcs_range < 0.5)\n",
    "\n",
    "hasstub = (var.DF.stub.l0_5cm.dqdx > 5e5) | (var.DF.stub.l1cm.dqdx > 3e5) |\\\n",
    "    (var.DF.stub.l2cm.dqdx > 2.5e5) | (var.DF.stub.l3cm.dqdx > 2e5)\n",
    "\n",
    "stubid = ~hasstub\n"
   ]
  },
  {
   "cell_type": "code",
   "execution_count": null,
   "id": "627fba9e",
   "metadata": {},
   "outputs": [],
   "source": [
    "cuts = [\n",
    "#     cut.fiducial@var.slc &\\\n",
    "#     cut.trkfiducial@var.DF.branch.trk & cut.trkfiducial@var.DF.trunk.trk &\\\n",
    "#     (var.DF.beamangle > 25),\n",
    "    \n",
    "#     cut.fiducial@var.slc &\\\n",
    "#     cut.trkfiducial@var.DF.branch.trk & cut.trkfiducial@var.DF.trunk.trk &\\\n",
    "#     (var.DF.beamangle > 25) &\\\n",
    "#     (var.crlongtrkdiry@var.slc > -0.4),\n",
    "    \n",
    "#     cut.fiducial@var.slc &\\\n",
    "#     cut.trkfiducial@var.DF.branch.trk & cut.trkfiducial@var.DF.trunk.trk &\\\n",
    "#     (var.DF.beamangle > 25) &\\\n",
    "#     (var.crlongtrkdiry@var.slc > -0.4) &\\\n",
    "#     (var.DF.slc.producer == 0),\n",
    "    \n",
    "#     cut.fiducial@var.slc &\\\n",
    "#     cut.trkfiducial@var.DF.branch.trk & cut.trkfiducial@var.DF.trunk.trk &\\\n",
    "#     (var.DF.beamangle > 25) &\\\n",
    "#     (var.crlongtrkdiry@var.slc > -0.4) &\\\n",
    "#     (var.DF.slc.producer == 1),\n",
    "    \n",
    "#     cut.fiducial@var.slc &\\\n",
    "#     cut.trkfiducial@var.DF.branch.trk & cut.trkfiducial@var.DF.trunk.trk &\\\n",
    "#     (var.DF.beamangle > 25) &\\\n",
    "#     trunk_muid & branch_muid,\n",
    "\n",
    "#     cut.fiducial@var.slc &\\\n",
    "#     cut.trkfiducial@var.DF.branch.trk & cut.trkfiducial@var.DF.trunk.trk &\\\n",
    "#     (var.DF.beamangle > 25) &\\\n",
    "#     trunk_muid & branch_muid,\n",
    "    \n",
    "#     cut.fiducial@var.slc &\\\n",
    "#     cut.trkfiducial@var.DF.branch.trk & cut.trkfiducial@var.DF.trunk.trk &\\\n",
    "#     (var.DF.beamangle > 25) &\\\n",
    "#     (var.DF.openangle < 100) &\\\n",
    "#     trunk_muid & branch_muid,\n",
    "    \n",
    "#     cut.fiducial@var.slc &\\\n",
    "#     cut.trkfiducial@var.DF.branch.trk & cut.trkfiducial@var.DF.trunk.trk &\\\n",
    "#     (var.DF.beamangle > 25) &\\\n",
    "#     (var.DF.openangle < 100) &\\\n",
    "#     trunk_muid & branch_muid &\\\n",
    "#     (var.DF.slc.producer == 0),\n",
    "    \n",
    "#     cut.fiducial@var.slc &\\\n",
    "#     cut.trkfiducial@var.DF.branch.trk & cut.trkfiducial@var.DF.trunk.trk &\\\n",
    "#     (var.DF.beamangle > 25) &\\\n",
    "#     (var.DF.openangle < 100) &\\\n",
    "#     trunk_muid & branch_muid &\\\n",
    "#     (var.DF.slc.producer == 1),\n",
    "    \n",
    "    cut.fiducial@var.slc &\\\n",
    "    cut.trkfiducial@var.DF.branch.trk & cut.trkfiducial@var.DF.trunk.trk &\\\n",
    "    (var.DF.beamangle > 25) &\\\n",
    "    (var.DF.openangle < 100) &\\\n",
    "    trunk_muid & branch_muid & othr_obj_cut,\n",
    "    \n",
    "#     cut.fiducial@var.slc &\\\n",
    "#     cut.trkfiducial@var.DF.branch.trk & cut.trkfiducial@var.DF.trunk.trk &\\\n",
    "#     (var.DF.beamangle > 25) &\\\n",
    "#     (var.DF.openangle < 100) &\\\n",
    "#     trunk_muid & branch_muid & othr_obj_cut & stubid,\n",
    "]"
   ]
  },
  {
   "cell_type": "code",
   "execution_count": null,
   "id": "38396eb2",
   "metadata": {},
   "outputs": [],
   "source": [
    "# N0,B0,_ = plt.hist(mc.df.slc.truth.E[cuts[0](mc.df)], bins=np.linspace(0, 10, 41), histtype=\"step\", density=True)\n",
    "# _ = plt.hist(mc.df.slc.truth.E[cuts[1](mc.df)], bins=np.linspace(0, 10, 41), histtype=\"step\", density=True)"
   ]
  },
  {
   "cell_type": "code",
   "execution_count": null,
   "id": "4c320121",
   "metadata": {},
   "outputs": [],
   "source": [
    "mc.POT"
   ]
  },
  {
   "cell_type": "code",
   "execution_count": null,
   "id": "ed9b2abe",
   "metadata": {},
   "outputs": [],
   "source": [
    "# hnom, hsyst = hist.makehist(v, mc, cut=c, bins=bins, POT=onbeam.POT, syst=True, \n",
    "#                         categories=nucategories)"
   ]
  },
  {
   "cell_type": "code",
   "execution_count": null,
   "id": "df1a8678",
   "metadata": {},
   "outputs": [],
   "source": [
    "# centers = (bins[:-1] + bins[1:]) / 2"
   ]
  },
  {
   "cell_type": "code",
   "execution_count": null,
   "id": "2fc8dc67",
   "metadata": {},
   "outputs": [],
   "source": [
    "# for i in range(10):\n",
    "#     _ = plt.hist(centers, bins=bins, weights=hsyst[i].N, histtype=\"step\", linewidth=2)"
   ]
  },
  {
   "cell_type": "code",
   "execution_count": null,
   "id": "ec63febf",
   "metadata": {},
   "outputs": [],
   "source": [
    "v = var.DF.openangle\n",
    "c =  cut.fiducial@var.slc &\\\n",
    "    cut.trkfiducial@var.DF.branch.trk & cut.trkfiducial@var.DF.trunk.trk &\\\n",
    "    (var.DF.beamangle > 25) &\\\n",
    "    trunk_muid & branch_muid\n",
    "\n",
    "bins = np.linspace(0, 180, 21)\n",
    "\n",
    "mcdata_plot(v, bins, c, nucategories, \"Opening Angle\", \"Slices\")"
   ]
  },
  {
   "cell_type": "code",
   "execution_count": null,
   "id": "adfc349c",
   "metadata": {},
   "outputs": [],
   "source": [
    "cut_text = [    \n",
    "#     \"Pre-Selection\",\n",
    "#     \"CRLongTrkDirY > -0.4\",\n",
    "#     \"CRLongTrkDirYCut\\nEast Cryostat\",\n",
    "#     \"CRLongTrkDirYCut\\nWest Cryostat\",\n",
    "#     \"Tight Muon ID\",\n",
    "#     \"Tight Muon ID +\\nOpen Angle < 100$^\\\\circ$\",\n",
    "#     \"Tight Muon ID +\\nOpen Angle < 100$^\\\\circ$\\nEast Cryostat\",\n",
    "#     \"Tight Muon ID +\\nOpen Angle < 100$^\\\\circ$\\nWest Cryostat\",\n",
    "    \"Loose Muon ID +\\nOther Obj Cut\",\n",
    "#     \"Tight Muon ID +\\nOther Obj Cut +\\nStub ID\",\n",
    "]"
   ]
  },
  {
   "cell_type": "code",
   "execution_count": null,
   "id": "c92efbba",
   "metadata": {},
   "outputs": [],
   "source": [
    "cut_dir = [    \n",
    "#     \"PreSelection\",\n",
    "#     \"CRLongTrkDirYCut\",\n",
    "#     \"CRLongTrkDirYCut_CryoE\",\n",
    "#     \"CRLongTrkDirYCut_CryoW\",\n",
    "#     \"TightMuonID\",\n",
    "#     \"TightMuonID_OpenAngle\",\n",
    "#     \"TightMuonID_OpenAngle_CryoE\",\n",
    "#     \"TightMuonID_OpenAngle_CryoW\",\n",
    "    \"LooseMuonID_OthrObj\",\n",
    "#     \"TightMuonID_OthrObj_Stub\"\n",
    "]"
   ]
  },
  {
   "cell_type": "code",
   "execution_count": null,
   "id": "d8bcaa32",
   "metadata": {},
   "outputs": [],
   "source": [
    "plotvars = [\n",
    "    var.crlongtrkdiry@var.slc,\n",
    "    var.DF.max_shw_len,\n",
    "    var.DF.max_othr_trk_len,\n",
    "    var.DF.max_othr_chi2_muon,\n",
    "    var.DF.min_othr_chi2_proton,\n",
    "    var.DF.trunk.trk.len,\n",
    "    var.DF.branch.trk.len,\n",
    "    var.DF.trunk.trackScore,\n",
    "    var.DF.branch.trackScore,\n",
    "    var.DF.trunk.trk.chi2pid.I2.chi2_muon,\n",
    "    var.DF.branch.trk.chi2pid.I2.chi2_muon,\n",
    "    var.DF.trunk.trk.chi2pid.I2.chi2_proton,\n",
    "    var.DF.branch.trk.chi2pid.I2.chi2_proton,\n",
    "    var.DF.trunk_mcs_range,\n",
    "    var.DF.branch_mcs_range,\n",
    "    var.DF.stub.l0_5cm.dqdx,\n",
    "    var.DF.stub.l1cm.dqdx,\n",
    "    var.DF.stub.l2cm.dqdx,\n",
    "    var.DF.stub.l3cm.dqdx,\n",
    "    var.DF.openangle,\n",
    "    var.DF.beamangle,\n",
    "    var.DF.s_mass\n",
    "]"
   ]
  },
  {
   "cell_type": "code",
   "execution_count": null,
   "id": "1a801d17",
   "metadata": {},
   "outputs": [],
   "source": [
    "plotnames = [\n",
    "    \"CRLongTrkDirY\",\n",
    "    \"Maximum Shower Length [cm]\",\n",
    "    \"Maximum Other Track Length [cm]\",\n",
    "    \"Maximum Other $\\\\chi^2_\\\\mu$\",\n",
    "    \"Minimum Other $\\\\chi^2_p$\",\n",
    "    \"Trunk Track Length [cm]\",\n",
    "    \"Branch Track Length [cm]\",\n",
    "    \"Trunk Track Score\",\n",
    "    \"Branch Track Score\",\n",
    "    \"Trunk $\\\\chi^2_\\\\mu$\",\n",
    "    \"Branch $\\\\chi^2_\\\\mu$\",\n",
    "    \"Trunk $\\\\chi^2_p$\",\n",
    "    \"Branch $\\\\chi^2_p$\",\n",
    "    \"Trunk (1 - MCS P / Range P)\",\n",
    "    \"Branch (1 - MCS P / Range P)\",\n",
    "    \"Stub dQ/dx (len < 0.5 cm) [ke$^-$/cm]\",\n",
    "    \"Stub dQ/dx (0.5 < len < 1 cm) [ke$^-$/cm]\",\n",
    "    \"Stub dQ/dx (1 < len < 2 cm) [ke$^-$/cm]\",\n",
    "    \"Stub dQ/dx (2 < len < 3 cm) [ke$^-$/cm]\",\n",
    "    \"Trunk - Branch Opening Angle [$^\\\\circ$]\",\n",
    "    \"Summed Angle to Beam [$^\\\\circ$]\",\n",
    "    \"$M_{\\\\mu\\\\mu}$ [GeV/c$^2$]\"\n",
    "]"
   ]
  },
  {
   "cell_type": "code",
   "execution_count": null,
   "id": "205bd967",
   "metadata": {},
   "outputs": [],
   "source": [
    "plotsave = [\n",
    "    \"crlongtrkdiry\",\n",
    "    \"max_shw_len\",\n",
    "    \"max_othr_trk_len\",\n",
    "    \"max_othr_chi2u\",\n",
    "    \"min_othr_chi2p\",\n",
    "    \"trunk_trk_len\",\n",
    "    \"branch_trk_len\",\n",
    "    \"trunk_trk_score\",\n",
    "    \"branch_trk_score\",\n",
    "    \"trunk_chi2u\",\n",
    "    \"branch_chi2u\",\n",
    "    \"trunk_chi2p\",\n",
    "    \"branch_chi2p\",\n",
    "    \"trunk_mcsvrange\",\n",
    "    \"branch_mcsvrange\",\n",
    "    \"stub_dqdx_0_5cm\",\n",
    "    \"stub_dqdx_1cm\",\n",
    "    \"stub_dqdx_2cm\",\n",
    "    \"stub_dqdx_3cm\",\n",
    "    \"openangle\",\n",
    "    \"beamangle\",\n",
    "    \"s_mass\",\n",
    "]"
   ]
  },
  {
   "cell_type": "code",
   "execution_count": null,
   "id": "8886a211",
   "metadata": {},
   "outputs": [],
   "source": [
    "plotbins = [\n",
    "    np.linspace(-1, 1, 21),\n",
    "    np.linspace(0, 20, 21),\n",
    "    np.linspace(0, 60, 21),\n",
    "    np.linspace(0, 60, 21),\n",
    "    np.linspace(0, 60, 21),\n",
    "    np.linspace(0, 200, 21) + 10,\n",
    "    np.linspace(0, 200, 21) + 10,\n",
    "    np.linspace(0, 1, 21),\n",
    "    np.linspace(0, 1, 21),\n",
    "    np.linspace(0, 30, 16),\n",
    "    np.linspace(0, 30, 16),\n",
    "    np.linspace(80, 400, 21),\n",
    "    np.linspace(80, 400, 21),\n",
    "    np.linspace(0, 1, 21),\n",
    "    np.linspace(0, 1, 21),\n",
    "    np.linspace(0, 15e5, 16),\n",
    "    np.linspace(0, 15e5, 16),\n",
    "    np.linspace(0, 15e5, 16),\n",
    "    np.linspace(0, 15e5, 16),\n",
    "    np.linspace(0, 180, 21),\n",
    "    np.linspace(0, 140, 21) + 25,\n",
    "    np.linspace(0, 0.5, 21) + 2*MUON_MASS\n",
    "]"
   ]
  },
  {
   "cell_type": "code",
   "execution_count": null,
   "id": "2c0ca861",
   "metadata": {},
   "outputs": [],
   "source": [
    "# ifig = 0\n",
    "# p = multiprocessing.Pool(10)\n",
    "\n",
    "# def makeplt(inp):\n",
    "#     v, name, savename, bins = inp\n",
    "# #     plt.figure(0)\n",
    "\n",
    "#     fig, (p0, p1) = mcdata_plot(v, bins, c, nucategories, name, \"Slices\")\n",
    "#     p0.text(0.85, 0.85, ctxt, transform=p0.transAxes, verticalalignment='top', horizontalalignment=\"right\")\n",
    "\n",
    "#     if dosave: \n",
    "#         plt.savefig(os.path.join(savedir, cdir, (\"%s.pdf\" % savename)), bbox_inches=\"tight\")\n",
    "        \n",
    "#     plt.close()\n",
    "        \n",
    "#     return n\n",
    "\n",
    "# for c, ctxt, cdir in zip(cuts, cut_text, cut_dir):\n",
    "#     print(ctxt)\n",
    "#     if dosave:\n",
    "#         os.makedirs(os.path.join(savedir, cdir), exist_ok=True)\n",
    "        \n",
    "#     for n in p.imap_unordered(makeplt, zip(plotvars, plotnames, plotsave, plotbins)):\n",
    "#         print(n)\n",
    "        \n",
    "#     break"
   ]
  },
  {
   "cell_type": "code",
   "execution_count": null,
   "id": "526980e6",
   "metadata": {},
   "outputs": [],
   "source": [
    "len(list(zip(cuts, cut_text, cut_dir)))"
   ]
  },
  {
   "cell_type": "code",
   "execution_count": null,
   "id": "31177d47",
   "metadata": {},
   "outputs": [],
   "source": [
    "#  chi2pid\n",
    "whichvars = [\n",
    "    5, 7, 9, 11, 13\n",
    "]"
   ]
  },
  {
   "cell_type": "code",
   "execution_count": null,
   "id": "2b9f09f0",
   "metadata": {},
   "outputs": [],
   "source": [
    "ifig = 0\n",
    "\n",
    "for c, ctxt, cdir in zip(cuts, cut_text, cut_dir):\n",
    "    print(ctxt)\n",
    "    if dosave:\n",
    "        os.makedirs(os.path.join(savedir, cdir), exist_ok=True)\n",
    "    for ivar, (v, name, savename, bins) in enumerate(zip(plotvars, plotnames, plotsave, plotbins)):\n",
    "        if ivar not in whichvars: continue\n",
    "            \n",
    "        plt.figure(ifig)\n",
    "\n",
    "        fig, (p0, p1) = mcdata_plot(v, bins, c, trunkIDcategories, name, \"Slices\")\n",
    "        p0.text(0.9, 0.85, ctxt, transform=p0.transAxes, verticalalignment='top', horizontalalignment=\"right\")\n",
    "        \n",
    "        if dosave: \n",
    "            plt.savefig(os.path.join(savedir, cdir, (\"trunkcat_%s.pdf\" % savename)), bbox_inches=\"tight\")\n",
    "            plt.savefig(os.path.join(savedir, cdir, (\"trunkcat_%s.svg\" % savename)), bbox_inches=\"tight\")\n",
    "        \n",
    "        ifig += 1        \n",
    "    if dosave: \n",
    "        plt.close(\"all\")"
   ]
  },
  {
   "cell_type": "code",
   "execution_count": null,
   "id": "59f3dfe8",
   "metadata": {},
   "outputs": [],
   "source": [
    "# Branch chi2pid\n",
    "whichvars = [\n",
    "    6, 8, 10, 12, 14\n",
    "]"
   ]
  },
  {
   "cell_type": "code",
   "execution_count": null,
   "id": "d53a9e9e",
   "metadata": {},
   "outputs": [],
   "source": [
    "ifig = 0\n",
    "\n",
    "for c, ctxt, cdir in zip(cuts, cut_text, cut_dir):\n",
    "    print(ctxt)\n",
    "    if dosave:\n",
    "        os.makedirs(os.path.join(savedir, cdir), exist_ok=True)\n",
    "    for ivar, (v, name, savename, bins) in enumerate(zip(plotvars, plotnames, plotsave, plotbins)):\n",
    "        if ivar not in whichvars: continue\n",
    "            \n",
    "        plt.figure(ifig)\n",
    "\n",
    "        fig, (p0, p1) = mcdata_plot(v, bins, c, branchIDcategories, name, \"Slices\")\n",
    "        p0.text(0.9, 0.85, ctxt, transform=p0.transAxes, verticalalignment='top', horizontalalignment=\"right\")\n",
    "        \n",
    "        if dosave: \n",
    "            plt.savefig(os.path.join(savedir, cdir, (\"branchcat_%s.pdf\" % savename)), bbox_inches=\"tight\")\n",
    "            plt.savefig(os.path.join(savedir, cdir, (\"branchcat_%s.svg\" % savename)), bbox_inches=\"tight\")\n",
    "        \n",
    "        ifig += 1        \n",
    "    if dosave: \n",
    "        plt.close(\"all\")"
   ]
  },
  {
   "cell_type": "code",
   "execution_count": null,
   "id": "fcfe1330",
   "metadata": {},
   "outputs": [],
   "source": [
    "# stubs\n",
    "whichvars = [\n",
    "    15, 16, 17, 18\n",
    "]"
   ]
  },
  {
   "cell_type": "code",
   "execution_count": null,
   "id": "52478714",
   "metadata": {},
   "outputs": [],
   "source": [
    "ifig = 0\n",
    "\n",
    "for c, ctxt, cdir in zip(cuts, cut_text, cut_dir):\n",
    "    print(ctxt)\n",
    "    if dosave:\n",
    "        os.makedirs(os.path.join(savedir, cdir), exist_ok=True)\n",
    "    for ivar, (v, name, savename, bins) in enumerate(zip(plotvars, plotnames, plotsave, plotbins)):\n",
    "        if ivar not in whichvars: continue\n",
    "            \n",
    "        plt.figure(ifig)\n",
    "\n",
    "        fig, (p0, p1) = mcdata_plot(v, bins, c, vtxIDcategories, name, \"Slices\")\n",
    "        p0.text(0.9, 0.85, ctxt, transform=p0.transAxes, verticalalignment='top', horizontalalignment=\"right\")\n",
    "        \n",
    "        scale_x = 1e3\n",
    "        ticks_x = mpl.ticker.FuncFormatter(lambda x, pos: '{0:g}'.format(x/scale_x))\n",
    "        p0.xaxis.set_major_formatter(ticks_x)\n",
    "        \n",
    "        if dosave: \n",
    "            plt.savefig(os.path.join(savedir, cdir, (\"vtxcat_%s.pdf\" % savename)), bbox_inches=\"tight\")\n",
    "            plt.savefig(os.path.join(savedir, cdir, (\"vtxcat_%s.svg\" % savename)), bbox_inches=\"tight\")\n",
    "        \n",
    "        ifig += 1        \n",
    "#     if dosave: \n",
    "#         plt.close(\"all\")"
   ]
  },
  {
   "cell_type": "code",
   "execution_count": null,
   "id": "eaff7e3c",
   "metadata": {},
   "outputs": [],
   "source": [
    "whichvars = list(range(len(plotvars))) # all"
   ]
  },
  {
   "cell_type": "code",
   "execution_count": null,
   "id": "5dc999dd",
   "metadata": {},
   "outputs": [],
   "source": [
    "ifig = 0\n",
    "\n",
    "for c, ctxt, cdir in zip(cuts, cut_text, cut_dir):\n",
    "    print(ctxt)\n",
    "    if dosave:\n",
    "        os.makedirs(os.path.join(savedir, cdir), exist_ok=True)\n",
    "    for ivar, (v, name, savename, bins) in enumerate(zip(plotvars, plotnames, plotsave, plotbins)):\n",
    "        if ivar not in whichvars: continue\n",
    "            \n",
    "        plt.figure(ifig)\n",
    "\n",
    "        fig, (p0, p1) = mcdata_plot(v, bins, c, nucategories, name, \"Slices\")\n",
    "        p0.text(0.9, 0.85, ctxt, transform=p0.transAxes, verticalalignment='top', horizontalalignment=\"right\")\n",
    "        \n",
    "        if dosave: \n",
    "            plt.savefig(os.path.join(savedir, cdir, (\"%s.pdf\" % savename)), bbox_inches=\"tight\")\n",
    "            plt.savefig(os.path.join(savedir, cdir, (\"%s.svg\" % savename)), bbox_inches=\"tight\")\n",
    "        \n",
    "        ifig += 1        \n",
    "    if dosave: \n",
    "        plt.close(\"all\")"
   ]
  },
  {
   "cell_type": "code",
   "execution_count": null,
   "id": "b6c59e1d",
   "metadata": {},
   "outputs": [],
   "source": []
  },
  {
   "cell_type": "code",
   "execution_count": null,
   "id": "61cc095f",
   "metadata": {},
   "outputs": [],
   "source": [
    "othr_obj_cut = ~((var.DF.max_shw_len_primary > 15) | (var.DF.max_othr_trk_len > 20) |\\\n",
    "                 (var.DF.min_othr_chi2_proton_all < 80))\n",
    "\n",
    "trunk_muid = (var.DF.trunk.trk.len > 25) & (var.DF.trunk.trk.chi2pid.I2.chi2_muon < 10) &\\\n",
    "    (var.DF.trunk.trk.chi2pid.I2.chi2_proton > 80) & (var.DF.trunk_mcs_range < 0.5)\n",
    "branch_muid = (var.DF.branch.trk.len > 25) & (var.DF.branch.trk.chi2pid.I2.chi2_muon < 10) &\\\n",
    "    (var.DF.branch.trk.chi2pid.I2.chi2_proton > 80) & (var.DF.branch_mcs_range < 0.5)\n",
    "\n",
    "hasstub = (var.DF.stub.l0_5cm.dqdx > 5e5) | (var.DF.stub.l1cm.dqdx > 3e5) |\\\n",
    "    (var.DF.stub.l2cm.dqdx > 2.5e5) | (var.DF.stub.l3cm.dqdx > 2e5)\n",
    "\n",
    "stubid = ~hasstub"
   ]
  },
  {
   "cell_type": "code",
   "execution_count": null,
   "id": "d2d68b7e",
   "metadata": {},
   "outputs": [],
   "source": [
    "othr_obj_cut = ~((var.DF.max_shw_len_primary > 10) | (var.DF.max_othr_trk_len > 20) |\\\n",
    "                 (var.DF.min_othr_chi2_proton < 80) | (var.DF.max_othr_chi2_muon > 40))\n",
    "\n",
    "# othr_obj_cut = ~((var.DF.max_shw_len > 15) | (var.DF.max_othr_trk_len > 20) |\\\n",
    "#                  (var.DF.min_othr_chi2_proton_all < 80) | (var.DF.max_othr_chi2_muon > 40))\n",
    "\n",
    "trunk_muid = (var.DF.trunk.trk.len > 25) & (var.DF.trunk.trk.chi2pid.I2.chi2_muon < 10) &\\\n",
    "    (var.DF.trunk.trk.chi2pid.I2.chi2_proton > 80) & (var.DF.trunk_mcs_range < 0.5)\n",
    "branch_muid = (var.DF.branch.trk.len > 25) & (var.DF.branch.trk.chi2pid.I2.chi2_muon < 10) &\\\n",
    "    (var.DF.branch.trk.chi2pid.I2.chi2_proton > 80) & (var.DF.branch_mcs_range < 0.5)"
   ]
  },
  {
   "cell_type": "code",
   "execution_count": null,
   "id": "d668cf5f",
   "metadata": {},
   "outputs": [],
   "source": [
    "nmu = mc.df.slc.truth.iscc & (np.abs(mc.df.slc.truth.pdg) == 14)\n",
    "ns = (np.abs(mc.df.slc.truth.p0.pdg) == 3112) + (np.abs(mc.df.slc.truth.p0.pdg) == 3222) +\\\n",
    "      (np.abs(mc.df.slc.truth.p1.pdg) == 3112) + (np.abs(mc.df.slc.truth.p1.pdg) == 3222)\n",
    "is_coh_like = (mc.df.slc.truth.max_proton_ke < 0.05) & (mc.df.slc.truth.npi + nmu + ns >= 2)"
   ]
  },
  {
   "cell_type": "code",
   "execution_count": null,
   "id": "374f5eee",
   "metadata": {},
   "outputs": [],
   "source": [
    "when = cut.fiducial@var.slc &\\\n",
    "    cut.trkfiducial@var.DF.branch.trk & cut.trkfiducial@var.DF.trunk.trk &\\\n",
    "    (var.DF.openangle < 0.5*180/np.pi) &\\\n",
    "    trunk_muid & branch_muid & othr_obj_cut"
   ]
  },
  {
   "cell_type": "code",
   "execution_count": null,
   "id": "f5d9add6",
   "metadata": {},
   "outputs": [],
   "source": [
    "c = when(mc.df)"
   ]
  },
  {
   "cell_type": "code",
   "execution_count": null,
   "id": "a676eca5",
   "metadata": {},
   "outputs": [],
   "source": [
    "(c & is_coh_like).sum() / c.sum()"
   ]
  },
  {
   "cell_type": "code",
   "execution_count": null,
   "id": "5e6012b7",
   "metadata": {},
   "outputs": [],
   "source": [
    "(2*onbeam.POT / mc.POT)*mc.df.wgt.cv[c].sum()"
   ]
  },
  {
   "cell_type": "code",
   "execution_count": null,
   "id": "b73eae5c",
   "metadata": {},
   "outputs": [],
   "source": [
    "2*onbeam.POT"
   ]
  },
  {
   "cell_type": "code",
   "execution_count": null,
   "id": "cf0e39cd",
   "metadata": {},
   "outputs": [],
   "source": [
    "v = var.DF.beamangle(mc.df)\n",
    "whens = [c & is_coh_like, c & ~is_coh_like]\n",
    "labels = [\"Coh-Like\", \"Not-Coh-Like\"]\n",
    "\n",
    "_ = plt.hist([v[w] for w in whens], label=labels, stacked=True, bins=np.linspace(0, 75, 11))\n",
    "plt.legend()\n",
    "plt.xlabel(\"$\\\\theta_\\\\mathrm{NuMI}$\")\n",
    "plt.ylabel(\"Events / Data POT\")\n",
    "plt.title(\"Selected Di-Muon Decay Candidates\")\n",
    "plt.axvline(7.5, color=\"red\", linestyle=\":\", linewidth=2)\n",
    "plt.text(0.01, 0.8, \"Signal\\nRegion\", color=\"red\", transform=plt.gca().transAxes, fontsize=12)"
   ]
  },
  {
   "cell_type": "raw",
   "id": "62e4b5d2",
   "metadata": {},
   "source": [
    "cols = [\n",
    "    \"min_othr_chi2_proton\",\n",
    "    \"max_othr_chi2_muon\",\n",
    "    \"min_othr_chi2_proton_primary\",\n",
    "    \"max_othr_chi2_muon_primary\",\n",
    "    \"min_othr_chi2_proton_all\",\n",
    "    \"max_othr_chi2_muon_all\",\n",
    "    \n",
    "    \"max_shw_len\",\n",
    "    \"max_shw_len_all\",\n",
    "    \"max_shw_len_primary\",\n",
    "\n",
    "    \"max_othr_trk_len\",\n",
    "    \"max_othr_trk_len_all\",\n",
    "    \"max_othr_trk_len_primary\",\n",
    "    \n",
    "]"
   ]
  },
  {
   "cell_type": "code",
   "execution_count": null,
   "id": "672747c7",
   "metadata": {},
   "outputs": [],
   "source": [
    "for i, col in enumerate(cols):\n",
    "    plt.figure(i)\n",
    "    \n",
    "    N,bins,_ = plt.hist(mc.df[c & ~is_coh_like][col], histtype=\"step\")\n",
    "    plt.hist(mc.df[c & is_coh_like][col], bins=bins, histtype=\"step\")\n",
    "    plt.xlabel(col)"
   ]
  },
  {
   "cell_type": "code",
   "execution_count": null,
   "id": "52fda5d0",
   "metadata": {},
   "outputs": [],
   "source": [
    "mc.df[(c & ~is_coh_like)].slc.truth.p0"
   ]
  },
  {
   "cell_type": "code",
   "execution_count": null,
   "id": "1369d355",
   "metadata": {},
   "outputs": [],
   "source": [
    "mc.df[(c & ~is_coh_like)].slc.truth.p1"
   ]
  },
  {
   "cell_type": "code",
   "execution_count": null,
   "id": "9ca6e065",
   "metadata": {},
   "outputs": [],
   "source": [
    "mc.df[(c & ~is_coh_like)].trunk.trk.truth"
   ]
  },
  {
   "cell_type": "code",
   "execution_count": null,
   "id": "90d5702b",
   "metadata": {},
   "outputs": [],
   "source": [
    "mc.df[(c & ~is_coh_like)].branch.trk.truth"
   ]
  },
  {
   "cell_type": "code",
   "execution_count": null,
   "id": "99781764",
   "metadata": {},
   "outputs": [],
   "source": [
    "mc.df[(c & ~is_coh_like) & (mc.df.branch.trk.truth.p.pdg == 2212)].branch.trk.chi2pid"
   ]
  },
  {
   "cell_type": "code",
   "execution_count": null,
   "id": "fbe710f3",
   "metadata": {},
   "outputs": [],
   "source": [
    "[\"%i:%i\" % (r[1][\"run\"], r[1][\"evt\"]) for r in onbeam.hdrdf.loc[whichevt].iterrows()]"
   ]
  },
  {
   "cell_type": "code",
   "execution_count": null,
   "id": "121d6e47",
   "metadata": {},
   "outputs": [],
   "source": [
    "FILELIST = \"/icarus/app/users/gputnam/DP2023G/ICARUSRun2DataOnBeamMajority_stage0_disk_files_deduped.list\"\n",
    "NFILE_PER_JOB = 5\n",
    "\n",
    "with open(FILELIST) as f:\n",
    "    FILES = [l.rstrip(\"\\n\") for l in f]\n",
    "FILES"
   ]
  },
  {
   "cell_type": "code",
   "execution_count": null,
   "id": "8754a032",
   "metadata": {},
   "outputs": [],
   "source": [
    "PROCS = [r[1][\"proc\"].values[0] for r in onbeam.hdrdf.loc[whichevt].iterrows()]\n",
    "files_to_process = [FILES[P*NFILE_PER_JOB:(P+1)*NFILE_PER_JOB] for P in PROCS]\n",
    "files_to_process = [f for files in files_to_process for f in files]\n",
    "len(files_to_process)"
   ]
  },
  {
   "cell_type": "code",
   "execution_count": null,
   "id": "f7ab8e82",
   "metadata": {},
   "outputs": [],
   "source": [
    "with open(\"/icarus/app/users/gputnam/DP2023G/INTERESTING_FILES.list\", \"w+\") as f:\n",
    "    for fname in files_to_process:\n",
    "        f.write(fname + \"\\n\")"
   ]
  },
  {
   "cell_type": "code",
   "execution_count": null,
   "id": "53041856",
   "metadata": {},
   "outputs": [],
   "source": [
    "[r for r in onbeam.hdrdf.loc[whichevt].iterrows()][0][1]"
   ]
  },
  {
   "cell_type": "code",
   "execution_count": null,
   "id": "967b05d7",
   "metadata": {},
   "outputs": [],
   "source": [
    "# Run 1 only test"
   ]
  },
  {
   "cell_type": "code",
   "execution_count": null,
   "id": "bc0ba378",
   "metadata": {},
   "outputs": [],
   "source": [
    "ifig = 0\n",
    "\n",
    "onbeam_tmp = onbeam\n",
    "offbeam_tmp = offbeam\n",
    "\n",
    "onbeam = Dataset(onbeam.df[onbeam.df.Run1], onbeamR1.livetime, onbeamR1.POT)\n",
    "offbeam = Dataset(offbeam.df[offbeam.df.Run1], offbeamR1.livetime, offbeamR1.POT)\n",
    "\n",
    "for c, ctxt, cdir in zip(cuts[:3], cut_text[:3], cut_dir[:3]):\n",
    "    ctxt = ctxt + \"\\nRun 1\"\n",
    "    cdir = cdir + \"_Run1\"\n",
    "    print(ctxt)\n",
    "    if dosave:\n",
    "        os.makedirs(os.path.join(savedir, cdir), exist_ok=True)\n",
    "    for v, name, savename, bins in zip(plotvars, plotnames, plotsave, plotbins):\n",
    "        plt.figure(ifig)\n",
    "\n",
    "        fig, (p0, p1) = mcdata_plot(v, bins, c, nucategories, name, \"Slices\")\n",
    "        p0.text(0.9, 0.85, ctxt, transform=p0.transAxes, verticalalignment='top', horizontalalignment=\"right\")\n",
    "        \n",
    "        if dosave: \n",
    "            plt.savefig(os.path.join(savedir, cdir, (\"%s.svg\" % savename)), bbox_inches=\"tight\")\n",
    "            plt.savefig(os.path.join(savedir, cdir, (\"%s.pdf\" % savename)), bbox_inches=\"tight\")\n",
    "        \n",
    "        ifig += 1        \n",
    "    if dosave: \n",
    "        plt.close(\"all\")"
   ]
  },
  {
   "cell_type": "code",
   "execution_count": null,
   "id": "6707b3ae",
   "metadata": {},
   "outputs": [],
   "source": [
    "onbeam = onbeam_tmp\n",
    "offbeam = offbeam_tmp"
   ]
  },
  {
   "cell_type": "code",
   "execution_count": null,
   "id": "e9b4fcb7",
   "metadata": {},
   "outputs": [],
   "source": [
    "# Run 2 only test"
   ]
  },
  {
   "cell_type": "code",
   "execution_count": null,
   "id": "99a55455",
   "metadata": {},
   "outputs": [],
   "source": [
    "ifig = 0\n",
    "\n",
    "onbeam = Dataset(onbeam.df[onbeam.df.Run2], onbeamR2.livetime, onbeamR2.POT)\n",
    "offbeam = Dataset(offbeam.df[offbeam.df.Run2], offbeamR2.livetime, offbeamR2.POT)\n",
    "\n",
    "for c, ctxt, cdir in zip(cuts[:3], cut_text[:3], cut_dir[:3]):\n",
    "    ctxt = ctxt + \"\\nRun 2\"\n",
    "    cdir = cdir + \"_Run2\"\n",
    "    print(ctxt)\n",
    "    if dosave:\n",
    "        os.makedirs(os.path.join(savedir, cdir), exist_ok=True)\n",
    "    for v, name, savename, bins in zip(plotvars, plotnames, plotsave, plotbins):\n",
    "        plt.figure(ifig)\n",
    "\n",
    "        fig, (p0, p1) = mcdata_plot(v, bins, c, nucategories, name, \"Slices\")\n",
    "        p0.text(0.9, 0.85, ctxt, transform=p0.transAxes, verticalalignment='top', horizontalalignment=\"right\")\n",
    "        \n",
    "        if dosave: \n",
    "            plt.savefig(os.path.join(savedir, cdir, (\"%s.pdf\" % savename)), bbox_inches=\"tight\")\n",
    "        \n",
    "        ifig += 1        \n",
    "    if dosave: \n",
    "        plt.close(\"all\")"
   ]
  },
  {
   "cell_type": "code",
   "execution_count": null,
   "id": "98b1ad7a",
   "metadata": {},
   "outputs": [],
   "source": [
    "onbeam = onbeam_tmp\n",
    "offbeam = offbeam_tmp"
   ]
  },
  {
   "cell_type": "code",
   "execution_count": null,
   "id": "963aebf8",
   "metadata": {},
   "outputs": [],
   "source": []
  },
  {
   "cell_type": "code",
   "execution_count": null,
   "id": "c710cf79",
   "metadata": {},
   "outputs": [],
   "source": []
  }
 ],
 "metadata": {
  "kernelspec": {
   "display_name": "Python 3 (ipykernel)",
   "language": "python",
   "name": "python3"
  },
  "language_info": {
   "codemirror_mode": {
    "name": "ipython",
    "version": 3
   },
   "file_extension": ".py",
   "mimetype": "text/x-python",
   "name": "python",
   "nbconvert_exporter": "python",
   "pygments_lexer": "ipython3",
   "version": "3.9.2"
  }
 },
 "nbformat": 4,
 "nbformat_minor": 5
}

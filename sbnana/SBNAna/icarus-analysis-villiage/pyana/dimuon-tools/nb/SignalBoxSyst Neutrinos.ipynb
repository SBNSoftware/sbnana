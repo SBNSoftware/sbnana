{
 "cells": [
  {
   "cell_type": "code",
   "execution_count": null,
   "id": "d0430f54",
   "metadata": {},
   "outputs": [],
   "source": [
    "import uproot\n",
    "import matplotlib.pyplot as plt \n",
    "import pandas as pd \n",
    "import numpy as np \n",
    "import matplotlib as mpl\n",
    "\n",
    "from util import *\n",
    "import var\n",
    "import cut\n",
    "import data\n",
    "import hist\n",
    "\n",
    "import importlib\n",
    "\n",
    "from pyanalib import panda_helpers\n",
    "\n",
    "from scipy import optimize, stats"
   ]
  },
  {
   "cell_type": "code",
   "execution_count": null,
   "id": "d5489687",
   "metadata": {},
   "outputs": [],
   "source": [
    "plt.rcParams.update({'font.size': 16})\n",
    "# mpl.rcParams['lines.linewidth'] = 4.\n",
    "\n",
    "dosave = True\n",
    "savedir = \"plots_2_28_24/signalbox/\"\n",
    "\n",
    "prop_cycle = plt.rcParams['axes.prop_cycle']\n",
    "colors = prop_cycle.by_key()['color']"
   ]
  },
  {
   "cell_type": "code",
   "execution_count": null,
   "id": "ce89a765",
   "metadata": {},
   "outputs": [],
   "source": [
    "# configured\n",
    "DETSYST = 15.426\n",
    "DETSYST"
   ]
  },
  {
   "cell_type": "code",
   "execution_count": null,
   "id": "994b6674",
   "metadata": {},
   "outputs": [],
   "source": [
    "NUMISYST = 8.6"
   ]
  },
  {
   "cell_type": "code",
   "execution_count": null,
   "id": "added5f1",
   "metadata": {},
   "outputs": [],
   "source": [
    "# fname = filedir + \"F-CohLike_nom_evt_spectrum_blah.df\"\n",
    "# fname = \"/icarus/data/users/gputnam/DMCP2023G/mc-F/wdetsyst-chi2tgt/F-Nu_loose_evt_chi2tgt_spectrum_detsyst.df\"\n",
    "fname = \"/icarus/data/users/gputnam/DMCP2023G/mc-F-spectra/F-Nu_evt_spectrum.df\""
   ]
  },
  {
   "cell_type": "code",
   "execution_count": null,
   "id": "51dd9eb6",
   "metadata": {},
   "outputs": [],
   "source": [
    "cvdf = pd.read_hdf(fname, \"s\")"
   ]
  },
  {
   "cell_type": "code",
   "execution_count": null,
   "id": "8f4ba0f4",
   "metadata": {},
   "outputs": [],
   "source": [
    "bins = np.array([0.21, 0.225, 0.245, 0.265, 0.29, 0.32, 0.35, 0.4, 0.5])\n",
    "centers = (bins[:-1] + bins[1:]) / 2\n",
    "var = cvdf.mass"
   ]
  },
  {
   "cell_type": "code",
   "execution_count": null,
   "id": "943df60e",
   "metadata": {},
   "outputs": [],
   "source": [
    "modes = [\n",
    "    cvdf.genie_mode != 3,\n",
    "    cvdf.genie_mode == 3\n",
    "]\n",
    "\n",
    "when_all = cvdf.thnumi < 5"
   ]
  },
  {
   "cell_type": "code",
   "execution_count": null,
   "id": "1006344c",
   "metadata": {},
   "outputs": [],
   "source": [
    "# Track splitting correction and error"
   ]
  },
  {
   "cell_type": "code",
   "execution_count": null,
   "id": "92643f98",
   "metadata": {},
   "outputs": [],
   "source": [
    "\n",
    "_ = plt.hist(var[when_all], bins=bins, weights=(cvdf.weight/(cvdf.cathode_weight*cvdf.gap_weight))[when_all], \n",
    "             histtype=\"step\", linewidth=2, label=\"Nominal\")\n",
    "\n",
    "_ = plt.hist(var[when_all], bins=bins, weights=(cvdf.weight/(cvdf.gap_weight))[when_all], histtype=\"step\", linewidth=2,\n",
    "            label=\"Cathode Split Corr.\")\n",
    "\n",
    "_ = plt.hist(var[when_all], bins=bins, weights=cvdf.weight[when_all], histtype=\"step\", linewidth=2, \n",
    "            label=\"Cathode + Gap Split Corr.\")\n",
    "\n",
    "l1 = plt.legend(loc=\"lower right\")\n",
    "plt.ylabel(\"Events / 2.41e20 POT / bin\")\n",
    "plt.xlabel(\"Reconstructed Mass\")\n",
    "\n",
    "# get corrected total and uncertainty\n",
    "N,_ = np.histogram(var[when_all], bins=bins, weights=cvdf.weight[when_all])\n",
    "Nerr,_ = np.histogram(var[when_all], bins=bins, weights=cvdf.weight[when_all]*(1+np.sqrt(cvdf.cathode_weight_err**2 + cvdf.gap_weight_err**2)[when_all]))\n",
    "err = np.abs(N - Nerr)\n",
    "tracksplit_frac_err = err/N\n",
    "\n",
    "unc = plt.fill_between(bins, np.append(N + err, 0), np.append(N - err, 0),\n",
    "            edgecolor=\"gray\", facecolor=\"none\", step=\"post\", hatch=\"//\", linewidth=0, label=\"Uncertainty\\n on Corr.\")\n",
    "plt.legend(handles=[unc], loc=\"upper left\", frameon=False)\n",
    "plt.gca().add_artist(l1)\n",
    "\n",
    "\n",
    "if dosave:\n",
    "    plt.savefig(savedir + \"tracksplit_corr_w_unc.pdf\", bbox_inches=\"tight\")\n",
    "    plt.savefig(savedir + \"tracksplit_corr_w_unc.svg\", bbox_inches=\"tight\")"
   ]
  },
  {
   "cell_type": "code",
   "execution_count": null,
   "id": "adc30f0c",
   "metadata": {},
   "outputs": [],
   "source": [
    "# Total fractional error\n",
    "100*err.sum() / N.sum()"
   ]
  },
  {
   "cell_type": "code",
   "execution_count": null,
   "id": "1a2148e8",
   "metadata": {},
   "outputs": [],
   "source": [
    "flux_uncs = []\n",
    "g4_uncs = []\n",
    "xsec_uncs = []\n",
    "coh_uncs = []\n",
    "det_uncs = []\n",
    "mcstat_uncs = []\n",
    "stat_uncs = []\n",
    "\n",
    "for ibin, (mlo, mhi) in enumerate(zip(bins[:-1], bins[1:])):\n",
    "    when = when_all & (var > mlo) & (var < mhi)\n",
    "    \n",
    "    flux_uncs.append(100*(cvdf[when][[\"wgt_flux_univ_%i\" % i for i in range(100)]].multiply(cvdf.weight[when], 0)).sum().std()/cvdf.weight[when].sum())\n",
    "    flux_uncs[-1] = np.sqrt(flux_uncs[-1]**2 + NUMISYST**2)\n",
    "    g4_uncs.append(100*(cvdf[when][[\"wgt_g4_univ_%i\" % i for i in range(100)]].multiply(cvdf.weight[when], 0)).sum().std()/cvdf.weight[when].sum())\n",
    "    xsec_uncs.append(100*(cvdf[when][[\"wgt_xsec_univ_%i\" % i for i in range(100)]].multiply(cvdf.weight[when], 0)).sum().std()/cvdf.weight[when].sum())\n",
    "    coh_uncs.append(100*(cvdf[when][[\"wgt_coh_univ_%i\" % i for i in range(100)]].multiply(cvdf.weight[when], 0)).sum().std()/cvdf.weight[when].sum())\n",
    "    det_uncs.append(np.sqrt(DETSYST**2 + (100*tracksplit_frac_err[ibin])**2))\n",
    "    mcstat_uncs.append(100*np.sqrt((cvdf.weight[when]**2).sum())/cvdf.weight[when].sum())\n",
    "    stat_uncs.append(100/np.sqrt(cvdf.weight[when].sum()))\n",
    "    \n",
    "flux_uncs = np.array(flux_uncs)\n",
    "g4_uncs = np.array(g4_uncs)\n",
    "det_uncs = np.array(det_uncs)\n",
    "xsec_uncs = np.array(xsec_uncs)\n",
    "coh_uncs = np.array(coh_uncs)\n",
    "mcstat_uncs = np.array(mcstat_uncs)\n",
    "total_uncs = np.sqrt(flux_uncs**2 + g4_uncs**2 + det_uncs**2 + xsec_uncs**2 + coh_uncs**2 + mcstat_uncs**2)\n",
    "stat_uncs = np.array(stat_uncs)"
   ]
  },
  {
   "cell_type": "code",
   "execution_count": null,
   "id": "89622f18",
   "metadata": {},
   "outputs": [],
   "source": [
    "_ = plt.hist(centers, bins=bins, weights=flux_uncs, histtype=\"step\", label=\"Flux\", linewidth=2)\n",
    "_ = plt.hist(centers, bins=bins, weights=det_uncs, histtype=\"step\", label=\"Detector\", linewidth=2)\n",
    "_ = plt.hist(centers, bins=bins, weights=g4_uncs, histtype=\"step\", label=\"G4\", linewidth=2)\n",
    "_ = plt.hist(centers, bins=bins, weights=xsec_uncs, histtype=\"step\", label=\"Incoh. xsec\", linewidth=2)\n",
    "_ = plt.hist(centers, bins=bins, weights=coh_uncs, histtype=\"step\", label=\"Coh. xsec\", linewidth=2)\n",
    "_ = plt.hist(centers, bins=bins, weights=mcstat_uncs, histtype=\"step\", label=\"M.C. Stat\", linewidth=2)\n",
    "_ = plt.hist(centers, bins=bins, weights=total_uncs, histtype=\"step\", label=\"Total\", linewidth=2.5, color=\"black\")\n",
    "\n",
    "plt.ylabel(\"Uncertainty [%]\")\n",
    "plt.xlabel(\"Reconstructed $m_{\\mu\\mu}$ [GeV/c$^2$]\")\n",
    "plt.legend(ncol=2)\n",
    "plt.ylim([plt.ylim()[0], plt.ylim()[1]*1.6])\n",
    "\n",
    "if dosave:\n",
    "    plt.savefig(savedir + \"signalbox_syst_neutrino.pdf\", bbox_inches=\"tight\")\n",
    "    plt.savefig(savedir + \"signalbox_syst_neutrino.svg\", bbox_inches=\"tight\")"
   ]
  },
  {
   "cell_type": "code",
   "execution_count": null,
   "id": "bd453933",
   "metadata": {},
   "outputs": [],
   "source": [
    "_ = plt.hist(centers, bins=bins, weights=flux_uncs, histtype=\"step\", label=\"Flux\", linewidth=2)\n",
    "_ = plt.hist(centers, bins=bins, weights=det_uncs, histtype=\"step\", label=\"Detector\", linewidth=2)\n",
    "_ = plt.hist(centers, bins=bins, weights=g4_uncs, histtype=\"step\", label=\"G4\", linewidth=2)\n",
    "_ = plt.hist(centers, bins=bins, weights=xsec_uncs, histtype=\"step\", label=\"Incoh. xsec\", linewidth=2)\n",
    "_ = plt.hist(centers, bins=bins, weights=coh_uncs, histtype=\"step\", label=\"Coh. xsec\", linewidth=2)\n",
    "_ = plt.hist(centers, bins=bins, weights=mcstat_uncs, histtype=\"step\", label=\"M.C. Stat\", linewidth=2)\n",
    "_ = plt.hist(centers, bins=bins, weights=stat_uncs, histtype=\"step\", label=\"Stat.\", linewidth=2.5, color=\"gray\")\n",
    "\n",
    "_ = plt.hist(centers, bins=bins, weights=total_uncs, histtype=\"step\", label=\"Total Syst.\", linewidth=2.5, color=\"black\", linestyle=\"--\")\n",
    "_ = plt.hist(centers, bins=bins, weights=np.sqrt(stat_uncs**2 + total_uncs**2), histtype=\"step\", label=\"Total Stat.\\n+ Syst.\", linewidth=2.5, color=\"black\")\n",
    "\n",
    "plt.ylabel(\"Uncertainty [%]\")\n",
    "plt.xlabel(\"Reconstructed $m_{\\mu\\mu}$ [GeV/c$^2$]\")\n",
    "plt.legend(ncol=2)\n",
    "plt.ylim([plt.ylim()[0], plt.ylim()[1]*1.2])\n",
    "\n",
    "if dosave:\n",
    "    plt.savefig(savedir + \"signalbox_syststat_neutrino.pdf\", bbox_inches=\"tight\")\n",
    "    plt.savefig(savedir + \"signalbox_syststat_neutrino.svg\", bbox_inches=\"tight\")"
   ]
  },
  {
   "cell_type": "code",
   "execution_count": null,
   "id": "a254051d",
   "metadata": {},
   "outputs": [],
   "source": []
  },
  {
   "cell_type": "code",
   "execution_count": null,
   "id": "adb5575c",
   "metadata": {},
   "outputs": [],
   "source": []
  },
  {
   "cell_type": "code",
   "execution_count": null,
   "id": "77f04da4",
   "metadata": {},
   "outputs": [],
   "source": []
  }
 ],
 "metadata": {
  "kernelspec": {
   "display_name": "Python 3 (ipykernel)",
   "language": "python",
   "name": "python3"
  },
  "language_info": {
   "codemirror_mode": {
    "name": "ipython",
    "version": 3
   },
   "file_extension": ".py",
   "mimetype": "text/x-python",
   "name": "python",
   "nbconvert_exporter": "python",
   "pygments_lexer": "ipython3",
   "version": "3.9.2"
  }
 },
 "nbformat": 4,
 "nbformat_minor": 5
}

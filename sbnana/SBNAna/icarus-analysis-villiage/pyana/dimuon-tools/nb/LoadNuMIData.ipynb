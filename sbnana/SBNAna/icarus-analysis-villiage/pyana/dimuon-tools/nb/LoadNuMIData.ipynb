{
 "cells": [
  {
   "cell_type": "code",
   "execution_count": null,
   "id": "c2415aad",
   "metadata": {},
   "outputs": [],
   "source": [
    "import pandas \n",
    "import uproot \n",
    "import matplotlib.pyplot as plt \n",
    "import pandas as pd \n",
    "import numpy as np \n",
    "import matplotlib\n",
    "import urllib.request, json\n",
    "from scipy.optimize import curve_fit\n",
    "\n",
    "from tqdm.notebook import tqdm\n",
    "import time\n",
    "import sys\n",
    "import multiprocessing"
   ]
  },
  {
   "cell_type": "code",
   "execution_count": null,
   "id": "b83f7e9c",
   "metadata": {},
   "outputs": [],
   "source": [
    "RUN1 = True\n",
    "\n",
    "datadir = \"/icarus/data/users/gputnam/DMCP2023G/normdata/\"\n",
    "\n",
    "savedir = datadir + (\"run1_\" if RUN1 else \"run2_\")\n",
    "\n",
    "dosave = False"
   ]
  },
  {
   "cell_type": "code",
   "execution_count": null,
   "id": "69984c80",
   "metadata": {},
   "outputs": [],
   "source": [
    "savedir"
   ]
  },
  {
   "cell_type": "code",
   "execution_count": null,
   "id": "8a462e29",
   "metadata": {},
   "outputs": [],
   "source": [
    "if RUN1:\n",
    "    # Run 1, OnBeam\n",
    "    rootfiles = [\n",
    "        \"norminfo_Run1_Onbeam_majority.root\",\n",
    "        \"norminfo_Run1_Onbeam_minbias.root\"\n",
    "    ]\n",
    "else:\n",
    "    # Run 2, OnBeam\n",
    "    rootfiles = [\n",
    "        \"norminfo_Run2_Onbeam.root\"\n",
    "    ]"
   ]
  },
  {
   "cell_type": "code",
   "execution_count": null,
   "id": "f3bacf02",
   "metadata": {},
   "outputs": [],
   "source": [
    "fs = [uproot.open(datadir + f) for f in rootfiles]\n",
    "dfts = [f[\"icarusnumi\"][\"TriggerInfo\"].arrays(library=\"pd\") for f in fs]"
   ]
  },
  {
   "cell_type": "code",
   "execution_count": null,
   "id": "f1694b3f",
   "metadata": {},
   "outputs": [],
   "source": [
    "dft = pd.concat(dfts, ignore_index=True, sort=False)\n"
   ]
  },
  {
   "cell_type": "code",
   "execution_count": null,
   "id": "e9c8f914",
   "metadata": {},
   "outputs": [],
   "source": [
    "dft[\"prev_trigger_timestamp_s\"] = dft.prev_trigger_timestamp / 1_000_000_000\n",
    "dft[\"trigger_timestamp_s\"] = dft.trigger_timestamp / 1_000_000_000"
   ]
  },
  {
   "cell_type": "code",
   "execution_count": null,
   "id": "5205923b",
   "metadata": {},
   "outputs": [],
   "source": [
    "t0 = dft.trigger_timestamp_s.min()\n",
    "t1 = dft.trigger_timestamp_s.max()"
   ]
  },
  {
   "cell_type": "code",
   "execution_count": null,
   "id": "4ba2302c",
   "metadata": {},
   "outputs": [],
   "source": [
    "# Chunk the request into 1-hour\n",
    "\n",
    "qtimes = np.linspace(t0, t1, int((t1-t0) / (60*60)))\n",
    "print(len(qtimes))"
   ]
  },
  {
   "cell_type": "code",
   "execution_count": null,
   "id": "4456720d",
   "metadata": {},
   "outputs": [],
   "source": [
    "def get_ifbeam_data(device, qtimes, ilo=None, ihi=None):\n",
    "    times = []\n",
    "    dat = []\n",
    "    for i, (tlo, thi) in tqdm(enumerate(zip(qtimes[:-1], qtimes[1:])), total=len(qtimes)-1):\n",
    "        url = \"https://dbdata3vm.fnal.gov:9443/ifbeam/data//data?v=E:%s&e=e,a9&t0=%f&t1=%f&f=json\" % (device, tlo, thi)\n",
    "        \n",
    "        success = False\n",
    "        itry = 0\n",
    "        while not success:\n",
    "            try:\n",
    "                with urllib.request.urlopen(url) as url:\n",
    "                    data = json.load(url)\n",
    "            except:\n",
    "                if itry > 4:\n",
    "                    raise\n",
    "                itry += 1\n",
    "                time.sleep(5)\n",
    "                continue\n",
    "                \n",
    "            success = True\n",
    "\n",
    "        times += [r[\"clock\"]/1e3 for r in data[\"rows\"]]\n",
    "        dat += [[v[\"v\"] for v in r[\"c\"][1:]] for r in data[\"rows\"]]\n",
    "        \n",
    "    if ilo and ihi:\n",
    "        dat = [d[ilo:ihi] for d in dat]\n",
    "            \n",
    "                \n",
    "    return times, np.squeeze(np.array(dat))"
   ]
  },
  {
   "cell_type": "code",
   "execution_count": null,
   "id": "223aff12",
   "metadata": {},
   "outputs": [],
   "source": [
    "# POT\n",
    "pots = get_ifbeam_data(\"TRTGTD\", qtimes)"
   ]
  },
  {
   "cell_type": "code",
   "execution_count": null,
   "id": "1833bc3a",
   "metadata": {},
   "outputs": [],
   "source": [
    "# Data for horn current\n",
    "nslina = get_ifbeam_data(\"NSLINA\", qtimes)\n",
    "nslinb = get_ifbeam_data(\"NSLINB\", qtimes)\n",
    "nslinc = get_ifbeam_data(\"NSLINC\", qtimes)\n",
    "nslind = get_ifbeam_data(\"NSLIND\", qtimes)"
   ]
  },
  {
   "cell_type": "code",
   "execution_count": null,
   "id": "38267ce6",
   "metadata": {},
   "outputs": [],
   "source": [
    "# Data for beam spot\n",
    "hptgt = get_ifbeam_data(\"HPTGT[]\", qtimes)\n",
    "hitgt = get_ifbeam_data(\"HITGT[]\", qtimes)\n",
    "vptgt = get_ifbeam_data(\"VPTGT[]\", qtimes)\n",
    "vitgt = get_ifbeam_data(\"VITGT[]\", qtimes)\n",
    "\n",
    "hp121 = get_ifbeam_data(\"HP121[]\", qtimes)\n",
    "vp121 = get_ifbeam_data(\"VP121[]\", qtimes)"
   ]
  },
  {
   "cell_type": "code",
   "execution_count": null,
   "id": "6f4a03bd",
   "metadata": {},
   "outputs": [],
   "source": []
  },
  {
   "cell_type": "code",
   "execution_count": null,
   "id": "343b4a6e",
   "metadata": {},
   "outputs": [],
   "source": [
    "# Beam width\n",
    "mtgtds = get_ifbeam_data(\"MTGTDS[]\", qtimes, ilo=103, ihi=199)"
   ]
  },
  {
   "cell_type": "code",
   "execution_count": null,
   "id": "40a901df",
   "metadata": {},
   "outputs": [],
   "source": [
    "# merge together nslin DB\n",
    "\n",
    "nslindf = pd.DataFrame(data={\"time\": nslina[0], \"a\": nslina[1]})\n",
    "nslindf = pd.merge_asof(nslindf, pd.DataFrame(data={\"time\": nslinb[0], \"b\": nslinb[1]}), \n",
    "                        on=\"time\", tolerance=0.5, direction=\"nearest\")\n",
    "nslindf = pd.merge_asof(nslindf, pd.DataFrame(data={\"time\": nslinc[0], \"c\": nslinc[1]}), \n",
    "                        on=\"time\", tolerance=0.5, direction=\"nearest\")\n",
    "nslindf = pd.merge_asof(nslindf, pd.DataFrame(data={\"time\": nslind[0], \"d\": nslind[1]}), \n",
    "                        on=\"time\", tolerance=0.5, direction=\"nearest\")"
   ]
  },
  {
   "cell_type": "code",
   "execution_count": null,
   "id": "b16a0abd",
   "metadata": {},
   "outputs": [],
   "source": [
    "# Compute current\n",
    "horncurrent = ( ((nslindf.a - 0.01)/0.9951) + ((nslindf.b - (-0.14))/0.9957) + ((nslindf.c - (-0.05))/0.9965) + ((nslindf.d - (-0.07))/0.9945) )"
   ]
  },
  {
   "cell_type": "code",
   "execution_count": null,
   "id": "7a6db2ab",
   "metadata": {},
   "outputs": [],
   "source": [
    "# bad index\n",
    "# Bad spill in run 2\n",
    "if ~RUN1:\n",
    "    badindex = (np.array(hitgt[0][:-1]) != np.array(hptgt[0])).argmax()\n",
    "    hitgt = np.delete(hitgt[0], badindex, axis=0), np.delete(hitgt[1], badindex, axis=0)\n",
    "    vp121 = np.delete(vp121[0], badindex, axis=0), np.delete(vp121[1], badindex, axis=0)"
   ]
  },
  {
   "cell_type": "code",
   "execution_count": null,
   "id": "f72051da",
   "metadata": {},
   "outputs": [],
   "source": [
    "# Compute beam spot\n",
    "\n",
    "mmPerFoot = 12.*2.54*10.\n",
    "\n",
    "z_hp121 = -68.04458 * mmPerFoot\n",
    "z_vp121 = -66.99283 * mmPerFoot\n",
    "z_hptgt = -31.25508 * mmPerFoot\n",
    "z_vptgt = -30.16533 * mmPerFoot\n",
    "z_targ  = 0.\n",
    "\n",
    "def extrapToLoc(var1, loc1, var2, loc2, loc3):\n",
    "    slope = (var2-var1)/(loc2-loc1)\n",
    "    proj = var1 + ((loc3-loc1)*slope)\n",
    "    return proj;\n",
    "\n",
    "if RUN1:\n",
    "    x_nom121 = 0\n",
    "    x_nomtgt = 0\n",
    "    y_nom121 = -1.5\n",
    "    y_nomtgt = -1.5\n",
    "    x_nomTarg = 0.398\n",
    "    y_nomTarg = -0.39\n",
    "else:\n",
    "    x_nom121 = 1.2\n",
    "    x_nomtgt = 0.7\n",
    "    y_nom121 = -0.4\n",
    "    y_nomtgt = -0.94\n",
    "    x_nomTarg = 0.03\n",
    "    y_nomTarg = -0.59\n",
    "    \n",
    "xCorr = extrapToLoc(x_nom121,z_hp121,x_nomtgt,z_hptgt,z_targ) - x_nomTarg\n",
    "yCorr = extrapToLoc(y_nom121,z_hp121,y_nomtgt,z_hptgt,z_targ) - y_nomTarg\n",
    "\n",
    "ave_hp121 = np.ma.average(hp121[1], axis=-1)\n",
    "ave_vp121 = np.ma.average(vp121[1], axis=-1)\n",
    "\n",
    "ave_hptgt = np.ma.average(hptgt[1], weights=hitgt[1], axis=-1)\n",
    "ave_vptgt = np.ma.average(vptgt[1], weights=vitgt[1], axis=-1)\n",
    "\n",
    "extrap_hptgt = extrapToLoc(ave_hp121, z_hp121, ave_hptgt, z_hptgt, z_targ) - xCorr\n",
    "extrap_vptgt = extrapToLoc(ave_vp121, z_vp121, ave_vptgt, z_vptgt, z_targ) - yCorr"
   ]
  },
  {
   "cell_type": "code",
   "execution_count": null,
   "id": "31b3ce2f",
   "metadata": {},
   "outputs": [],
   "source": [
    "# Compute width\n",
    "def gaus_constant(x, C, A, mu, sigma):\n",
    "    return C + A*np.exp(-(x-mu)**2/(2*sigma**2))\n",
    "\n",
    "xs = (np.array(list(range(48))) - 23.5)/2\n",
    "\n",
    "def do_mtgtds_fit(M):\n",
    "    i0 = 103\n",
    "    h_chan = np.array(M[103-i0:151-i0])\n",
    "    v_chan = np.array(M[151-i0:199-i0])\n",
    "    \n",
    "    try:\n",
    "        popt_h, _ = curve_fit(gaus_constant, xs, -h_chan, p0=[np.mean(-h_chan), np.max(-h_chan), 0, 2], maxfev=10_000)\n",
    "    except:\n",
    "        popt_h = [np.nan]\n",
    "    try:\n",
    "        popt_v, _ = curve_fit(gaus_constant, xs, -v_chan, p0=[np.mean(-v_chan), np.max(-v_chan), 0, 2], maxfev=10_000)\n",
    "    except:\n",
    "        popt_v = [np.nan]\n",
    "        \n",
    "    return [popt_h[-1], popt_v[-1]]\n",
    "\n",
    "def fit_iter(i):\n",
    "    return mtgtds[0][i], do_mtgtds_fit(mtgtds[1][i, :])\n",
    "\n",
    "dats = []\n",
    "with multiprocessing.Pool(20) as pool:\n",
    "    for dat in tqdm(pool.imap_unordered(fit_iter, range(mtgtds[1].shape[0])), total=mtgtds[1].shape[0]):\n",
    "        dats.append(dat)\n",
    "        \n",
    "beamwidths = list(map(np.array, zip(*dats)))stay"
   ]
  },
  {
   "cell_type": "code",
   "execution_count": null,
   "id": "08347c6c",
   "metadata": {},
   "outputs": [],
   "source": [
    "# Load data into dataframes\n",
    "potdf = pd.DataFrame(data={\"time\": pots[0], \"pot\": pots[1]})\n",
    "hcdf = pd.DataFrame(data={\"time\": nslina[0], \"hc_time\": nslina[0], \"horn_current\": horncurrent})\n",
    "posdf = pd.DataFrame(data={\"time\": hptgt[0], \"pos_time\": hptgt[0], \"hp121\": ave_hp121, \"vp121\": ave_vp121, \"hptgt\": ave_hptgt, \"vptgt\": ave_vptgt, \"extrap_hptgt\" : extrap_hptgt, \"extrap_vptgt\": extrap_vptgt})\n",
    "bwdf = pd.DataFrame(data={\"time\": beamwidths[0], \"bw_time\": beamwidths[0], \"beam_width_h\": beamwidths[1][:, 0], \"beam_width_v\": beamwidths[1][:, 1]}).sort_values(\"time\").reset_index(drop=True)"
   ]
  },
  {
   "cell_type": "code",
   "execution_count": null,
   "id": "9e191fc7",
   "metadata": {},
   "outputs": [],
   "source": [
    "# Merge with timing information\n",
    "\n",
    "# POT info is the base\n",
    "beamdf = pd.merge_asof(potdf, hcdf, on=\"time\", tolerance=0.5, direction=\"nearest\")\n",
    "beamdf = pd.merge_asof(beamdf, posdf, on=\"time\", tolerance=0.5, direction=\"nearest\")\n",
    "beamdf = pd.merge_asof(beamdf, bwdf, on=\"time\", tolerance=0.5, direction=\"nearest\")"
   ]
  },
  {
   "cell_type": "code",
   "execution_count": null,
   "id": "07094d62",
   "metadata": {},
   "outputs": [],
   "source": [
    "# Validate beamdf \n",
    "assert(np.abs(beamdf.time - beamdf.hc_time).max() < 0.2)\n",
    "assert(np.abs(beamdf.time - beamdf.pos_time).max() < 0.2)\n",
    "assert(np.abs(beamdf.time - beamdf.bw_time).max() < 0.2)"
   ]
  },
  {
   "cell_type": "code",
   "execution_count": null,
   "id": "75d1b3e9",
   "metadata": {},
   "outputs": [],
   "source": [
    "del beamdf[\"hc_time\"]\n",
    "del beamdf[\"pos_time\"]\n",
    "del beamdf[\"bw_time\"]"
   ]
  },
  {
   "cell_type": "code",
   "execution_count": null,
   "id": "acd9e415",
   "metadata": {},
   "outputs": [],
   "source": [
    "beamdf"
   ]
  },
  {
   "cell_type": "code",
   "execution_count": null,
   "id": "b33e24a5",
   "metadata": {},
   "outputs": [],
   "source": [
    "# Distributions"
   ]
  },
  {
   "cell_type": "code",
   "execution_count": null,
   "id": "ae1b0fe2",
   "metadata": {},
   "outputs": [],
   "source": [
    "_ = plt.hist(beamdf.pot, bins=np.linspace(-1, 70, 101))\n",
    "plt.xlabel(\"POT [$\\\\times 10^{12}$]\")\n",
    "plt.axvline(2, color=\"red\")\n",
    "plt.tight_layout()\n",
    "plt.ylabel(\"Spills\")\n",
    "if dosave: \n",
    "    plt.savefig(savedir + \"spill_pot.pdf\")\n",
    "    plt.savefig(savedir + \"spill_pot.svg\")"
   ]
  },
  {
   "cell_type": "code",
   "execution_count": null,
   "id": "41b6752d",
   "metadata": {},
   "outputs": [],
   "source": [
    "_ = plt.hist(beamdf.horn_current, bins=np.linspace(-203, -195, 101))\n",
    "plt.xlabel(\"Horn Current [mA]\")\n",
    "plt.axvline(-202, color=\"red\")\n",
    "plt.axvline(-196.4, color=\"red\")\n",
    "plt.tight_layout()\n",
    "plt.ylabel(\"Spills\")\n",
    "if dosave: \n",
    "    plt.savefig(savedir + \"spill_horncurrent.pdf\")\n",
    "    plt.savefig(savedir + \"spill_horncurrent.svg\")"
   ]
  },
  {
   "cell_type": "code",
   "execution_count": null,
   "id": "14e66ff2",
   "metadata": {},
   "outputs": [],
   "source": [
    "_ = plt.hist(beamdf.extrap_hptgt, bins=np.linspace(-2, 2, 101))\n",
    "plt.axvline(1, color=\"red\")\n",
    "plt.axvline(-1, color=\"red\")\n",
    "plt.xlabel(\"Beam Position X [mm]\")\n",
    "plt.tight_layout()\n",
    "plt.ylabel(\"Spills\")\n",
    "if dosave: \n",
    "    plt.savefig(savedir + \"spill_beamposx.pdf\")\n",
    "    plt.savefig(savedir + \"spill_beamposx.svg\")"
   ]
  },
  {
   "cell_type": "code",
   "execution_count": null,
   "id": "d38ac01a",
   "metadata": {},
   "outputs": [],
   "source": [
    "_ = plt.hist(beamdf.extrap_vptgt, bins=np.linspace(-2, 2, 101))\n",
    "plt.axvline(1, color=\"red\")\n",
    "plt.axvline(-1, color=\"red\")\n",
    "plt.xlabel(\"Beam Position Y [mm]\")\n",
    "plt.tight_layout()\n",
    "plt.ylabel(\"Spills\")\n",
    "if dosave: \n",
    "    plt.savefig(savedir + \"spill_beamposy.pdf\")\n",
    "    plt.savefig(savedir + \"spill_beamposy.svg\")"
   ]
  },
  {
   "cell_type": "code",
   "execution_count": null,
   "id": "52606d0e",
   "metadata": {},
   "outputs": [],
   "source": [
    "_ = plt.hist(beamdf.beam_width_h, bins=np.linspace(0.5, 4, 101))\n",
    "plt.axvline(0.57, color=\"red\")\n",
    "plt.axvline(1.88, color=\"red\")\n",
    "plt.xlabel(\"Horizontal Beam Width [mm]\")\n",
    "plt.tight_layout()\n",
    "plt.ylabel(\"Spills\")\n",
    "if dosave: \n",
    "    plt.savefig(savedir + \"spill_beamwidthh.pdf\")\n",
    "    plt.savefig(savedir + \"spill_beamwidthh.svg\")"
   ]
  },
  {
   "cell_type": "code",
   "execution_count": null,
   "id": "715e50c9",
   "metadata": {},
   "outputs": [],
   "source": [
    "_ = plt.hist(beamdf.beam_width_v, bins=np.linspace(0.5, 4, 101))\n",
    "plt.axvline(0.57, color=\"red\")\n",
    "plt.axvline(1.88, color=\"red\")\n",
    "plt.xlabel(\"Vertical Beam Width [mm]\")\n",
    "plt.tight_layout()\n",
    "plt.ylabel(\"Spills\")\n",
    "if dosave: \n",
    "    plt.savefig(savedir + \"spill_beamwidthv.pdf\")\n",
    "    plt.savefig(savedir + \"spill_beamwidthv.svg\")"
   ]
  },
  {
   "cell_type": "code",
   "execution_count": null,
   "id": "c1d88ee7",
   "metadata": {},
   "outputs": [],
   "source": [
    "if dosave:\n",
    "    beamdf.to_hdf(savedir + \"beam.df\", key=\"beam\")"
   ]
  },
  {
   "cell_type": "code",
   "execution_count": null,
   "id": "3bd652d2",
   "metadata": {},
   "outputs": [],
   "source": []
  }
 ],
 "metadata": {
  "kernelspec": {
   "display_name": "Python 3 (ipykernel)",
   "language": "python",
   "name": "python3"
  },
  "language_info": {
   "codemirror_mode": {
    "name": "ipython",
    "version": 3
   },
   "file_extension": ".py",
   "mimetype": "text/x-python",
   "name": "python",
   "nbconvert_exporter": "python",
   "pygments_lexer": "ipython3",
   "version": "3.9.2"
  }
 },
 "nbformat": 4,
 "nbformat_minor": 5
}

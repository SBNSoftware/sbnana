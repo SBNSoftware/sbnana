{
 "cells": [
  {
   "cell_type": "code",
   "execution_count": null,
   "id": "9731fd5a",
   "metadata": {},
   "outputs": [],
   "source": [
    "1+1"
   ]
  },
  {
   "cell_type": "code",
   "execution_count": null,
   "id": "791d78b4",
   "metadata": {},
   "outputs": [],
   "source": [
    "import uproot\n",
    "import matplotlib.pyplot as plt \n",
    "import pandas as pd \n",
    "import numpy as np \n",
    "import matplotlib as mpl\n",
    "\n",
    "from util import *\n",
    "import var\n",
    "import cut\n",
    "import data\n",
    "import hist\n",
    "\n",
    "import importlib\n",
    "\n",
    "from pyanalib import panda_helpers"
   ]
  },
  {
   "cell_type": "code",
   "execution_count": null,
   "id": "3db11672",
   "metadata": {},
   "outputs": [],
   "source": [
    "importlib.reload(var)\n",
    "importlib.reload(cut)\n",
    "importlib.reload(data)\n",
    "importlib.reload(hist)\n",
    "importlib.reload(panda_helpers)"
   ]
  },
  {
   "cell_type": "code",
   "execution_count": null,
   "id": "b8f90482",
   "metadata": {},
   "outputs": [],
   "source": [
    "plt.rcParams.update({'font.size': 16})\n",
    "mpl.rcParams['lines.linewidth'] = 4.\n",
    "\n",
    "dosave = False\n",
    "savedir = \"plots_9_19_23/reprodD_\"\n",
    "\n",
    "savedata = False\n",
    "datadir = \"/icarus/data/users/gputnam/dimuon-data/\"\n",
    "\n",
    "Masses = [220, 240, 260, 280] #300, 330]"
   ]
  },
  {
   "cell_type": "code",
   "execution_count": null,
   "id": "5ea9f0a6",
   "metadata": {},
   "outputs": [],
   "source": [
    "# fnu = \"/icarus/data/users/gputnam/dimuon-data/mcnu_phase2_evt_new.df\"\n",
    "# fnu = \"/icarus/data/users/gputnam/dimuon-data/nu-template-B/evt.df\"\n",
    "# fnu = \"/icarus/data/users/gputnam/DMCP2023G/mc/mcnuphase2_evt_reprodD.df\"\n",
    "# fnu = \"/icarus/data/users/gputnam/DMCP2023G/mc/mcnuphase2_evt_reprodD.df\"\n",
    "fnu = \"/icarus/data/users/gputnam/DMCP2023G/mc/dfs-wstubs/mcnuphase2_evt_reprodD.df\""
   ]
  },
  {
   "cell_type": "code",
   "execution_count": null,
   "id": "de39554e",
   "metadata": {},
   "outputs": [],
   "source": [
    "nu_evtdf = pd.read_hdf(fnu, key=\"evt\")"
   ]
  },
  {
   "cell_type": "code",
   "execution_count": null,
   "id": "8fe250d9",
   "metadata": {},
   "outputs": [],
   "source": [
    "nu_evtdf"
   ]
  },
  {
   "cell_type": "code",
   "execution_count": null,
   "id": "2dcd7cd9",
   "metadata": {},
   "outputs": [],
   "source": [
    "nu_mcdf = pd.read_hdf(fnu, key=\"mcnu\")"
   ]
  },
  {
   "cell_type": "code",
   "execution_count": null,
   "id": "a6c66e1d",
   "metadata": {},
   "outputs": [],
   "source": [
    "del nu_mcdf.wgt"
   ]
  },
  {
   "cell_type": "code",
   "execution_count": null,
   "id": "fb2ae64c",
   "metadata": {},
   "outputs": [],
   "source": [
    "nu_mcdf[\"idx\"] = nu_mcdf.groupby(level=[0,1]).cumcount()"
   ]
  },
  {
   "cell_type": "code",
   "execution_count": null,
   "id": "cc4ea331",
   "metadata": {},
   "outputs": [],
   "source": [
    "nu_mcdf.set_index([\"idx\"], append=True, inplace=True)"
   ]
  },
  {
   "cell_type": "code",
   "execution_count": null,
   "id": "049e8c78",
   "metadata": {},
   "outputs": [],
   "source": [
    "nu_mcdf"
   ]
  },
  {
   "cell_type": "code",
   "execution_count": null,
   "id": "bf695dcc",
   "metadata": {},
   "outputs": [],
   "source": [
    "nu_hdr = pd.read_hdf(fnu, key=\"hdr\")"
   ]
  },
  {
   "cell_type": "code",
   "execution_count": null,
   "id": "9f5ebb00",
   "metadata": {},
   "outputs": [],
   "source": [
    "nu_hdr"
   ]
  },
  {
   "cell_type": "code",
   "execution_count": null,
   "id": "b434cd13",
   "metadata": {},
   "outputs": [],
   "source": [
    "fhs = [\"/icarus/data/users/gputnam/dimuon-data/higgs-gen-A/higgs_M%i_DMCP2023G_evt_new.df\" % M for M in Masses]\n",
    "\n",
    "fhs = [\"/icarus/data/users/gputnam/dimuon-data/higgs-gen-D/higgs_M%i_DMC2023G_evt.df\" % M for M in Masses]\n"
   ]
  },
  {
   "cell_type": "code",
   "execution_count": null,
   "id": "902506fe",
   "metadata": {},
   "outputs": [],
   "source": [
    "h_evtdfs = [pd.read_hdf(fh, key=\"evt\") for fh in fhs]"
   ]
  },
  {
   "cell_type": "code",
   "execution_count": null,
   "id": "98e2594e",
   "metadata": {},
   "outputs": [],
   "source": [
    "h_mcdfs = [pd.read_hdf(fh, key=\"mcnu\") for fh in fhs]"
   ]
  },
  {
   "cell_type": "code",
   "execution_count": null,
   "id": "c959d343",
   "metadata": {},
   "outputs": [],
   "source": [
    "nlevel = 3\n",
    "def pad(c):\n",
    "    return tuple(list(c) + [\"\"]*(nlevel - len(c)))\n",
    "\n",
    "for i in range(len(h_mcdfs)):\n",
    "    h_mcdfs[i].columns = pd.MultiIndex.from_tuples([pad(c) for c in h_mcdfs[i].columns])"
   ]
  },
  {
   "cell_type": "code",
   "execution_count": null,
   "id": "61c65382",
   "metadata": {},
   "outputs": [],
   "source": [
    "h_mchdfs = [pd.read_hdf(fh, key=\"mch\") for fh in fhs]"
   ]
  },
  {
   "cell_type": "code",
   "execution_count": null,
   "id": "51ed27c9",
   "metadata": {},
   "outputs": [],
   "source": [
    "h_hdrs = [pd.read_hdf(fh, key=\"hdr\") for fh in fhs]"
   ]
  },
  {
   "cell_type": "code",
   "execution_count": null,
   "id": "ad01823d",
   "metadata": {},
   "outputs": [],
   "source": [
    "for i in range(len(h_mchdfs)):\n",
    "    h_mchdfs[i].index = h_mchdfs[i].index.droplevel(-1)"
   ]
  },
  {
   "cell_type": "code",
   "execution_count": null,
   "id": "bad4b32d",
   "metadata": {},
   "outputs": [],
   "source": [
    "thetas = [h_mchdf.C1.iloc[0] for h_mchdf in h_mchdfs]\n",
    "thetas"
   ]
  },
  {
   "cell_type": "code",
   "execution_count": null,
   "id": "c96c55f0",
   "metadata": {},
   "outputs": [],
   "source": [
    "from math import floor, log10\n",
    "\n",
    "def fexp(f):\n",
    "    return int(floor(log10(abs(f)))) if f != 0 else 0\n",
    "\n",
    "def fman(f):\n",
    "    return f/10**fexp(f)\n",
    "\n",
    "theta_exps = [fexp(t) for t in thetas]\n",
    "theta_mans = [fman(t) for t in thetas]\n",
    "\n",
    "theta_strs = [\"%.0f$\\\\times 10^{%i}$\" % (m, e) for m,e in zip(theta_mans, theta_exps)]\n",
    "theta_strs"
   ]
  },
  {
   "cell_type": "code",
   "execution_count": null,
   "id": "9be6acaa",
   "metadata": {},
   "outputs": [],
   "source": [
    "# MeVPrtl truth information\n",
    "\n",
    "# Simulation parameters\n",
    "for i in range(len(h_mchdfs)):\n",
    "    p_M = h_mchdfs[i].M\n",
    "    p_M.name = \"p_M\"\n",
    "\n",
    "    p_th = h_mchdfs[i].C1\n",
    "    p_th.name = \"p_th\"\n",
    "\n",
    "    p_dist = dmagdf(h_mchdfs[i].start, h_mchdfs[i].enter)\n",
    "    p_dist.name = \"p_dist\"\n",
    "\n",
    "    p_raydist = dmagdf(h_mchdfs[i].enter, h_mchdfs[i].exit)\n",
    "    p_raydist.name = \"p_raydist\"\n",
    "\n",
    "    p_decaylength = h_mchdfs[i].decay_length\n",
    "    p_decaylength.name = \"p_decaylength\"\n",
    "\n",
    "    h_evtdfs[i][p_M.name] = p_M\n",
    "    h_evtdfs[i][p_th.name] = p_th\n",
    "    h_evtdfs[i][p_raydist.name] = p_raydist\n",
    "    h_evtdfs[i][p_dist.name] = p_dist\n",
    "    h_evtdfs[i][p_decaylength.name] = p_decaylength\n",
    "    \n",
    "    h_mcdfs[i][p_M.name] = p_M\n",
    "    h_mcdfs[i][p_th.name] = p_th\n",
    "    h_mcdfs[i][p_raydist.name] = p_raydist\n",
    "    h_mcdfs[i][p_dist.name] = p_dist\n",
    "    h_mcdfs[i][p_decaylength.name] = p_decaylength\n",
    "\n",
    "\n",
    "nu_evtdf[p_M.name] = np.nan\n",
    "nu_evtdf[p_th.name] = np.nan\n",
    "nu_evtdf[p_dist.name] = np.nan\n",
    "nu_evtdf[p_raydist.name] = np.nan\n",
    "nu_evtdf[p_dist.name] = p_raydist\n",
    "nu_evtdf[p_decaylength.name] = np.nan\n",
    "\n",
    "nu_mcdf[p_M.name] = np.nan\n",
    "nu_mcdf[p_th.name] = np.nan\n",
    "nu_mcdf[p_dist.name] = np.nan\n",
    "nu_mcdf[p_raydist.name] = np.nan\n",
    "nu_mcdf[p_dist.name] = p_raydist\n",
    "nu_mcdf[p_decaylength.name] = np.nan"
   ]
  },
  {
   "cell_type": "code",
   "execution_count": null,
   "id": "11f1b8e0",
   "metadata": {},
   "outputs": [],
   "source": [
    "def sample_concat(dfA, dfB, offset=1_000_000):\n",
    "    dfB = dfB.copy()\n",
    "    # dfB.index = dfB.index.set_levels(dfB.index.levels[0] + dfA.index.max()[0] + 1, level=0)\n",
    "    dfB.index = dfB.index.set_levels(dfB.index.levels[0] + offset, level=0)\n",
    "    return dfA.append(dfB)"
   ]
  },
  {
   "cell_type": "code",
   "execution_count": null,
   "id": "661ffd15",
   "metadata": {},
   "outputs": [],
   "source": [
    "nu_pot = np.sum(nu_hdr.pot * nu_hdr.first_in_subrun)\n",
    "h_pots = [np.sum(h_hdr.pot * h_hdr.first_in_subrun) for h_hdr in h_hdrs]"
   ]
  },
  {
   "cell_type": "code",
   "execution_count": null,
   "id": "66cd2086",
   "metadata": {},
   "outputs": [],
   "source": [
    "nu_evt_per_spill = np.sum(nu_hdr.ngenevt*nu_hdr.first_in_subrun) / (np.sum(nu_hdr.pot*nu_hdr.first_in_subrun) / 6e13)\n",
    "# ic_pot = np.sum(ic_hdr.ngenevt * ic_hdr.first_in_subrun * 6e13) / (1 - nu_evt_per_spill)"
   ]
  },
  {
   "cell_type": "code",
   "execution_count": null,
   "id": "5d3143ef",
   "metadata": {},
   "outputs": [],
   "source": [
    "GOAL_POT = 2e20 \n",
    "nu_evtdf[\"scale\"] = GOAL_POT / nu_pot\n",
    "# ic_evtdf[\"scale\"] = GOAL_POT / ic_pot\n",
    "nu_mcdf[\"scale\"] = GOAL_POT / nu_pot\n",
    "\n",
    "for i in range(len(h_mchdfs)):\n",
    "    h_evtdfs[i][\"scale\"] = GOAL_POT / h_pots[i]\n",
    "    h_mcdfs[i][\"scale\"] = GOAL_POT / h_pots[i]\n",
    "\n",
    "POTSTR = \"2e20 POT\""
   ]
  },
  {
   "cell_type": "code",
   "execution_count": null,
   "id": "943004f4",
   "metadata": {},
   "outputs": [],
   "source": [
    "for i in range(len(h_mchdfs)):\n",
    "    h_evtdfs[i][\"higgs\"] = True\n",
    "    \n",
    "nu_evtdf[\"higgs\"] = False\n",
    "# ic_evtdf[\"higgs\"] = False"
   ]
  },
  {
   "cell_type": "code",
   "execution_count": null,
   "id": "2d59e33e",
   "metadata": {},
   "outputs": [],
   "source": [
    "def decay_weight(in_dist, out_dist, mean_dist):\n",
    "    return np.exp(-in_dist / mean_dist) - \\\n",
    "          np.exp(-out_dist / mean_dist)\n",
    "    \n",
    "def flux_weight(mixing):\n",
    "    return mixing * mixing\n",
    "\n",
    "def reweight_mixing(newmixing, start, enter, exit, mean_dist, oldmixing=1e-5):\n",
    "    dist_in = dist(enter, start)\n",
    "    dist_out = dist(exit, start)\n",
    "    \n",
    "    old_dcy = decay_weight(dist_in, dist_out, mean_dist)\n",
    "    new_dcy = decay_weight(dist_in, dist_out, mean_dist / (newmixing**2 / oldmixing**2))\n",
    "    \n",
    "    old_flux = flux_weight(oldmixing)\n",
    "    new_flux = flux_weight(newmixing)\n",
    "    \n",
    "    return (new_flux / old_flux) * (new_dcy / old_dcy)"
   ]
  },
  {
   "cell_type": "code",
   "execution_count": null,
   "id": "6790dd89",
   "metadata": {},
   "outputs": [],
   "source": [
    "h_evtdf = h_evtdfs[0].copy()\n",
    "for i in range(1, len(h_evtdfs)):\n",
    "    h_evtdf = sample_concat(h_evtdf, h_evtdfs[i], offset=1_000_000*i)"
   ]
  },
  {
   "cell_type": "code",
   "execution_count": null,
   "id": "f7eb9da3",
   "metadata": {},
   "outputs": [],
   "source": [
    "h_mcdf = h_mcdfs[0].copy()\n",
    "for i in range(1, len(h_evtdfs)):\n",
    "    h_mcdf = sample_concat(h_mcdf, h_mcdfs[i], offset=1_000_000*i)"
   ]
  },
  {
   "cell_type": "code",
   "execution_count": null,
   "id": "690a107f",
   "metadata": {},
   "outputs": [],
   "source": [
    "evtdf = sample_concat(h_evtdf, nu_evtdf, offset=1_000_000*len(h_evtdfs))"
   ]
  },
  {
   "cell_type": "code",
   "execution_count": null,
   "id": "e61cae34",
   "metadata": {},
   "outputs": [],
   "source": [
    "is_higgs = evtdf.higgs & (evtdf.slc.truth.npi == 0) & (evtdf.slc.truth.npi0 == 0)\n",
    "is_higgs.name = \"Scalar\"\n",
    "\n",
    "is_higgs_minM = is_higgs & (evtdf.p_M == Masses[0]/1e3)\n",
    "is_higgs_minM.name = \"Scalar\"\n",
    "\n",
    "is_nu = (evtdf.slc.tmatch.idx >= 0) & ~evtdf.higgs\n",
    "is_nu.name = \"$\\\\nu$\"\n",
    "is_cosmic = (evtdf.slc.tmatch.idx < 0) & ~evtdf.higgs\n",
    "is_cosmic.name = \"Cosmic\""
   ]
  },
  {
   "cell_type": "code",
   "execution_count": null,
   "id": "80284ee2",
   "metadata": {},
   "outputs": [],
   "source": [
    "categories = [is_higgs, is_nu, is_cosmic]"
   ]
  },
  {
   "cell_type": "code",
   "execution_count": null,
   "id": "2e9abd1f",
   "metadata": {},
   "outputs": [],
   "source": [
    "nucategories = [\n",
    "    (np.abs(evtdf.slc.truth.pdg) == 14) & (evtdf.slc.truth.iscc==1) & ((evtdf.slc.truth.genie_mode == 0) | (evtdf.slc.truth.genie_mode == 10)), # CC QE+MEC\n",
    "    (np.abs(evtdf.slc.truth.pdg) == 14) & (evtdf.slc.truth.iscc==1) & (evtdf.slc.truth.genie_mode == 1), # CC RES\n",
    "    (np.abs(evtdf.slc.truth.pdg) == 14) & (evtdf.slc.truth.iscc==1) & (evtdf.slc.truth.genie_mode == 2), # CC DIS\n",
    "    (np.abs(evtdf.slc.truth.pdg) == 14) & (evtdf.slc.truth.iscc==1) & (evtdf.slc.truth.genie_mode == 3), # CC COH\n",
    "    (evtdf.slc.truth.iscc == 0)# NC\n",
    "]\n",
    "\n",
    "nucategories = [nu & ~evtdf.higgs for nu in nucategories]\n",
    "\n",
    "nucategories[0].name = \"$\\\\nu_\\\\mu$ CC QE+MEC\"\n",
    "nucategories[1].name = \"$\\\\nu_\\\\mu$ CC RES\"\n",
    "nucategories[2].name = \"$\\\\nu_\\\\mu$ CC DIS\"\n",
    "nucategories[3].name = \"$\\\\nu_\\\\mu$ CC COH\"\n",
    "nucategories[4].name = \"$\\\\nu$ NC\""
   ]
  },
  {
   "cell_type": "code",
   "execution_count": null,
   "id": "d8fc05f9",
   "metadata": {},
   "outputs": [],
   "source": [
    "LAr_density_gmL = 1.389875\n",
    "\n",
    "# RECOMBINATION\n",
    "\n",
    "# ArgoNeuT params\n",
    "MODA = 0.930\n",
    "MODB = 0.212\n",
    "Wion = 1e3 / 4.237e7\n",
    "\n",
    "Vps = 75058\n",
    "Enom = (375./385)*Vps*1e-3 /148.25\n",
    "Eshort = (368.6/378.6)*Vps*1e-3 /148.25\n",
    "Efield = Enom\n",
    "\n",
    "def recombination(dEdx, A=MODA, B=MODB, E=Efield):\n",
    "    alpha = A\n",
    "    beta = B / (LAr_density_gmL * E)\n",
    "\n",
    "    dQdx = np.log(alpha + dEdx*beta) / (Wion * beta)\n",
    "    return dQdx\n",
    "\n",
    "# recombination correction factor, MC\n",
    "Rfactor = 1/(recombination(1.6, A=0.93, B=0.212, E=0.494)*Wion)\n",
    "Gain = 1/0.01265\n",
    "Rfactor"
   ]
  },
  {
   "cell_type": "code",
   "execution_count": null,
   "id": "91a9c717",
   "metadata": {},
   "outputs": [],
   "source": [
    "beam2det = np.array([ [0.921035925, 0.022715103, 0.388814672], [0, 0.998297825, -0.058321970], [-0.389477631, 0.053716629, 0.919468161]])\n",
    "\n",
    "beamorigin = np.array([4.503730e2, 80.153901e2, 795.112945e2])\n",
    "\n",
    "MUON_MASS = 0.1057 \n",
    "PION_MASS = 0.13457\n",
    "\n",
    "BEAMDIR = beam2det.dot(beamorigin) / np.linalg.norm(beam2det.dot(beamorigin)) \n",
    "BEAMDIR"
   ]
  },
  {
   "cell_type": "code",
   "execution_count": null,
   "id": "d7685ffa",
   "metadata": {},
   "outputs": [],
   "source": [
    "def recop(trk):\n",
    "    p = trk.rangeP.p_muon\n",
    "    p[~TrkInFV(trk.end)] = trk.mcsP.fwdP_muon\n",
    "    return p\n",
    "\n",
    "def is_muon(trk):\n",
    "    return (TrkInFV(trk.end) & (trk.chi2pid.I2.chi2_muon < 40) & (trk.chi2pid.I2.chi2_proton > 80)) | (~TrkInFV(trk.end) & (trk.len > 100.))\n",
    "\n",
    "def is_proton(trk):\n",
    "    return TrkInFV(trk.end) & (trk.chi2pid.I2.chi2_muon > 40) & (trk.chi2pid.I2.chi2_proton < 60)"
   ]
  },
  {
   "cell_type": "code",
   "execution_count": null,
   "id": "f4a39603",
   "metadata": {},
   "outputs": [],
   "source": [
    "scalar_mom = evtdf.trunk.trk.dir.multiply(recop(evtdf.trunk.trk), axis=0) + \\\n",
    "           evtdf.branch.trk.dir.multiply(recop(evtdf.branch.trk), axis=0)\n",
    "    \n",
    "scalar_dir = scalar_mom.divide(magdf(scalar_mom), axis=0)\n",
    "\n",
    "beamangle = np.arccos(scalar_dir.x*BEAMDIR[0] + scalar_dir.y*BEAMDIR[1] + scalar_dir.z*BEAMDIR[2])\n",
    "\n",
    "trunk_beamcos = evtdf.trunk.trk.dir.x*BEAMDIR[0] + evtdf.trunk.trk.dir.y*BEAMDIR[1] + evtdf.trunk.trk.dir.z*BEAMDIR[2]\n",
    "trunk_E = np.sqrt(recop(evtdf.trunk.trk)**2 + MUON_MASS**2)\n",
    "branch_beamcos = evtdf.branch.trk.dir.x*BEAMDIR[0] + evtdf.branch.trk.dir.y*BEAMDIR[1] + evtdf.branch.trk.dir.z*BEAMDIR[2]\n",
    "branch_E = np.sqrt(recop(evtdf.branch.trk)**2 + PION_MASS**2)\n",
    "\n",
    "\n",
    "coh_t = (np.sin(beamangle)*magdf(scalar_mom))**2 + (trunk_E - recop(evtdf.trunk.trk)*trunk_beamcos + branch_E - recop(evtdf.branch.trk)*branch_beamcos)**2"
   ]
  },
  {
   "cell_type": "code",
   "execution_count": null,
   "id": "d21516d5",
   "metadata": {},
   "outputs": [],
   "source": [
    "\n",
    "Etrunk = np.sqrt(MUON_MASS**2 + recop(evtdf.trunk.trk)**2)\n",
    "Ebranch = np.sqrt(MUON_MASS**2 + recop(evtdf.branch.trk)**2)\n",
    "\n",
    "s_mass = np.sqrt(2)*np.sqrt(MUON_MASS**2 + Etrunk*Ebranch - recop(evtdf.trunk.trk)*recop(evtdf.branch.trk)*dotdf(evtdf.branch.trk.dir, evtdf.trunk.trk.dir))"
   ]
  },
  {
   "cell_type": "code",
   "execution_count": null,
   "id": "f8580937",
   "metadata": {},
   "outputs": [],
   "source": [
    "trunk_mcs_range = np.abs(1 - evtdf.trunk.trk.mcsP.fwdP_muon / evtdf.trunk.trk.rangeP.p_muon)\n",
    "branch_mcs_range = np.abs(1 - evtdf.branch.trk.mcsP.fwdP_muon / evtdf.branch.trk.rangeP.p_muon)"
   ]
  },
  {
   "cell_type": "code",
   "execution_count": null,
   "id": "f9261631",
   "metadata": {},
   "outputs": [],
   "source": [
    "# OPTIMIZED\n",
    "MAX_SHW_LEN_CUT = 15\n",
    "MAX_OTHR_TRK_LEN_CUT = 20\n",
    "OTHR_CHI2P_CUT = 80\n",
    "OTHR_CHI2U_CUT = 40\n",
    "\n",
    "LEN_CUT = 25\n",
    "TRK_SCORE_CUT = 0.1\n",
    "CHI2U_CUT = 10\n",
    "CHI2P_CUT = 80\n",
    "MED_DQDX_CUT = 0\n",
    "MCS_RANGE_COMP = 0.5\n",
    "\n",
    "STUB_5mm_CUT = 5e5 / 1e3\n",
    "STUB_10mm_CUT = 3e5 / 1e3\n",
    "STUB_20mm_CUT = 2.5e5 / 1e3\n",
    "STUB_30mm_CUT = 2e5 / 1e3\n",
    "\n",
    "OPENANGLE_CUT = 0.8\n",
    "UU_ANGLE_CUT = 0.125"
   ]
  },
  {
   "cell_type": "code",
   "execution_count": null,
   "id": "1d9a04d8",
   "metadata": {},
   "outputs": [],
   "source": [
    "# # LOOSE\n",
    "# MAX_SHW_LEN_CUT = 15\n",
    "# OTHR_CHI2P_CUT = 80\n",
    "# OTHR_CHI2U_CUT = 40\n",
    "\n",
    "# LEN_CUT = 25\n",
    "# TRK_SCORE_CUT = 0\n",
    "# CHI2U_CUT = 20\n",
    "# CHI2P_CUT = 80\n",
    "# MED_DQDX_CUT = 0\n",
    "\n",
    "# STUB_5mm_CUT = 5e5 / 1e3\n",
    "# STUB_10mm_CUT = 3e5 / 1e3\n",
    "# STUB_20mm_CUT = 2.5e5 / 1e3\n",
    "# STUB_30mm_CUT = 2e5 / 1e3\n",
    "\n",
    "# OPENANGLE_CUT = 0.6\n",
    "# UU_ANGLE_CUT = 0.15"
   ]
  },
  {
   "cell_type": "code",
   "execution_count": null,
   "id": "42558e54",
   "metadata": {},
   "outputs": [],
   "source": [
    "preselect = SlcInFV(evtdf.slc.vertex) & TrkInFV(evtdf.trunk.trk.end) & TrkInFV(evtdf.branch.trk.end)"
   ]
  },
  {
   "cell_type": "code",
   "execution_count": null,
   "id": "a9747d18",
   "metadata": {},
   "outputs": [],
   "source": [
    "var = evtdf.max_othr_trk_len\n",
    "when = preselect\n",
    "bins = np.linspace(0, 20, 41)\n",
    "i_fig = 0\n",
    "\n",
    "for M in Masses:\n",
    "    plt.figure(i_fig)\n",
    "    i_fig += 1\n",
    "\n",
    "    this_categories = [is_higgs, is_nu, is_cosmic]\n",
    "    this_categories[0] = is_higgs & (evtdf.p_M == M/1e3)\n",
    "    this_categories[0].name = \"Scalar\"\n",
    "    for c in this_categories:\n",
    "        _ = plt.hist(var[when & c], weights=evtdf.scale[when & c], bins=bins, label=c.name, \n",
    "                     histtype=\"step\", linewidth=2, density=True)\n",
    "    plt.legend()\n",
    "#     plt.axvline([cutvals[i_cut]], linestyle=\":\", color=\"r\", linewidth=2)\n",
    "\n",
    "    plt.tight_layout()\n",
    "#     plt.xlabel(cutnames[i_cut])\n",
    "    plt.title(\"ICARUS MC, $M_S = %i$ MeV\"% M)\n",
    "    plt.ylabel(\"Area Normalized\")\n",
    "\n",
    "#     plt.text(0.4, 0.05, label, transform=plt.gca().transAxes, fontsize=18)\n",
    "\n",
    "    plt.tight_layout()\n",
    "    if dosave: \n",
    "        plt.savefig(savedir + \"%s_M%i.pdf\" % (cutsnames[i_cut], M))\n",
    "        plt.savefig(savedir + \"%s_M%i.svg\" % (cutsnames[i_cut], M))"
   ]
  },
  {
   "cell_type": "code",
   "execution_count": null,
   "id": "d0f76c18",
   "metadata": {},
   "outputs": [],
   "source": [
    "var = evtdf.max_othr_trk_len_primary\n",
    "when = preselect\n",
    "bins = np.linspace(0, 20, 41)\n",
    "i_fig = 0\n",
    "\n",
    "\n",
    "for M in Masses:\n",
    "    plt.figure(i_fig)\n",
    "    i_fig += 1\n",
    "\n",
    "    this_categories = [is_higgs, is_nu, is_cosmic]\n",
    "    this_categories[0] = is_higgs & (evtdf.p_M == M/1e3)\n",
    "    this_categories[0].name = \"Scalar\"\n",
    "    for c in this_categories:\n",
    "        _ = plt.hist(var[when & c], weights=evtdf.scale[when & c], bins=bins, label=c.name, \n",
    "                     histtype=\"step\", linewidth=2, density=True)\n",
    "    plt.legend()\n",
    "#     plt.axvline([cutvals[i_cut]], linestyle=\":\", color=\"r\", linewidth=2)\n",
    "\n",
    "    plt.tight_layout()\n",
    "#     plt.xlabel(cutnames[i_cut])\n",
    "    plt.title(\"ICARUS MC, $M_S = %i$ MeV\"% M)\n",
    "    plt.ylabel(\"Area Normalized\")\n",
    "\n",
    "#     plt.text(0.4, 0.05, label, transform=plt.gca().transAxes, fontsize=18)\n",
    "\n",
    "    plt.tight_layout()\n",
    "    if dosave: \n",
    "        plt.savefig(savedir + \"%s_M%i.pdf\" % (cutsnames[i_cut], M))\n",
    "        plt.savefig(savedir + \"%s_M%i.svg\" % (cutsnames[i_cut], M))"
   ]
  },
  {
   "cell_type": "code",
   "execution_count": null,
   "id": "23a8fa80",
   "metadata": {},
   "outputs": [],
   "source": [
    "evtdf[[\"min_othr_chi2_proton\", \"min_othr_chi2_proton_all\"]]"
   ]
  },
  {
   "cell_type": "code",
   "execution_count": null,
   "id": "2289db64",
   "metadata": {},
   "outputs": [],
   "source": [
    "cutvars = [\n",
    "    evtdf.max_shw_len_primary,\n",
    "    evtdf.max_othr_trk_len,\n",
    "    evtdf.max_othr_chi2_muon,\n",
    "    evtdf.min_othr_chi2_proton_all,\n",
    "    evtdf.trunk.trk.len,\n",
    "    evtdf.branch.trk.len,\n",
    "    evtdf.trunk.trackScore,\n",
    "    evtdf.branch.trackScore,\n",
    "    evtdf.trunk.trk.chi2pid.I2.chi2_muon,\n",
    "    evtdf.trunk.trk.chi2pid.I2.chi2_proton,\n",
    "    evtdf.branch.trk.chi2pid.I2.chi2_muon,\n",
    "    evtdf.branch.trk.chi2pid.I2.chi2_proton,\n",
    "    trunk_mcs_range,\n",
    "    branch_mcs_range,\n",
    "    evtdf.stub.l0_5cm.dqdx/1e3,\n",
    "    evtdf.stub.l1cm.dqdx/1e3,\n",
    "    evtdf.stub.l2cm.dqdx/1e3,\n",
    "    evtdf.stub.l3cm.dqdx/1e3,\n",
    "    np.arccos(dotdf(evtdf.trunk.trk.dir, evtdf.branch.trk.dir)),\n",
    "    beamangle,    \n",
    "]\n",
    "\n",
    "evtdf[\"Truthy\"] = True\n",
    "\n",
    "wherecut = [\n",
    "    ~np.isnan(evtdf.max_shw_len),\n",
    "    ~np.isnan(evtdf.max_othr_trk_len),\n",
    "    ~np.isnan(evtdf.max_othr_chi2_muon),\n",
    "    ~np.isnan(evtdf.min_othr_chi2_proton_all),\n",
    "    evtdf.Truthy,\n",
    "    evtdf.Truthy,\n",
    "    evtdf.Truthy,\n",
    "    evtdf.Truthy,\n",
    "    evtdf.Truthy,\n",
    "    evtdf.Truthy,\n",
    "    evtdf.Truthy,\n",
    "    evtdf.Truthy,\n",
    "    evtdf.Truthy,\n",
    "    evtdf.Truthy,\n",
    "    ~np.isnan(evtdf.stub.l0_5cm.dqdx),\n",
    "    ~np.isnan(evtdf.stub.l1cm.dqdx),\n",
    "    ~np.isnan(evtdf.stub.l2cm.dqdx),\n",
    "    ~np.isnan(evtdf.stub.l3cm.dqdx),\n",
    "    evtdf.Truthy,\n",
    "    evtdf.Truthy,\n",
    "]\n",
    "\n",
    "cut_hi = [\n",
    "    True,\n",
    "    True,\n",
    "    True,\n",
    "    False,\n",
    "    False,\n",
    "    False,\n",
    "    False,\n",
    "    False,\n",
    "    True,\n",
    "    False,\n",
    "    True,\n",
    "    False,\n",
    "    True,\n",
    "    True,\n",
    "    True,\n",
    "    True,\n",
    "    True,\n",
    "    True,\n",
    "    True, #False,\n",
    "    True,\n",
    "]\n",
    "\n",
    "cutvals = [\n",
    "    MAX_SHW_LEN_CUT,\n",
    "    MAX_OTHR_TRK_LEN_CUT,\n",
    "    OTHR_CHI2U_CUT,\n",
    "    OTHR_CHI2P_CUT,\n",
    "    LEN_CUT,\n",
    "    LEN_CUT,\n",
    "    TRK_SCORE_CUT,\n",
    "    TRK_SCORE_CUT,\n",
    "    CHI2U_CUT,\n",
    "    CHI2P_CUT,\n",
    "    CHI2U_CUT,\n",
    "    CHI2P_CUT,\n",
    "    MCS_RANGE_COMP,\n",
    "    MCS_RANGE_COMP,\n",
    "    STUB_5mm_CUT,\n",
    "    STUB_10mm_CUT,\n",
    "    STUB_20mm_CUT,\n",
    "    STUB_30mm_CUT,\n",
    "    OPENANGLE_CUT,\n",
    "    UU_ANGLE_CUT,\n",
    "]\n",
    "\n",
    "N_TEST_CUT = 41\n",
    "cutranges = [\n",
    "    np.linspace(0, 20, N_TEST_CUT), # MAX SHW LEN\n",
    "    np.linspace(0, 60, N_TEST_CUT), # MAX OTHR TRK LEN\n",
    "    np.linspace(0, 100, N_TEST_CUT), # OTHR CHI2U\n",
    "    np.linspace(0, 200, N_TEST_CUT), # OTHR CHI2P\n",
    "    np.linspace(0, 40, N_TEST_CUT), # TRUNK LEN\n",
    "    np.linspace(0, 40, N_TEST_CUT), # BRANCH LEN\n",
    "    np.linspace(0, 1, N_TEST_CUT), # TRUNK TRACK SCORE\n",
    "    np.linspace(0, 1, N_TEST_CUT), # BRANCH TRACK SCORE\n",
    "    np.linspace(5, 20, N_TEST_CUT), # TRUNK CHI2U\n",
    "    np.linspace(80, 200, N_TEST_CUT), # TRUNK CHI2P\n",
    "    np.linspace(5, 20, N_TEST_CUT), # BRANCH CHI2U\n",
    "    np.linspace(80, 200, N_TEST_CUT), # BRANCH CHI2P\n",
    "    np.linspace(0.25, 1, N_TEST_CUT), # MCS RANGE\n",
    "    np.linspace(0.25, 1, N_TEST_CUT), # MCS RANGE\n",
    "    np.linspace(0, 8e5, N_TEST_CUT) / 1e3, # STUB 5mm\n",
    "    np.linspace(0, 8e5, N_TEST_CUT) / 1e3, # STUB 10mm\n",
    "    np.linspace(0, 8e5, N_TEST_CUT) / 1e3, # STUB 20mm\n",
    "    np.linspace(0, 8e5, N_TEST_CUT) / 1e3, # STUB 30mm\n",
    "    np.linspace(0.4, 1, N_TEST_CUT), # OPEN ANGLE\n",
    "    np.linspace(0.05, 0.5, N_TEST_CUT), # UU ANGLE\n",
    "]\n",
    "\n",
    "cuts = [cutvars[i_cut] < cutvals[i_cut] if cut_hi[i_cut] else cutvars[i_cut] > cutvals[i_cut] \n",
    "        for i_cut in range(len(cutvals))]\n",
    "cuts = [cuts[i_cut] | ~wherecut[i_cut] for i_cut in range(len(cuts))]\n",
    "\n",
    "cutnames =[\n",
    "    \"Max Shower Length [cm]\",\n",
    "    \"Max Other Track Length [cm]\",\n",
    "    \"Max Other $\\\\chi^2_\\\\mu$\",\n",
    "    \"Min Other $\\\\chi^2_p$\",\n",
    "    \"Trunk Length [cm]\",\n",
    "    \"Branch Length [cm]\",\n",
    "    \"Trunk Track Score\",\n",
    "    \"Branch Track Score\",\n",
    "    \"Trunk $\\\\chi^2_\\\\mu$\",\n",
    "    \"Trunk $\\\\chi^2_p$\",\n",
    "    \"Branch $\\\\chi^2_\\\\mu$\",\n",
    "    \"Branch $\\\\chi^2_p$\",\n",
    "    \"Trunk (1 - MCS P / Range P)\",\n",
    "    \"Branch (1 - MCS P / Range P)\",\n",
    "    \"Stub dQ/dx [ke$^-$/cm] (len < 0.5 cm)\",\n",
    "    \"Stub dQ/dx [ke$^-$/cm] (0.5 cm < len < 1 cm)\",\n",
    "    \"Stub dQ/dx [ke$^-$/cm] (1 cm < len < 2 cm)\",\n",
    "    \"Stub dQ/dx [ke$^-$/cm] (2 cm < len < 3 cm)\",\n",
    "    \"$\\\\mu\\\\mu$ Opening Angle\",\n",
    "    \"$\\\\mu\\\\mu$ Angle to Beam\",\n",
    "]\n",
    "\n",
    "cutsnames = [\n",
    "    \"max_shw_len\",\n",
    "    \"max_othr_trk_len\",\n",
    "    \"max_othr_chi2u\",\n",
    "    \"min_othr_chi2p\",\n",
    "    \"trunk_len\",\n",
    "    \"branch_len\",\n",
    "    \"trunk_trkscore\",\n",
    "    \"branch_trkscore\",\n",
    "    \"trunk_chi2u\",\n",
    "    \"trunk_chi2p\",\n",
    "    \"branch_chi2u\",\n",
    "    \"branch_chi2p\",\n",
    "    \"trunk_p_comp\",\n",
    "    \"branch_p_comp\",\n",
    "    \"stub_dqdx_5mm\",\n",
    "    \"stub_dqdx_10mm\",\n",
    "    \"stub_dqdx_20mm\",\n",
    "    \"stub_dqdx_30mm\",\n",
    "    \"uu_openangle\",\n",
    "    \"uu_beamangle\"\n",
    "    \n",
    "]\n",
    "\n",
    "assert(len(cutvars) == len(wherecut) == len(cut_hi) == len(cutvals) == len(cutranges) == len(cuts) == len(cutnames))\n"
   ]
  },
  {
   "cell_type": "code",
   "execution_count": null,
   "id": "20481fd8",
   "metadata": {},
   "outputs": [],
   "source": [
    "NCUT_Object = 4\n",
    "NCUT_MuID = 10\n",
    "NCUT_StubID = 4\n",
    "NCUT_KINEMATICS = 2\n",
    "\n",
    "cut_types = [\n",
    "    [evtdf.Truthy],\n",
    "    cuts[:NCUT_Object],\n",
    "    cuts[NCUT_Object:NCUT_Object+NCUT_MuID],\n",
    "    cuts[NCUT_Object+NCUT_MuID:NCUT_Object+NCUT_MuID+NCUT_StubID],\n",
    "    cuts[NCUT_Object+NCUT_MuID+NCUT_StubID:]\n",
    "]\n",
    "\n",
    "cut_type_names = [\n",
    "    \"Pre-Selection\",\n",
    "    \"Object\",\n",
    "    \"Muon ID\",\n",
    "    \"Stub ID\",\n",
    "    \"Kinematic\"\n",
    "]"
   ]
  },
  {
   "cell_type": "code",
   "execution_count": null,
   "id": "65e5cd2e",
   "metadata": {},
   "outputs": [],
   "source": [
    "def cut_all(l):\n",
    "    l0 = l[0]\n",
    "    for c in l[1:]:\n",
    "        l0 = l0 & c\n",
    "    return l0\n",
    "\n",
    "def cut_any(l):\n",
    "    l0 = l[0]\n",
    "    for c in l[1:]:\n",
    "        l0 = l0 | c\n",
    "    return l0"
   ]
  },
  {
   "cell_type": "code",
   "execution_count": null,
   "id": "ed9739c8",
   "metadata": {},
   "outputs": [],
   "source": [
    "preselect = SlcInFV(evtdf.slc.vertex) & TrkInFV(evtdf.trunk.trk.end) & TrkInFV(evtdf.branch.trk.end)"
   ]
  },
  {
   "cell_type": "code",
   "execution_count": null,
   "id": "7a02c7e7",
   "metadata": {},
   "outputs": [],
   "source": [
    "i_fig = 0\n",
    "for i_cut in range(len(cutvars)):\n",
    "    var = cutvars[i_cut]\n",
    "    when = preselect\n",
    "    bins = cutranges[i_cut]\n",
    "    \n",
    "    for M in Masses:\n",
    "        plt.figure(i_fig)\n",
    "        i_fig += 1\n",
    "        \n",
    "        this_categories = [is_higgs, is_nu, is_cosmic]\n",
    "        this_categories[0] = is_higgs & (evtdf.p_M == M/1e3)\n",
    "        this_categories[0].name = \"Scalar\"\n",
    "        for c in this_categories:\n",
    "            _ = plt.hist(var[when & c], weights=evtdf.scale[when & c], bins=bins, label=c.name, \n",
    "                         histtype=\"step\", linewidth=2, density=True)\n",
    "        plt.legend()\n",
    "        plt.axvline([cutvals[i_cut]], linestyle=\":\", color=\"r\", linewidth=2)\n",
    "\n",
    "        plt.tight_layout()\n",
    "        plt.xlabel(cutnames[i_cut])\n",
    "        plt.title(\"ICARUS MC, $M_S = %i$ MeV\"% M)\n",
    "        plt.ylabel(\"Area Normalized\")\n",
    "\n",
    "    #     plt.text(0.4, 0.05, label, transform=plt.gca().transAxes, fontsize=18)\n",
    "\n",
    "        plt.tight_layout()\n",
    "        if dosave: \n",
    "            plt.savefig(savedir + \"%s_M%i.pdf\" % (cutsnames[i_cut], M))\n",
    "            plt.savefig(savedir + \"%s_M%i.svg\" % (cutsnames[i_cut], M))"
   ]
  },
  {
   "cell_type": "code",
   "execution_count": null,
   "id": "cab43d9c",
   "metadata": {},
   "outputs": [],
   "source": [
    "for i_cut in range(len(cutvars)):\n",
    "    plt.figure(i_cut)\n",
    "    cut = cut_all([cuts[j_cut] for j_cut in range(len(cuts)) if j_cut != i_cut])\n",
    "    # Per mass\n",
    "    for M in Masses:\n",
    "        when = preselect & cut & (np.abs(s_mass - M/1e3) < 0.02)\n",
    "        signal = evtdf.higgs & (evtdf.p_M == M/1e3) & when\n",
    "        bkg = ~evtdf.higgs & when\n",
    "        \n",
    "        vary_cut = [cutvars[i_cut] < C if cut_hi[i_cut] else cutvars[i_cut] > C for C in cutranges[i_cut]]\n",
    "        vary_cut = [c | ~wherecut[i_cut] for c in vary_cut]\n",
    "        \n",
    "        sig_counts = np.array([evtdf.scale[signal & c].sum() for c in vary_cut])\n",
    "        bkg_counts = np.array([evtdf.scale[bkg & c].sum() for c in vary_cut])\n",
    "\n",
    "        significance = sig_counts / np.sqrt(sig_counts + bkg_counts)\n",
    "        tot_count = sig_counts + bkg_counts\n",
    "        \n",
    "        plt.plot(cutranges[i_cut][tot_count > 0], significance[tot_count > 0] / np.max(significance[tot_count > 0]), \n",
    "                    label=\"%i\" % M, marker=\".\", markersize=15)\n",
    "        \n",
    "        # plt.axvline([cutvals[i_cut]], linestyle=\":\", color=\"red\")\n",
    "        \n",
    "    plt.xlabel(cutnames[i_cut])\n",
    "    plt.ylabel(\"Relative Significance (S/$\\\\sqrt{S+B}$)\")\n",
    "\n",
    "    plt.legend(title=\"Scalar Mass [MeV]\", bbox_to_anchor=(0.5, 1.35), ncol=3, loc=\"upper center\")\n",
    "    if dosave: \n",
    "        plt.savefig(savedir + \"%s_sig.pdf\" % (cutsnames[i_cut],), bbox_inches=\"tight\") \n",
    "        plt.savefig(savedir + \"%s_sig.svg\" % (cutsnames[i_cut],), bbox_inches=\"tight\") "
   ]
  },
  {
   "cell_type": "code",
   "execution_count": null,
   "id": "eb586a12",
   "metadata": {},
   "outputs": [],
   "source": [
    "bins = np.linspace(0, 5, 11)\n",
    "\n",
    "for ifig,M in enumerate(Masses):\n",
    "    plt.figure(ifig, figsize=(9, 6))\n",
    "    \n",
    "    when_all = SlcInFV(h_mcdf.position) & (h_mcdf.p_M == M/1e3) & (h_mcdf.npi == 0) & (h_mcdf.npi0 == 0) & TrkInFV(h_mcdf.p0.end) & TrkInFV(h_mcdf.p1.end)\n",
    "\n",
    "    slc_is_reco = SlcInFV(evtdf.slc.vertex) & (evtdf.slc.tmatch.idx == 0) & TrkInFV(evtdf.trunk.trk.end) & TrkInFV(evtdf.branch.trk.end)\n",
    "    # slc_is_select = slc_is_reco & passcut\n",
    "\n",
    "    thiscut = True\n",
    "    for c, name in zip(cut_types, cut_type_names):\n",
    "        thiscut = cut_all(c) & thiscut\n",
    "        when_cut = when_all & (slc_is_reco & thiscut)[is_higgs].groupby(level=[0, 1]).any()\n",
    "        D, _ = np.histogram(h_mcdf[when_all].E, bins=bins)\n",
    "        N, _ = np.histogram(h_mcdf[when_cut].E, bins=bins)  \n",
    "\n",
    "        centers = (bins[1:] + bins[:-1])/2.\n",
    "\n",
    "        plt.plot(centers, N/D, label=name)\n",
    "    plt.legend(bbox_to_anchor=(1.04,1), loc=\"upper left\", title=\"Cut Stage\")\n",
    "\n",
    "    plt.xlabel(\"Scalar Energy [GeV]\")\n",
    "    plt.ylabel(\"Efficiency\")\n",
    "    plt.title(\"ICARUS MC, $M_S = %i$ MeV\"% M)\n",
    "\n",
    "    plt.tight_layout()\n",
    "    if dosave: \n",
    "        plt.savefig(savedir + \"scalar_eff_all_M%i.pdf\" % M)\n",
    "        plt.savefig(savedir + \"scalar_eff_all_M%i.svg\" % M)"
   ]
  },
  {
   "cell_type": "code",
   "execution_count": null,
   "id": "1aeddab8",
   "metadata": {},
   "outputs": [],
   "source": [
    "var = s_mass\n",
    "when = preselect & cut_all(cuts)\n",
    "bins = np.linspace(0.2, 0.6, 9)\n",
    "\n",
    "# assert((when & ~cut_any(nucategories) & ~evtdf.higgs).sum() == 0)\n",
    "\n",
    "for i,M in enumerate(Masses):\n",
    "    plt.figure(i)\n",
    "    \n",
    "    _ = plt.hist([var[when & nu] for nu in nucategories], \n",
    "                 weights=[evtdf.scale[when & nu] for nu in nucategories],\n",
    "                bins=bins, stacked=True, label=[nu.name for nu in nucategories])\n",
    "    \n",
    "    this_is_higgs = is_higgs & (evtdf.p_M == M/1e3)\n",
    "    _ = plt.hist(var[when & this_is_higgs], weights=evtdf.scale[when & this_is_higgs], bins=bins,\n",
    "                 label=\"Scalar\", histtype=\"step\", edgecolor=\"black\", linewidth=2)\n",
    "\n",
    "    plt.legend(ncol=2)\n",
    "    plt.tight_layout()\n",
    "    plt.xlabel(\"$M_{\\\\mu\\\\mu}$ [GeV]\")\n",
    "    plt.title(\"ICARUS MC, $M_S = %i$ MeV, $\\\\theta_S = $%s\"% (M, theta_strs[i]))\n",
    "    plt.ylabel(\"Events / %s\" % POTSTR)\n",
    "    plt.ylim([0, plt.ylim()[1]*1.5])\n",
    "\n",
    "    if dosave: \n",
    "        plt.savefig(savedir + \"smass_M%i.pdf\" % (M, ), bbox_inches=\"tight\")\n",
    "        plt.savefig(savedir + \"smass_M%i.svg\" % (M, ), bbox_inches=\"tight\")\n",
    "    "
   ]
  },
  {
   "cell_type": "code",
   "execution_count": null,
   "id": "f36f7d4c",
   "metadata": {},
   "outputs": [],
   "source": [
    "var = beamangle*180/np.pi\n",
    "when = preselect & cut_all(cuts[:-1])\n",
    "bins = np.linspace(0., 75, 11)\n",
    "\n",
    "# assert((when & ~cut_any(nucategories) & ~evtdf.higgs).sum() == 0)\n",
    "\n",
    "for i,M in enumerate(Masses):\n",
    "    plt.figure(i)\n",
    "    \n",
    "    _ = plt.hist([var[when & nu] for nu in nucategories], \n",
    "                 weights=[evtdf.scale[when & nu] for nu in nucategories],\n",
    "                bins=bins, stacked=True, label=[nu.name for nu in nucategories])\n",
    "    \n",
    "    this_is_higgs = is_higgs & (evtdf.p_M == M/1e3)\n",
    "    _ = plt.hist(var[when & this_is_higgs], weights=evtdf.scale[when & this_is_higgs], bins=bins,\n",
    "                 label=\"Scalar\", histtype=\"step\", edgecolor=\"black\", linewidth=2)\n",
    "\n",
    "    plt.legend(ncol=2)\n",
    "    plt.tight_layout()\n",
    "    plt.xlabel(\"$\\\\theta_\\\\mathrm{NuMI}$ [$^\\\\circ$]\")\n",
    "    plt.title(\"ICARUS MC, $M_S = %i$ MeV, $\\\\theta_S = $%s\"% (M, theta_strs[i]))\n",
    "    plt.ylabel(\"Events / %s\" % POTSTR)\n",
    "    plt.ylim([0, plt.ylim()[1]*1.5])\n",
    "\n",
    "    if dosave: \n",
    "        plt.savefig(savedir + \"beamangle_M%i.pdf\" % (M, ), bbox_inches=\"tight\")\n",
    "        plt.savefig(savedir + \"beamangle_M%i.svg\" % (M, ), bbox_inches=\"tight\")\n",
    "    "
   ]
  },
  {
   "cell_type": "code",
   "execution_count": null,
   "id": "9e42a37b",
   "metadata": {},
   "outputs": [],
   "source": [
    "width = 0.25\n",
    "plt.figure(figsize=(6.4, 6.4))\n",
    "\n",
    "m_ok = ~is_higgs | (evtdf.p_M == 0.26)\n",
    "\n",
    "for i,category in enumerate(reversed(categories)):\n",
    "    plt.barh(np.arange(len(cut_types)) + i*width, \n",
    "             [np.sum(evtdf.scale[m_ok & category & preselect & cut_all([c for cuts in cut_types[:i+1] for c in cuts])]) for i in range(len(cut_types))], \n",
    "             width, \n",
    "             label=category.name,\n",
    "             tick_label = cut_type_names\n",
    "            )\n",
    "\n",
    "plt.xscale(\"log\")\n",
    "plt.legend(ncol=3, bbox_to_anchor=(-0.05, 0.92, 1, 0.2), loc=\"upper left\")\n",
    "plt.xlabel(\"Scalar Candidates / %s (1yr)\" % POTSTR)\n",
    "    \n",
    "plt.xlim([1, plt.xlim()[1]])\n",
    "# plt.title(label.replace(\"\\n\", \", \"))\n",
    "plt.tight_layout()\n",
    "\n",
    "if dosave: \n",
    "    plt.savefig(savedir + \"cutchart_M%i.svg\" % (260))\n",
    "    plt.savefig(savedir + \"cutchart_M%i.pdf\" % (260))"
   ]
  },
  {
   "cell_type": "code",
   "execution_count": null,
   "id": "53aff051",
   "metadata": {},
   "outputs": [],
   "source": [
    "sum(evtdf.scale[when & ~evtdf.higgs])"
   ]
  },
  {
   "cell_type": "code",
   "execution_count": null,
   "id": "66a6e829",
   "metadata": {},
   "outputs": [],
   "source": [
    "for nu in nucategories:\n",
    "    print(nu.name, evtdf.scale[(when & nu)].sum())"
   ]
  },
  {
   "cell_type": "code",
   "execution_count": null,
   "id": "79d7ff23",
   "metadata": {},
   "outputs": [],
   "source": [
    "evtdf.columns"
   ]
  },
  {
   "cell_type": "code",
   "execution_count": null,
   "id": "1ca7081f",
   "metadata": {},
   "outputs": [],
   "source": [
    "6.2/8.2"
   ]
  },
  {
   "cell_type": "code",
   "execution_count": null,
   "id": "32192e6b",
   "metadata": {},
   "outputs": [],
   "source": [
    "cols = [\n",
    "    \"min_othr_chi2_proton\",\n",
    "    \"max_othr_chi2_muon\",\n",
    "    \"min_othr_chi2_proton_primary\",\n",
    "    \"max_othr_chi2_muon_primary\",\n",
    "    \"min_othr_chi2_proton_all\",\n",
    "    \"max_othr_chi2_muon_all\"\n",
    "]"
   ]
  },
  {
   "cell_type": "code",
   "execution_count": null,
   "id": "fc5e30a5",
   "metadata": {},
   "outputs": [],
   "source": [
    "evtdf.loc[when & nu, cols]"
   ]
  },
  {
   "cell_type": "code",
   "execution_count": null,
   "id": "9a666b2c",
   "metadata": {},
   "outputs": [],
   "source": [
    "for nu in nucategories:\n",
    "    print(nu.name, evtdf.scale[(when & nu)].sum())"
   ]
  },
  {
   "cell_type": "code",
   "execution_count": null,
   "id": "a907fa38",
   "metadata": {},
   "outputs": [],
   "source": [
    "var = evtdf.slc.truth.max_proton_ke\n",
    "\n",
    "when_othrobj = preselect & (~evtdf.higgs) & cut_all(cuts[:4] + cuts[19:20])\n",
    "when_caloPID = preselect & (~evtdf.higgs) & cut_all(cuts[:13] + cuts[19:20])\n",
    "when_topoPID = preselect & (~evtdf.higgs) & cut_all(cuts[:15] + cuts[19:20])\n",
    "when_stubPID = preselect & (~evtdf.higgs) & cut_all(cuts[:19] + cuts[19:20])\n",
    "when_kinematics = preselect & (~evtdf.higgs) & cut_all(cuts)\n",
    "\n",
    "bins = np.linspace(0, 2, 9)\n",
    "\n",
    "_ = plt.hist(var[when_othrobj], weights=evtdf.scale[when_othrobj], bins=bins, histtype=\"step\", linewidth=2, label=\"Before Particle ID\")\n",
    "_ = plt.hist(var[when_caloPID], weights=evtdf.scale[when_caloPID], bins=bins, histtype=\"step\", linewidth=2, label=\"Calorimetric PID\")\n",
    "_ = plt.hist(var[when_topoPID], weights=evtdf.scale[when_topoPID], bins=bins, histtype=\"step\", linewidth=2, label=\"Topological PID\")\n",
    "_ = plt.hist(var[when_stubPID], weights=evtdf.scale[when_stubPID], bins=bins, histtype=\"step\", linewidth=2, label=\"Stub Low-E ID\")\n",
    "_ = plt.hist(var[when_kinematics], weights=evtdf.scale[when_kinematics], bins=bins, histtype=\"step\", linewidth=2, label=\"Kinematics Cuts\")\n",
    "plt.yscale(\"log\")\n",
    "plt.ylim([1, plt.ylim()[1]])\n",
    "plt.legend()\n",
    "\n",
    "plt.ylabel(\"Selected $\\\\nu$ / %s\" % POTSTR)\n",
    "plt.xlabel(\"Maximum Proton Kinetic Energy [GeV]\")\n",
    "\n",
    "if dosave: \n",
    "    plt.savefig(savedir + \"proton_rejection.pdf\", bbox_inches=\"tight\")\n",
    "    plt.savefig(savedir + \"proton_rejection.svg\", bbox_inches=\"tight\")"
   ]
  },
  {
   "cell_type": "code",
   "execution_count": null,
   "id": "62008c26",
   "metadata": {},
   "outputs": [],
   "source": [
    "evtdf[when & ~evtdf.higgs & (np.abs(evtdf.branch.trk.truth.p.pdg) == 2212)].branch.trk"
   ]
  },
  {
   "cell_type": "code",
   "execution_count": null,
   "id": "4afec552",
   "metadata": {},
   "outputs": [],
   "source": [
    "openangle = np.arccos(dotdf(evtdf.trunk.trk.dir, evtdf.branch.trk.dir))"
   ]
  },
  {
   "cell_type": "code",
   "execution_count": null,
   "id": "484d17b5",
   "metadata": {},
   "outputs": [],
   "source": [
    "evtdf[when & ~evtdf.higgs & (np.abs(evtdf.branch.trk.truth.p.pdg) == 2212)].branch.trk.truth"
   ]
  },
  {
   "cell_type": "code",
   "execution_count": null,
   "id": "93297040",
   "metadata": {},
   "outputs": [],
   "source": [
    "evtdf[when & ~evtdf.higgs & (np.abs(evtdf.trunk.trk.truth.p.pdg) == 2212)].trunk.trk.truth"
   ]
  },
  {
   "cell_type": "code",
   "execution_count": null,
   "id": "166a0b8d",
   "metadata": {},
   "outputs": [],
   "source": [
    "evtdf.slc.truth[when & ~evtdf.higgs & ((np.abs(evtdf.trunk.trk.truth.p.pdg) == 2212) | (np.abs(evtdf.branch.trk.truth.p.pdg) == 2212))][evtdf.slc.truth.columns[:20]]"
   ]
  },
  {
   "cell_type": "code",
   "execution_count": null,
   "id": "4bc34e1d",
   "metadata": {},
   "outputs": [],
   "source": [
    "evtdf.slc.truth.columns[:20]"
   ]
  },
  {
   "cell_type": "code",
   "execution_count": null,
   "id": "926510ca",
   "metadata": {},
   "outputs": [],
   "source": [
    "trunk_mcs_range[when & ~evtdf.higgs]"
   ]
  },
  {
   "cell_type": "code",
   "execution_count": null,
   "id": "c217e580",
   "metadata": {},
   "outputs": [],
   "source": [
    "when_all = SlcInFV(nu_mcdf.position) #& TrkInFV(nu_mcdf.p0.end) & TrkInFV(nu_mcdf.p1.end)"
   ]
  },
  {
   "cell_type": "code",
   "execution_count": null,
   "id": "b61e003c",
   "metadata": {},
   "outputs": [],
   "source": [
    "slc_is_reco = SlcInFV(evtdf.slc.vertex) & (evtdf.slc.tmatch.idx >= 0) & ~evtdf.higgs &\\\n",
    "    preselect & cut_all(cuts[:-1] + [beamangle < 0.4])\n",
    "\n",
    "idx_reco = evtdf.slc.tmatch.idx[slc_is_reco]\n",
    "\n",
    "mcnu_idx_reco = pd.MultiIndex.from_arrays(\n",
    "    [idx_reco.index.get_level_values(0) - len(fhs)*1_000_000, idx_reco.index.get_level_values(1), idx_reco.values], \n",
    "    names=list(idx_reco.index.names[:2]) + [\"idx\"])\n",
    "\n",
    "nu_mcdf[\"reco\"] = False\n",
    "nu_mcdf.loc[mcnu_idx_reco, \"reco\"] = True\n",
    "\n",
    "when_cut = when_all & nu_mcdf.reco"
   ]
  },
  {
   "cell_type": "code",
   "execution_count": null,
   "id": "f53cf290",
   "metadata": {},
   "outputs": [],
   "source": [
    "var = nu_mcdf.max_proton_ke\n",
    "bins= np.linspace(0, 1, 21)\n",
    "\n",
    "_ = plt.hist(var[when_all], weights=nu_mcdf.scale[when_all], bins=bins, histtype=\"step\")\n",
    "_ = plt.hist(var[when_cut], weights=nu_mcdf.scale[when_cut], bins=bins, histtype=\"step\")\n",
    "plt.yscale(\"log\")"
   ]
  },
  {
   "cell_type": "code",
   "execution_count": null,
   "id": "f9895b8c",
   "metadata": {},
   "outputs": [],
   "source": [
    "var = nu_mcdf.npi + nu_mcdf.iscc\n",
    "bins= np.linspace(0, 10, 11)\n",
    "\n",
    "_ = plt.hist(var[when_all], weights=nu_mcdf.scale[when_all], bins=bins, histtype=\"step\")\n",
    "_ = plt.hist(var[when_cut], weights=nu_mcdf.scale[when_cut], bins=bins, histtype=\"step\")\n",
    "plt.yscale(\"log\")"
   ]
  },
  {
   "cell_type": "code",
   "execution_count": null,
   "id": "20902b4b",
   "metadata": {},
   "outputs": [],
   "source": [
    "var = nu_mcdf.genie_mode\n",
    "bins = np.linspace(0, 10, 11)\n",
    "\n",
    "_ = plt.hist(var[when_all], weights=nu_mcdf.scale[when_all], bins=bins, histtype=\"step\")\n",
    "_ = plt.hist(var[when_cut], weights=nu_mcdf.scale[when_cut], bins=bins, histtype=\"step\")\n",
    "plt.yscale(\"log\")"
   ]
  },
  {
   "cell_type": "code",
   "execution_count": null,
   "id": "b3ced110",
   "metadata": {},
   "outputs": [],
   "source": [
    "var = nu_mcdf.iscc\n",
    "bins= np.linspace(0, 2, 3)\n",
    "\n",
    "_ = plt.hist(var[when_all], weights=nu_mcdf.scale[when_all], bins=bins, histtype=\"step\")\n",
    "_ = plt.hist(var[when_cut], weights=nu_mcdf.scale[when_cut], bins=bins, histtype=\"step\")\n",
    "plt.yscale(\"log\")"
   ]
  },
  {
   "cell_type": "code",
   "execution_count": null,
   "id": "92df7e24",
   "metadata": {},
   "outputs": [],
   "source": [
    "var = InFV(nu_mcdf.position, 50, 10, 10, 10)\n",
    "bins= np.linspace(0, 2, 3)\n",
    "\n",
    "_ = plt.hist(var[when_all], weights=nu_mcdf.scale[when_all], bins=bins, histtype=\"step\")\n",
    "_ = plt.hist(var[when_cut], weights=nu_mcdf.scale[when_cut], bins=bins, histtype=\"step\")\n",
    "plt.yscale(\"log\")"
   ]
  },
  {
   "cell_type": "code",
   "execution_count": null,
   "id": "ed13945e",
   "metadata": {},
   "outputs": [],
   "source": [
    "len(nu_mcdf) / 1e6"
   ]
  },
  {
   "cell_type": "code",
   "execution_count": null,
   "id": "5ac905cd",
   "metadata": {},
   "outputs": [],
   "source": [
    "wfid = InFV(nu_mcdf.position, 50, 10, 10, 10).sum() / len(nu_mcdf)\n",
    "wfid"
   ]
  },
  {
   "cell_type": "code",
   "execution_count": null,
   "id": "500c43e5",
   "metadata": {},
   "outputs": [],
   "source": [
    "sint = (nu_mcdf.genie_mode != 0) & (nu_mcdf.genie_mode != 10) & (nu_mcdf.iscc==1)\n",
    "wint = sint.sum() / len(nu_mcdf)\n",
    "wint"
   ]
  },
  {
   "cell_type": "code",
   "execution_count": null,
   "id": "23ca98a9",
   "metadata": {},
   "outputs": [],
   "source": [
    "sint_E = (nu_mcdf.genie_mode != 0) & (nu_mcdf.genie_mode != 10) & (nu_mcdf.iscc==1) & (nu_mcdf.E > 1) & (nu_mcdf.E < 3.5)\n",
    "wint = sint.sum() / len(nu_mcdf)\n",
    "wint"
   ]
  },
  {
   "cell_type": "code",
   "execution_count": null,
   "id": "94e89fcc",
   "metadata": {},
   "outputs": [],
   "source": [
    "w_q2E = (sint & ((nu_mcdf.Q2 / nu_mcdf.E**2) < 0.2)).sum() / len(nu_mcdf)\n",
    "w_q2E"
   ]
  },
  {
   "cell_type": "code",
   "execution_count": null,
   "id": "ad4a25b9",
   "metadata": {},
   "outputs": [],
   "source": [
    "w_pke = (sint & (nu_mcdf.max_proton_ke <= 0.05)).sum() / len(nu_mcdf)\n",
    "w_pke"
   ]
  },
  {
   "cell_type": "code",
   "execution_count": null,
   "id": "75c9d2d2",
   "metadata": {},
   "outputs": [],
   "source": [
    "w_pke_pi = ((nu_mcdf.max_proton_ke <= 0.05) & (nu_mcdf.iscc + nu_mcdf.npi > 1)).sum() / len(nu_mcdf)\n",
    "w_pke_pi"
   ]
  },
  {
   "cell_type": "code",
   "execution_count": null,
   "id": "2c964e5e",
   "metadata": {},
   "outputs": [],
   "source": [
    "1/(wfid*wint)"
   ]
  },
  {
   "cell_type": "code",
   "execution_count": null,
   "id": "ed8d50e2",
   "metadata": {},
   "outputs": [],
   "source": [
    "1/(wfid*w_pke)"
   ]
  },
  {
   "cell_type": "code",
   "execution_count": null,
   "id": "67a0fcd5",
   "metadata": {},
   "outputs": [],
   "source": [
    "1/(wfid*w_pke_pi)"
   ]
  },
  {
   "cell_type": "code",
   "execution_count": null,
   "id": "964862a1",
   "metadata": {},
   "outputs": [],
   "source": [
    "1/w_pke_pi"
   ]
  },
  {
   "cell_type": "code",
   "execution_count": null,
   "id": "9ccbaf1b",
   "metadata": {},
   "outputs": [],
   "source": [
    "nu_mcdf.scale"
   ]
  },
  {
   "cell_type": "code",
   "execution_count": null,
   "id": "fd9be375",
   "metadata": {},
   "outputs": [],
   "source": [
    "1e8 / 35 / 100."
   ]
  },
  {
   "cell_type": "code",
   "execution_count": null,
   "id": "f9f77bf1",
   "metadata": {},
   "outputs": [],
   "source": []
  }
 ],
 "metadata": {
  "kernelspec": {
   "display_name": "Python 3 (ipykernel)",
   "language": "python",
   "name": "python3"
  },
  "language_info": {
   "codemirror_mode": {
    "name": "ipython",
    "version": 3
   },
   "file_extension": ".py",
   "mimetype": "text/x-python",
   "name": "python",
   "nbconvert_exporter": "python",
   "pygments_lexer": "ipython3",
   "version": "3.9.2"
  }
 },
 "nbformat": 4,
 "nbformat_minor": 5
}

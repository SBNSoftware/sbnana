{
 "cells": [
  {
   "cell_type": "code",
   "execution_count": null,
   "id": "febde2e4",
   "metadata": {},
   "outputs": [],
   "source": [
    "import uproot\n",
    "import matplotlib.pyplot as plt \n",
    "import pandas as pd \n",
    "import numpy as np \n",
    "import matplotlib as mpl\n",
    "\n",
    "from util import *\n",
    "import var\n",
    "import cut\n",
    "import data\n",
    "import hist\n",
    "\n",
    "import importlib\n",
    "\n",
    "from pyanalib import panda_helpers"
   ]
  },
  {
   "cell_type": "code",
   "execution_count": null,
   "id": "6f36ba0e",
   "metadata": {},
   "outputs": [],
   "source": [
    "importlib.reload(var)\n",
    "importlib.reload(cut)\n",
    "importlib.reload(data)\n",
    "importlib.reload(hist)\n",
    "importlib.reload(panda_helpers)"
   ]
  },
  {
   "cell_type": "code",
   "execution_count": null,
   "id": "ad241e85",
   "metadata": {},
   "outputs": [],
   "source": [
    "mpl.rc('font', size=14)\n",
    "\n",
    "dosave = False\n",
    "savedir = \"./plots/\"\n",
    "\n",
    "import warnings\n",
    "\n",
    "warnings.simplefilter(action='ignore', category=pd.errors.PerformanceWarning)"
   ]
  },
  {
   "cell_type": "code",
   "execution_count": null,
   "id": "2eca11ad",
   "metadata": {},
   "outputs": [],
   "source": [
    "filedir = \"/icarus/data/users/gputnam/DP2022P/reco/\"\n",
    "\n",
    "datafile = filedir + \"majorityH4_blinded_costrk.df\"\n",
    "# datafile = filedir + \"mcnu_costrk.df\""
   ]
  },
  {
   "cell_type": "code",
   "execution_count": null,
   "id": "9a3e2fc8",
   "metadata": {},
   "outputs": [],
   "source": [
    "df = pd.read_hdf(datafile, key=\"costrk\")"
   ]
  },
  {
   "cell_type": "code",
   "execution_count": null,
   "id": "13461afa",
   "metadata": {},
   "outputs": [],
   "source": [
    "df = df[(df.pfp.parent == -1)]"
   ]
  },
  {
   "cell_type": "code",
   "execution_count": null,
   "id": "608b6bce",
   "metadata": {},
   "outputs": [],
   "source": [
    "df"
   ]
  },
  {
   "cell_type": "code",
   "execution_count": null,
   "id": "8d0501bf",
   "metadata": {},
   "outputs": [],
   "source": []
  },
  {
   "cell_type": "code",
   "execution_count": null,
   "id": "99e1f059",
   "metadata": {},
   "outputs": [],
   "source": [
    "yz_ybin = np.linspace(-180, 130, 32)[:-1:2]\n",
    "yz_ylos = yz_ybin[:-1]\n",
    "yz_yhis = yz_ybin[1:]\n",
    "yz_ys = (yz_ylos + yz_yhis) / 2.\n",
    "\n",
    "yz_zbin = np.linspace(-900, 900, 181)[1:-1:2]\n",
    "yz_zlos = yz_zbin[:-1]\n",
    "yz_zhis = yz_zbin[1:]\n",
    "yz_zs = (yz_zlos + yz_zhis) / 2."
   ]
  },
  {
   "cell_type": "code",
   "execution_count": null,
   "id": "7c2fb730",
   "metadata": {},
   "outputs": [],
   "source": [
    "when = (df.pfp.trk.dir.y < 0) & (df.pfp.parent == -1) & InFV(df.pfp.trk.start, 0, 20, 0, 0)"
   ]
  },
  {
   "cell_type": "code",
   "execution_count": null,
   "id": "b5140f2c",
   "metadata": {},
   "outputs": [],
   "source": [
    "cathodeE = (-358.49 + -61.94) / 2\n",
    "cathodeW = -cathodeE\n",
    "\n",
    "start_tpcEE = (df.pfp.trk.start.x <  cathodeE) & (df.pfp.trk.producer == 0)\n",
    "start_tpcEW = (df.pfp.trk.start.x >= cathodeE) & (df.pfp.trk.producer == 0)\n",
    "\n",
    "start_tpcWE = (df.pfp.trk.start.x <  cathodeW) & (df.pfp.trk.producer == 1)\n",
    "start_tpcWW = (df.pfp.trk.start.x >= cathodeW) & (df.pfp.trk.producer == 1)\n",
    "\n",
    "end_tpcEE = (df.pfp.trk.end.x <  cathodeE) & (df.pfp.trk.producer == 0)\n",
    "end_tpcEW = (df.pfp.trk.end.x >= cathodeE) & (df.pfp.trk.producer == 0)\n",
    "\n",
    "end_tpcWE = (df.pfp.trk.end.x <  cathodeW) & (df.pfp.trk.producer == 1)\n",
    "end_tpcWW = (df.pfp.trk.end.x >= cathodeW) & (df.pfp.trk.producer == 1)\n",
    "\n",
    "tpcEE = start_tpcEE & end_tpcEW\n",
    "tpcEW = start_tpcEW & end_tpcEE\n",
    "\n",
    "tpcWE = start_tpcWE & end_tpcWW\n",
    "tpcWW = start_tpcWW & end_tpcWE"
   ]
  },
  {
   "cell_type": "code",
   "execution_count": null,
   "id": "f6e72d88",
   "metadata": {},
   "outputs": [],
   "source": [
    "Nintersect = np.zeros((yz_zlos.size, yz_ylos.size))\n",
    "\n",
    "minZ = np.minimum(df.pfp.trk.start.z, df.pfp.trk.end.z)\n",
    "maxZ = np.maximum(df.pfp.trk.start.z, df.pfp.trk.end.z)\n",
    "\n",
    "dz = df.pfp.trk.end.z - df.pfp.trk.start.z\n",
    "a = (df.pfp.trk.end.y - df.pfp.trk.start.y) / dz\n",
    "b = df.pfp.trk.start.y - a * df.pfp.trk.start.z\n",
    "\n",
    "for i, (zlo, zhi) in enumerate(zip(yz_zlos, yz_zhis)):\n",
    "    for j, (ylo, yhi) in enumerate(zip(yz_ylos, yz_yhis)):\n",
    "        rec_maxZ = np.minimum(maxZ, zhi)\n",
    "        rec_minZ = np.maximum(minZ, zlo)\n",
    "        \n",
    "        rec_Y1 = a * rec_minZ + b\n",
    "        rec_Y2 = a * rec_maxZ + b\n",
    "        \n",
    "        rec_minY = np.minimum(rec_Y1, rec_Y2)\n",
    "        rec_maxY = np.maximum(rec_Y1, rec_Y2)\n",
    "        \n",
    "        rec_maxY = np.minimum(rec_maxY, yhi)\n",
    "        rec_minY = np.maximum(rec_minY, ylo)\n",
    "        \n",
    "        Nintersect[i,j] = np.sum(((rec_maxZ >= rec_minZ) & (rec_maxY >= rec_minY))[when & tpcEE])"
   ]
  },
  {
   "cell_type": "code",
   "execution_count": null,
   "id": "4d766d7b",
   "metadata": {},
   "outputs": [],
   "source": [
    "# Number of downward-going cosmic tracks that start in each location\n",
    "plt.figure(0, figsize=(20, 4))\n",
    "\n",
    "N,_,_,_ = plt.hist2d(df.pfp.trk.start.z[when & tpcEE], df.pfp.trk.start.y[when & tpcEE], bins=[yz_zbin, yz_ybin])\n",
    "\n",
    "plt.colorbar()\n"
   ]
  },
  {
   "cell_type": "code",
   "execution_count": null,
   "id": "21cf2404",
   "metadata": {},
   "outputs": [],
   "source": [
    "bins = np.linspace(0, 0.15, 16)\n",
    "_ = plt.hist((N/Nintersect).flatten(), bins=bins)"
   ]
  },
  {
   "cell_type": "code",
   "execution_count": null,
   "id": "618498fe",
   "metadata": {},
   "outputs": [],
   "source": [
    "# Number of downward-going cosmic tracks that start in each location as a fraction of all the tracks that have\n",
    "# gone through that location\n",
    "\n",
    "plt.figure(0, figsize=(20, 4))\n",
    "\n",
    "plt.imshow(N.T / Nintersect.T, origin=\"lower\", \n",
    "           extent=[yz_zbin[0], yz_zbin[-1], yz_ybin[0], yz_ybin[-1]],\n",
    "          vmin=0, vmax=0.1)\n",
    "plt.colorbar()"
   ]
  },
  {
   "cell_type": "code",
   "execution_count": null,
   "id": "5da8bdba",
   "metadata": {},
   "outputs": [],
   "source": [
    "when = (df.pfp.trk.dir.y < 0) & (df.pfp.parent == -1) & (df.pfp.id == 0) & tpcEE\n",
    "\n",
    "fiducial_start = InFV(df.pfp.trk.start, 40, inx=20, iny=40, inzfront=40)\n",
    "\n",
    "whenFV = when & fiducial_start\n",
    "whennotFV = when & ~fiducial_start"
   ]
  },
  {
   "cell_type": "code",
   "execution_count": null,
   "id": "1149bdc8",
   "metadata": {},
   "outputs": [],
   "source": [
    "# Tracks that have a fiducial start point as a function of track angle - thxz\n",
    "\n",
    "thxz = np.arctan2(df.pfp.trk.dir.x, df.pfp.trk.dir.z)\n",
    "bins = np.linspace(0, np.pi, 16)\n",
    "\n",
    "Nall,_,_ = plt.hist(thxz[when], bins=bins, label=\"All Tracks\")\n",
    "_ = plt.hist(thxz[whennotFV], bins=bins, histtype=\"step\", linewidth=2, label=\"Throughgoing\")\n",
    "Ncut,_,_ = plt.hist(thxz[whenFV], bins=bins, histtype=\"step\", linewidth=2, label=\"Cut\")"
   ]
  },
  {
   "cell_type": "code",
   "execution_count": null,
   "id": "82f7a97e",
   "metadata": {},
   "outputs": [],
   "source": [
    "# Tracks that have a fiducial start point as a function of track angle -- thxz\n",
    "\n",
    "plt.plot((bins[:-1] + bins[1:]) / 2., Ncut/Nall)"
   ]
  },
  {
   "cell_type": "code",
   "execution_count": null,
   "id": "f57d43a7",
   "metadata": {},
   "outputs": [],
   "source": [
    "# Tracks that have a fiducial start point as a function of track angle -- thyz\n",
    "\n",
    "thyz = np.arctan2(df.pfp.trk.dir.y, df.pfp.trk.dir.z)\n",
    "bins = np.linspace(-np.pi, 0, 16)\n",
    "\n",
    "Nall,_,_ = plt.hist(thyz[when], bins=bins, label=\"All Tracks\")\n",
    "_ = plt.hist(thyz[whennotFV], bins=bins, histtype=\"step\", linewidth=2, label=\"Throughgoing\")\n",
    "Ncut,_,_ = plt.hist(thyz[whenFV], bins=bins, histtype=\"step\", linewidth=2, label=\"Cut\")"
   ]
  },
  {
   "cell_type": "code",
   "execution_count": null,
   "id": "f43b7866",
   "metadata": {},
   "outputs": [],
   "source": [
    "# Tracks that have a fiducial start point as a function of track angle -- thyz\n",
    "\n",
    "plt.plot((bins[:-1] + bins[1:]) / 2., Ncut/Nall)"
   ]
  },
  {
   "cell_type": "code",
   "execution_count": null,
   "id": "0dffe54d",
   "metadata": {},
   "outputs": [],
   "source": []
  }
 ],
 "metadata": {
  "kernelspec": {
   "display_name": "Python 3 (ipykernel)",
   "language": "python",
   "name": "python3"
  },
  "language_info": {
   "codemirror_mode": {
    "name": "ipython",
    "version": 3
   },
   "file_extension": ".py",
   "mimetype": "text/x-python",
   "name": "python",
   "nbconvert_exporter": "python",
   "pygments_lexer": "ipython3",
   "version": "3.9.2"
  }
 },
 "nbformat": 4,
 "nbformat_minor": 5
}

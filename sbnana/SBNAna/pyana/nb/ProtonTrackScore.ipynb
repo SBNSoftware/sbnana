{
 "cells": [
  {
   "cell_type": "code",
   "execution_count": null,
   "id": "fce50a62",
   "metadata": {},
   "outputs": [],
   "source": [
    "import uproot\n",
    "import matplotlib.pyplot as plt \n",
    "import pandas as pd \n",
    "import numpy as np \n",
    "import matplotlib as mpl\n",
    "\n",
    "from util import *\n",
    "import var\n",
    "import cut\n",
    "import data\n",
    "import hist\n",
    "\n",
    "import importlib\n",
    "\n",
    "from pyanalib import panda_helpers"
   ]
  },
  {
   "cell_type": "code",
   "execution_count": null,
   "id": "2e9d0818",
   "metadata": {},
   "outputs": [],
   "source": [
    "importlib.reload(var)\n",
    "importlib.reload(cut)\n",
    "importlib.reload(data)\n",
    "importlib.reload(hist)\n",
    "importlib.reload(panda_helpers)"
   ]
  },
  {
   "cell_type": "code",
   "execution_count": null,
   "id": "1f28a82d",
   "metadata": {},
   "outputs": [],
   "source": [
    "mpl.rc('font', size=14)\n",
    "\n",
    "dosave = True\n",
    "savedir = \"./plots/mc2d_varytrue_\"\n",
    "\n",
    "import warnings\n",
    "\n",
    "warnings.simplefilter(action='ignore', category=pd.errors.PerformanceWarning)"
   ]
  },
  {
   "cell_type": "code",
   "execution_count": null,
   "id": "953ff6e6",
   "metadata": {},
   "outputs": [],
   "source": [
    "filedir = \"/icarus/data/users/gputnam/DP2022P/reco/\"\n",
    "\n",
    "onbeamfile = filedir + \"majorityH4_trkdf.df\"\n",
    "offbeamfile = filedir + \"offbeam_majorityH4_trk.df\"\n",
    "mcfile = filedir + \"mcnu_trk.df\""
   ]
  },
  {
   "cell_type": "code",
   "execution_count": null,
   "id": "9331e2a3",
   "metadata": {},
   "outputs": [],
   "source": [
    "mc = data.mc_dataset(mcfile, \"trk\")\n",
    "mc.df"
   ]
  },
  {
   "cell_type": "code",
   "execution_count": null,
   "id": "3a5495a2",
   "metadata": {},
   "outputs": [],
   "source": [
    "mchitdf = pd.read_hdf(mcfile, \"hit\")\n",
    "mchitdf"
   ]
  },
  {
   "cell_type": "code",
   "execution_count": null,
   "id": "91e93bb0",
   "metadata": {},
   "outputs": [],
   "source": [
    "onbeam = data.onbeam_dataset(onbeamfile, \"trk\")\n",
    "onbeam.df"
   ]
  },
  {
   "cell_type": "code",
   "execution_count": null,
   "id": "1ecb6dc9",
   "metadata": {},
   "outputs": [],
   "source": [
    "offbeam = data.offbeam_dataset(offbeamfile, \"trk\")\n",
    "offbeam.df"
   ]
  },
  {
   "cell_type": "code",
   "execution_count": null,
   "id": "95af0c15",
   "metadata": {},
   "outputs": [],
   "source": [
    "importlib.reload(var)\n",
    "importlib.reload(cut)\n",
    "importlib.reload(data)\n",
    "importlib.reload(hist)"
   ]
  },
  {
   "cell_type": "code",
   "execution_count": null,
   "id": "f6537dce",
   "metadata": {},
   "outputs": [],
   "source": [
    "POTSTR = \"$%.2f \\\\times 10^{18}$ POT\" % (onbeam.POT/1e18)"
   ]
  },
  {
   "cell_type": "code",
   "execution_count": null,
   "id": "65492ff3",
   "metadata": {},
   "outputs": [],
   "source": [
    "bins = np.linspace(-1, 1, 21)\n",
    "\n",
    "_ = hist.plotmc(plt, var.crlongtrkdiry@var.slc, mc, cut=cut.fiducial@var.slc, \n",
    "                bins=bins, POT=onbeam.POT, fluxsyst=True, geniesyst=True,\n",
    "               hist_kw={\"histtype\": \"step\"})\n",
    "_ = hist.plotdata(plt, var.crlongtrkdiry, onbeam.slc, offbeam.slc, cut=cut.fiducial, bins=bins)"
   ]
  },
  {
   "cell_type": "code",
   "execution_count": null,
   "id": "9ee36ec0",
   "metadata": {},
   "outputs": [],
   "source": [
    "chi2p_bins = np.linspace(0, 400, 41)\n",
    "chi2u_bins = np.linspace(0, 80, 41)\n",
    "\n",
    "basecut = cut.fiducial@var.slc & (var.TRKVAR.len > 5)\n",
    "\n",
    "@var.VAR\n",
    "def ntrk(df):\n",
    "    return df.groupby(level=[0,1,2]).size()\n",
    "\n",
    "cuts = [\n",
    "    basecut,\n",
    "    basecut & (var.crlongtrkdiry@var.slc > -0.4) & (ntrk >= 3),\n",
    "    basecut & (var.crlongtrkdiry@var.slc > -0.4) & (ntrk >= 3) & (var.TRKVAR.len > 100)\n",
    "]\n",
    "\n",
    "titles = [\n",
    "    \"Fiducial Tracks\",\n",
    "    \"Fiducial, Cos. Rej. Tracks\",\n",
    "    \"Fiducial, Cos. Rej., Long Tracks\"\n",
    "]\n",
    "\n",
    "labels = [\"fid\", \"fid_cosrej\", \"fid_cosrej_long\"]"
   ]
  },
  {
   "cell_type": "code",
   "execution_count": null,
   "id": "08ede92d",
   "metadata": {},
   "outputs": [],
   "source": [
    "v = var.chi2p@var.trk\n",
    "\n",
    "for i, c in enumerate(cuts):\n",
    "    plt.figure(3*i)\n",
    "\n",
    "    _ = hist.plotmc(plt, v, mc, cut=c, bins=chi2p_bins, POT=onbeam.POT, fluxsyst=True, geniesyst=True,\n",
    "                   hist_kw={\"histtype\": \"step\"})\n",
    "    _ = hist.plotdata(plt, v, onbeam, offbeam, cut=c, bins=chi2p_bins)\n",
    "\n",
    "    plt.xlabel(\"$\\\\chi^2_p$\")\n",
    "    plt.ylabel(\"Tracks / %s\" % POTSTR)\n",
    "    plt.title(titles[i])\n",
    "    \n",
    "    plt.tight_layout()\n",
    "    if dosave: plt.savefig(savedir + \"chi2p_%s.pdf\" % labels[i])\n",
    "    \n",
    "    plt.figure(3*i+1)\n",
    "    \n",
    "    _ = hist.plotmc(plt, v, mc, cut=c, bins=chi2p_bins, areanorm=True)\n",
    "    _ = hist.plotdata(plt, v, onbeam, offbeam, cut=c, bins=chi2p_bins, areanorm=True)\n",
    "\n",
    "    plt.xlabel(\"$\\\\chi^2_p$\")\n",
    "    plt.ylabel(\"Area Normalized\")\n",
    "    plt.title(titles[i])\n",
    "    \n",
    "    plt.tight_layout()\n",
    "    if dosave: plt.savefig(savedir + \"chi2p_areanorm_%s.pdf\" % labels[i])\n",
    "    \n",
    "    plt.figure(3*i+2)\n",
    "    _,_,l = hist.plotmc(plt, v, mc, cut=c, bins=chi2p_bins, POT=onbeam.POT, fluxsyst=True, geniesyst=True,\n",
    "                    categories=map(lambda f: f@var.trk, cut.trk_mc_categories),\n",
    "                   hist_kw={\"stacked\": True, \"label\": cut.trk_mc_labels})\n",
    "    _ = hist.plotdata(plt, v, onbeam, offbeam, cut=c, bins=chi2p_bins)\n",
    "    plt.legend(l, cut.trk_mc_labels, ncol=2)\n",
    "    plt.xlabel(\"$\\\\chi^2_p$\")\n",
    "    plt.ylabel(\"Tracks / %s\" % POTSTR)\n",
    "    plt.title(titles[i])\n",
    "    \n",
    "    plt.tight_layout()\n",
    "    if dosave: plt.savefig(savedir + \"chi2p_categories_%s.pdf\" % labels[i])"
   ]
  },
  {
   "cell_type": "code",
   "execution_count": null,
   "id": "02267a48",
   "metadata": {},
   "outputs": [],
   "source": [
    "v = var.chi2u@var.trk\n",
    "\n",
    "for i, c in enumerate(cuts):\n",
    "    plt.figure(3*i)\n",
    "\n",
    "    _ = hist.plotmc(plt, v, mc, cut=c, bins=chi2u_bins, POT=onbeam.POT, fluxsyst=True, geniesyst=True,\n",
    "                   hist_kw={\"histtype\": \"step\"})\n",
    "    _ = hist.plotdata(plt, v, onbeam, offbeam, cut=c, bins=chi2u_bins)\n",
    "\n",
    "    plt.xlabel(\"$\\\\chi^2_\\\\mu$\")\n",
    "    plt.ylabel(\"Tracks / %s\" % POTSTR)\n",
    "    plt.title(titles[i])\n",
    "    \n",
    "    plt.tight_layout()\n",
    "    if dosave: plt.savefig(savedir + \"chi2u_%s.pdf\" % labels[i])\n",
    "    \n",
    "    plt.figure(3*i+1)\n",
    "    \n",
    "    _ = hist.plotmc(plt, v, mc, cut=c, bins=chi2u_bins, areanorm=True)\n",
    "    _ = hist.plotdata(plt, v, onbeam, offbeam, cut=c, bins=chi2u_bins, areanorm=True)\n",
    "\n",
    "    plt.xlabel(\"$\\\\chi^2_\\\\mu$\")\n",
    "    plt.ylabel(\"Area Normalized\")\n",
    "    plt.title(titles[i])\n",
    "    \n",
    "    plt.tight_layout()\n",
    "    if dosave: plt.savefig(savedir + \"chi2u_areanorm_%s.pdf\" % labels[i])\n",
    "    \n",
    "    plt.figure(3*i+2)\n",
    "    _,_,l = hist.plotmc(plt, v, mc, cut=c, bins=chi2u_bins, POT=onbeam.POT, fluxsyst=True, geniesyst=True,\n",
    "                    categories=map(lambda f: f@var.trk, cut.trk_mc_categories),\n",
    "                   hist_kw={\"stacked\": True, \"label\": cut.trk_mc_labels})\n",
    "    _ = hist.plotdata(plt, v, onbeam, offbeam, cut=c, bins=chi2u_bins)\n",
    "    plt.legend(l, cut.trk_mc_labels, ncol=2)\n",
    "    plt.xlabel(\"$\\\\chi^2_\\\\mu$\")\n",
    "    plt.ylabel(\"Tracks / %s\" % POTSTR)\n",
    "    plt.title(titles[i])\n",
    "    \n",
    "    plt.tight_layout()\n",
    "    if dosave: plt.savefig(savedir + \"chi2u_categories_%s.pdf\" % labels[i])"
   ]
  },
  {
   "cell_type": "code",
   "execution_count": null,
   "id": "c4c36de5",
   "metadata": {},
   "outputs": [],
   "source": [
    "# # Vary the calibration\n",
    "\n",
    "# mchitdf[\"dqdx_e\"] = mchitdf.dqdx*np.exp((mchitdf.t-850)*0.4/3e3)/0.01235\n",
    "\n",
    "# # Try out systematic variations on chi2\n",
    "# dedx_loA = var.dedxdf(dqdxname=\"dqdx_e\", A=0.91)(mchitdf)\n",
    "# dedx_hiA = var.dedxdf(dqdxname=\"dqdx_e\", A=0.95)(mchitdf)\n",
    "\n",
    "# dedx_loB = var.dedxdf(dqdxname=\"dqdx_e\", B=0.212*0.95)(mchitdf)\n",
    "# dedx_hiB = var.dedxdf(dqdxname=\"dqdx_e\", B=0.212/0.95)(mchitdf)"
   ]
  },
  {
   "cell_type": "code",
   "execution_count": null,
   "id": "ddc50967",
   "metadata": {},
   "outputs": [],
   "source": [
    "# Vary the truth\n",
    "\n",
    "mchitdf[\"dqdx_e\"] = mchitdf.dqdx*np.exp((mchitdf.t-850)*0.4/3e3)/0.01235\n",
    "\n",
    "mchitdf[\"dqdx_e_loA\"] = mchitdf.dqdx_e * var.scale_recombination(A=0.91)(mchitdf.truth.e / mchitdf.pitch)\n",
    "mchitdf[\"dqdx_e_hiA\"] = mchitdf.dqdx_e * var.scale_recombination(A=0.95)(mchitdf.truth.e / mchitdf.pitch)\n",
    "\n",
    "# Try out systematic variations on recombination / gain\n",
    "dedx_loA = var.dedxdf(dqdxname=\"dqdx_e_loA\")(mchitdf)\n",
    "dedx_hiA = var.dedxdf(dqdxname=\"dqdx_e_hiA\")(mchitdf)\n",
    "\n",
    "mchitdf[\"dqdx_e_loB\"] = mchitdf.dqdx_e * var.scale_recombination(B=0.212*0.95)(mchitdf.truth.e / mchitdf.pitch)\n",
    "mchitdf[\"dqdx_e_hiB\"] = mchitdf.dqdx_e * var.scale_recombination(B=0.212*1.05)(mchitdf.truth.e / mchitdf.pitch)\n",
    "\n",
    "# Try out systematic variations on chi2\n",
    "dedx_loA = var.dedxdf(dqdxname=\"dqdx_e_loA\")(mchitdf)\n",
    "dedx_hiA = var.dedxdf(dqdxname=\"dqdx_e_hiA\")(mchitdf)\n",
    "\n",
    "dedx_loB = var.dedxdf(dqdxname=\"dqdx_e_loB\")(mchitdf)\n",
    "dedx_hiB = var.dedxdf(dqdxname=\"dqdx_e_hiB\")(mchitdf)"
   ]
  },
  {
   "cell_type": "code",
   "execution_count": null,
   "id": "f9c302b4",
   "metadata": {},
   "outputs": [],
   "source": [
    "if \"chi2u_loA\" in mc.df: del mc.df[\"chi2u_loA\"]\n",
    "if \"chi2p_loA\" in mc.df: del mc.df[\"chi2p_loA\"]\n",
    "if \"chi2u_hiA\" in mc.df: del mc.df[\"chi2u_hiA\"]\n",
    "if \"chi2p_hiA\" in mc.df: del mc.df[\"chi2p_hiA\"]\n",
    "\n",
    "mc.df = panda_helpers.multicol_add(mc.df, var.hchi2u(dedx_loA).rename(\"chi2u_loA\"))\n",
    "mc.df = panda_helpers.multicol_add(mc.df, var.hchi2p(dedx_loA).rename(\"chi2p_loA\"))\n",
    "mc.df = panda_helpers.multicol_add(mc.df, var.hchi2u(dedx_hiA).rename(\"chi2u_hiA\"))\n",
    "mc.df = panda_helpers.multicol_add(mc.df, var.hchi2p(dedx_hiA).rename(\"chi2p_hiA\"))"
   ]
  },
  {
   "cell_type": "code",
   "execution_count": null,
   "id": "f34d2035",
   "metadata": {},
   "outputs": [],
   "source": [
    "if \"chi2u_loB\" in mc.df: del mc.df[\"chi2u_loB\"]\n",
    "if \"chi2p_loB\" in mc.df: del mc.df[\"chi2p_loB\"]\n",
    "if \"chi2u_hiB\" in mc.df: del mc.df[\"chi2u_hiB\"]\n",
    "if \"chi2p_hiB\" in mc.df: del mc.df[\"chi2p_hiB\"]\n",
    "\n",
    "mc.df = panda_helpers.multicol_add(mc.df, var.hchi2u(dedx_loB).rename(\"chi2u_loB\"))\n",
    "mc.df = panda_helpers.multicol_add(mc.df, var.hchi2p(dedx_loB).rename(\"chi2p_loB\"))\n",
    "mc.df = panda_helpers.multicol_add(mc.df, var.hchi2u(dedx_hiB).rename(\"chi2u_hiB\"))\n",
    "mc.df = panda_helpers.multicol_add(mc.df, var.hchi2p(dedx_hiB).rename(\"chi2p_hiB\"))"
   ]
  },
  {
   "cell_type": "code",
   "execution_count": null,
   "id": "4e996a55",
   "metadata": {},
   "outputs": [],
   "source": [
    "v = var.chi2u@var.trk\n",
    "c = basecut & (var.crlongtrkdiry@var.slc > -0.4) & (ntrk >= 3) & (v > 0)\n",
    "\n",
    "_, _, h1 = hist.plotmc(plt, v, mc, cut=c, bins=chi2u_bins, areanorm=True, \n",
    "                hist_kw={\"histtype\": \"step\"})\n",
    "_, _, h2 = hist.plotmc(plt, var.DF.chi2u_loA, mc, cut=c, bins=chi2u_bins, areanorm=True, \n",
    "                hist_kw={\"histtype\": \"step\"})\n",
    "_, _, h3 = hist.plotmc(plt, var.DF.chi2u_hiA, mc, cut=c, bins=chi2u_bins, areanorm=True, \n",
    "                hist_kw={\"histtype\": \"step\"})\n",
    "\n",
    "_ = hist.plotdata(plt, v, onbeam, offbeam, cut=c, bins=chi2u_bins, areanorm=True)\n",
    "\n",
    "plt.legend(handles = [h1[0], h2[0], h3[0]], labels=[\"Nominal\", \"Low $\\\\alpha$\", \"High $\\\\alpha$\"])\n",
    "plt.xlabel(\"$\\\\chi^2_\\\\mu$\")\n",
    "plt.ylabel(\"Area Normalized\")\n",
    "\n",
    "if dosave: plt.savefig(savedir + \"areanorm_cosmicrej_chi2u_varyA.pdf\")"
   ]
  },
  {
   "cell_type": "code",
   "execution_count": null,
   "id": "81c3bbb4",
   "metadata": {},
   "outputs": [],
   "source": [
    "v = var.chi2u@var.trk\n",
    "c = basecut & (var.crlongtrkdiry@var.slc > -0.4) & (ntrk >= 3) & (v > 0)\n",
    "\n",
    "_, _, h1 = hist.plotmc(plt, v, mc, cut=c, bins=chi2u_bins, areanorm=True, \n",
    "                hist_kw={\"histtype\": \"step\"})\n",
    "_, _, h2 = hist.plotmc(plt, var.DF.chi2u_loB, mc, cut=c, bins=chi2u_bins, areanorm=True, \n",
    "                hist_kw={\"histtype\": \"step\"})\n",
    "_, _, h3 = hist.plotmc(plt, var.DF.chi2u_hiB, mc, cut=c, bins=chi2u_bins, areanorm=True, \n",
    "                hist_kw={\"histtype\": \"step\"})\n",
    "\n",
    "_ = hist.plotdata(plt, v, onbeam, offbeam, cut=c, bins=chi2u_bins, areanorm=True)\n",
    "\n",
    "plt.legend(handles = [h1[0], h2[0], h3[0]], labels=[\"Nominal\", \"Low $\\\\beta$\", \"High $\\\\beta$\"])\n",
    "plt.xlabel(\"$\\\\chi^2_\\\\mu$\")\n",
    "plt.ylabel(\"Area Normalized\")\n",
    "\n",
    "if dosave: plt.savefig(savedir + \"areanorm_cosmicrej_chi2u_varyB.pdf\")"
   ]
  },
  {
   "cell_type": "code",
   "execution_count": null,
   "id": "ccd6869f",
   "metadata": {},
   "outputs": [],
   "source": [
    "bins = np.linspace(0, 1, 21)\n",
    "c = cut.fiducial@var.slc & cut.is_proton@var.trk\n",
    "\n",
    "v = var.trkscore@var.pfp\n",
    "\n",
    "_ = hist.plotmc(plt, v, mc, cut=c, bins=bins, POT=onbeam.POT, fluxsyst=True)\n",
    "_ = hist.plotdata(plt, v, onbeam, offbeam, cut=c, bins=bins)\n",
    "\n",
    "plt.ylabel(\"Proton-Like Particles / %s\" % POTSTR)\n",
    "plt.xlabel(\"Pandora Track Score\")\n",
    "\n",
    "plt.tight_layout()\n",
    "if dosave: plt.savefig(savedir + \"proton_trkscore.pdf\")"
   ]
  },
  {
   "cell_type": "code",
   "execution_count": null,
   "id": "e542dd19",
   "metadata": {},
   "outputs": [],
   "source": [
    "bins = np.linspace(0, 1, 21)\n",
    "c = cut.fiducial@var.slc & cut.is_proton@var.trk\n",
    "\n",
    "v = var.trkscore@var.pfp\n",
    "\n",
    "_ = hist.plotmc(plt, v, mc, cut=c, bins=bins, areanorm=True)\n",
    "_ = hist.plotdata(plt, v, onbeam, offbeam, cut=c, bins=bins, areanorm=True)"
   ]
  },
  {
   "cell_type": "code",
   "execution_count": null,
   "id": "a5aa4a0f",
   "metadata": {},
   "outputs": [],
   "source": [
    "bins = np.linspace(0, 1, 21)\n",
    "c = cut.fiducial@var.slc & cut.is_proton@var.trk\n",
    "\n",
    "v = var.chgendfrac@var.pfp\n",
    "\n",
    "_ = hist.plotmc(plt, v, mc, cut=c, bins=bins, POT=onbeam.POT, fluxsyst=True)\n",
    "_ = hist.plotdata(plt, v, onbeam, offbeam, cut=c, bins=bins)"
   ]
  },
  {
   "cell_type": "code",
   "execution_count": null,
   "id": "ae7b0f4a",
   "metadata": {},
   "outputs": [],
   "source": [
    "bins = np.linspace(0, 1, 21)\n",
    "c = cut.fiducial@var.slc & cut.is_proton@var.trk\n",
    "\n",
    "v = var.chgfracspread@var.pfp\n",
    "\n",
    "_ = hist.plotmc(plt, v, mc, cut=c, bins=bins, POT=onbeam.POT)\n",
    "_ = hist.plotdata(plt, v, onbeam, offbeam, cut=c, bins=bins)"
   ]
  },
  {
   "cell_type": "code",
   "execution_count": null,
   "id": "e58a0ebb",
   "metadata": {},
   "outputs": [],
   "source": [
    "bins = np.linspace(0, 0.05, 21)\n",
    "c = cut.fiducial@var.slc & cut.is_proton@var.trk\n",
    "\n",
    "v = var.linfitdiff@var.pfp\n",
    "\n",
    "_ = hist.plotmc(plt, v, mc, cut=c, bins=bins, POT=onbeam.POT)\n",
    "_ = hist.plotdata(plt, v, onbeam, offbeam, cut=c, bins=bins)"
   ]
  },
  {
   "cell_type": "code",
   "execution_count": null,
   "id": "d3d0f42c",
   "metadata": {},
   "outputs": [],
   "source": []
  },
  {
   "cell_type": "code",
   "execution_count": null,
   "id": "1b4c4c10",
   "metadata": {},
   "outputs": [],
   "source": []
  },
  {
   "cell_type": "code",
   "execution_count": null,
   "id": "3a2701ef",
   "metadata": {},
   "outputs": [],
   "source": []
  },
  {
   "cell_type": "code",
   "execution_count": null,
   "id": "a55c55e4",
   "metadata": {},
   "outputs": [],
   "source": []
  },
  {
   "cell_type": "code",
   "execution_count": null,
   "id": "ee755a1b",
   "metadata": {},
   "outputs": [],
   "source": []
  },
  {
   "cell_type": "code",
   "execution_count": null,
   "id": "1cdc26a3",
   "metadata": {},
   "outputs": [],
   "source": []
  },
  {
   "cell_type": "code",
   "execution_count": null,
   "id": "3bd6ce51",
   "metadata": {},
   "outputs": [],
   "source": []
  },
  {
   "cell_type": "code",
   "execution_count": null,
   "id": "9982c6ed",
   "metadata": {},
   "outputs": [],
   "source": []
  }
 ],
 "metadata": {
  "kernelspec": {
   "display_name": "Python 3 (ipykernel)",
   "language": "python",
   "name": "python3"
  },
  "language_info": {
   "codemirror_mode": {
    "name": "ipython",
    "version": 3
   },
   "file_extension": ".py",
   "mimetype": "text/x-python",
   "name": "python",
   "nbconvert_exporter": "python",
   "pygments_lexer": "ipython3",
   "version": "3.9.2"
  }
 },
 "nbformat": 4,
 "nbformat_minor": 5
}
